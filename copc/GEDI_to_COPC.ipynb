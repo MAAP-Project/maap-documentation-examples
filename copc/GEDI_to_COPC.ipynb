{
 "cells": [
  {
   "cell_type": "markdown",
   "id": "a53972b5",
   "metadata": {},
   "source": [
    "# Convert GEDI to COPC\n",
    "\n",
    "1. Switch to the PDAL conda env kernel `pdal24`\n",
    "1. Execute the pipeline to convert\n",
    "\n",
    "TODOs: Include more attributes from the source format."
   ]
  },
  {
   "cell_type": "markdown",
   "id": "24e783a8-1fb6-4f1e-a310-7b43789d795e",
   "metadata": {},
   "source": [
    "Need an env with newer pdal\n",
    "\n",
    "Copy and Paste these to terminal\n",
    "```\n",
    "conda install -y -c conda-forge mamba\n",
    "mamba create -n pdal24 -c conda-forge pdal=2.4.3 ipykernel pyproj gdal python-pdal\n",
    "conda activate pdal24\n",
    "python3 -m ipykernel install --user\n",
    "```"
   ]
  },
  {
   "cell_type": "code",
   "execution_count": 32,
   "id": "34f6cd35-8c4d-4e6d-b8e0-9a935024518d",
   "metadata": {
    "tags": []
   },
   "outputs": [
    {
     "name": "stdout",
     "output_type": "stream",
     "text": [
      "Collecting pyproj\n",
      "  Downloading pyproj-3.6.1-cp312-cp312-manylinux_2_17_x86_64.manylinux2014_x86_64.whl.metadata (31 kB)\n",
      "Requirement already satisfied: certifi in /opt/conda/envs/pdal24/lib/python3.12/site-packages (from pyproj) (2023.11.17)\n",
      "Downloading pyproj-3.6.1-cp312-cp312-manylinux_2_17_x86_64.manylinux2014_x86_64.whl (8.7 MB)\n",
      "\u001b[2K   \u001b[90m━━━━━━━━━━━━━━━━━━━━━━━━━━━━━━━━━━━━━━━━\u001b[0m \u001b[32m8.7/8.7 MB\u001b[0m \u001b[31m37.6 MB/s\u001b[0m eta \u001b[36m0:00:00\u001b[0m00:01\u001b[0m00:01\u001b[0m\n",
      "\u001b[?25hInstalling collected packages: pyproj\n",
      "Successfully installed pyproj-3.6.1\n",
      "\u001b[33mWARNING: Running pip as the 'root' user can result in broken permissions and conflicting behaviour with the system package manager. It is recommended to use a virtual environment instead: https://pip.pypa.io/warnings/venv\u001b[0m\u001b[33m\n",
      "\u001b[0mNote: you may need to restart the kernel to use updated packages.\n"
     ]
    }
   ],
   "source": [
    "# %pip install -U pystac-client\n",
    "# %pip install -U boto3 botocore\n",
    "# %pip install -U pyproj"
   ]
  },
  {
   "cell_type": "code",
   "execution_count": 5,
   "id": "1f026d88-f3c8-4278-8f44-97a5302ecf2a",
   "metadata": {
    "tags": []
   },
   "outputs": [
    {
     "data": {
      "text/plain": [
       "[<CollectionClient id=Landsat8_SurfaceReflectance>,\n",
       " <CollectionClient id=Global_PALSAR2_PALSAR_FNF>,\n",
       " <CollectionClient id=Global_Forest_Change_2000-2017>,\n",
       " <CollectionClient id=AFRISAR_DLR2>,\n",
       " <CollectionClient id=GlobCover_09>,\n",
       " <CollectionClient id=AfriSAR_UAVSAR_KZ>,\n",
       " <CollectionClient id=AfriSAR_UAVSAR_Ungeocoded_Covariance>,\n",
       " <CollectionClient id=AfriSAR_UAVSAR_Normalization_Area>,\n",
       " <CollectionClient id=AfriSAR_UAVSAR_Geocoded_SLC>,\n",
       " <CollectionClient id=AfriSAR_UAVSAR_Geocoded_Covariance>,\n",
       " <CollectionClient id=GlobCover_05_06>,\n",
       " <CollectionClient id=GEDI_CalVal_Field_Data>,\n",
       " <CollectionClient id=AfriSAR_UAVSAR_Coreg_SLC>,\n",
       " <CollectionClient id=GEDI_CalVal_Lidar_Data_Compressed>,\n",
       " <CollectionClient id=ABoVE_UAVSAR_PALSAR>,\n",
       " <CollectionClient id=AFRISAR_DLR>,\n",
       " <CollectionClient id=BIOSAR1>,\n",
       " <CollectionClient id=GEDI_CalVal_Lidar_Data>,\n",
       " <CollectionClient id=icesat2-boreal>,\n",
       " <CollectionClient id=ICESat2_Boreal_AGB_tindex_average>,\n",
       " <CollectionClient id=NCEO_Africa_AGB_100m_2017>,\n",
       " <CollectionClient id=Paraguay_Country_Pilot>,\n",
       " <CollectionClient id=ESACCI_Biomass_L4_AGB_V4_100m>,\n",
       " <CollectionClient id=SRTMGL1_COD>,\n",
       " <CollectionClient id=nisar-sim>]"
      ]
     },
     "execution_count": 5,
     "metadata": {},
     "output_type": "execute_result"
    }
   ],
   "source": [
    "from pystac_client import Client\n",
    "URL = 'https://stac.maap-project.org/'\n",
    "cat = Client.open(URL)\n",
    "stac_collections = list(cat.get_collections())\n",
    "stac_collections"
   ]
  },
  {
   "cell_type": "code",
   "execution_count": 3,
   "id": "3ab5f3f7-5186-4c36-b3ff-f99571c4d069",
   "metadata": {
    "tags": []
   },
   "outputs": [
    {
     "data": {
      "text/html": [
       "&lt;CollectionClient id=GEDI_CalVal_Lidar_Data_Compressed&gt;"
      ],
      "text/plain": [
       "<CollectionClient id=GEDI_CalVal_Lidar_Data_Compressed>"
      ]
     },
     "execution_count": 3,
     "metadata": {},
     "output_type": "execute_result"
    }
   ],
   "source": [
    "collection = cat.get_collection(\"GEDI_CalVal_Lidar_Data_Compressed\")\n",
    "collection"
   ]
  },
  {
   "cell_type": "code",
   "execution_count": 4,
   "id": "2a983c2a-d08b-49b9-996a-ce080a3a94bd",
   "metadata": {
    "tags": []
   },
   "outputs": [
    {
     "data": {
      "text/plain": [
       "[<Item id=usa_moscowmtn_MM03_1401>]"
      ]
     },
     "execution_count": 4,
     "metadata": {},
     "output_type": "execute_result"
    }
   ],
   "source": [
    "collection_items = list(cat.search(collections=[collection.id], max_items=10).items())\n",
    "collection_items"
   ]
  },
  {
   "cell_type": "code",
   "execution_count": 6,
   "id": "4609604d-05b5-473c-98a1-7b9a93110eff",
   "metadata": {
    "tags": []
   },
   "outputs": [],
   "source": [
    "import os\n",
    "dataDir = \"./data\"\n",
    "\n",
    "# check if directory exists -> if directory doesn't exist, directory is created\n",
    "if not os.path.exists(dataDir):\n",
    "    os.mkdir(dataDir)"
   ]
  },
  {
   "cell_type": "code",
   "execution_count": 7,
   "id": "5008d294-644c-429b-b632-7cdf10317846",
   "metadata": {
    "tags": []
   },
   "outputs": [
    {
     "name": "stdout",
     "output_type": "stream",
     "text": [
      "s3://nasa-maap-data-store/file-staging/nasa-map/GEDI_CalVal_Lidar_Data_Compressed___2/usa_moscowmtn_MM03_1401.laz: Unsupported scheme ‘s3’.\n"
     ]
    }
   ],
   "source": [
    "item_asset = collection_items[0].assets['data'].href\n",
    "item_asset\n",
    "# item_asset = item.href\n",
    "!wget -P {dataDir} {item_asset}"
   ]
  },
  {
   "cell_type": "code",
   "execution_count": 8,
   "id": "a4d17c65-695b-4560-82a8-851e5d7657fd",
   "metadata": {
    "tags": []
   },
   "outputs": [],
   "source": [
    "import boto3\n",
    "import botocore\n",
    "\n",
    "BUCKET_NAME = 'nasa-maap-data-store' # replace with your bucket name\n",
    "KEY = 'file-staging/nasa-map/GEDI_CalVal_Lidar_Data___2/usa_neonsrer_2019_NEON_D14_SRER_DP1_L090-1_2019091314_unclassified_point_cloud_0000004.las' # replace with your object key\n",
    "# KEY = 'file-staging/nasa-map/GEDI_CalVal_Lidar_Data_Compressed___2/usa_moscowmtn_MM03_1401.laz'\n",
    "s3 = boto3.resource('s3')\n",
    "\n",
    "try:\n",
    "    s3.Bucket(BUCKET_NAME).download_file(KEY, 'data/test.las')\n",
    "except botocore.exceptions.ClientError as e:\n",
    "    if e.response['Error']['Code'] == \"404\":\n",
    "        print(\"The object does not exist.\")\n",
    "    else:\n",
    "        raise"
   ]
  },
  {
   "cell_type": "code",
   "execution_count": 10,
   "id": "dd6e44f4-6ee8-4aa5-bf90-4331f449dd92",
   "metadata": {
    "tags": []
   },
   "outputs": [],
   "source": [
    "import pdal\n",
    "import pyproj"
   ]
  },
  {
   "cell_type": "code",
   "execution_count": 11,
   "id": "865f34f9-2e6d-4f90-b8c8-6431dff96c8c",
   "metadata": {
    "tags": []
   },
   "outputs": [],
   "source": [
    "las_file = 'data/test.las'\n",
    "copc_file = 'data/test.copc.laz'"
   ]
  },
  {
   "cell_type": "code",
   "execution_count": 20,
   "id": "c35d363c-acad-4209-8a2d-76d5c2cf97a1",
   "metadata": {
    "tags": []
   },
   "outputs": [
    {
     "name": "stdout",
     "output_type": "stream",
     "text": [
      "1\n"
     ]
    },
    {
     "name": "stderr",
     "output_type": "stream",
     "text": [
      "proj_create_from_database: Open of /opt/conda/envs/pdal24/share/proj failed\n"
     ]
    }
   ],
   "source": [
    "json = \"\"\"{\n",
    "  \"pipeline\": [\n",
    "    {\n",
    "        \"filename\":las_file,\n",
    "        \"type\":\"readers.las\"\n",
    "    },\n",
    "    {\n",
    "        \"type\":\"writers.copc\",\n",
    "        \"filename\":copc_file\n",
    "    }\n",
    "]\n",
    "}\"\"\"\n",
    "\n",
    "pipeline = pdal.Reader.las(filename=las_file) | pdal.Writer.copc(filename=copc_file)\n",
    "print(pipeline.execute())"
   ]
  },
  {
   "cell_type": "code",
   "execution_count": 21,
   "id": "dd957aa9-b0f8-4ac2-8ee1-87f62af095ba",
   "metadata": {
    "tags": []
   },
   "outputs": [],
   "source": [
    "arrays = pipeline.arrays\n",
    "metadata = pipeline.metadata\n",
    "log = pipeline.log"
   ]
  },
  {
   "cell_type": "code",
   "execution_count": 23,
   "id": "96ccf4b1",
   "metadata": {
    "tags": []
   },
   "outputs": [
    {
     "name": "stdout",
     "output_type": "stream",
     "text": [
      "{'metadata': {'readers.las': {'comp_spatialreference': 'COMPD_CS[\"WGS 84 / UTM zone 12N + unknown\",PROJCS[\"WGS 84 / UTM zone 12N\",GEOGCS[\"WGS 84\",DATUM[\"World Geodetic System 1984\",SPHEROID[\"WGS 84\",6378137,298.257223563]],PRIMEM[\"Greenwich\",0],UNIT[\"degree\",0.0174532925199433,AUTHORITY[\"EPSG\",\"9122\"]]],PROJECTION[\"Transverse_Mercator\"],PARAMETER[\"latitude_of_origin\",0],PARAMETER[\"central_meridian\",-111],PARAMETER[\"scale_factor\",0.9996],PARAMETER[\"false_easting\",500000],PARAMETER[\"false_northing\",0],UNIT[\"metre\",1,AUTHORITY[\"EPSG\",\"9001\"]],AXIS[\"Easting\",EAST],AXIS[\"Northing\",NORTH]],VERT_CS[\"unknown\",VERT_DATUM[\"unknown\",2005],UNIT[\"metre\",1,AUTHORITY[\"EPSG\",\"9001\"]],AXIS[\"Up\",UP]]]', 'compressed': False, 'copc': False, 'count': 1, 'creation_doy': 293, 'creation_year': 2019, 'dataformat_id': 1, 'dataoffset': 329, 'filesource_id': 9011, 'global_encoding': 0, 'global_encoding_base64': 'AAA=', 'gtiff': 'Geotiff_Information:\\n   Version: 1\\n   Key_Revision: 1.0\\n   Tagged_Information:\\n      End_Of_Tags.\\n   Keyed_Information:\\n      GTModelTypeGeoKey (Short,1): ModelTypeProjected\\n      GTRasterTypeGeoKey (Short,1): RasterPixelIsPoint\\n      ProjectedCSTypeGeoKey (Short,1): PCS_WGS84_UTM_zone_12N\\n      VerticalUnitsGeoKey (Short,1): Linear_Meter\\n      End_Of_Keys.\\n   End_Of_Geotiff.\\n', 'header_size': 235, 'major_version': 1, 'maxx': 504034.69, 'maxy': 3517197.26, 'maxz': 979.37, 'minor_version': 3, 'minx': 504034.69, 'miny': 3517197.26, 'minz': 979.37, 'offset_x': 500000, 'offset_y': 3500000, 'offset_z': 0, 'point_length': 28, 'project_id': '00000000-0000-0000-0000-000000000000', 'scale_x': 0.01, 'scale_y': 0.01, 'scale_z': 0.01, 'software_id': 'lassplit (200509) academic', 'spatialreference': 'COMPD_CS[\"WGS 84 / UTM zone 12N + unknown\",PROJCS[\"WGS 84 / UTM zone 12N\",GEOGCS[\"WGS 84\",DATUM[\"World Geodetic System 1984\",SPHEROID[\"WGS 84\",6378137,298.257223563]],PRIMEM[\"Greenwich\",0],UNIT[\"degree\",0.0174532925199433,AUTHORITY[\"EPSG\",\"9122\"]]],PROJECTION[\"Transverse_Mercator\"],PARAMETER[\"latitude_of_origin\",0],PARAMETER[\"central_meridian\",-111],PARAMETER[\"scale_factor\",0.9996],PARAMETER[\"false_easting\",500000],PARAMETER[\"false_northing\",0],UNIT[\"metre\",1,AUTHORITY[\"EPSG\",\"9001\"]],AXIS[\"Easting\",EAST],AXIS[\"Northing\",NORTH]],VERT_CS[\"unknown\",VERT_DATUM[\"unknown\",2005],UNIT[\"metre\",1,AUTHORITY[\"EPSG\",\"9001\"]],AXIS[\"Up\",UP]]]', 'srs': {'compoundwkt': 'COMPD_CS[\"WGS 84 / UTM zone 12N + unknown\",PROJCS[\"WGS 84 / UTM zone 12N\",GEOGCS[\"WGS 84\",DATUM[\"World Geodetic System 1984\",SPHEROID[\"WGS 84\",6378137,298.257223563]],PRIMEM[\"Greenwich\",0],UNIT[\"degree\",0.0174532925199433,AUTHORITY[\"EPSG\",\"9122\"]]],PROJECTION[\"Transverse_Mercator\"],PARAMETER[\"latitude_of_origin\",0],PARAMETER[\"central_meridian\",-111],PARAMETER[\"scale_factor\",0.9996],PARAMETER[\"false_easting\",500000],PARAMETER[\"false_northing\",0],UNIT[\"metre\",1,AUTHORITY[\"EPSG\",\"9001\"]],AXIS[\"Easting\",EAST],AXIS[\"Northing\",NORTH]],VERT_CS[\"unknown\",VERT_DATUM[\"unknown\",2005],UNIT[\"metre\",1,AUTHORITY[\"EPSG\",\"9001\"]],AXIS[\"Up\",UP]]]', 'horizontal': 'PROJCS[\"WGS 84 / UTM zone 12N\",GEOGCS[\"WGS 84\",DATUM[\"World Geodetic System 1984\",SPHEROID[\"WGS 84\",6378137,298.257223563]],PRIMEM[\"Greenwich\",0],UNIT[\"degree\",0.0174532925199433,AUTHORITY[\"EPSG\",\"9122\"]]],PROJECTION[\"Transverse_Mercator\"],PARAMETER[\"latitude_of_origin\",0],PARAMETER[\"central_meridian\",-111],PARAMETER[\"scale_factor\",0.9996],PARAMETER[\"false_easting\",500000],PARAMETER[\"false_northing\",0],UNIT[\"metre\",1,AUTHORITY[\"EPSG\",\"9001\"]],AXIS[\"Easting\",EAST],AXIS[\"Northing\",NORTH]]', 'isgeocentric': False, 'isgeographic': False, 'json': {'type': 'CompoundCRS', 'name': 'WGS 84 / UTM zone 12N + unknown', 'components': [{'type': 'ProjectedCRS', 'name': 'WGS 84 / UTM zone 12N', 'base_crs': {'name': 'WGS 84', 'datum': {'type': 'GeodeticReferenceFrame', 'name': 'World Geodetic System 1984', 'ellipsoid': {'name': 'WGS 84', 'semi_major_axis': 6378137, 'inverse_flattening': 298.257223563}}, 'coordinate_system': {'subtype': 'ellipsoidal', 'axis': [{'name': 'Longitude', 'abbreviation': 'lon', 'direction': 'east', 'unit': 'degree'}, {'name': 'Latitude', 'abbreviation': 'lat', 'direction': 'north', 'unit': 'degree'}]}}, 'conversion': {'name': 'UTM zone 12N', 'method': {'name': 'Transverse Mercator', 'id': {'authority': 'EPSG', 'code': 9807}}, 'parameters': [{'name': 'Latitude of natural origin', 'value': 0, 'unit': 'degree', 'id': {'authority': 'EPSG', 'code': 8801}}, {'name': 'Longitude of natural origin', 'value': -111, 'unit': 'degree', 'id': {'authority': 'EPSG', 'code': 8802}}, {'name': 'Scale factor at natural origin', 'value': 0.9996, 'unit': 'unity', 'id': {'authority': 'EPSG', 'code': 8805}}, {'name': 'False easting', 'value': 500000, 'unit': 'metre', 'id': {'authority': 'EPSG', 'code': 8806}}, {'name': 'False northing', 'value': 0, 'unit': 'metre', 'id': {'authority': 'EPSG', 'code': 8807}}], 'id': {'authority': 'EPSG', 'code': 16012}}, 'coordinate_system': {'subtype': 'Cartesian', 'axis': [{'name': 'Easting', 'abbreviation': '', 'direction': 'east', 'unit': 'metre'}, {'name': 'Northing', 'abbreviation': '', 'direction': 'north', 'unit': 'metre'}]}}, {'type': 'VerticalCRS', 'name': 'unknown', 'datum': {'type': 'VerticalReferenceFrame', 'name': 'unknown'}, 'coordinate_system': {'subtype': 'vertical', 'axis': [{'name': 'Up', 'abbreviation': '', 'direction': 'up', 'unit': 'metre'}]}}]}, 'prettycompoundwkt': 'COMPD_CS[\"WGS 84 / UTM zone 12N + unknown\",\\n    PROJCS[\"WGS 84 / UTM zone 12N\",\\n        GEOGCS[\"WGS 84\",\\n            DATUM[\"World Geodetic System 1984\",\\n                SPHEROID[\"WGS 84\",6378137,298.257223563]],\\n            PRIMEM[\"Greenwich\",0],\\n            UNIT[\"degree\",0.0174532925199433,\\n                AUTHORITY[\"EPSG\",\"9122\"]]],\\n        PROJECTION[\"Transverse_Mercator\"],\\n        PARAMETER[\"latitude_of_origin\",0],\\n        PARAMETER[\"central_meridian\",-111],\\n        PARAMETER[\"scale_factor\",0.9996],\\n        PARAMETER[\"false_easting\",500000],\\n        PARAMETER[\"false_northing\",0],\\n        UNIT[\"metre\",1,\\n            AUTHORITY[\"EPSG\",\"9001\"]],\\n        AXIS[\"Easting\",EAST],\\n        AXIS[\"Northing\",NORTH]],\\n    VERT_CS[\"unknown\",\\n        VERT_DATUM[\"unknown\",2005],\\n        UNIT[\"metre\",1,\\n            AUTHORITY[\"EPSG\",\"9001\"]],\\n        AXIS[\"Up\",UP]]]', 'prettywkt': 'PROJCS[\"WGS 84 / UTM zone 12N\",\\n    GEOGCS[\"WGS 84\",\\n        DATUM[\"World Geodetic System 1984\",\\n            SPHEROID[\"WGS 84\",6378137,298.257223563]],\\n        PRIMEM[\"Greenwich\",0],\\n        UNIT[\"degree\",0.0174532925199433,\\n            AUTHORITY[\"EPSG\",\"9122\"]]],\\n    PROJECTION[\"Transverse_Mercator\"],\\n    PARAMETER[\"latitude_of_origin\",0],\\n    PARAMETER[\"central_meridian\",-111],\\n    PARAMETER[\"scale_factor\",0.9996],\\n    PARAMETER[\"false_easting\",500000],\\n    PARAMETER[\"false_northing\",0],\\n    UNIT[\"metre\",1,\\n        AUTHORITY[\"EPSG\",\"9001\"]],\\n    AXIS[\"Easting\",EAST],\\n    AXIS[\"Northing\",NORTH]]', 'proj4': '+proj=utm +zone=12 +datum=WGS84 +units=m +vunits=m +no_defs', 'units': {'horizontal': 'metre', 'vertical': 'metre'}, 'vertical': 'VERT_CS[\"unknown\",VERT_DATUM[\"unknown\",2005],UNIT[\"metre\",1,AUTHORITY[\"EPSG\",\"9001\"]],AXIS[\"Up\",UP]]', 'wkt': 'PROJCS[\"WGS 84 / UTM zone 12N\",GEOGCS[\"WGS 84\",DATUM[\"World Geodetic System 1984\",SPHEROID[\"WGS 84\",6378137,298.257223563]],PRIMEM[\"Greenwich\",0],UNIT[\"degree\",0.0174532925199433,AUTHORITY[\"EPSG\",\"9122\"]]],PROJECTION[\"Transverse_Mercator\"],PARAMETER[\"latitude_of_origin\",0],PARAMETER[\"central_meridian\",-111],PARAMETER[\"scale_factor\",0.9996],PARAMETER[\"false_easting\",500000],PARAMETER[\"false_northing\",0],UNIT[\"metre\",1,AUTHORITY[\"EPSG\",\"9001\"]],AXIS[\"Easting\",EAST],AXIS[\"Northing\",NORTH]]'}, 'system_id': 'LAStools (c) by rapidlasso GmbH', 'vlr_0': {'data': 'AQABAAAABAAABAAAAQABAAEEAAABAAIAAAwAAAEAZH8DEAAAAQApIw==', 'description': '', 'record_id': 34735, 'user_id': 'LASF_Projection'}}, 'writers.copc': {}}}\n"
     ]
    }
   ],
   "source": [
    "print(metadata)"
   ]
  },
  {
   "cell_type": "code",
   "execution_count": 25,
   "id": "f9109f86",
   "metadata": {},
   "outputs": [
    {
     "name": "stdout",
     "output_type": "stream",
     "text": [
      "total 220K\n",
      "-rw-r--r-- 1 root root 1.6K Dec  8 14:53 test.copc.laz\n",
      "-rw-r--r-- 1 root root  357 Dec  8 14:51 test.las\n",
      "-rw-r--r-- 1 root root 1.6K Dec  8 14:42 test.laz\n",
      "-rw-r--r-- 1 root root 205K Nov 30 14:29 test2.laz\n"
     ]
    }
   ],
   "source": [
    "!ls -lh {os.path.dirname(copc_file)}"
   ]
  }
 ],
 "metadata": {
  "kernelspec": {
   "display_name": "pdal24",
   "language": "python",
   "name": "pdal24"
  },
  "language_info": {
   "codemirror_mode": {
    "name": "ipython",
    "version": 3
   },
   "file_extension": ".py",
   "mimetype": "text/x-python",
   "name": "python",
   "nbconvert_exporter": "python",
   "pygments_lexer": "ipython3",
   "version": "3.12.0"
  }
 },
 "nbformat": 4,
 "nbformat_minor": 5
}
