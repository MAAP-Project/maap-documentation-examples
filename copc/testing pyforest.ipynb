{
 "cells": [
  {
   "cell_type": "code",
   "execution_count": 53,
   "id": "b202c234-fff1-40b8-bce1-a8b89e9ea13b",
   "metadata": {},
   "outputs": [
    {
     "name": "stdout",
     "output_type": "stream",
     "text": [
      "Module 'geopandas' is available.\n",
      "Module 'numpy' is available.\n",
      "Module 'pyforestscan.handlers' is available.\n",
      "Module 'pyforestscan.visualize' is available.\n",
      "Module 'pyforestscan.calculate' is available.\n",
      "Module 'pyforestscan.process' is available.\n",
      "Function 'read_lidar' is available.\n",
      "Function 'create_geotiff' is available.\n",
      "Function 'write_las' is available.\n",
      "Function 'plot_metric' is available.\n",
      "Function 'plot_2d' is available.\n",
      "Function 'assign_voxels' is available.\n",
      "Function 'calculate_pad' is available.\n",
      "Function 'calculate_pai' is available.\n",
      "Function 'calculate_fhd' is available.\n",
      "Function 'calculate_chm' is available.\n",
      "Function 'process_with_tiles' is available.\n"
     ]
    }
   ],
   "source": [
    "import importlib.util\n",
    "\n",
    "# List of module \n",
    "modules = [\n",
    "    \"geopandas\",\n",
    "    \"numpy\",     \n",
    "    \"pyforestscan.handlers\",\n",
    "    \"pyforestscan.visualize\",\n",
    "    \"pyforestscan.calculate\",\n",
    "    \"pyforestscan.process\"\n",
    "]\n",
    "\n",
    "\n",
    "for module in modules:\n",
    "    if importlib.util.find_spec(module) is not None:\n",
    "        print(f\"Module '{module}' is available.\")\n",
    "    else:\n",
    "        print(f\"Module '{module}' is NOT available.\")\n",
    "\n",
    "\n",
    "import geopandas as gpd\n",
    "import numpy as np\n",
    "\n",
    "from pyforestscan.handlers import read_lidar, create_geotiff, write_las\n",
    "from pyforestscan.visualize import plot_metric, plot_2d\n",
    "from pyforestscan.calculate import assign_voxels, calculate_pad, calculate_pai, calculate_fhd, calculate_chm\n",
    "from pyforestscan.process import process_with_tiles\n",
    "\n",
    "functions = {\n",
    "    \"read_lidar\": read_lidar, \n",
    "    \"create_geotiff\": create_geotiff,\n",
    "    \"write_las\": write_las,\n",
    "    \"plot_metric\": plot_metric,\n",
    "    \"plot_2d\": plot_2d,\n",
    "    \"assign_voxels\": assign_voxels,\n",
    "    \"calculate_pad\": calculate_pad,\n",
    "    \"calculate_pai\": calculate_pai,\n",
    "    \"calculate_fhd\": calculate_fhd,\n",
    "    \"calculate_chm\": calculate_chm,\n",
    "    \"process_with_tiles\": process_with_tiles\n",
    "}\n",
    "\n",
    "\n",
    "for func_name, func in functions.items():\n",
    "    if callable(func):\n",
    "        print(f\"Function '{func_name}' is available.\")\n",
    "    else:\n",
    "        print(f\"Function '{func_name}' is NOT available.\")\n"
   ]
  },
  {
   "cell_type": "code",
   "execution_count": 52,
   "id": "51ed8437-689a-417f-8893-1b8191917e3b",
   "metadata": {},
   "outputs": [
    {
     "name": "stdout",
     "output_type": "stream",
     "text": [
      "pyforestscan                                     0.2.2\n",
      "Note: you may need to restart the kernel to use updated packages.\n"
     ]
    }
   ],
   "source": [
    "#wanted to state version\n",
    "pip list | grep pyforestscan\n"
   ]
  },
  {
   "cell_type": "code",
   "execution_count": 56,
   "id": "d955ec97-9b8b-4c9d-aba6-66a8a4426f97",
   "metadata": {},
   "outputs": [
    {
     "name": "stdout",
     "output_type": "stream",
     "text": [
      "Reading LiDAR data...\n",
      "LiDAR data loaded successfully!\n"
     ]
    }
   ],
   "source": [
    "\n",
    "ept_path = \"https://s3-us-west-2.amazonaws.com/usgs-lidar-public/IA_FullState/ept.json\"\n",
    "ept_srs = \"EPSG:26915\"  # UTM Zone 15N\n",
    "bounds = [525000, 4650000, 530000, 4655000]  \n",
    "\n",
    "#Read LiDAR Data\n",
    "try:\n",
    "    print(\"Reading LiDAR data\")\n",
    "    pointclouds = read_lidar(ept_path, ept_srs, bounds, hag=True)\n",
    "    print(\"LiDAR data loaded successfully!\")\n",
    "except Exception as e:\n",
    "    print(f\"Error: {e}\")\n"
   ]
  },
  {
   "cell_type": "code",
   "execution_count": 68,
   "id": "6af6f968-518b-4880-9d30-70d93f77efe0",
   "metadata": {},
   "outputs": [
    {
     "name": "stdout",
     "output_type": "stream",
     "text": [
      "✅ Converted pointclouds shape: (1, 918138)\n",
      "Sample data: [[(508028.47630257, 2785783.81324084, 7.04, 31129, 1, 2, 0, 0, 1, 0, 0, 0, 0, -29., 2, 663, 310318.44530717, 6.63431738)\n",
      "  (508026.93630257, 2785783.90324084, 4.29, 28704, 2, 2, 0, 0, 1, 0, 0, 0, 0, -29., 2, 373, 310318.44530717, 3.71554195)\n",
      "  (508027.91630257, 2785783.75324084, 6.87, 33619, 1, 1, 0, 0, 1, 0, 0, 0, 0, -29., 2, 644, 310318.44531071, 6.44489685)\n",
      "  ...\n",
      "  (508327.73630257, 2785585.48324084, 0.13, 34886, 1, 1, 1, 0, 2, 0, 0, 0, 0,  13., 1,   0, 310314.90532243, 0.        )\n",
      "  (508324.25630257, 2785585.40324084, 0.09, 24794, 1, 1, 1, 0, 2, 0, 0, 0, 0,  12., 1,   0, 310314.91194931, 0.        )\n",
      "  (508327.46630257, 2785585.92324084, 0.12, 30299, 1, 1, 1, 0, 2, 0, 0, 0, 0,  13., 1,   0, 310314.91198022, 0.        )]]\n"
     ]
    }
   ],
   "source": [
    "print(f\"✅ Converted pointclouds shape: {pointclouds_array.shape}\")\n",
    "print(f\"Sample data: {pointclouds_array[:5]}\")  # Print first 5 points\n"
   ]
  },
  {
   "cell_type": "code",
   "execution_count": 132,
   "id": "cf5cf313-8def-47b1-aef1-55c94bdd723c",
   "metadata": {},
   "outputs": [
    {
     "name": "stdout",
     "output_type": "stream",
     "text": [
      "Reading LiDAR data...\n",
      "LiDAR data loaded successfully! Total points: 1\n",
      "Converting to NumPy array...\n",
      "Converted pointclouds shape: (1, 918138)\n",
      "Final pointclouds shape: (1, 3)\n",
      "Calculating Plant Area Density (PAD)...\n",
      "Error: axis 2 is out of bounds for array of dimension 2\n"
     ]
    }
   ],
   "source": [
    "import numpy as np\n",
    "from pyforestscan.handlers import read_lidar\n",
    "from pyforestscan.calculate import calculate_chm, calculate_pai, calculate_pad\n",
    "from pyforestscan.visualize import plot_2d\n",
    "\n",
    "# Define dataset details\n",
    "lidar_file_path = \"/projects/GLLIDARPC_FL_20200311_FIA8_l0s12.las\"\n",
    "ept_srs = \"EPSG:4326\"\n",
    "bounds = [-80.93942, 25.26716, -80.93498, 25.27620]\n",
    "\n",
    "try:\n",
    "    print(\"Reading LiDAR data...\")\n",
    "    pointclouds = read_lidar(lidar_file_path, ept_srs, bounds, hag=True)\n",
    "\n",
    "    if not pointclouds:\n",
    "        pointclouds = read_lidar(lidar_file_path, ept_srs, bounds, hag=False)\n",
    "\n",
    "    if not pointclouds:\n",
    "        raise ValueError(\"No valid LiDAR points were loaded.\")\n",
    "\n",
    "    print(f\"LiDAR data loaded successfully! Total points: {len(pointclouds)}\")\n",
    "\n",
    "    print(\"Converting to NumPy array...\")\n",
    "    pointclouds_array = np.array(pointclouds)\n",
    "\n",
    "    print(f\"Converted pointclouds shape: {pointclouds_array.shape}\")\n",
    "\n",
    "    if pointclouds_array.ndim == 1:\n",
    "        pointclouds_array = pointclouds_array.reshape(-1, 3)\n",
    "\n",
    "    if pointclouds_array.shape[1] > 3:\n",
    "        pointclouds_array = pointclouds_array[:, :3]\n",
    "\n",
    "    print(f\"Final pointclouds shape: {pointclouds_array.shape}\")\n",
    "\n",
    "    print(\"Calculating Plant Area Density (PAD)...\")\n",
    "    pad_result = calculate_pad(pointclouds_array, 1.0)\n",
    "    print(f\"PAD Calculation Complete: {pad_result.shape}\")\n",
    "\n",
    "    print(\"Calculating Plant Area Index (PAI)...\")\n",
    "    pai_result = calculate_pai(pad_result)\n",
    "    print(f\"PAI Calculation Complete: {pai_result.shape}\")\n",
    "\n",
    "    print(\"Calculating Canopy Height Model (CHM)...\")\n",
    "    chm = calculate_chm(pointclouds_array, 1.0)\n",
    "    print(\"CHM calculated successfully!\")\n",
    "\n",
    "    print(\"Generating CHM visualization...\")\n",
    "    plot_2d(chm)\n",
    "    print(\"CHM visualization complete!\")\n",
    "\n",
    "except Exception as e:\n",
    "    print(f\"Error: {e}\")\n"
   ]
  },
  {
   "cell_type": "markdown",
   "id": "2a94cbdd-dcdd-453c-921f-ae34a436a780",
   "metadata": {},
   "source": [
    "## Had an issue with the las dataset and it would not work so resorted to converting the same file to .csv as the focus was on testing"
   ]
  },
  {
   "cell_type": "code",
   "execution_count": 137,
   "id": "8934ba1d-efc2-4cce-9024-17c64438ae8e",
   "metadata": {},
   "outputs": [
    {
     "name": "stdout",
     "output_type": "stream",
     "text": [
      "Loading LiDAR data from CSV...\n",
      "Computing Height Above Ground...\n",
      "Extracting X, Y, Z, HeightAboveGround data...\n",
      "Pointclouds shape: (918138,)\n",
      "Sample Data (First 5 Points): [(508028.47, 2785783.8, 7.04, 0.) (508026.94, 2785784. , 4.29, 0.)\n",
      " (508027.9 , 2785783.8, 6.87, 0.) (508027.2 , 2785783.8, 6.39, 0.)\n",
      " (508026.56, 2785783.8, 5.26, 0.)]\n",
      "Calculating Canopy Height Model (CHM)...\n",
      "CHM Shape: (377, 1001)\n"
     ]
    }
   ],
   "source": [
    "import numpy as np\n",
    "import pandas as pd\n",
    "from pyforestscan.calculate import calculate_chm, calculate_pai, calculate_pad\n",
    "from pyforestscan.visualize import plot_2d\n",
    "\n",
    "# Step 1: Load CSV File\n",
    "csv_file_path = \"/projects/output.csv\"  # Ensure the correct path\n",
    "\n",
    "print(\"Loading LiDAR data from CSV...\")\n",
    "df = pd.read_csv(csv_file_path)\n",
    "\n",
    "# Step 2: Compute HeightAboveGround\n",
    "print(\"Computing Height Above Ground...\")\n",
    "ground_z = df.groupby([\"X\", \"Y\"])[\"Z\"].min().reset_index()  # Get ground elevation\n",
    "df = df.merge(ground_z, on=[\"X\", \"Y\"], suffixes=(\"\", \"_ground\"))  # Merge with original data\n",
    "df[\"HeightAboveGround\"] = df[\"Z\"] - df[\"Z_ground\"]  # Compute height above ground\n",
    "\n",
    "# Step 3: Extract X, Y, Z, HeightAboveGround into NumPy array\n",
    "print(\"Extracting X, Y, Z, HeightAboveGround data...\")\n",
    "pointclouds_array = np.array(\n",
    "    list(zip(df[\"X\"], df[\"Y\"], df[\"Z\"], df[\"HeightAboveGround\"])), \n",
    "    dtype=[(\"X\", \"f4\"), (\"Y\", \"f4\"), (\"Z\", \"f4\"), (\"HeightAboveGround\", \"f4\")]\n",
    ")\n",
    "\n",
    "# Debugging: Check shape\n",
    "print(f\"Pointclouds shape: {pointclouds_array.shape}\")\n",
    "print(f\"Sample Data (First 5 Points): {pointclouds_array[:5]}\")\n",
    "\n",
    "# Step 4: Compute CHM (Canopy Height Model)\n",
    "print(\"Calculating Canopy Height Model (CHM)...\")\n",
    "voxel_resolution = (1.0, 1.0)  # Pass a tuple\n",
    "chm, metadata = calculate_chm(pointclouds_array, voxel_resolution)  # Unpack tuple\n",
    "\n",
    "print(f\"CHM Shape: {np.array(chm).shape}\")\n",
    "\n"
   ]
  },
  {
   "cell_type": "code",
   "execution_count": 135,
   "id": "b73e8f67-6aa1-4103-b7ad-a9179cac3d0b",
   "metadata": {},
   "outputs": [
    {
     "name": "stdout",
     "output_type": "stream",
     "text": [
      "Voxels Assigned: (76, 201, 17)\n"
     ]
    },
    {
     "data": {
      "image/png": "[encoded data removed]",
      "text/plain": [
       "<Figure size 376.561x1000 with 2 Axes>"
      ]
     },
     "metadata": {},
     "output_type": "display_data"
    },
    {
     "name": "stdout",
     "output_type": "stream",
     "text": [
      "Plant Area Index (PAI) Visualization Complete!\n"
     ]
    }
   ],
   "source": [
    "\n",
    "import numpy as np\n",
    "import pandas as pd\n",
    "from pyforestscan.process import assign_voxels\n",
    "from pyforestscan.calculate import calculate_pad, calculate_pai\n",
    "from pyforestscan.visualize import plot_metric\n",
    "\n",
    "csv_file_path = \"/projects/output.csv\"  \n",
    "df = pd.read_csv(csv_file_path)\n",
    "\n",
    "ground_z = df.groupby([\"X\", \"Y\"])[\"Z\"].min().reset_index()  \n",
    "df = df.merge(ground_z, on=[\"X\", \"Y\"], suffixes=(\"\", \"_ground\"))  \n",
    "df[\"HeightAboveGround\"] = df[\"Z\"] - df[\"Z_ground\"]  \n",
    "\n",
    "pointclouds_array = np.array(\n",
    "    list(zip(df[\"X\"], df[\"Y\"], df[\"HeightAboveGround\"])), \n",
    "    dtype=[(\"X\", \"f4\"), (\"Y\", \"f4\"), (\"HeightAboveGround\", \"f4\")]\n",
    ")\n",
    "\n",
    "voxel_resolution = (5, 5, 1)\n",
    "voxels, extent = assign_voxels(pointclouds_array, voxel_resolution)\n",
    "\n",
    "print(f\"Voxels Assigned: {voxels.shape}\")\n",
    "\n",
    "pad = calculate_pad(voxels, voxel_resolution[-1])\n",
    "\n",
    "pai = calculate_pai(pad)\n",
    "\n",
    "plot_metric(\"Plant Area Index\", pai, extent, metric_name='Plant Area Index', cmap='viridis')\n",
    "print(\"Plant Area Index (PAI) Visualization Complete!\")\n"
   ]
  },
  {
   "cell_type": "code",
   "execution_count": 91,
   "id": "467ec10d-9ea4-4c02-9fae-b76b7e96d211",
   "metadata": {},
   "outputs": [],
   "source": [
    "import rasterio\n",
    "import matplotlib.pyplot as plt\n"
   ]
  },
  {
   "cell_type": "code",
   "execution_count": 93,
   "id": "2f90a321-fbec-4371-a11f-2691f85536a9",
   "metadata": {},
   "outputs": [
    {
     "name": "stdout",
     "output_type": "stream",
     "text": [
      "['__doc__', '__file__', '__loader__', '__name__', '__package__', '__path__', '__spec__', '_env', '_err', '_filepath', '_path', '_transform', '_version', 'control', 'enums', 'env', 'errors', 'rpc', 'session', 'transform']\n"
     ]
    }
   ],
   "source": [
    "import rasterio\n",
    "print(dir(rasterio))  "
   ]
  },
  {
   "cell_type": "code",
   "execution_count": 123,
   "id": "f6a0f4c9-45d8-4cf8-bb0f-28aa4d049201",
   "metadata": {},
   "outputs": [
    {
     "data": {
      "image/png": "[encoded data removed]",
      "text/plain": [
       "<Figure size 1000x1000 with 2 Axes>"
      ]
     },
     "metadata": {},
     "output_type": "display_data"
    },
    {
     "name": "stdout",
     "output_type": "stream",
     "text": [
      "✅ 2D LiDAR Plot Created Successfully!\n"
     ]
    }
   ],
   "source": [
    "# from pyforestscan.visualize plot_2d works\n",
    "from pyforestscan.visualize import plot_2d\n",
    "import numpy as np\n",
    "import pandas as pd\n",
    "\n",
    "test_points = pd.DataFrame({\n",
    "    \"X\": [1, 4, 7],\n",
    "    \"Y\": [2, 5, 8],\n",
    "    \"Z\": [3, 6, 9]\n",
    "})\n",
    "\n",
    "\n",
    "test_points[\"HeightAboveGround\"] = test_points[\"Z\"] - test_points[\"Z\"].min()\n",
    "\n",
    "\n",
    "structured_array = np.array(\n",
    "    list(zip(test_points[\"X\"], test_points[\"Y\"], test_points[\"Z\"], test_points[\"HeightAboveGround\"])),\n",
    "    dtype=[(\"X\", \"f4\"), (\"Y\", \"f4\"), (\"Z\", \"f4\"), (\"HeightAboveGround\", \"f4\")]\n",
    ")\n",
    "\n",
    "plot_2d(structured_array, x_dim='X', y_dim='Z', alpha=0.5, point_size=50, fig_size=(10, 10))\n",
    "\n",
    "print(\"✅ 2D LiDAR Plot Created Successfully!\")\n"
   ]
  },
  {
   "cell_type": "code",
   "execution_count": 124,
   "id": "4b44d2dc-8027-4018-a6c2-5ea54dd35baf",
   "metadata": {},
   "outputs": [
    {
     "name": "stdout",
     "output_type": "stream",
     "text": [
      "Foliage Height Diversity (FHD): [[2.15728569 2.02549637 2.02105654 1.89255632 2.07298469]\n",
      " [2.1121094  2.06510074 2.14781861 1.85529789 2.05884472]\n",
      " [2.19331192 2.25066458 2.21724918 2.05561984 1.94245925]\n",
      " [2.13633683 1.82559137 1.71668174 1.94361057 2.15482996]\n",
      " [2.20225681 1.97716454 2.07452861 2.24890599 1.77667497]]\n"
     ]
    }
   ],
   "source": [
    "from pyforestscan.calculate import calculate_fhd\n",
    "import numpy as np\n",
    "\n",
    "# Simulate voxel density data\n",
    "voxels = np.random.randint(0, 10, size=(5, 5, 10))\n",
    "\n",
    "# Compute FHD\n",
    "fhd = calculate_fhd(voxels)\n",
    "\n",
    "print(\"Foliage Height Diversity (FHD):\", fhd)\n"
   ]
  },
  {
   "cell_type": "markdown",
   "id": "9a25b4ed-4c47-4e85-ba0c-8c97bf010fe8",
   "metadata": {},
   "source": [
    "tested and works in maap ade \n",
    "\n",
    "pyforestscan.handlers:\n",
    "read_lidar\n",
    "\n",
    "pyforestscan.calculate\n",
    "calculate_pad \n",
    "calculate_pai\n",
    "calculate_chm\n",
    "calculate_fhd\n",
    "assign_voxels\n",
    "\n",
    "pyforestscan.visualize:\n",
    "plot_2d\n",
    "plot_metric\n",
    "\n",
    "create_geotiff, write_las not compatiable"
   ]
  },
  {
   "cell_type": "markdown",
   "id": "f2314704-3501-47f7-ba48-ebcb5acba913",
   "metadata": {},
   "source": [
    "`process_with_tiles` may be will work with another dataset. not throwing error but not completing processing too"
   ]
  },
  {
   "cell_type": "code",
   "execution_count": null,
   "id": "8676f031-c4ba-4868-9417-d00d0b1c033e",
   "metadata": {},
   "outputs": [
    {
     "name": "stdout",
     "output_type": "stream",
     "text": [
      "Processing LiDAR data with tiles...\n"
     ]
    }
   ],
   "source": [
    "from pyforestscan.process import process_with_tiles\n",
    "import numpy as np\n",
    "import time\n",
    "\n",
    "# Define the path to your EPT data and tile parameters\n",
    "ept_path = \"https://s3-us-west-2.amazonaws.com/usgs-lidar-public/IA_FullState/ept.json\"\n",
    "tile_size = (500, 500)  \n",
    "tile_overlap = 50  \n",
    "metric = \"elevation\"  \n",
    "voxel_size = 1.0  \n",
    "\n",
    "\n",
    "try:\n",
    "    print(\"Processing LiDAR data with tiles...\")\n",
    "    \n",
    "    # Start timing the process\n",
    "    start_time = time.time()\n",
    "\n",
    "    tiles_result = process_with_tiles(ept_path, tile_size, tile_overlap, metric, voxel_size)\n",
    "    \n",
    "    # Calculate elapsed time\n",
    "    elapsed_time = time.time() - start_time\n",
    "    print(f\"LiDAR data processed successfully with tiles in {elapsed_time:.2f} seconds!\")\n",
    "\n",
    "    # Inspect processed tile results\n",
    "    print(f\"Processed tiles: {tiles_result.keys()}\")\n",
    "    print(f\"Tile data (example): {tiles_result.get('tile_1', 'No data available')}\")\n",
    "except Exception as e:\n",
    "    print(f\"Error processing LiDAR data with tiles: {e}\")\n"
   ]
  },
  {
   "cell_type": "code",
   "execution_count": null,
   "id": "014e8259-810f-4587-b93e-2ea72d627840",
   "metadata": {},
   "outputs": [],
   "source": []
  }
 ],
 "metadata": {
  "kernelspec": {
   "display_name": "Python 3 (ipykernel)",
   "language": "python",
   "name": "python3"
  },
  "language_info": {
   "codemirror_mode": {
    "name": "ipython",
    "version": 3
   },
   "file_extension": ".py",
   "mimetype": "text/x-python",
   "name": "python",
   "nbconvert_exporter": "python",
   "pygments_lexer": "ipython3",
   "version": "3.10.13"
  }
 },
 "nbformat": 4,
 "nbformat_minor": 5
}
