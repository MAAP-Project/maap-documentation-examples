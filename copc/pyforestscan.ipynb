{
 "cells": [
  {
   "cell_type": "markdown",
   "id": "06e1ed0c-9c13-45ec-a898-60ad812e5f80",
   "metadata": {},
   "source": [
    "## LiDAR Data Processing and Analysis Using `PyForestScan` in MAAP ADE"
   ]
  },
  {
   "cell_type": "markdown",
   "id": "9903b592-89de-48ed-982a-76868786e7a4",
   "metadata": {},
   "source": [
    "Authors: Harshini Girish (UAH), Rajat Shinde (UAH), Alex Mandel (DevSeed),Brian Freitag (NASA MSFC)\n",
    "\n",
    "Date:26 Febuary,2025\n",
    "\n",
    "## Run This Notebook\n",
    "\n",
    "To access and run this tutorial within MAAP's Algorithm Development Environment (ADE), please refer to the [\"Getting started with the MAAP\"](https://docs.maap-project.org/en/latest/getting_started/getting_started.html) section of our documentation.\n",
    "\n",
    "Disclaimer: it is highly recommended to run a tutorial within MAAP's ADE, which already includes packages specific to MAAP, such as maap-py. Running the tutorial outside of the MAAP ADE may lead to errors. Users should work within the \"R/Python\" workspace."
   ]
  },
  {
   "cell_type": "markdown",
   "id": "54e3af91-09fe-428f-abd2-2ecca2befd28",
   "metadata": {},
   "source": [
    "It searches for installed Python packages that contain `pyforestscan`in their name. If pyforestscan or any related package is installed, it will be displayed in the output."
   ]
  },
  {
   "cell_type": "code",
   "execution_count": 1,
   "id": "fc4a62a9-9cbe-45a2-9958-367f802b03db",
   "metadata": {},
   "outputs": [
    {
     "name": "stdout",
     "output_type": "stream",
     "text": [
      "pyforestscan                                     0.2.2\n",
      "Note: you may need to restart the kernel to use updated packages.\n"
     ]
    }
   ],
   "source": [
    "pip list | grep pyforestscan"
   ]
  },
  {
   "cell_type": "markdown",
   "id": "e4b17c7b-c982-452d-b22e-aa532a4b4a23",
   "metadata": {},
   "source": [
    "## Checking for Installed Modules and Functions\n",
    "\n",
    "This script checks for the availability of required Python modules and functions, particularly those related to `PyForestScan`, `GeoPandas`, and `PDAL`. The script ensures that necessary libraries and their functions are accessible before running any geospatial or LiDAR processing tasks.\n",
    "\n"
   ]
  },
  {
   "cell_type": "code",
   "execution_count": null,
   "id": "5c1462f4-1a88-41f2-a6f8-abb81e11469f",
   "metadata": {},
   "outputs": [],
   "source": [
    "import pdal  \n",
    "import geopandas as gpd\n",
    "import numpy as np\n",
    "import os\n",
    "import requests\n",
    "from pathlib import Path\n",
    "from maap.maap import MAAP\n",
    "from pystac_client import Client\n",
    "\n",
    "from pyforestscan.handlers import read_lidar, create_geotiff, write_las\n",
    "from pyforestscan.visualize import plot_metric, plot_2d\n",
    "from pyforestscan.calculate import assign_voxels, calculate_pad, calculate_pai, calculate_fhd, calculate_chm\n",
    "from pyforestscan.process import process_with_tiles\n"
   ]
  },
  {
   "cell_type": "markdown",
   "id": "f77ae3f9-638c-408e-b986-917184315584",
   "metadata": {},
   "source": [
    "## LiDAR Dataset  "
   ]
  },
  {
   "cell_type": "markdown",
   "id": "37c22026-a879-476a-acec-19834c9bdc65",
   "metadata": {},
   "source": [
    "This notebook cell demonstrates how to programmatically access and inspect LiDAR dataset metadata from the MAAP STAC  API using the pystac-client library in Python.\n",
    "\n",
    "The script initializes the `MAAP client` with the appropriate host and STAC URL, then queries the `GEDI_CalVal_Lidar_COPC` collection. \n",
    "\n",
    "It fetches all items within this collection and prints the total number of items retrieved. For the first five items, it displays each item’s ID, capture date, and associated asset download links."
   ]
  },
  {
   "cell_type": "code",
   "execution_count": 4,
   "id": "e9a45f10-897a-4214-bfd7-f666f4413aa7",
   "metadata": {},
   "outputs": [],
   "source": [
    "maap = MAAP(maap_host='api.maap-project.org')\n",
    "stac_url = \"https://stac.maap-project.org/\""
   ]
  },
  {
   "cell_type": "code",
   "execution_count": 6,
   "id": "84986f4a-2446-4d48-8a6a-0a28af302388",
   "metadata": {},
   "outputs": [
    {
     "name": "stdout",
     "output_type": "stream",
     "text": [
      " Found 19339 items:\n",
      "\n",
      "Item 1\n",
      "  ID       : usa_tepeecreek_2809704010602\n",
      "  Date     : N/A\n",
      "  Asset Hrefs:\n",
      "    - copc.laz: s3://nasa-maap-data-store/file-staging/nasa-map/GEDI_CalVal_Lidar_COPC/usa_tepeecreek_2809704010602.copc.laz\n",
      "\n",
      "Item 2\n",
      "  ID       : usa_tepeecreek_2809702010602\n",
      "  Date     : N/A\n",
      "  Asset Hrefs:\n",
      "    - copc.laz: s3://nasa-maap-data-store/file-staging/nasa-map/GEDI_CalVal_Lidar_COPC/usa_tepeecreek_2809702010602.copc.laz\n",
      "\n",
      "Item 3\n",
      "  ID       : usa_tepeecreek_2809700010602\n",
      "  Date     : N/A\n",
      "  Asset Hrefs:\n",
      "    - copc.laz: s3://nasa-maap-data-store/file-staging/nasa-map/GEDI_CalVal_Lidar_COPC/usa_tepeecreek_2809700010602.copc.laz\n",
      "\n",
      "Item 4\n",
      "  ID       : usa_tepeecreek_2809698010602\n",
      "  Date     : N/A\n",
      "  Asset Hrefs:\n",
      "    - copc.laz: s3://nasa-maap-data-store/file-staging/nasa-map/GEDI_CalVal_Lidar_COPC/usa_tepeecreek_2809698010602.copc.laz\n",
      "\n",
      "Item 5\n",
      "  ID       : usa_tepeecreek_2809696010602\n",
      "  Date     : N/A\n",
      "  Asset Hrefs:\n",
      "    - copc.laz: s3://nasa-maap-data-store/file-staging/nasa-map/GEDI_CalVal_Lidar_COPC/usa_tepeecreek_2809696010602.copc.laz\n",
      "\n",
      " Total items retrieved: 19339\n"
     ]
    }
   ],
   "source": [
    "collection_id = \"GEDI_CalVal_Lidar_COPC\"\n",
    "\n",
    "try:\n",
    "    stac_client = Client.open(stac_url)\n",
    "    search = stac_client.search(collections=[collection_id])\n",
    "    items = list(search.get_items())\n",
    "    if items:\n",
    "        print(f\" Found {len(items)} items:\\n\")\n",
    "\n",
    "       \n",
    "        for i, item in enumerate(items[:5], start=1):\n",
    "            print(f\"Item {i}\")\n",
    "            print(\"  ID       :\", item.id)\n",
    "            print(\"  Date     :\", item.properties.get(\"datetime\", \"N/A\"))\n",
    "            print(\"  Asset Hrefs:\")\n",
    "            for key, asset in item.assets.items():\n",
    "                print(f\"    - {key}: {asset.href}\")\n",
    "            print()\n",
    "\n",
    "        # Print total number of items\n",
    "        print(f\" Total items retrieved: {len(items)}\")\n",
    "\n",
    "    else:\n",
    "        print(f\" No items found for collection: {collection_id}\")\n",
    "\n",
    "except Exception as e:\n",
    "    print(\"Error fetching items:\", str(e))\n"
   ]
  },
  {
   "cell_type": "code",
   "execution_count": 8,
   "id": "f610a1b6-9dae-4c95-923d-d542bd9a9a68",
   "metadata": {},
   "outputs": [
    {
     "name": "stdout",
     "output_type": "stream",
     "text": [
      "Download complete.\n"
     ]
    }
   ],
   "source": [
    "import boto3\n",
    "\n",
    "s3 = boto3.client('s3')\n",
    "bucket = \"nasa-maap-data-store\"  \n",
    "key = \"file-staging/nasa-map/GEDI_CalVal_Lidar_COPC/usa_tepeecreek_2809704010602.copc.laz\"\n",
    "filename = \"usa_tepeecreek_2809704010602.laz\"\n",
    "\n",
    "s3.download_file(bucket, key, filename)\n",
    "print(\"Download complete.\")\n"
   ]
  },
  {
   "cell_type": "markdown",
   "id": "c27d5f1f-cdda-486b-ae20-fe8d1eae7ece",
   "metadata": {},
   "source": [
    "## LiDAR Dataset Initialization"
   ]
  },
  {
   "cell_type": "code",
   "execution_count": null,
   "id": "f1a7a817-fcc9-4072-97f6-a73857c638ff",
   "metadata": {},
   "outputs": [],
   "source": [
    "lidar_file_path = \"/projects/usa_tepeecreek_2809704010602.laz\"\n",
    "ept_srs = \"EPSG:4326\"\n",
    "bounds = [-80.93942, 25.26716, -80.93498, 25.27620]\n"
   ]
  },
  {
   "cell_type": "markdown",
   "id": "7e01adcc-e334-4fac-b0a8-cb9475f4664f",
   "metadata": {},
   "source": [
    "The script initializes key dataset parameters, including lidar_file_path, which specifies the location of a .las LiDAR file, ept_srs set to `\"EPSG:4326\"` to define the spatial reference system, and bounds, which represent the geographical extent using minimum and maximum longitude-latitude values.\n",
    "\n"
   ]
  },
  {
   "cell_type": "markdown",
   "id": "b84aaf04-7d8d-402d-9f1d-cbf457d88cee",
   "metadata": {},
   "source": [
    "## LiDAR Data Processing \n"
   ]
  },
  {
   "cell_type": "markdown",
   "id": "18c3a9a6-46ca-4d06-9b25-a35f333d44da",
   "metadata": {},
   "source": [
    "This script utilizes NumPy to process `LiDAR point cloud data`, focusing on `computing Height Above Ground` (HAG) and generating a `Canopy Height Model (CHM)`. It begins by reading the LiDAR data and converting it into a `NumPy` array for efficient numerical operations.The script extracts the X, Y, and Z coordinates, then computes ground elevation by identifying the minimum Z value for each unique (X, Y) pair.Finally, the script computes the CHM by calling `calculate_chm,` which generates a simulated CHM using NumPy's `random.rand()` function. Error handling is implemented using a general exception block to catch any issues that arise during execution. \n",
    "\n"
   ]
  },
  {
   "cell_type": "code",
   "execution_count": 24,
   "id": "bae60012-8944-448a-bd45-b5f40af53f39",
   "metadata": {},
   "outputs": [
    {
     "name": "stdout",
     "output_type": "stream",
     "text": [
      "Simulating reading of /projects/GLLIDARPC_FL_20200311_FIA8_l0s12.las with bounds [-80.93942, 25.26716, -80.93498, 25.2762] and HAG=True\n",
      "Computing Height Above Ground (HAG)\n",
      "Pointclouds shape: (100,)\n",
      "Sample Data (First 5 Points): [(0.02555113, 0.74006605, 0.20571959, 0.)\n",
      " (0.6811424 , 0.7121923 , 0.09033548, 0.)\n",
      " (0.703616  , 0.75076175, 0.6931952 , 0.)\n",
      " (0.22746867, 0.04990578, 0.69518685, 0.)\n",
      " (0.05457364, 0.07134126, 0.827071  , 0.)]\n",
      "Calculating Canopy Height Model (CHM)\n",
      "Simulating CHM calculation with resolution (1.0, 1.0)\n",
      "CHM Shape: (10, 10)\n"
     ]
    }
   ],
   "source": [
    "def calculate_chm(pointclouds, resolution):\n",
    "    print(f\"Simulating CHM calculation with resolution {resolution}\")\n",
    "    return np.random.rand(10, 10), {\"resolution\": resolution}  \n",
    "\n",
    "try:\n",
    "    pointclouds = read_lidar(lidar_file_path, ept_srs, bounds, hag=True)\n",
    "\n",
    "    if pointclouds is None or pointclouds.size == 0:\n",
    "        pointclouds = read_lidar(lidar_file_path, ept_srs, bounds, hag=False)\n",
    "\n",
    "    if pointclouds is None or pointclouds.size == 0:\n",
    "        raise ValueError(\"No valid LiDAR points were loaded.\")\n",
    "\n",
    "    pointclouds_array = np.array(pointclouds)\n",
    "\n",
    "   \n",
    "    X, Y, Z = pointclouds_array[:, 0], pointclouds_array[:, 1], pointclouds_array[:, 2]\n",
    "\n",
    "   \n",
    "    ground_z_dict = {(x, y): min(Z[(X == x) & (Y == y)]) for x, y in zip(X, Y)}\n",
    "    ground_z = np.array([ground_z_dict[(x, y)] for x, y in zip(X, Y)])\n",
    "\n",
    "   \n",
    "    HeightAboveGround = Z - ground_z\n",
    "\n",
    "   \n",
    "    structured_pointcloud = np.array(\n",
    "        list(zip(X, Y, Z, HeightAboveGround)), \n",
    "        dtype=[(\"X\", \"f4\"), (\"Y\", \"f4\"), (\"Z\", \"f4\"), (\"HeightAboveGround\", \"f4\")]\n",
    "    )\n",
    "\n",
    "    print(\"Computing Height Above Ground (HAG)\")\n",
    "    print(f\"Pointclouds shape: {structured_pointcloud.shape}\")\n",
    "    print(f\"Sample Data (First 5 Points): {structured_pointcloud[:5]}\")\n",
    "\n",
    "    print(\"Calculating Canopy Height Model (CHM)\")\n",
    "    voxel_resolution = (1.0, 1.0)  \n",
    "    chm, metadata = calculate_chm(structured_pointcloud, voxel_resolution)\n",
    "\n",
    "    print(f\"CHM Shape: {np.array(chm).shape}\")\n",
    "\n",
    "except FileNotFoundError as e:\n",
    "    print(str(e))\n",
    "except Exception as e:\n",
    "    print(f\"An error occurred: {e}\")\n"
   ]
  },
  {
   "cell_type": "markdown",
   "id": "9131b5a6-4624-44c1-9681-f2499ef571a4",
   "metadata": {},
   "source": [
    "\n",
    "\n",
    "The script assigns voxels to the point cloud using a simulated 3D voxel grid with a given resolution. Using this voxelized representation, it calculates the Plant Area Density (PAD) and Plant Area Index (PAI) using `NumPy` functions. Finally, it visualizes the PAI using Matplotlib’s `imshow()` function, ensuring spatial representation of the data with appropriate color scaling and labeling.\n",
    "NumPy's boolean indexing, structured arrays, and array operations enable fast and efficient handling of large-scale LiDAR datasets, while `Matplotlib` provides effective visualization of plant structure metrics."
   ]
  },
  {
   "cell_type": "code",
   "execution_count": 26,
   "id": "53b7a6bc-ae33-41dd-aa96-b5215d23cb1a",
   "metadata": {},
   "outputs": [
    {
     "name": "stdout",
     "output_type": "stream",
     "text": [
      "Simulating reading of /projects/GLLIDARPC_FL_20200311_FIA8_l0s12.las with bounds [-80.93942, 25.26716, -80.93498, 25.2762] and HAG=True\n",
      "Simulating voxel assignment with resolution (5, 5, 1)\n",
      "Simulating PAD calculation with dz=1\n",
      "Simulating PAI calculation\n",
      "Plotting Plant Area Index (PAI)...\n"
     ]
    },
    {
     "data": {
      "image/png": "[encoded data removed]",
      "text/plain": [
       "<Figure size 800x600 with 2 Axes>"
      ]
     },
     "metadata": {},
     "output_type": "display_data"
    }
   ],
   "source": [
    "def calculate_chm(pointclouds, resolution):\n",
    "    print(f\"Simulating CHM calculation with resolution {resolution}\")\n",
    "    return np.random.rand(10, 10), {\"resolution\": resolution}  \n",
    "\n",
    "try:\n",
    "    pointclouds = read_lidar(lidar_file_path, ept_srs, bounds, hag=True)\n",
    "\n",
    "    if pointclouds is None or pointclouds.size == 0:\n",
    "        pointclouds = read_lidar(lidar_file_path, ept_srs, bounds, hag=False)\n",
    "\n",
    "    if pointclouds is None or pointclouds.size == 0:\n",
    "        raise ValueError(\"No valid LiDAR points were loaded.\")\n",
    "\n",
    "    pointclouds_array = np.array(pointclouds)\n",
    "\n",
    "   \n",
    "    X, Y, Z = pointclouds_array[:, 0], pointclouds_array[:, 1], pointclouds_array[:, 2]\n",
    "\n",
    "   \n",
    "    ground_z_dict = {(x, y): min(Z[(X == x) & (Y == y)]) for x, y in zip(X, Y)}\n",
    "    ground_z = np.array([ground_z_dict[(x, y)] for x, y in zip(X, Y)])\n",
    "\n",
    "   \n",
    "    HeightAboveGround = Z - ground_z\n",
    "\n",
    "   \n",
    "    structured_pointcloud = np.array(\n",
    "        list(zip(X, Y, Z, HeightAboveGround)), \n",
    "        dtype=[(\"X\", \"f4\"), (\"Y\", \"f4\"), (\"Z\", \"f4\"), (\"HeightAboveGround\", \"f4\")]\n",
    "    )\n",
    "\n",
    "    print(\"Computing Height Above Ground (HAG)\")\n",
    "    print(f\"Pointclouds shape: {structured_pointcloud.shape}\")\n",
    "    print(f\"Sample Data (First 5 Points): {structured_pointcloud[:5]}\")\n",
    "\n",
    "    print(\"Calculating Canopy Height Model (CHM)\")\n",
    "    voxel_resolution = (1.0, 1.0)  \n",
    "    chm, metadata = calculate_chm(structured_pointcloud, voxel_resolution)\n",
    "\n",
    "    print(f\"CHM Shape: {np.array(chm).shape}\")\n",
    "\n",
    "except FileNotFoundError as e:\n",
    "    print(str(e))\n",
    "except Exception as e:\n",
    "    print(f\"An error occurred: {e}\")\n",
    "\n",
    "\n",
    "    structured_pointcloud = np.array(\n",
    "        list(zip(X, Y, HeightAboveGround)), \n",
    "        dtype=[(\"X\", \"f4\"), (\"Y\", \"f4\"), (\"HeightAboveGround\", \"f4\")]\n",
    "    )\n",
    "\n",
    "    voxel_resolution = (5, 5, 1)  \n",
    "    voxels, extent = assign_voxels(structured_pointcloud, voxel_resolution)\n",
    "\n",
    "    pad = calculate_pad(voxels, voxel_resolution[-1])\n",
    "    pai = calculate_pai(pad)\n",
    "\n",
    "    plot_metric(\"Plant Area Index (PAI)\", pai, extent, metric_name='Plant Area Index', cmap='viridis')\n",
    "\n",
    "except Exception as e:\n",
    "    print(f\"An error occurred: {e}\")\n"
   ]
  }
 ],
 "metadata": {
  "kernelspec": {
   "display_name": "Python 3 (ipykernel)",
   "language": "python",
   "name": "python3"
  },
  "language_info": {
   "codemirror_mode": {
    "name": "ipython",
    "version": 3
   },
   "file_extension": ".py",
   "mimetype": "text/x-python",
   "name": "python",
   "nbconvert_exporter": "python",
   "pygments_lexer": "ipython3",
   "version": "3.12.7"
  }
 },
 "nbformat": 4,
 "nbformat_minor": 5
}
