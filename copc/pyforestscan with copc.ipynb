{
 "cells": [
  {
   "cell_type": "markdown",
   "id": "a512ced1-c1c3-461d-9744-52afe15cbf96",
   "metadata": {},
   "source": [
    "## COPC Data Processing and Analysis Using `PyForestScan` in MAAP ADE"
   ]
  },
  {
   "cell_type": "markdown",
   "id": "f8139b23-95d0-46a2-86a4-c1e2f715deb7",
   "metadata": {},
   "source": [
    "Authors: Harshini Girish (UAH), Rajat Shinde (UAH), Alex Mandel (DevSeed), Brian Freitag (NASA MSFC)\n",
    "\n",
    "Date:24 March,2025\n",
    "\n",
    "## Run This Notebook\n",
    "\n",
    "To access and run this tutorial within MAAP's Algorithm Development Environment (ADE), please refer to the [\"Getting started with the MAAP\"](https://docs.maap-project.org/en/latest/getting_started/getting_started.html) section of our documentation.\n",
    "\n",
    "Disclaimer: it is highly recommended to run a tutorial within MAAP's ADE, which already includes packages specific to MAAP, such as maap-py. Running the tutorial outside of the MAAP ADE may lead to errors. Users should work within the \"R/Python\" workspace."
   ]
  },
  {
   "cell_type": "markdown",
   "id": "61deaf03-f905-40a5-9cae-bb9c767bd05d",
   "metadata": {},
   "source": [
    "It searches for installed Python packages that contain `pyforestscan`in their name. If pyforestscan or any related package is installed, it will be displayed in the output."
   ]
  },
  {
   "cell_type": "markdown",
   "id": "4dea355c-20d4-4501-8bc9-487dc8f30d72",
   "metadata": {},
   "source": [
    "## Checking for Installed Modules and Functions\n",
    "\n",
    "This script checks for the availability of required Python modules and functions, particularly those related to `PyForestScan`, `GeoPandas`, and `PDAL`. The script ensures that necessary libraries and their functions are accessible before running any geospatial or LiDAR processing tasks.\n",
    "\n"
   ]
  },
  {
   "cell_type": "code",
   "execution_count": 30,
   "id": "71486e42-c218-40df-9adf-13c7f467c482",
   "metadata": {},
   "outputs": [
    {
     "name": "stdout",
     "output_type": "stream",
     "text": [
      "Module 'geopandas' is available.\n",
      "Module 'numpy' is available.\n",
      "Module 'pyforestscan.handlers' is available.\n",
      "Module 'pyforestscan.visualize' is available.\n",
      "Module 'pyforestscan.calculate' is available.\n",
      "Module 'pyforestscan.process' is available.\n",
      "Function 'read_lidar' is available.\n",
      "Function 'create_geotiff' is available.\n",
      "Function 'write_las' is available.\n",
      "Function 'plot_metric' is available.\n",
      "Function 'plot_2d' is available.\n",
      "Function 'assign_voxels' is available.\n",
      "Function 'calculate_pad' is available.\n",
      "Function 'calculate_pai' is available.\n",
      "Function 'calculate_fhd' is available.\n",
      "Function 'calculate_chm' is available.\n",
      "Function 'process_with_tiles' is available.\n"
     ]
    }
   ],
   "source": [
    "import importlib\n",
    "# List of module \n",
    "modules = [\n",
    "    \"geopandas\",\n",
    "    \"numpy\",     \n",
    "    \"pyforestscan.handlers\",\n",
    "    \"pyforestscan.visualize\",\n",
    "    \"pyforestscan.calculate\",\n",
    "    \"pyforestscan.process\"\n",
    "]\n",
    "\n",
    "\n",
    "for module in modules:\n",
    "    if importlib.util.find_spec(module) is not None:\n",
    "        print(f\"Module '{module}' is available.\")\n",
    "    else:\n",
    "        print(f\"Module '{module}' is NOT available.\")\n",
    "import importlib.util\n",
    "import pdal  \n",
    "import geopandas as gpd\n",
    "import numpy as np\n",
    "from pathlib import Path\n",
    "from pyforestscan.handlers import read_lidar, create_geotiff, write_las\n",
    "from pyforestscan.visualize import plot_metric, plot_2d\n",
    "from pyforestscan.calculate import assign_voxels, calculate_pad, calculate_pai, calculate_fhd, calculate_chm\n",
    "from pyforestscan.process import process_with_tiles\n",
    "\n",
    "functions = {\n",
    "    \"read_lidar\": read_lidar, \n",
    "    \"create_geotiff\": create_geotiff,\n",
    "    \"write_las\": write_las,\n",
    "    \"plot_metric\": plot_metric,\n",
    "    \"plot_2d\": plot_2d,\n",
    "    \"assign_voxels\": assign_voxels,\n",
    "    \"calculate_pad\": calculate_pad,\n",
    "    \"calculate_pai\": calculate_pai,\n",
    "    \"calculate_fhd\": calculate_fhd,\n",
    "    \"calculate_chm\": calculate_chm,\n",
    "    \"process_with_tiles\": process_with_tiles\n",
    "}\n",
    "for func_name, func in functions.items():\n",
    "    if callable(func):\n",
    "        print(f\"Function '{func_name}' is available.\")\n",
    "    else:\n",
    "        print(f\"Function '{func_name}' is NOT available.\")\n"
   ]
  },
  {
   "cell_type": "markdown",
   "id": "2d5e263a-eca7-4526-8302-6abd89b6a2c1",
   "metadata": {},
   "source": [
    "## LiDAR Dataset Initialization "
   ]
  },
  {
   "cell_type": "markdown",
   "id": "3ea256af-b4f2-4404-8f6c-f98d4e53ef5a",
   "metadata": {},
   "source": [
    "The script initializes key dataset parameters, including lidar_file_path, which specifies the location of a .las LiDAR file, `ept_srs` set to \"EPSG:4326\" to define the spatial reference system, and bounds, which represent the geographical extent using minimum and maximum longitude-latitude values."
   ]
  },
  {
   "cell_type": "code",
   "execution_count": 31,
   "id": "877017b7-3e24-4d21-a638-249e06bf5312",
   "metadata": {},
   "outputs": [],
   "source": [
    "# Define dataset details\n",
    "lidar_file_path = \"/projects/hollister000001.laz\"\n",
    "ept_srs = \"EPSG:4326\"\n",
    "bounds = [-80.93942, 25.26716, -80.93498, 25.27620]\n",
    "\n",
    "# Check if the LiDAR file exists\n",
    "if not Path(lidar_file_path).exists():\n",
    "    raise FileNotFoundError(f\"Error: The file '{lidar_file_path}' does not exist.\")"
   ]
  },
  {
   "cell_type": "markdown",
   "id": "0e8b040b-555e-461b-8f1c-6b073ba953c0",
   "metadata": {},
   "source": [
    "## LiDAR Data Processing \n",
    "This script uses `NumPy` for point cloud data handling and `Pathlib` for file management.`read_lidar` simulates LiDAR data retrieval, returning a random (100,3) NumPy array representing 3D points.`calculate_pad` computes Plant Area Density (PAD) with a given resolution, returning a (10,10) NumPy array. The script first attempts to read LiDAR data with `hag=True`, retrying with `hag=False` if empty. It then converts the data to a NumPy array, ensures it has three columns, and computes `PAD`.\n",
    "\n"
   ]
  },
  {
   "cell_type": "code",
   "execution_count": 25,
   "id": "8f34223c-f536-41a4-a145-1706a43bc107",
   "metadata": {},
   "outputs": [
    {
     "name": "stdout",
     "output_type": "stream",
     "text": [
      "Reading LiDAR data...\n",
      "Simulating reading of /projects/hollister000001.laz with bounds [-80.93942, 25.26716, -80.93498, 25.2762] and HAG=True\n",
      "LiDAR data loaded successfully! Total points: 100\n",
      "Converting to NumPy array\n",
      "Converted pointclouds shape: (100, 3)\n",
      "Final pointclouds shape: (100, 3)\n",
      "Calculating Plant Area Density (PAD)...\n",
      "Simulating PAD calculation with resolution 1.0\n",
      "PAD Calculation Complete: (10, 10)\n"
     ]
    }
   ],
   "source": [
    "def read_lidar(file_path, srs, bounds, hag=False):\n",
    "    print(f\"Simulating reading of {file_path} with bounds {bounds} and HAG={hag}\")\n",
    "    return np.random.rand(100, 3)  # Simulated point cloud data\n",
    "def calculate_pad(pointclouds, resolution):\n",
    "    print(f\"Simulating PAD calculation with resolution {resolution}\")\n",
    "    return np.random.rand(10, 10)  # Simulated PAD result\n",
    "\n",
    "try:\n",
    "    print(\"Reading LiDAR data...\")\n",
    "    pointclouds = read_lidar(lidar_file_path, ept_srs, bounds, hag=True)\n",
    "\n",
    "    if pointclouds is None or pointclouds.size == 0:\n",
    "        pointclouds = read_lidar(lidar_file_path, ept_srs, bounds, hag=False)\n",
    "\n",
    "    if pointclouds is None or pointclouds.size == 0:\n",
    "        raise ValueError(\"No valid LiDAR points were loaded.\")\n",
    "\n",
    "    print(f\"LiDAR data loaded successfully! Total points: {len(pointclouds)}\")\n",
    "\n",
    "    print(\"Converting to NumPy array\")\n",
    "    pointclouds_array = np.array(pointclouds)\n",
    "\n",
    "    print(f\"Converted pointclouds shape: {pointclouds_array.shape}\")\n",
    "\n",
    "    if pointclouds_array.ndim == 1:\n",
    "        pointclouds_array = pointclouds_array.reshape(-1, 3)\n",
    "\n",
    "    if pointclouds_array.shape[1] > 3:\n",
    "        pointclouds_array = pointclouds_array[:, :3]\n",
    "\n",
    "    print(f\"Final pointclouds shape: {pointclouds_array.shape}\")\n",
    "\n",
    "    print(\"Calculating Plant Area Density (PAD)...\")\n",
    "    pad_result = calculate_pad(pointclouds_array, 1.0)\n",
    "    print(f\"PAD Calculation Complete: {pad_result.shape}\")\n",
    "\n",
    "except FileNotFoundError as e:\n",
    "    print(str(e))\n",
    "except Exception as e:\n",
    "    print(f\"An error occurred: {e}\")\n"
   ]
  },
  {
   "cell_type": "code",
   "execution_count": 26,
   "id": "0f616677-226b-4a3e-ab68-64127f9e3011",
   "metadata": {},
   "outputs": [
    {
     "name": "stdout",
     "output_type": "stream",
     "text": [
      "Simulating reading of /projects/hollister000001.laz with bounds [-80.93942, 25.26716, -80.93498, 25.2762] and HAG=True\n",
      "Computing Height Above Ground (HAG)\n",
      "Pointclouds shape: (100,)\n",
      "Sample Data (First 5 Points): [(0.8410045 , 0.37079695, 0.06053101, 0.)\n",
      " (0.5417491 , 0.5109208 , 0.6649091 , 0.)\n",
      " (0.37145576, 0.34800097, 0.10633628, 0.)\n",
      " (0.3570204 , 0.331955  , 0.8275194 , 0.)\n",
      " (0.0322361 , 0.13293806, 0.83329946, 0.)]\n",
      "Calculating Canopy Height Model (CHM)\n",
      "Simulating CHM calculation with resolution (1.0, 1.0)\n",
      "CHM Shape: (10, 10)\n"
     ]
    }
   ],
   "source": [
    "def calculate_chm(pointclouds, resolution):\n",
    "    print(f\"Simulating CHM calculation with resolution {resolution}\")\n",
    "    return np.random.rand(10, 10), {\"resolution\": resolution}  \n",
    "\n",
    "try:\n",
    "    pointclouds = read_lidar(lidar_file_path, ept_srs, bounds, hag=True)\n",
    "\n",
    "    if pointclouds is None or pointclouds.size == 0:\n",
    "        pointclouds = read_lidar(lidar_file_path, ept_srs, bounds, hag=False)\n",
    "\n",
    "    if pointclouds is None or pointclouds.size == 0:\n",
    "        raise ValueError(\"No valid LiDAR points were loaded.\")\n",
    "\n",
    "    pointclouds_array = np.array(pointclouds)\n",
    "\n",
    "   \n",
    "    X, Y, Z = pointclouds_array[:, 0], pointclouds_array[:, 1], pointclouds_array[:, 2]\n",
    "\n",
    "   \n",
    "    ground_z_dict = {(x, y): min(Z[(X == x) & (Y == y)]) for x, y in zip(X, Y)}\n",
    "    ground_z = np.array([ground_z_dict[(x, y)] for x, y in zip(X, Y)])\n",
    "\n",
    "   \n",
    "    HeightAboveGround = Z - ground_z\n",
    "\n",
    "   \n",
    "    structured_pointcloud = np.array(\n",
    "        list(zip(X, Y, Z, HeightAboveGround)), \n",
    "        dtype=[(\"X\", \"f4\"), (\"Y\", \"f4\"), (\"Z\", \"f4\"), (\"HeightAboveGround\", \"f4\")]\n",
    "    )\n",
    "\n",
    "    print(\"Computing Height Above Ground (HAG)\")\n",
    "    print(f\"Pointclouds shape: {structured_pointcloud.shape}\")\n",
    "    print(f\"Sample Data (First 5 Points): {structured_pointcloud[:5]}\")\n",
    "\n",
    "    print(\"Calculating Canopy Height Model (CHM)\")\n",
    "    voxel_resolution = (1.0, 1.0)  \n",
    "    chm, metadata = calculate_chm(structured_pointcloud, voxel_resolution)\n",
    "\n",
    "    print(f\"CHM Shape: {np.array(chm).shape}\")\n",
    "\n",
    "except FileNotFoundError as e:\n",
    "    print(str(e))\n",
    "except Exception as e:\n",
    "    print(f\"An error occurred: {e}\")\n"
   ]
  },
  {
   "cell_type": "markdown",
   "id": "c281e0ff-cfb5-40bd-ae4b-9227f02c9eeb",
   "metadata": {},
   "source": [
    "# Plotting the Graph\n",
    "\n",
    "There are two separate plotting calls that produce two figures:\n",
    "Scatter Plot of Raw Points: This creates a scatter plot showing the distribution of the LiDAR points in (X, Y) space, colored by Z (height).\n",
    "\n",
    "Heatmap of Plant Area Index (PAI) :This produces a second figure showing the 2D PAI array as a heatmap."
   ]
  },
  {
   "cell_type": "markdown",
   "id": "129969a1-53e9-497b-b847-8471a884e07c",
   "metadata": {},
   "source": [
    "The script assigns voxels to the point cloud using a simulated 3D voxel grid with a given resolution. Using this voxelized representation, it calculates the Plant Area Density (PAD) and Plant Area Index (PAI) using `NumPy` functions. Finally, it visualizes the PAI using Matplotlib’s `imshow()` function, ensuring spatial representation of the data with appropriate color scaling and labeling.\n",
    "NumPy's boolean indexing, structured arrays, and array operations enable fast and efficient handling of large-scale LiDAR datasets, while `Matplotlib` provides effective visualization of plant structure metrics."
   ]
  },
  {
   "cell_type": "code",
   "execution_count": 32,
   "id": "96df38b4-9e0b-47c9-9b2b-e8111e363fd1",
   "metadata": {},
   "outputs": [
    {
     "data": {
      "image/png": "[encoded data removed]",
      "text/plain": [
       "<Figure size 640x480 with 2 Axes>"
      ]
     },
     "metadata": {},
     "output_type": "display_data"
    },
    {
     "data": {
      "image/png": "[encoded data removed]",
      "text/plain": [
       "<Figure size 640x480 with 2 Axes>"
      ]
     },
     "metadata": {},
     "output_type": "display_data"
    }
   ],
   "source": [
    "import numpy as np\n",
    "import matplotlib.pyplot as plt\n",
    "\n",
    "def read_lidar(lidar_file_path, ept_srs, bounds, hag=True):\n",
    "    num_points = 100\n",
    "    X = np.linspace(bounds[0], bounds[2], num_points)\n",
    "    Y = np.linspace(bounds[1], bounds[3], num_points)\n",
    "    Z = np.random.rand(num_points) * 10\n",
    "    return np.column_stack((X, Y, Z))\n",
    "\n",
    "def calculate_chm(pointclouds, resolution):\n",
    "    chm_array = np.random.rand(10, 10)\n",
    "    metadata = {\"resolution\": resolution}\n",
    "    return chm_array, metadata\n",
    "\n",
    "def assign_voxels(structured_pointcloud, voxel_resolution):\n",
    "    voxels = np.random.rand(10, 10, 10)\n",
    "    extent = [0, 10, 0, 10]\n",
    "    return voxels, extent\n",
    "\n",
    "def calculate_pad(voxels, voxel_size):\n",
    "    return np.random.rand(voxels.shape[0], voxels.shape[1])\n",
    "\n",
    "def calculate_pai(pad):\n",
    "    return pad * 2.0\n",
    "\n",
    "def plot_metric(title, metric, extent, metric_name='Metric', cmap='viridis'):\n",
    "    plt.figure()\n",
    "    plt.imshow(metric, extent=extent, origin='lower', cmap=cmap)\n",
    "    plt.colorbar(label=metric_name)\n",
    "    plt.title(title)\n",
    "    plt.xlabel('X')\n",
    "    plt.ylabel('Y')\n",
    "    plt.show()\n",
    "\n",
    "if __name__ == \"__main__\":\n",
    "    lidar_file_path = \"/projects/hollister000001.laz\"\n",
    "    ept_srs = \"EPSG:26915\"\n",
    "    bounds = [1525520.0, 4652880.0, 1525580.0, 4652940.0]\n",
    "\n",
    "    try:\n",
    "        pointclouds = read_lidar(lidar_file_path, ept_srs, bounds, hag=True)\n",
    "        if pointclouds is None or pointclouds.size == 0:\n",
    "            pointclouds = read_lidar(lidar_file_path, ept_srs, bounds, hag=False)\n",
    "        if pointclouds is None or pointclouds.size == 0:\n",
    "            raise ValueError(\"No valid LiDAR points were loaded.\")\n",
    "        \n",
    "        pointclouds_array = np.array(pointclouds)\n",
    "        X, Y, Z = pointclouds_array[:, 0], pointclouds_array[:, 1], pointclouds_array[:, 2]\n",
    "\n",
    "        plt.figure()\n",
    "        plt.scatter(X, Y, c=Z, cmap='viridis')\n",
    "        plt.colorbar(label='Z (Height)')\n",
    "        plt.title(\"Raw LiDAR Points\")\n",
    "        plt.xlabel('X')\n",
    "        plt.ylabel('Y')\n",
    "        plt.show()\n",
    "\n",
    "        ground_z_dict = {(x, y): min(Z[(X == x) & (Y == y)]) for x, y in zip(X, Y)}\n",
    "        ground_z = np.array([ground_z_dict[(x, y)] for x, y in zip(X, Y)])\n",
    "        HeightAboveGround = Z - ground_z\n",
    "\n",
    "        structured_pointcloud = np.array(\n",
    "            list(zip(X, Y, Z, HeightAboveGround)),\n",
    "            dtype=[(\"X\", \"f4\"), (\"Y\", \"f4\"), (\"Z\", \"f4\"), (\"HeightAboveGround\", \"f4\")]\n",
    "        )\n",
    "\n",
    "        chm_resolution = (1.0, 1.0)\n",
    "        chm, metadata = calculate_chm(structured_pointcloud, chm_resolution)\n",
    "\n",
    "        structured_pointcloud_voxel = np.array(\n",
    "            list(zip(X, Y, HeightAboveGround)),\n",
    "            dtype=[(\"X\", \"f4\"), (\"Y\", \"f4\"), (\"HeightAboveGround\", \"f4\")]\n",
    "        )\n",
    "\n",
    "        voxel_resolution = (5, 5, 1)\n",
    "        voxels, extent = assign_voxels(structured_pointcloud_voxel, voxel_resolution)\n",
    "\n",
    "        pad = calculate_pad(voxels, voxel_resolution[-1])\n",
    "        pai = calculate_pai(pad)\n",
    "\n",
    "        plot_metric(\"Plant Area Index (PAI)\", pai, extent, metric_name='Plant Area Index', cmap='viridis')\n",
    "\n",
    "    except FileNotFoundError as e:\n",
    "        print(str(e))\n",
    "    except Exception as e:\n",
    "        print(f\"An error occurred: {e}\")\n"
   ]
  }
 ],
 "metadata": {
  "kernelspec": {
   "display_name": "Python (pdal_env)",
   "language": "python",
   "name": "pdal_env"
  },
  "language_info": {
   "codemirror_mode": {
    "name": "ipython",
    "version": 3
   },
   "file_extension": ".py",
   "mimetype": "text/x-python",
   "name": "python",
   "nbconvert_exporter": "python",
   "pygments_lexer": "ipython3",
   "version": "3.13.2"
  }
 },
 "nbformat": 4,
 "nbformat_minor": 5
}
