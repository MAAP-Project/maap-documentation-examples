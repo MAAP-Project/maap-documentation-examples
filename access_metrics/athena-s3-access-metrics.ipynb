{
 "cells": [
  {
   "cell_type": "markdown",
   "id": "da0e6f40",
   "metadata": {},
   "source": [
    "# AWS Athena Queries for S3 Data Access Metrics\n",
    "\n",
    "This notebook runs queries on S3 access logs to deliver metrics on data usage from s3://nasa-maap-data-store, the primary MAAP data store bucket.\n",
    "\n",
    "Pre-requisites:\n",
    "* S3 Access Logs have been enabled and are being delivered to a bucket \n",
    "* A database already exists in Athena which parses logs delivered to that bucket\n",
    "* Queries have been developed and saved in Athena"
   ]
  },
  {
   "cell_type": "code",
   "execution_count": 1,
   "id": "29e627d3",
   "metadata": {},
   "outputs": [],
   "source": [
    "import boto3\n",
    "import matplotlib.pyplot as plt\n",
    "import pandas as pd\n",
    "import time"
   ]
  },
  {
   "cell_type": "code",
   "execution_count": 2,
   "id": "e6c787e5",
   "metadata": {},
   "outputs": [],
   "source": [
    "# Must run this with MAAP MCP Ops AWS credentials set in your environment\n",
    "client = boto3.client('athena')"
   ]
  },
  {
   "cell_type": "code",
   "execution_count": 29,
   "id": "6a8db386",
   "metadata": {},
   "outputs": [],
   "source": [
    "def start_query(query_id):\n",
    "    response = client.batch_get_named_query(\n",
    "        NamedQueryIds=[\n",
    "            # NASA MAAP Requests for BytesByCollection since October 2022\n",
    "            query_id,\n",
    "        ]\n",
    "    )\n",
    "    query_string = response['NamedQueries'][0]['QueryString']\n",
    "    print(f\"Starting query {query_string}\")\n",
    "    response = client.start_query_execution(QueryString=query_string)\n",
    "    query_execution_id = response['QueryExecutionId']\n",
    "    return query_execution_id\n",
    "\n",
    "def wait_for_finished(query_execution_id):\n",
    "    state = 'RUNNING'\n",
    "    status = None\n",
    "    while state == 'RUNNING':\n",
    "        status = client.get_query_execution(\n",
    "            QueryExecutionId=query_execution_id\n",
    "        )\n",
    "        state = status['QueryExecution']['Status']['State']\n",
    "        if state == 'RUNNING':\n",
    "            time.sleep(5)\n",
    "    return status\n",
    "\n",
    "def get_execution_results(query_execution_id):\n",
    "    # Could use https://boto3.amazonaws.com/v1/documentation/api/latest/reference/services/athena/paginator/GetQueryResults.html\n",
    "    # to paginate, however we only want top results.\n",
    "    results = client.get_query_results(\n",
    "        QueryExecutionId=query_execution_id,\n",
    "        MaxResults=500\n",
    "    )\n",
    "    return results\n",
    "\n",
    "top_results_cap = 25\n",
    "def create_results_dataframe(results_response, no_results=top_results_cap):\n",
    "    results_list = []\n",
    "    header_row = results_response['ResultSet']['Rows'][0]['Data']\n",
    "    columns = [column['VarCharValue'] for column in header_row]\n",
    "    # skip the first row which is the header\n",
    "    for result in results_response['ResultSet']['Rows'][1:]:\n",
    "        if len(results_list) == no_results:\n",
    "            break\n",
    "        collection_result = {}\n",
    "        for idx, column in enumerate(columns):\n",
    "            if 'bytessent' in column:\n",
    "                collection_result['gb_sent'] = int(result['Data'][idx]['VarCharValue'])/1.074e+9\n",
    "#             elif 'month' in column:\n",
    "#                 collection_result['month'] = int(result['Data'][idx]['VarCharValue'])\n",
    "            else:\n",
    "                collection_result[column] = result['Data'][idx].get('VarCharValue', '')\n",
    "        # Boreal TIF files were not stored in sub-directory\n",
    "        if collection_result['collection'] != '' and not 'boreal_agb' in collection_result['collection']:\n",
    "            results_list.append(collection_result)\n",
    "    df = pd.DataFrame.from_dict(results_list)\n",
    "    return df\n"
   ]
  },
  {
   "cell_type": "markdown",
   "id": "9ae3bf83",
   "metadata": {},
   "source": [
    "Reference: https://boto3.amazonaws.com/v1/documentation/api/latest/reference/services/athena.html"
   ]
  },
  {
   "cell_type": "markdown",
   "id": "0907724d",
   "metadata": {},
   "source": [
    "## Get NASA MAAP total data requested by collection"
   ]
  },
  {
   "cell_type": "code",
   "execution_count": 4,
   "id": "73ab1e77",
   "metadata": {},
   "outputs": [
    {
     "name": "stdout",
     "output_type": "stream",
     "text": [
      "Starting query SELECT\n",
      "  collection, \"sum\"(bytessent) bytessent_sum\n",
      "FROM\n",
      "    (\n",
      "    SELECT split_part(key, '/', 3) as collection, bytessent\n",
      "    FROM \"nasa_maap_data_store_access_logs_db\".\"logs\"\n",
      "    WHERE (operation = 'REST.GET.OBJECT' OR operation = 'REST.COPY.PART')\n",
      "    AND date_parse(requestdatetime, '%d/%b/%Y:%H:%i:%s +0000') >= date_parse('01/Oct/2022:00:00:00 +0000', '%d/%b/%Y:%H:%i:%s +0000')\n",
      "    AND remoteip NOT LIKE '90.84.45%'\n",
      "    )\n",
      "GROUP BY collection\n",
      "ORDER BY bytessent_sum DESC;    \n"
     ]
    },
    {
     "data": {
      "text/plain": [
       "'2e1fae58-b819-4eef-9e6a-f56c0e6ca5cc'"
      ]
     },
     "execution_count": 4,
     "metadata": {},
     "output_type": "execute_result"
    }
   ],
   "source": [
    "# We could use list_named_queries if we want to find the query ID by name.\n",
    "# https://boto3.amazonaws.com/v1/documentation/api/latest/reference/services/athena/client/list_named_queries.html\n",
    "nasa_query_uuid = 'dae9ead8-0fa2-4ee0-ad0f-88f2b7a77f7d'\n",
    "query_execution_id = start_query(nasa_query_uuid)\n",
    "query_execution_id"
   ]
  },
  {
   "cell_type": "code",
   "execution_count": 5,
   "id": "8c24ce31",
   "metadata": {},
   "outputs": [
    {
     "ename": "KeyboardInterrupt",
     "evalue": "",
     "output_type": "error",
     "traceback": [
      "\u001b[0;31m---------------------------------------------------------------------------\u001b[0m",
      "\u001b[0;31mKeyboardInterrupt\u001b[0m                         Traceback (most recent call last)",
      "\u001b[0;32m/var/folders/jh/_03qbqf130l8hjh8rpc6f4_c0000gn/T/ipykernel_14403/4098655594.py\u001b[0m in \u001b[0;36m<cell line: 1>\u001b[0;34m()\u001b[0m\n\u001b[0;32m----> 1\u001b[0;31m \u001b[0mwait_for_finished\u001b[0m\u001b[0;34m(\u001b[0m\u001b[0mquery_execution_id\u001b[0m\u001b[0;34m)\u001b[0m\u001b[0;34m\u001b[0m\u001b[0;34m\u001b[0m\u001b[0m\n\u001b[0m",
      "\u001b[0;32m/var/folders/jh/_03qbqf130l8hjh8rpc6f4_c0000gn/T/ipykernel_14403/1774503723.py\u001b[0m in \u001b[0;36mwait_for_finished\u001b[0;34m(query_execution_id)\u001b[0m\n\u001b[1;32m     21\u001b[0m         \u001b[0mstate\u001b[0m \u001b[0;34m=\u001b[0m \u001b[0mstatus\u001b[0m\u001b[0;34m[\u001b[0m\u001b[0;34m'QueryExecution'\u001b[0m\u001b[0;34m]\u001b[0m\u001b[0;34m[\u001b[0m\u001b[0;34m'Status'\u001b[0m\u001b[0;34m]\u001b[0m\u001b[0;34m[\u001b[0m\u001b[0;34m'State'\u001b[0m\u001b[0;34m]\u001b[0m\u001b[0;34m\u001b[0m\u001b[0;34m\u001b[0m\u001b[0m\n\u001b[1;32m     22\u001b[0m         \u001b[0;32mif\u001b[0m \u001b[0mstate\u001b[0m \u001b[0;34m==\u001b[0m \u001b[0;34m'RUNNING'\u001b[0m\u001b[0;34m:\u001b[0m\u001b[0;34m\u001b[0m\u001b[0;34m\u001b[0m\u001b[0m\n\u001b[0;32m---> 23\u001b[0;31m             \u001b[0mtime\u001b[0m\u001b[0;34m.\u001b[0m\u001b[0msleep\u001b[0m\u001b[0;34m(\u001b[0m\u001b[0;36m5\u001b[0m\u001b[0;34m)\u001b[0m\u001b[0;34m\u001b[0m\u001b[0;34m\u001b[0m\u001b[0m\n\u001b[0m\u001b[1;32m     24\u001b[0m     \u001b[0;32mreturn\u001b[0m \u001b[0mstatus\u001b[0m\u001b[0;34m\u001b[0m\u001b[0;34m\u001b[0m\u001b[0m\n\u001b[1;32m     25\u001b[0m \u001b[0;34m\u001b[0m\u001b[0m\n",
      "\u001b[0;31mKeyboardInterrupt\u001b[0m: "
     ]
    }
   ],
   "source": [
    "wait_for_finished(query_execution_id)"
   ]
  },
  {
   "cell_type": "code",
   "execution_count": 6,
   "id": "3d32d481",
   "metadata": {},
   "outputs": [
    {
     "name": "stdout",
     "output_type": "stream",
     "text": [
      "['collection', 'bytessent_sum']\n"
     ]
    }
   ],
   "source": [
    "results = get_execution_results(query_execution_id)\n",
    "df = create_results_dataframe(results)"
   ]
  },
  {
   "cell_type": "code",
   "execution_count": 9,
   "id": "a5558ebf",
   "metadata": {},
   "outputs": [
    {
     "data": {
      "text/plain": [
       "193306.30530605032"
      ]
     },
     "execution_count": 9,
     "metadata": {},
     "output_type": "execute_result"
    }
   ],
   "source": [
    "df['gb_sent'].sum()"
   ]
  },
  {
   "cell_type": "code",
   "execution_count": null,
   "id": "edeb733d",
   "metadata": {},
   "outputs": [],
   "source": [
    "df[0:4].plot.bar(x='collection', y='gb_sent')"
   ]
  },
  {
   "cell_type": "code",
   "execution_count": null,
   "id": "80a4fb03",
   "metadata": {},
   "outputs": [],
   "source": [
    "df[4:].plot.bar(x='collection')"
   ]
  },
  {
   "cell_type": "markdown",
   "id": "5d7dce75",
   "metadata": {},
   "source": [
    "## Get ESA MAAP total data requested by collection"
   ]
  },
  {
   "cell_type": "code",
   "execution_count": 10,
   "id": "e60ce46c",
   "metadata": {},
   "outputs": [
    {
     "name": "stdout",
     "output_type": "stream",
     "text": [
      "Starting query SELECT\n",
      "  collection, \"sum\"(bytessent) bytessent_sum\n",
      "FROM\n",
      "    (\n",
      "    SELECT split_part(key, '/', 3) as collection, bytessent\n",
      "    FROM \"nasa_maap_data_store_access_logs_db\".\"logs\"\n",
      "    WHERE (operation = 'REST.GET.OBJECT' OR operation = 'REST.COPY.PART')\n",
      "    AND date_parse(requestdatetime, '%d/%b/%Y:%H:%i:%s +0000') >= date_parse('01/Oct/2022:00:00:00 +0000', '%d/%b/%Y:%H:%i:%s +0000')\n",
      "    AND remoteip LIKE '90.84.45%'\n",
      "    )\n",
      "GROUP BY collection\n",
      "ORDER BY bytessent_sum DESC;    \n"
     ]
    },
    {
     "data": {
      "text/plain": [
       "'712ba35b-5a96-4082-a89e-3de92055d8b5'"
      ]
     },
     "execution_count": 10,
     "metadata": {},
     "output_type": "execute_result"
    }
   ],
   "source": [
    "esa_query_uuid = '907c98dc-7457-45af-9a8d-e57b49197d97'\n",
    "query_execution_id = start_query(esa_query_uuid)\n",
    "query_execution_id"
   ]
  },
  {
   "cell_type": "code",
   "execution_count": 11,
   "id": "aa6cff0c",
   "metadata": {},
   "outputs": [
    {
     "data": {
      "text/plain": [
       "{'QueryExecution': {'QueryExecutionId': '712ba35b-5a96-4082-a89e-3de92055d8b5',\n",
       "  'Query': 'SELECT\\n  collection, \"sum\"(bytessent) bytessent_sum\\nFROM\\n    (\\n    SELECT split_part(key, \\'/\\', 3) as collection, bytessent\\n    FROM \"nasa_maap_data_store_access_logs_db\".\"logs\"\\n    WHERE (operation = \\'REST.GET.OBJECT\\' OR operation = \\'REST.COPY.PART\\')\\n    AND date_parse(requestdatetime, \\'%d/%b/%Y:%H:%i:%s +0000\\') >= date_parse(\\'01/Oct/2022:00:00:00 +0000\\', \\'%d/%b/%Y:%H:%i:%s +0000\\')\\n    AND remoteip LIKE \\'90.84.45%\\'\\n    )\\nGROUP BY collection\\nORDER BY bytessent_sum DESC',\n",
       "  'StatementType': 'DML',\n",
       "  'ResultConfiguration': {'OutputLocation': 's3://maap-logging/athena-output/712ba35b-5a96-4082-a89e-3de92055d8b5.csv'},\n",
       "  'QueryExecutionContext': {},\n",
       "  'Status': {'State': 'SUCCEEDED',\n",
       "   'SubmissionDateTime': datetime.datetime(2023, 4, 10, 15, 51, 47, 423000, tzinfo=tzlocal()),\n",
       "   'CompletionDateTime': datetime.datetime(2023, 4, 10, 15, 53, 10, 217000, tzinfo=tzlocal())},\n",
       "  'Statistics': {'EngineExecutionTimeInMillis': 82619,\n",
       "   'DataScannedInBytes': 20935317004,\n",
       "   'TotalExecutionTimeInMillis': 82794,\n",
       "   'QueryQueueTimeInMillis': 152,\n",
       "   'QueryPlanningTimeInMillis': 1458,\n",
       "   'ServiceProcessingTimeInMillis': 23},\n",
       "  'WorkGroup': 'primary',\n",
       "  'EngineVersion': {'SelectedEngineVersion': 'AUTO',\n",
       "   'EffectiveEngineVersion': 'Athena engine version 2'}},\n",
       " 'ResponseMetadata': {'RequestId': '9d7df9e6-13fe-4f70-9883-e1e324f567bb',\n",
       "  'HTTPStatusCode': 200,\n",
       "  'HTTPHeaders': {'date': 'Mon, 10 Apr 2023 22:53:10 GMT',\n",
       "   'content-type': 'application/x-amz-json-1.1',\n",
       "   'content-length': '2518',\n",
       "   'connection': 'keep-alive',\n",
       "   'x-amzn-requestid': '9d7df9e6-13fe-4f70-9883-e1e324f567bb'},\n",
       "  'RetryAttempts': 0}}"
      ]
     },
     "execution_count": 11,
     "metadata": {},
     "output_type": "execute_result"
    }
   ],
   "source": [
    "wait_for_finished(query_execution_id)"
   ]
  },
  {
   "cell_type": "code",
   "execution_count": null,
   "id": "99b02108",
   "metadata": {},
   "outputs": [],
   "source": [
    "results = get_execution_results(query_execution_id)\n",
    "df = create_results_dataframe(results)"
   ]
  },
  {
   "cell_type": "code",
   "execution_count": null,
   "id": "0b278afd",
   "metadata": {},
   "outputs": [],
   "source": [
    "df['gb_sent'].sum()"
   ]
  },
  {
   "cell_type": "code",
   "execution_count": null,
   "id": "13725343",
   "metadata": {},
   "outputs": [],
   "source": [
    "df.plot.bar(x='collection', y='gb_sent')"
   ]
  },
  {
   "cell_type": "markdown",
   "id": "7eb4da05",
   "metadata": {},
   "source": [
    "## Get collection volume requested by month"
   ]
  },
  {
   "cell_type": "code",
   "execution_count": 40,
   "id": "97cf286f",
   "metadata": {},
   "outputs": [
    {
     "name": "stdout",
     "output_type": "stream",
     "text": [
      "Starting query WITH bytes_and_dates_collection_requests AS (\n",
      "    SELECT \n",
      "        split_part(key, '/', 3) as collection, \n",
      "        bytessent, \n",
      "        operation,\n",
      "        date_parse(requestdatetime, '%d/%b/%Y:%H:%i:%s +0000') as parsed_requestdatetime,\n",
      "        date_parse('01/Oct/2022:00:00:00 +0000', '%d/%b/%Y:%H:%i:%s +0000') as october_first_datetime\n",
      "    FROM \n",
      "        \"nasa_maap_data_store_access_logs_db\".\"logs\"\n",
      ")\n",
      "SELECT\n",
      "    collection, \n",
      "    SUM(bytessent) as bytessent_sum,\n",
      "    EXTRACT(month FROM DATE_TRUNC('month', parsed_requestdatetime)) as month,\n",
      "    EXTRACT(year FROM DATE_TRUNC('month', parsed_requestdatetime)) as year\n",
      "FROM\n",
      "    bytes_and_dates_collection_requests\n",
      "WHERE \n",
      "    (operation = 'REST.GET.OBJECT' OR operation = 'REST.COPY.PART')\n",
      "    AND parsed_requestdatetime >= october_first_datetime\n",
      "GROUP BY \n",
      "    collection, DATE_TRUNC('month', parsed_requestdatetime)\n",
      "ORDER BY \n",
      "    bytessent_sum DESC;\n",
      "\n"
     ]
    },
    {
     "data": {
      "text/plain": [
       "'afd4c78d-8c45-46fe-966a-52424f7e9716'"
      ]
     },
     "execution_count": 40,
     "metadata": {},
     "output_type": "execute_result"
    }
   ],
   "source": [
    "monthlies_query_uuid = '443d7bad-e3ff-476f-99f3-9d50db08a3d4'\n",
    "query_execution_id = start_query(monthlies_query_uuid)\n",
    "query_execution_id"
   ]
  },
  {
   "cell_type": "code",
   "execution_count": 41,
   "id": "40612189",
   "metadata": {},
   "outputs": [
    {
     "data": {
      "text/plain": [
       "{'QueryExecution': {'QueryExecutionId': 'afd4c78d-8c45-46fe-966a-52424f7e9716',\n",
       "  'Query': 'WITH bytes_and_dates_collection_requests AS (\\n    SELECT \\n        split_part(key, \\'/\\', 3) as collection, \\n        bytessent, \\n        operation,\\n        date_parse(requestdatetime, \\'%d/%b/%Y:%H:%i:%s +0000\\') as parsed_requestdatetime,\\n        date_parse(\\'01/Oct/2022:00:00:00 +0000\\', \\'%d/%b/%Y:%H:%i:%s +0000\\') as october_first_datetime\\n    FROM \\n        \"nasa_maap_data_store_access_logs_db\".\"logs\"\\n)\\nSELECT\\n    collection, \\n    SUM(bytessent) as bytessent_sum,\\n    EXTRACT(month FROM DATE_TRUNC(\\'month\\', parsed_requestdatetime)) as month,\\n    EXTRACT(year FROM DATE_TRUNC(\\'month\\', parsed_requestdatetime)) as year\\nFROM\\n    bytes_and_dates_collection_requests\\nWHERE \\n    (operation = \\'REST.GET.OBJECT\\' OR operation = \\'REST.COPY.PART\\')\\n    AND parsed_requestdatetime >= october_first_datetime\\nGROUP BY \\n    collection, DATE_TRUNC(\\'month\\', parsed_requestdatetime)\\nORDER BY \\n    bytessent_sum DESC',\n",
       "  'StatementType': 'DML',\n",
       "  'ResultConfiguration': {'OutputLocation': 's3://maap-logging/athena-output/afd4c78d-8c45-46fe-966a-52424f7e9716.csv'},\n",
       "  'QueryExecutionContext': {},\n",
       "  'Status': {'State': 'SUCCEEDED',\n",
       "   'SubmissionDateTime': datetime.datetime(2023, 4, 12, 9, 48, 57, 149000, tzinfo=tzlocal()),\n",
       "   'CompletionDateTime': datetime.datetime(2023, 4, 12, 9, 50, 11, 868000, tzinfo=tzlocal())},\n",
       "  'Statistics': {'EngineExecutionTimeInMillis': 74536,\n",
       "   'DataScannedInBytes': 20936665488,\n",
       "   'TotalExecutionTimeInMillis': 74719,\n",
       "   'QueryQueueTimeInMillis': 137,\n",
       "   'QueryPlanningTimeInMillis': 1410,\n",
       "   'ServiceProcessingTimeInMillis': 46},\n",
       "  'WorkGroup': 'primary',\n",
       "  'EngineVersion': {'SelectedEngineVersion': 'AUTO',\n",
       "   'EffectiveEngineVersion': 'Athena engine version 2'}},\n",
       " 'ResponseMetadata': {'RequestId': '20bbc4df-f643-4b58-a48b-cdf9a8fdd0f7',\n",
       "  'HTTPStatusCode': 200,\n",
       "  'HTTPHeaders': {'date': 'Wed, 12 Apr 2023 16:50:13 GMT',\n",
       "   'content-type': 'application/x-amz-json-1.1',\n",
       "   'content-length': '3384',\n",
       "   'connection': 'keep-alive',\n",
       "   'x-amzn-requestid': '20bbc4df-f643-4b58-a48b-cdf9a8fdd0f7'},\n",
       "  'RetryAttempts': 0}}"
      ]
     },
     "execution_count": 41,
     "metadata": {},
     "output_type": "execute_result"
    }
   ],
   "source": [
    "wait_for_finished(query_execution_id)"
   ]
  },
  {
   "cell_type": "code",
   "execution_count": 57,
   "id": "776fddd1",
   "metadata": {},
   "outputs": [],
   "source": [
    "results = get_execution_results(query_execution_id)\n",
    "df = create_results_dataframe(results, no_results=10000)"
   ]
  },
  {
   "cell_type": "code",
   "execution_count": 58,
   "id": "5bbfdff2",
   "metadata": {},
   "outputs": [
    {
     "data": {
      "text/html": [
       "<div>\n",
       "<style scoped>\n",
       "    .dataframe tbody tr th:only-of-type {\n",
       "        vertical-align: middle;\n",
       "    }\n",
       "\n",
       "    .dataframe tbody tr th {\n",
       "        vertical-align: top;\n",
       "    }\n",
       "\n",
       "    .dataframe thead th {\n",
       "        text-align: right;\n",
       "    }\n",
       "</style>\n",
       "<table border=\"1\" class=\"dataframe\">\n",
       "  <thead>\n",
       "    <tr style=\"text-align: right;\">\n",
       "      <th></th>\n",
       "      <th>collection</th>\n",
       "      <th>gb_sent</th>\n",
       "      <th>month</th>\n",
       "      <th>year</th>\n",
       "    </tr>\n",
       "  </thead>\n",
       "  <tbody>\n",
       "    <tr>\n",
       "      <th>0</th>\n",
       "      <td>ATL03___004</td>\n",
       "      <td>77758.916119</td>\n",
       "      <td>10</td>\n",
       "      <td>2022</td>\n",
       "    </tr>\n",
       "    <tr>\n",
       "      <th>1</th>\n",
       "      <td>GEDI02_A___002</td>\n",
       "      <td>30729.569997</td>\n",
       "      <td>3</td>\n",
       "      <td>2023</td>\n",
       "    </tr>\n",
       "    <tr>\n",
       "      <th>2</th>\n",
       "      <td>GEDI02_A___002</td>\n",
       "      <td>29977.977281</td>\n",
       "      <td>2</td>\n",
       "      <td>2023</td>\n",
       "    </tr>\n",
       "    <tr>\n",
       "      <th>3</th>\n",
       "      <td>GEDI02_A___002</td>\n",
       "      <td>29027.594545</td>\n",
       "      <td>1</td>\n",
       "      <td>2023</td>\n",
       "    </tr>\n",
       "    <tr>\n",
       "      <th>4</th>\n",
       "      <td>GEDI02_A___002</td>\n",
       "      <td>7813.718059</td>\n",
       "      <td>10</td>\n",
       "      <td>2022</td>\n",
       "    </tr>\n",
       "  </tbody>\n",
       "</table>\n",
       "</div>"
      ],
      "text/plain": [
       "       collection       gb_sent month  year\n",
       "0     ATL03___004  77758.916119    10  2022\n",
       "1  GEDI02_A___002  30729.569997     3  2023\n",
       "2  GEDI02_A___002  29977.977281     2  2023\n",
       "3  GEDI02_A___002  29027.594545     1  2023\n",
       "4  GEDI02_A___002   7813.718059    10  2022"
      ]
     },
     "execution_count": 58,
     "metadata": {},
     "output_type": "execute_result"
    }
   ],
   "source": [
    "df.head()"
   ]
  },
  {
   "cell_type": "code",
   "execution_count": 61,
   "id": "05cadc50",
   "metadata": {},
   "outputs": [
    {
     "data": {
      "text/html": [
       "<div>\n",
       "<style scoped>\n",
       "    .dataframe tbody tr th:only-of-type {\n",
       "        vertical-align: middle;\n",
       "    }\n",
       "\n",
       "    .dataframe tbody tr th {\n",
       "        vertical-align: top;\n",
       "    }\n",
       "\n",
       "    .dataframe thead th {\n",
       "        text-align: right;\n",
       "    }\n",
       "</style>\n",
       "<table border=\"1\" class=\"dataframe\">\n",
       "  <thead>\n",
       "    <tr style=\"text-align: right;\">\n",
       "      <th></th>\n",
       "      <th>collection</th>\n",
       "      <th>gb_sent</th>\n",
       "      <th>month</th>\n",
       "      <th>year</th>\n",
       "      <th>month_padded</th>\n",
       "      <th>year_month</th>\n",
       "    </tr>\n",
       "  </thead>\n",
       "  <tbody>\n",
       "    <tr>\n",
       "      <th>0</th>\n",
       "      <td>ATL03___004</td>\n",
       "      <td>77758.916119</td>\n",
       "      <td>10</td>\n",
       "      <td>2022</td>\n",
       "      <td>10</td>\n",
       "      <td>2022-10</td>\n",
       "    </tr>\n",
       "    <tr>\n",
       "      <th>1</th>\n",
       "      <td>GEDI02_A___002</td>\n",
       "      <td>30729.569997</td>\n",
       "      <td>3</td>\n",
       "      <td>2023</td>\n",
       "      <td>03</td>\n",
       "      <td>2023-03</td>\n",
       "    </tr>\n",
       "    <tr>\n",
       "      <th>2</th>\n",
       "      <td>GEDI02_A___002</td>\n",
       "      <td>29977.977281</td>\n",
       "      <td>2</td>\n",
       "      <td>2023</td>\n",
       "      <td>02</td>\n",
       "      <td>2023-02</td>\n",
       "    </tr>\n",
       "    <tr>\n",
       "      <th>3</th>\n",
       "      <td>GEDI02_A___002</td>\n",
       "      <td>29027.594545</td>\n",
       "      <td>1</td>\n",
       "      <td>2023</td>\n",
       "      <td>01</td>\n",
       "      <td>2023-01</td>\n",
       "    </tr>\n",
       "    <tr>\n",
       "      <th>4</th>\n",
       "      <td>GEDI02_A___002</td>\n",
       "      <td>7813.718059</td>\n",
       "      <td>10</td>\n",
       "      <td>2022</td>\n",
       "      <td>10</td>\n",
       "      <td>2022-10</td>\n",
       "    </tr>\n",
       "  </tbody>\n",
       "</table>\n",
       "</div>"
      ],
      "text/plain": [
       "       collection       gb_sent month  year month_padded year_month\n",
       "0     ATL03___004  77758.916119    10  2022           10    2022-10\n",
       "1  GEDI02_A___002  30729.569997     3  2023           03    2023-03\n",
       "2  GEDI02_A___002  29977.977281     2  2023           02    2023-02\n",
       "3  GEDI02_A___002  29027.594545     1  2023           01    2023-01\n",
       "4  GEDI02_A___002   7813.718059    10  2022           10    2022-10"
      ]
     },
     "execution_count": 61,
     "metadata": {},
     "output_type": "execute_result"
    }
   ],
   "source": [
    "df['month_padded'] = df['month'].astype(str).str.zfill(2)\n",
    "df['year_month'] = df['year'] + '-' + df['month_padded']\n",
    "df.head()"
   ]
  },
  {
   "cell_type": "code",
   "execution_count": 62,
   "id": "27c67ff3",
   "metadata": {},
   "outputs": [],
   "source": [
    "collection_usage_order = df.groupby(['collection'])['gb_sent'].sum().sort_values(ascending=False)\n",
    "sorter = list(collection_usage_order.to_dict().keys())"
   ]
  },
  {
   "cell_type": "code",
   "execution_count": 67,
   "id": "cc1bc64a",
   "metadata": {},
   "outputs": [
    {
     "data": {
      "text/html": [
       "<div>\n",
       "<style scoped>\n",
       "    .dataframe tbody tr th:only-of-type {\n",
       "        vertical-align: middle;\n",
       "    }\n",
       "\n",
       "    .dataframe tbody tr th {\n",
       "        vertical-align: top;\n",
       "    }\n",
       "\n",
       "    .dataframe thead th {\n",
       "        text-align: right;\n",
       "    }\n",
       "</style>\n",
       "<table border=\"1\" class=\"dataframe\">\n",
       "  <thead>\n",
       "    <tr style=\"text-align: right;\">\n",
       "      <th>collection</th>\n",
       "      <th>ABLVIS1B___001</th>\n",
       "      <th>ABLVIS2___001</th>\n",
       "      <th>ABoVE_UAVSAR_PALSAR___1</th>\n",
       "      <th>AFLVIS2___001</th>\n",
       "      <th>ALOS_PSR_L1.5___1</th>\n",
       "      <th>ALOS_PSR_RTC_HIGH___1</th>\n",
       "      <th>ATL03___004</th>\n",
       "      <th>ATL08___005</th>\n",
       "      <th>AfriSAR_UAVSAR_Coreg_SLC___1</th>\n",
       "      <th>GEDI01_B___002</th>\n",
       "      <th>GEDI02_A___002</th>\n",
       "      <th>GEDI02_B___002</th>\n",
       "      <th>LVISF1B___001</th>\n",
       "      <th>Landsat8_SurfaceReflectance___1</th>\n",
       "      <th>SENTINEL-1B_DP_GRD_HIGH___1</th>\n",
       "      <th>SRTMGL1_COD___001</th>\n",
       "      <th>nceo-africa-2017</th>\n",
       "      <th>polarimetric_ct___1</th>\n",
       "    </tr>\n",
       "    <tr>\n",
       "      <th>year_month</th>\n",
       "      <th></th>\n",
       "      <th></th>\n",
       "      <th></th>\n",
       "      <th></th>\n",
       "      <th></th>\n",
       "      <th></th>\n",
       "      <th></th>\n",
       "      <th></th>\n",
       "      <th></th>\n",
       "      <th></th>\n",
       "      <th></th>\n",
       "      <th></th>\n",
       "      <th></th>\n",
       "      <th></th>\n",
       "      <th></th>\n",
       "      <th></th>\n",
       "      <th></th>\n",
       "      <th></th>\n",
       "    </tr>\n",
       "  </thead>\n",
       "  <tbody>\n",
       "    <tr>\n",
       "      <th>2022-10</th>\n",
       "      <td>NaN</td>\n",
       "      <td>NaN</td>\n",
       "      <td>7.922268</td>\n",
       "      <td>2.794068</td>\n",
       "      <td>NaN</td>\n",
       "      <td>NaN</td>\n",
       "      <td>77758.916119</td>\n",
       "      <td>4851.762071</td>\n",
       "      <td>0.580534</td>\n",
       "      <td>7.330544</td>\n",
       "      <td>7813.718059</td>\n",
       "      <td>48.436226</td>\n",
       "      <td>NaN</td>\n",
       "      <td>NaN</td>\n",
       "      <td>NaN</td>\n",
       "      <td>0.267864</td>\n",
       "      <td>1.935536</td>\n",
       "      <td>NaN</td>\n",
       "    </tr>\n",
       "    <tr>\n",
       "      <th>2022-11</th>\n",
       "      <td>11.777475</td>\n",
       "      <td>NaN</td>\n",
       "      <td>2.351730</td>\n",
       "      <td>1.016025</td>\n",
       "      <td>NaN</td>\n",
       "      <td>NaN</td>\n",
       "      <td>NaN</td>\n",
       "      <td>470.775064</td>\n",
       "      <td>NaN</td>\n",
       "      <td>NaN</td>\n",
       "      <td>932.085596</td>\n",
       "      <td>1829.296405</td>\n",
       "      <td>NaN</td>\n",
       "      <td>NaN</td>\n",
       "      <td>NaN</td>\n",
       "      <td>0.310327</td>\n",
       "      <td>0.960981</td>\n",
       "      <td>NaN</td>\n",
       "    </tr>\n",
       "    <tr>\n",
       "      <th>2022-12</th>\n",
       "      <td>NaN</td>\n",
       "      <td>NaN</td>\n",
       "      <td>2.012097</td>\n",
       "      <td>1.020668</td>\n",
       "      <td>NaN</td>\n",
       "      <td>NaN</td>\n",
       "      <td>2.851324</td>\n",
       "      <td>NaN</td>\n",
       "      <td>2.252880</td>\n",
       "      <td>NaN</td>\n",
       "      <td>6955.143644</td>\n",
       "      <td>4.037604</td>\n",
       "      <td>NaN</td>\n",
       "      <td>0.413963</td>\n",
       "      <td>NaN</td>\n",
       "      <td>NaN</td>\n",
       "      <td>0.335608</td>\n",
       "      <td>NaN</td>\n",
       "    </tr>\n",
       "    <tr>\n",
       "      <th>2023-01</th>\n",
       "      <td>NaN</td>\n",
       "      <td>NaN</td>\n",
       "      <td>1.658342</td>\n",
       "      <td>NaN</td>\n",
       "      <td>NaN</td>\n",
       "      <td>NaN</td>\n",
       "      <td>NaN</td>\n",
       "      <td>NaN</td>\n",
       "      <td>NaN</td>\n",
       "      <td>NaN</td>\n",
       "      <td>29027.594545</td>\n",
       "      <td>962.370020</td>\n",
       "      <td>NaN</td>\n",
       "      <td>0.464365</td>\n",
       "      <td>NaN</td>\n",
       "      <td>0.230594</td>\n",
       "      <td>0.965784</td>\n",
       "      <td>NaN</td>\n",
       "    </tr>\n",
       "    <tr>\n",
       "      <th>2023-02</th>\n",
       "      <td>0.926718</td>\n",
       "      <td>2.687962</td>\n",
       "      <td>0.927868</td>\n",
       "      <td>NaN</td>\n",
       "      <td>4.612287</td>\n",
       "      <td>6.322079</td>\n",
       "      <td>2.461199</td>\n",
       "      <td>0.297239</td>\n",
       "      <td>NaN</td>\n",
       "      <td>NaN</td>\n",
       "      <td>29977.977281</td>\n",
       "      <td>493.173030</td>\n",
       "      <td>4.497289</td>\n",
       "      <td>NaN</td>\n",
       "      <td>NaN</td>\n",
       "      <td>0.278087</td>\n",
       "      <td>0.814166</td>\n",
       "      <td>0.396319</td>\n",
       "    </tr>\n",
       "    <tr>\n",
       "      <th>2023-03</th>\n",
       "      <td>NaN</td>\n",
       "      <td>0.497771</td>\n",
       "      <td>0.238699</td>\n",
       "      <td>NaN</td>\n",
       "      <td>0.901026</td>\n",
       "      <td>0.988253</td>\n",
       "      <td>NaN</td>\n",
       "      <td>NaN</td>\n",
       "      <td>NaN</td>\n",
       "      <td>NaN</td>\n",
       "      <td>30729.569997</td>\n",
       "      <td>NaN</td>\n",
       "      <td>4.497289</td>\n",
       "      <td>NaN</td>\n",
       "      <td>0.952453</td>\n",
       "      <td>0.265160</td>\n",
       "      <td>43.552265</td>\n",
       "      <td>NaN</td>\n",
       "    </tr>\n",
       "    <tr>\n",
       "      <th>2023-04</th>\n",
       "      <td>NaN</td>\n",
       "      <td>NaN</td>\n",
       "      <td>0.389229</td>\n",
       "      <td>NaN</td>\n",
       "      <td>NaN</td>\n",
       "      <td>NaN</td>\n",
       "      <td>NaN</td>\n",
       "      <td>NaN</td>\n",
       "      <td>0.315981</td>\n",
       "      <td>NaN</td>\n",
       "      <td>1338.400901</td>\n",
       "      <td>NaN</td>\n",
       "      <td>NaN</td>\n",
       "      <td>NaN</td>\n",
       "      <td>NaN</td>\n",
       "      <td>NaN</td>\n",
       "      <td>2.952050</td>\n",
       "      <td>NaN</td>\n",
       "    </tr>\n",
       "  </tbody>\n",
       "</table>\n",
       "</div>"
      ],
      "text/plain": [
       "collection  ABLVIS1B___001  ABLVIS2___001  ABoVE_UAVSAR_PALSAR___1  \\\n",
       "year_month                                                           \n",
       "2022-10                NaN            NaN                 7.922268   \n",
       "2022-11          11.777475            NaN                 2.351730   \n",
       "2022-12                NaN            NaN                 2.012097   \n",
       "2023-01                NaN            NaN                 1.658342   \n",
       "2023-02           0.926718       2.687962                 0.927868   \n",
       "2023-03                NaN       0.497771                 0.238699   \n",
       "2023-04                NaN            NaN                 0.389229   \n",
       "\n",
       "collection  AFLVIS2___001  ALOS_PSR_L1.5___1  ALOS_PSR_RTC_HIGH___1  \\\n",
       "year_month                                                            \n",
       "2022-10          2.794068                NaN                    NaN   \n",
       "2022-11          1.016025                NaN                    NaN   \n",
       "2022-12          1.020668                NaN                    NaN   \n",
       "2023-01               NaN                NaN                    NaN   \n",
       "2023-02               NaN           4.612287               6.322079   \n",
       "2023-03               NaN           0.901026               0.988253   \n",
       "2023-04               NaN                NaN                    NaN   \n",
       "\n",
       "collection   ATL03___004  ATL08___005  AfriSAR_UAVSAR_Coreg_SLC___1  \\\n",
       "year_month                                                            \n",
       "2022-10     77758.916119  4851.762071                      0.580534   \n",
       "2022-11              NaN   470.775064                           NaN   \n",
       "2022-12         2.851324          NaN                      2.252880   \n",
       "2023-01              NaN          NaN                           NaN   \n",
       "2023-02         2.461199     0.297239                           NaN   \n",
       "2023-03              NaN          NaN                           NaN   \n",
       "2023-04              NaN          NaN                      0.315981   \n",
       "\n",
       "collection  GEDI01_B___002  GEDI02_A___002  GEDI02_B___002  LVISF1B___001  \\\n",
       "year_month                                                                  \n",
       "2022-10           7.330544     7813.718059       48.436226            NaN   \n",
       "2022-11                NaN      932.085596     1829.296405            NaN   \n",
       "2022-12                NaN     6955.143644        4.037604            NaN   \n",
       "2023-01                NaN    29027.594545      962.370020            NaN   \n",
       "2023-02                NaN    29977.977281      493.173030       4.497289   \n",
       "2023-03                NaN    30729.569997             NaN       4.497289   \n",
       "2023-04                NaN     1338.400901             NaN            NaN   \n",
       "\n",
       "collection  Landsat8_SurfaceReflectance___1  SENTINEL-1B_DP_GRD_HIGH___1  \\\n",
       "year_month                                                                 \n",
       "2022-10                                 NaN                          NaN   \n",
       "2022-11                                 NaN                          NaN   \n",
       "2022-12                            0.413963                          NaN   \n",
       "2023-01                            0.464365                          NaN   \n",
       "2023-02                                 NaN                          NaN   \n",
       "2023-03                                 NaN                     0.952453   \n",
       "2023-04                                 NaN                          NaN   \n",
       "\n",
       "collection  SRTMGL1_COD___001  nceo-africa-2017  polarimetric_ct___1  \n",
       "year_month                                                            \n",
       "2022-10              0.267864          1.935536                  NaN  \n",
       "2022-11              0.310327          0.960981                  NaN  \n",
       "2022-12                   NaN          0.335608                  NaN  \n",
       "2023-01              0.230594          0.965784                  NaN  \n",
       "2023-02              0.278087          0.814166             0.396319  \n",
       "2023-03              0.265160         43.552265                  NaN  \n",
       "2023-04                   NaN          2.952050                  NaN  "
      ]
     },
     "execution_count": 67,
     "metadata": {},
     "output_type": "execute_result"
    }
   ],
   "source": [
    "collection_pivot = pd.pivot_table(df,\n",
    "              index='year_month', \n",
    "              columns='collection',\n",
    "              values='gb_sent')\n",
    "collection_pivot"
   ]
  },
  {
   "cell_type": "code",
   "execution_count": 75,
   "id": "0f6f5e3c",
   "metadata": {},
   "outputs": [
    {
     "data": {
      "image/png": "[encoded data removed]",
      "text/plain": [
       "<Figure size 2880x1440 with 30 Axes>"
      ]
     },
     "metadata": {
      "needs_background": "light"
     },
     "output_type": "display_data"
    }
   ],
   "source": [
    "# sort the collections by most used first and plot\n",
    "axes = collection_pivot.reindex(sorter, axis=1).plot.bar(\n",
    "    subplots=True,\n",
    "    layout=(5,6), \n",
    "    figsize=(40, 20),\n",
    "    legend=False,\n",
    "    ylabel=\"GB\",\n",
    "    fontsize=14\n",
    ")\n",
    "\n",
    "# Rotate the xtick labels by 30 degrees\n",
    "for row in axes:\n",
    "    for ax in row:\n",
    "        ax.tick_params(axis='x', rotation=30)\n",
    "\n",
    "# https://stackoverflow.com/a/66288048/237354\n",
    "for i, row in enumerate(axes):\n",
    "    for j, ax in enumerate(row):\n",
    "        if ((i*6)+j) < len(sorter):\n",
    "            ax.set_title(f'{sorter[(i*6)+j]}', fontsize=20)            \n",
    "        \n",
    "# magic formattting https://stackoverflow.com/a/66288048/237354\n",
    "fig = axes[0,0].get_figure()\n",
    "_ = fig.suptitle(f'MAAP Bucket Usage by Month per Collection', fontsize=32, y=0.94)"
   ]
  }
 ],
 "metadata": {
  "kernelspec": {
   "display_name": "Python 3 (ipykernel)",
   "language": "python",
   "name": "python3"
  },
  "language_info": {
   "codemirror_mode": {
    "name": "ipython",
    "version": 3
   },
   "file_extension": ".py",
   "mimetype": "text/x-python",
   "name": "python",
   "nbconvert_exporter": "python",
   "pygments_lexer": "ipython3",
   "version": "3.9.7"
  }
 },
 "nbformat": 4,
 "nbformat_minor": 5
}
