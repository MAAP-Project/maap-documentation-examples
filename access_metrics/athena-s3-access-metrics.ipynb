{
 "cells": [
  {
   "cell_type": "markdown",
   "id": "da0e6f40",
   "metadata": {},
   "source": [
    "# AWS Athena Queries for S3 Data Access Metrics\n",
    "\n",
    "This notebook runs queries on S3 access logs to deliver metrics on data usage from s3://nasa-maap-data-store, the primary MAAP data store bucket.\n",
    "\n",
    "Pre-requisites:\n",
    "* S3 Access Logs have been enabled and are being delivered to a bucket \n",
    "* A database already exists in Athena which parses logs delivered to that bucket\n",
    "* Queries have been developed and saved in Athena"
   ]
  },
  {
   "cell_type": "code",
   "execution_count": 1,
   "id": "29e627d3",
   "metadata": {},
   "outputs": [],
   "source": [
    "import boto3\n",
    "import matplotlib.pyplot as plt\n",
    "import pandas\n",
    "import time"
   ]
  },
  {
   "cell_type": "code",
   "execution_count": 2,
   "id": "e6c787e5",
   "metadata": {},
   "outputs": [],
   "source": [
    "# Must run this with MAAP MCP Ops AWS credentials set in your environment\n",
    "client = boto3.client('athena')"
   ]
  },
  {
   "cell_type": "code",
   "execution_count": 8,
   "id": "6a8db386",
   "metadata": {},
   "outputs": [],
   "source": [
    "def start_query(query_id):\n",
    "    response = client.batch_get_named_query(\n",
    "        NamedQueryIds=[\n",
    "            # NASA MAAP Requests for BytesByCollection since October 2022\n",
    "            query_id,\n",
    "        ]\n",
    "    )\n",
    "    query_string = response['NamedQueries'][0]['QueryString']\n",
    "    print(f\"Starting query {query_string}\")\n",
    "    response = client.start_query_execution(QueryString=query_string)\n",
    "    query_execution_id = response['QueryExecutionId']\n",
    "    return query_execution_id\n",
    "\n",
    "def wait_for_finished(query_execution_id):\n",
    "    state = 'RUNNING'\n",
    "    status = None\n",
    "    while state == 'RUNNING':\n",
    "        status = client.get_query_execution(\n",
    "            QueryExecutionId=query_execution_id\n",
    "        )\n",
    "        state = status['QueryExecution']['Status']['State']\n",
    "        if state == 'RUNNING':\n",
    "            time.sleep(5)\n",
    "    return status\n",
    "\n",
    "def get_execution_results(query_execution_id):\n",
    "    # Could use https://boto3.amazonaws.com/v1/documentation/api/latest/reference/services/athena/paginator/GetQueryResults.html\n",
    "    # to paginate, however we only want top results.\n",
    "    results = client.get_query_results(\n",
    "        QueryExecutionId=query_execution_id,\n",
    "        MaxResults=500\n",
    "    )\n",
    "    return results\n",
    "\n",
    "def create_resutlts_dataframe(results_response):\n",
    "    top_results_cap = 25\n",
    "    results_list = []\n",
    "    # skip the first row which is the header\n",
    "    for result in results_response['ResultSet']['Rows'][1:]:\n",
    "        if len(results_list) == top_results_cap:\n",
    "            break\n",
    "        collection = result['Data'][0].get('VarCharValue', '')\n",
    "        gb_sent = int(result['Data'][1]['VarCharValue'])/1.074e+9\n",
    "        if collection != '' and not 'boreal_agb' in collection:\n",
    "            collection_result = {\n",
    "                'collection': collection,\n",
    "                'gb_sent': gb_sent\n",
    "            }\n",
    "            results_list.append(collection_result)\n",
    "    df = pandas.DataFrame.from_dict(results_list)\n",
    "    return df\n"
   ]
  },
  {
   "cell_type": "markdown",
   "id": "9ae3bf83",
   "metadata": {},
   "source": [
    "Reference: https://boto3.amazonaws.com/v1/documentation/api/latest/reference/services/athena.html"
   ]
  },
  {
   "cell_type": "markdown",
   "id": "0907724d",
   "metadata": {},
   "source": [
    "## Get NASA MAAP total data requested by collection"
   ]
  },
  {
   "cell_type": "code",
   "execution_count": 11,
   "id": "73ab1e77",
   "metadata": {},
   "outputs": [
    {
     "name": "stdout",
     "output_type": "stream",
     "text": [
      "Starting query SELECT\n",
      "  collection, \"sum\"(bytessent) bytessent_sum\n",
      "FROM\n",
      "    (\n",
      "    SELECT split_part(key, '/', 3) as collection, bytessent\n",
      "    FROM \"nasa_maap_data_store_access_logs_db\".\"logs\"\n",
      "    WHERE (operation = 'REST.GET.OBJECT' OR operation = 'REST.COPY.PART')\n",
      "    AND date_parse(requestdatetime, '%d/%b/%Y:%H:%i:%s +0000') >= date_parse('01/Oct/2022:00:00:00 +0000', '%d/%b/%Y:%H:%i:%s +0000')\n",
      "    AND remoteip NOT LIKE '90.84.45%'\n",
      "    )\n",
      "GROUP BY collection\n",
      "ORDER BY bytessent_sum DESC;    \n"
     ]
    },
    {
     "data": {
      "text/plain": [
       "'c520f775-0f61-4f26-ba86-adc257699f37'"
      ]
     },
     "execution_count": 11,
     "metadata": {},
     "output_type": "execute_result"
    }
   ],
   "source": [
    "# We could use list_named_queries if we want to find the query ID by name.\n",
    "# https://boto3.amazonaws.com/v1/documentation/api/latest/reference/services/athena/client/list_named_queries.html\n",
    "nasa_query_uuid = 'dae9ead8-0fa2-4ee0-ad0f-88f2b7a77f7d'\n",
    "query_execution_id = start_query(nasa_query_uuid)\n",
    "query_execution_id"
   ]
  },
  {
   "cell_type": "code",
   "execution_count": 12,
   "id": "8c24ce31",
   "metadata": {},
   "outputs": [
    {
     "data": {
      "text/plain": [
       "{'QueryExecution': {'QueryExecutionId': 'c520f775-0f61-4f26-ba86-adc257699f37',\n",
       "  'Query': 'SELECT\\n  collection, \"sum\"(bytessent) bytessent_sum\\nFROM\\n    (\\n    SELECT split_part(key, \\'/\\', 3) as collection, bytessent\\n    FROM \"nasa_maap_data_store_access_logs_db\".\"logs\"\\n    WHERE (operation = \\'REST.GET.OBJECT\\' OR operation = \\'REST.COPY.PART\\')\\n    AND date_parse(requestdatetime, \\'%d/%b/%Y:%H:%i:%s +0000\\') >= date_parse(\\'01/Oct/2022:00:00:00 +0000\\', \\'%d/%b/%Y:%H:%i:%s +0000\\')\\n    AND remoteip NOT LIKE \\'90.84.45%\\'\\n    )\\nGROUP BY collection\\nORDER BY bytessent_sum DESC',\n",
       "  'StatementType': 'DML',\n",
       "  'ResultConfiguration': {'OutputLocation': 's3://maap-logging/athena-output/c520f775-0f61-4f26-ba86-adc257699f37.csv'},\n",
       "  'QueryExecutionContext': {},\n",
       "  'Status': {'State': 'SUCCEEDED',\n",
       "   'SubmissionDateTime': datetime.datetime(2023, 4, 8, 10, 25, 20, 315000, tzinfo=tzlocal()),\n",
       "   'CompletionDateTime': datetime.datetime(2023, 4, 8, 10, 26, 23, 927000, tzinfo=tzlocal())},\n",
       "  'Statistics': {'EngineExecutionTimeInMillis': 63460,\n",
       "   'DataScannedInBytes': 20932134793,\n",
       "   'TotalExecutionTimeInMillis': 63612,\n",
       "   'QueryQueueTimeInMillis': 126,\n",
       "   'QueryPlanningTimeInMillis': 1141,\n",
       "   'ServiceProcessingTimeInMillis': 26},\n",
       "  'WorkGroup': 'primary',\n",
       "  'EngineVersion': {'SelectedEngineVersion': 'AUTO',\n",
       "   'EffectiveEngineVersion': 'Athena engine version 2'}},\n",
       " 'ResponseMetadata': {'RequestId': '57d3200e-690b-4604-9db6-0d5e45dca385',\n",
       "  'HTTPStatusCode': 200,\n",
       "  'HTTPHeaders': {'date': 'Sat, 08 Apr 2023 17:26:41 GMT',\n",
       "   'content-type': 'application/x-amz-json-1.1',\n",
       "   'content-length': '2526',\n",
       "   'connection': 'keep-alive',\n",
       "   'x-amzn-requestid': '57d3200e-690b-4604-9db6-0d5e45dca385'},\n",
       "  'RetryAttempts': 1}}"
      ]
     },
     "execution_count": 12,
     "metadata": {},
     "output_type": "execute_result"
    }
   ],
   "source": [
    "wait_for_finished(query_execution_id)"
   ]
  },
  {
   "cell_type": "code",
   "execution_count": 13,
   "id": "3d32d481",
   "metadata": {},
   "outputs": [],
   "source": [
    "results = get_execution_results(query_execution_id)\n",
    "df = create_resutlts_dataframe(results)"
   ]
  },
  {
   "cell_type": "code",
   "execution_count": 14,
   "id": "edeb733d",
   "metadata": {},
   "outputs": [
    {
     "data": {
      "text/plain": [
       "<AxesSubplot:xlabel='collection'>"
      ]
     },
     "execution_count": 14,
     "metadata": {},
     "output_type": "execute_result"
    },
    {
     "data": {
      "image/png": "[encoded data removed]",
      "text/plain": [
       "<Figure size 432x288 with 1 Axes>"
      ]
     },
     "metadata": {
      "needs_background": "light"
     },
     "output_type": "display_data"
    }
   ],
   "source": [
    "df[0:4].plot.bar(x='collection', y='gb_sent')"
   ]
  },
  {
   "cell_type": "code",
   "execution_count": 15,
   "id": "80a4fb03",
   "metadata": {},
   "outputs": [
    {
     "data": {
      "text/plain": [
       "<AxesSubplot:xlabel='collection'>"
      ]
     },
     "execution_count": 15,
     "metadata": {},
     "output_type": "execute_result"
    },
    {
     "data": {
      "image/png": "[encoded data removed]",
      "text/plain": [
       "<Figure size 432x288 with 1 Axes>"
      ]
     },
     "metadata": {
      "needs_background": "light"
     },
     "output_type": "display_data"
    }
   ],
   "source": [
    "df[4:].plot.bar(x='collection')"
   ]
  },
  {
   "cell_type": "markdown",
   "id": "5d7dce75",
   "metadata": {},
   "source": [
    "## Get ESA MAAP total data requested by collection"
   ]
  },
  {
   "cell_type": "code",
   "execution_count": 4,
   "id": "e60ce46c",
   "metadata": {},
   "outputs": [
    {
     "name": "stdout",
     "output_type": "stream",
     "text": [
      "Starting query SELECT\n",
      "  collection, \"sum\"(bytessent) bytessent_sum\n",
      "FROM\n",
      "    (\n",
      "    SELECT split_part(key, '/', 3) as collection, bytessent\n",
      "    FROM \"nasa_maap_data_store_access_logs_db\".\"logs\"\n",
      "    WHERE (operation = 'REST.GET.OBJECT' OR operation = 'REST.COPY.PART')\n",
      "    AND date_parse(requestdatetime, '%d/%b/%Y:%H:%i:%s +0000') >= date_parse('01/Oct/2022:00:00:00 +0000', '%d/%b/%Y:%H:%i:%s +0000')\n",
      "    AND remoteip LIKE '90.84.45%'\n",
      "    )\n",
      "GROUP BY collection\n",
      "ORDER BY bytessent_sum DESC;    \n"
     ]
    },
    {
     "data": {
      "text/plain": [
       "'9a5a9542-8747-4aa5-a3f5-553fb788e657'"
      ]
     },
     "execution_count": 4,
     "metadata": {},
     "output_type": "execute_result"
    }
   ],
   "source": [
    "esa_query_uuid = '907c98dc-7457-45af-9a8d-e57b49197d97'\n",
    "query_execution_id = start_query(esa_query_uuid)\n",
    "query_execution_id"
   ]
  },
  {
   "cell_type": "code",
   "execution_count": 5,
   "id": "aa6cff0c",
   "metadata": {},
   "outputs": [
    {
     "data": {
      "text/plain": [
       "{'QueryExecution': {'QueryExecutionId': '9a5a9542-8747-4aa5-a3f5-553fb788e657',\n",
       "  'Query': 'SELECT\\n  collection, \"sum\"(bytessent) bytessent_sum\\nFROM\\n    (\\n    SELECT split_part(key, \\'/\\', 3) as collection, bytessent\\n    FROM \"nasa_maap_data_store_access_logs_db\".\"logs\"\\n    WHERE (operation = \\'REST.GET.OBJECT\\' OR operation = \\'REST.COPY.PART\\')\\n    AND date_parse(requestdatetime, \\'%d/%b/%Y:%H:%i:%s +0000\\') >= date_parse(\\'01/Oct/2022:00:00:00 +0000\\', \\'%d/%b/%Y:%H:%i:%s +0000\\')\\n    AND remoteip LIKE \\'90.84.45%\\'\\n    )\\nGROUP BY collection\\nORDER BY bytessent_sum DESC',\n",
       "  'StatementType': 'DML',\n",
       "  'ResultConfiguration': {'OutputLocation': 's3://maap-logging/athena-output/9a5a9542-8747-4aa5-a3f5-553fb788e657.csv'},\n",
       "  'QueryExecutionContext': {},\n",
       "  'Status': {'State': 'SUCCEEDED',\n",
       "   'SubmissionDateTime': datetime.datetime(2023, 4, 8, 10, 22, 10, 869000, tzinfo=tzlocal()),\n",
       "   'CompletionDateTime': datetime.datetime(2023, 4, 8, 10, 23, 20, 624000, tzinfo=tzlocal())},\n",
       "  'Statistics': {'EngineExecutionTimeInMillis': 69610,\n",
       "   'DataScannedInBytes': 20932133573,\n",
       "   'TotalExecutionTimeInMillis': 69755,\n",
       "   'QueryQueueTimeInMillis': 122,\n",
       "   'QueryPlanningTimeInMillis': 1238,\n",
       "   'ServiceProcessingTimeInMillis': 23},\n",
       "  'WorkGroup': 'primary',\n",
       "  'EngineVersion': {'SelectedEngineVersion': 'AUTO',\n",
       "   'EffectiveEngineVersion': 'Athena engine version 2'}},\n",
       " 'ResponseMetadata': {'RequestId': '2b8f1ebb-6eb3-4788-804e-a24d1cba7e35',\n",
       "  'HTTPStatusCode': 200,\n",
       "  'HTTPHeaders': {'date': 'Sat, 08 Apr 2023 17:23:21 GMT',\n",
       "   'content-type': 'application/x-amz-json-1.1',\n",
       "   'content-length': '2518',\n",
       "   'connection': 'keep-alive',\n",
       "   'x-amzn-requestid': '2b8f1ebb-6eb3-4788-804e-a24d1cba7e35'},\n",
       "  'RetryAttempts': 0}}"
      ]
     },
     "execution_count": 5,
     "metadata": {},
     "output_type": "execute_result"
    }
   ],
   "source": [
    "wait_for_finished(query_execution_id)"
   ]
  },
  {
   "cell_type": "code",
   "execution_count": 9,
   "id": "99b02108",
   "metadata": {},
   "outputs": [],
   "source": [
    "results = get_execution_results(query_execution_id)\n",
    "df = create_resutlts_dataframe(results)"
   ]
  },
  {
   "cell_type": "code",
   "execution_count": 10,
   "id": "13725343",
   "metadata": {},
   "outputs": [
    {
     "data": {
      "text/plain": [
       "<AxesSubplot:xlabel='collection'>"
      ]
     },
     "execution_count": 10,
     "metadata": {},
     "output_type": "execute_result"
    },
    {
     "data": {
      "image/png": "[encoded data removed]",
      "text/plain": [
       "<Figure size 432x288 with 1 Axes>"
      ]
     },
     "metadata": {
      "needs_background": "light"
     },
     "output_type": "display_data"
    }
   ],
   "source": [
    "df.plot.bar(x='collection', y='gb_sent')"
   ]
  }
 ],
 "metadata": {
  "kernelspec": {
   "display_name": "Python 3 (ipykernel)",
   "language": "python",
   "name": "python3"
  },
  "language_info": {
   "codemirror_mode": {
    "name": "ipython",
    "version": 3
   },
   "file_extension": ".py",
   "mimetype": "text/x-python",
   "name": "python",
   "nbconvert_exporter": "python",
   "pygments_lexer": "ipython3",
   "version": "3.9.7"
  }
 },
 "nbformat": 4,
 "nbformat_minor": 5
}
