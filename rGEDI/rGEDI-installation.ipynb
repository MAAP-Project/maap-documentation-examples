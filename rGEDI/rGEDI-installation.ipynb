{
 "cells": [
  {
   "cell_type": "markdown",
   "id": "technological-maryland",
   "metadata": {},
   "source": [
    "#### conda install -y -c conda-forge mamba\n",
    "#### mamba create -n r4-base -c conda-forge r-base=4.1.0 r-irkernel\n",
    "#### mamba install -c conda-forge r-untis r-terra r-gtable r-colorspace r-lattice r-vctrs r-viridisLite r-RColorBrewer r-munsell r-labeling r-farver r-Matrix r-nlme r-scales r-mgcv r-MASS r-isoband r-RcppEigen r-deldir r-interp r-jpeg r-png r-wk r-proxy r-s2 r-DBI r-KernSmooth r-class r-e1071 r-units r-lwgeom r-classInt r-sf r-abind r-BH r-data.table r-stringi r-gridExtra r-ggplot2 r-terra r-leaflet.providers r-viridis r-sp r-raster r-markdown r-bit r-zoo r-hexbin r-latticeExtra r-misc3d r-RcppArmadillo r-stars r-rlas r-rgl r-leaflet r-bit64 r-rasterVis r-plot3D r-lidR r-leafsync r-hdf5r r-getPass\n",
    "\n",
    "#### run apt install libsz2 in terminal"
   ]
  },
  {
   "cell_type": "code",
   "execution_count": 7,
   "id": "important-element",
   "metadata": {},
   "outputs": [
    {
     "ename": "ERROR",
     "evalue": "Error in parse(text = x, srcfile = src): <text>:1:1: unexpected input\n1: %apt install libsz2\n    ^\n",
     "output_type": "error",
     "traceback": [
      "Error in parse(text = x, srcfile = src): <text>:1:1: unexpected input\n1: %apt install libsz2\n    ^\nTraceback:\n"
     ]
    }
   ],
   "source": []
  },
  {
   "cell_type": "code",
   "execution_count": 2,
   "id": "settled-rates",
   "metadata": {},
   "outputs": [
    {
     "name": "stderr",
     "output_type": "stream",
     "text": [
      "Warning message:\n",
      "“package ‘devtools’ was built under R version 4.1.1”\n",
      "Loading required package: usethis\n",
      "\n",
      "Warning message:\n",
      "“package ‘usethis’ was built under R version 4.1.3”\n"
     ]
    }
   ],
   "source": [
    "library(devtools)"
   ]
  },
  {
   "cell_type": "code",
   "execution_count": 2,
   "id": "developed-listening",
   "metadata": {},
   "outputs": [
    {
     "name": "stderr",
     "output_type": "stream",
     "text": [
      "Downloading git repo https://github.com/carlos-alberto-silva/rGEDI\n",
      "\n",
      "'/usr/bin/git' clone --depth 1 --no-hardlinks --recurse-submodules https://github.com/caiohamamura/libclidar /tmp/RtmpjMLJMz/file5baa247a5de4/src/libclidar\n",
      "\n",
      "'/usr/bin/git' clone --depth 1 --no-hardlinks --recurse-submodules https://github.com/caiohamamura/tools /tmp/RtmpjMLJMz/file5baa247a5de4/src/tools\n",
      "\n",
      "'/usr/bin/git' clone --depth 1 --no-hardlinks --recurse-submodules https://bitbucket.org/caiohamamura/gedisimulator /tmp/RtmpjMLJMz/file5baa247a5de4/src/gedisimulator\n",
      "\n"
     ]
    },
    {
     "name": "stdout",
     "output_type": "stream",
     "text": [
      "lwgeom (0.2-8 -> 0.2-9) [CRAN]\n"
     ]
    },
    {
     "name": "stderr",
     "output_type": "stream",
     "text": [
      "Installing 1 packages: lwgeom\n",
      "\n",
      "Warning message in i.p(...):\n",
      "“installation of package ‘lwgeom’ had non-zero exit status”\n",
      "Updating HTML index of packages in '.Library'\n",
      "\n",
      "Making 'packages.html' ...\n",
      " done\n",
      "\n"
     ]
    },
    {
     "name": "stdout",
     "output_type": "stream",
     "text": [
      "* checking for file ‘/tmp/RtmpjMLJMz/file5baa247a5de4/DESCRIPTION’ ... OK\n",
      "* preparing ‘rGEDI’:\n",
      "* checking DESCRIPTION meta-information ... OK\n",
      "* cleaning src\n",
      "* running ‘cleanup’\n",
      "* installing the package to process help pages\n",
      "      -----------------------------------\n",
      "* installing *source* package ‘rGEDI’ ...\n",
      "** using staged installation\n",
      "checking for x86_64-conda-linux-gnu-gcc... x86_64-conda-linux-gnu-cc\n",
      "checking whether the C compiler works... yes\n",
      "checking for C compiler default output file name... a.out\n",
      "checking for suffix of executables... \n",
      "checking whether we are cross compiling... no\n",
      "checking for suffix of object files... o\n",
      "checking whether the compiler supports GNU C... yes\n",
      "checking whether x86_64-conda-linux-gnu-cc accepts -g... yes\n",
      "checking for x86_64-conda-linux-gnu-cc option to enable C11 features... none needed\n",
      "checking for gsl-config... /opt/conda/envs/r4-base/bin/gsl-config\n",
      "checking for GSL - version >= 0.1... yes\n",
      "checking for a sed that does not truncate output... /opt/conda/envs/r4-base/bin/sed\n",
      "checking for gawk... no\n",
      "checking for mawk... mawk\n",
      "checking for grep that handles long lines and -e... /bin/grep\n",
      "checking for stdio.h... yes\n",
      "checking for stdlib.h... yes\n",
      "checking for string.h... yes\n",
      "checking for inttypes.h... yes\n",
      "checking for stdint.h... yes\n",
      "checking for strings.h... yes\n",
      "checking for sys/stat.h... yes\n",
      "checking for sys/types.h... yes\n",
      "checking for unistd.h... yes\n",
      "checking for h5cc... /opt/conda/envs/r4-base/bin/h5cc\n",
      "checking for HDF5 type... serial\n",
      "checking for HDF5 libraries... yes (version 1.12.1)\n",
      "checking for hdf5.h... yes\n",
      "checking for H5Fcreate in -lhdf5... yes\n",
      "checking for main in -lhdf5_hl... yes\n",
      "checking for matching HDF5 Fortran wrapper... /opt/conda/envs/r4-base/bin/h5fc\n",
      "checking for SZ_BufftoBuffCompress in -lsz... no\n",
      "configure: error: could not find szip:\n",
      "                         Debian: sudo apt install libsz2\n",
      "                         RPM-based: sudo dnf install szip\n",
      "                         MacOS: brew install szip\n",
      "ERROR: configuration failed for package ‘rGEDI’\n",
      "* removing ‘/tmp/RtmpVRJeQg/Rinst6e1e1ca6d355/rGEDI’\n",
      "      -----------------------------------\n",
      "ERROR: package installation failed\n"
     ]
    },
    {
     "ename": "ERROR",
     "evalue": "Error: Failed to install 'rGEDI' from Git:\n  \u001b[33m!\u001b[39m System command 'R' failed\n",
     "output_type": "error",
     "traceback": [
      "Error: Failed to install 'rGEDI' from Git:\n  \u001b[33m!\u001b[39m System command 'R' failed\nTraceback:\n",
      "1. devtools::install_git(\"https://github.com/carlos-alberto-silva/rGEDI\", \n .     dependencies = TRUE, arg = \"--with-libsz-include=/usr/lib/x86_64-linux-gnu/libsz.so.2\")",
      "2. pkgbuild::with_build_tools({\n .     ellipsis::check_dots_used(action = getOption(\"devtools.ellipsis_action\", \n .         rlang::warn))\n .     {\n .         if (!missing(branch)) {\n .             warning(\"`branch` is deprecated, please use `ref`\")\n .             ref <- branch\n .         }\n .         remotes <- lapply(url, git_remote, subdir = subdir, ref = ref, \n .             credentials = credentials, git = match.arg(git))\n .         install_remotes(remotes, credentials = credentials, dependencies = dependencies, \n .             upgrade = upgrade, force = force, quiet = quiet, \n .             build = build, build_opts = build_opts, build_manual = build_manual, \n .             build_vignettes = build_vignettes, repos = repos, \n .             type = type, ...)\n .     }\n . }, required = FALSE)",
      "3. install_remotes(remotes, credentials = credentials, dependencies = dependencies, \n .     upgrade = upgrade, force = force, quiet = quiet, build = build, \n .     build_opts = build_opts, build_manual = build_manual, build_vignettes = build_vignettes, \n .     repos = repos, type = type, ...)",
      "4. tryCatch(res[[i]] <- install_remote(remotes[[i]], ...), error = function(e) {\n .     stop(remote_install_error(remotes[[i]], e))\n . })",
      "5. tryCatchList(expr, classes, parentenv, handlers)",
      "6. tryCatchOne(expr, names, parentenv, handlers[[1L]])",
      "7. value[[3L]](cond)"
     ]
    }
   ],
   "source": [
    "devtools::install_git(\"https://github.com/carlos-alberto-silva/rGEDI\", dependencies = TRUE, arg=\"--with-libsz-include=/usr/lib/x86_64-linux-gnu/libsz.so.2\")\n",
    "\n"
   ]
  },
  {
   "cell_type": "code",
   "execution_count": null,
   "id": "familiar-testimony",
   "metadata": {},
   "outputs": [],
   "source": []
  }
 ],
 "metadata": {
  "kernelspec": {
   "display_name": "R [conda env:r4-base]",
   "language": "R",
   "name": "conda-env-r4-base-r"
  },
  "language_info": {
   "codemirror_mode": "r",
   "file_extension": ".r",
   "mimetype": "text/x-r-source",
   "name": "R",
   "pygments_lexer": "r",
   "version": "4.1.0"
  }
 },
 "nbformat": 4,
 "nbformat_minor": 5
}
