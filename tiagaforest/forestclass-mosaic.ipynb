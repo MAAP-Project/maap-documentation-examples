{
 "cells": [
  {
   "cell_type": "markdown",
   "metadata": {},
   "source": [
    "https://maap-ops-dataset.s3.amazonaws.com/maap-users/alexdevseed/gee/TTE_DATA_v201902v2-class-1000.zip.tif\n",
    "s3://maap-ops-dataset/maap-users/alexdevseed/gee/TTE_DATA_v201902v2-class-1000.zip.tif"
   ]
  },
  {
   "cell_type": "code",
   "execution_count": null,
   "metadata": {},
   "outputs": [],
   "source": [
    "#for zip in glob\n",
    "# unzip renaming tif inside to match zip tilename\n",
    "# better idea rio cogeo /vsizip/nameof.zip nameof.tif\n",
    "!cd /projects/tmp/gee\n",
    "!less todo.txt | parallel --bar -j 10 ./maketif.sh {}"
   ]
  },
  {
   "cell_type": "code",
   "execution_count": 2,
   "metadata": {},
   "outputs": [
    {
     "name": "stdout",
     "output_type": "stream",
     "text": [
      "Collecting cogeo-mosaic\n",
      "  Using cached cogeo_mosaic-3.0.0-py3-none-any.whl\n",
      "Collecting supermercado\n",
      "  Using cached supermercado-0.2.0-py3-none-any.whl (8.1 kB)\n",
      "Requirement already satisfied: attrs in /opt/conda/lib/python3.7/site-packages (from cogeo-mosaic) (20.2.0)\n",
      "Requirement already satisfied: morecantile>=2.1 in /opt/conda/lib/python3.7/site-packages (from cogeo-mosaic) (2.1.2)\n",
      "Collecting pygeos>=0.10\n",
      "  Using cached pygeos-0.10-cp37-cp37m-manylinux_2_5_x86_64.manylinux1_x86_64.whl (2.0 MB)\n",
      "Collecting cachetools\n",
      "  Using cached cachetools-4.2.2-py3-none-any.whl (11 kB)\n",
      "Collecting mercantile\n",
      "  Using cached mercantile-1.2.1-py3-none-any.whl (14 kB)\n",
      "Requirement already satisfied: requests in /opt/conda/lib/python3.7/site-packages (from cogeo-mosaic) (2.24.0)\n",
      "Requirement already satisfied: pydantic in /opt/conda/lib/python3.7/site-packages (from cogeo-mosaic) (1.8.2)\n",
      "Collecting rio-tiler>=2.0\n",
      "  Using cached rio_tiler-2.1.0-py3-none-any.whl\n",
      "Requirement already satisfied: rasterio in /opt/conda/lib/python3.7/site-packages (from cogeo-mosaic) (1.1.7)\n",
      "Requirement already satisfied: numpy>=1.13 in /opt/conda/lib/python3.7/site-packages (from pygeos>=0.10->cogeo-mosaic) (1.19.2)\n",
      "Requirement already satisfied: affine in /opt/conda/lib/python3.7/site-packages (from rasterio->cogeo-mosaic) (2.3.0)\n",
      "Requirement already satisfied: cligj>=0.5 in /opt/conda/lib/python3.7/site-packages (from rasterio->cogeo-mosaic) (0.7.0)\n",
      "Requirement already satisfied: click-plugins in /opt/conda/lib/python3.7/site-packages (from rasterio->cogeo-mosaic) (1.1.1)\n",
      "Requirement already satisfied: click<8,>=4.0 in /opt/conda/lib/python3.7/site-packages (from rasterio->cogeo-mosaic) (7.1.2)\n",
      "Requirement already satisfied: snuggs>=1.4.1 in /opt/conda/lib/python3.7/site-packages (from rasterio->cogeo-mosaic) (1.4.7)\n",
      "Collecting pystac>=0.5.3\n",
      "  Using cached pystac-0.5.6-py3-none-any.whl (136 kB)\n",
      "Collecting rio-color\n",
      "  Using cached rio_color-1.0.2-cp37-cp37m-manylinux2010_x86_64.whl (196 kB)\n",
      "Requirement already satisfied: boto3 in /opt/conda/lib/python3.7/site-packages/boto3-1.16.8-py3.7.egg (from rio-tiler>=2.0->cogeo-mosaic) (1.16.8)\n",
      "Collecting importlib-resources>=1.1.0\n",
      "  Using cached importlib_resources-5.1.4-py3-none-any.whl (26 kB)\n",
      "Collecting numexpr\n",
      "  Using cached numexpr-2.7.3-cp37-cp37m-manylinux2010_x86_64.whl (471 kB)\n",
      "Requirement already satisfied: zipp>=3.1.0 in /opt/conda/lib/python3.7/site-packages (from importlib-resources>=1.1.0->rio-tiler>=2.0->cogeo-mosaic) (3.4.0)\n",
      "Requirement already satisfied: python-dateutil>=2.7.0 in /opt/conda/lib/python3.7/site-packages (from pystac>=0.5.3->rio-tiler>=2.0->cogeo-mosaic) (2.8.1)\n",
      "Requirement already satisfied: six>=1.5 in /opt/conda/lib/python3.7/site-packages (from python-dateutil>=2.7.0->pystac>=0.5.3->rio-tiler>=2.0->cogeo-mosaic) (1.15.0)\n",
      "Requirement already satisfied: pyparsing>=2.1.6 in /opt/conda/lib/python3.7/site-packages (from snuggs>=1.4.1->rasterio->cogeo-mosaic) (2.4.7)\n",
      "Requirement already satisfied: botocore<1.20.0,>=1.19.8 in /opt/conda/lib/python3.7/site-packages/botocore-1.19.8-py3.7.egg (from boto3->rio-tiler>=2.0->cogeo-mosaic) (1.19.8)\n",
      "Requirement already satisfied: jmespath<1.0.0,>=0.7.1 in /opt/conda/lib/python3.7/site-packages/jmespath-0.10.0-py3.7.egg (from boto3->rio-tiler>=2.0->cogeo-mosaic) (0.10.0)\n",
      "Requirement already satisfied: s3transfer<0.4.0,>=0.3.0 in /opt/conda/lib/python3.7/site-packages/s3transfer-0.3.3-py3.7.egg (from boto3->rio-tiler>=2.0->cogeo-mosaic) (0.3.3)\n",
      "Requirement already satisfied: urllib3<1.26,>=1.25.4 in /opt/conda/lib/python3.7/site-packages (from botocore<1.20.0,>=1.19.8->boto3->rio-tiler>=2.0->cogeo-mosaic) (1.25.11)\n",
      "Requirement already satisfied: typing-extensions>=3.7.4.3 in /opt/conda/lib/python3.7/site-packages (from pydantic->cogeo-mosaic) (3.7.4.3)\n",
      "Requirement already satisfied: idna<3,>=2.5 in /opt/conda/lib/python3.7/site-packages (from requests->cogeo-mosaic) (2.10)\n",
      "Requirement already satisfied: certifi>=2017.4.17 in /opt/conda/lib/python3.7/site-packages (from requests->cogeo-mosaic) (2020.12.5)\n",
      "Requirement already satisfied: chardet<4,>=3.0.2 in /opt/conda/lib/python3.7/site-packages (from requests->cogeo-mosaic) (3.0.4)\n",
      "Collecting rio-mucho\n",
      "  Using cached rio_mucho-1.0.0-py3-none-any.whl (5.8 kB)\n",
      "Installing collected packages: rio-mucho, rio-color, pystac, numexpr, mercantile, importlib-resources, supermercado, rio-tiler, pygeos, cachetools, cogeo-mosaic\n",
      "  Attempting uninstall: pygeos\n",
      "    Found existing installation: pygeos 0.8\n",
      "    Uninstalling pygeos-0.8:\n",
      "      Successfully uninstalled pygeos-0.8\n",
      "Successfully installed cachetools-4.2.2 cogeo-mosaic-3.0.0 importlib-resources-5.1.4 mercantile-1.2.1 numexpr-2.7.3 pygeos-0.10 pystac-0.5.6 rio-color-1.0.2 rio-mucho-1.0.0 rio-tiler-2.1.0 supermercado-0.2.0\n",
      "\u001b[33mWARNING: You are using pip version 21.0.1; however, version 21.1.2 is available.\n",
      "You should consider upgrading via the '/opt/conda/bin/python3.7 -m pip install --upgrade pip' command.\u001b[0m\n"
     ]
    }
   ],
   "source": [
    "!pip install cogeo-mosaic"
   ]
  },
  {
   "cell_type": "code",
   "execution_count": 1,
   "metadata": {},
   "outputs": [],
   "source": [
    "from glob import glob\n",
    "import os\n",
    "\n",
    "from cogeo_mosaic.mosaic import MosaicJSON\n",
    "from cogeo_mosaic.backends import MosaicBackend"
   ]
  },
  {
   "cell_type": "code",
   "execution_count": 6,
   "metadata": {},
   "outputs": [],
   "source": [
    "def local_to_s3(url):\n",
    "    return url.replace(\"/projects/maap-users\", \"s3://maap-ops-dataset/maap-users\")\n",
    "    \n",
    "def s3_to_https(url):\n",
    "    parts = url.split(\"/\")\n",
    "    return os.path.join('https://',f'{parts[2]}.s3.amazonaws.com', *parts[3:])"
   ]
  },
  {
   "cell_type": "code",
   "execution_count": 18,
   "metadata": {},
   "outputs": [],
   "source": [
    "#glob find the tifs\n",
    "tif_dir = \"/projects/maap-users/alexdevseed/gee/\"\n",
    "\n",
    "local_tiles = glob(os.path.join(tif_dir,\"*class*.zip.tif\"), recursive=False)\n",
    "tiles = [local_to_s3(tile) for tile in local_tiles]"
   ]
  },
  {
   "cell_type": "code",
   "execution_count": 20,
   "metadata": {},
   "outputs": [
    {
     "data": {
      "text/plain": [
       "2304"
      ]
     },
     "execution_count": 20,
     "metadata": {},
     "output_type": "execute_result"
    }
   ],
   "source": [
    "len(tiles)"
   ]
  },
  {
   "cell_type": "code",
   "execution_count": 21,
   "metadata": {},
   "outputs": [
    {
     "name": "stderr",
     "output_type": "stream",
     "text": [
      "/opt/conda/lib/python3.7/site-packages/rio_tiler/io/cogeo.py:117: NoOverviewWarning: The dataset has no Overviews. rio-tiler performances might be impacted.\n",
      "  NoOverviewWarning,\n",
      "'/vsis3/maap-ops-dataset/maap-users/alexdevseed/gee/TTE_DATA_v201902v2-class-1023.zip.tif' not recognized as a supported file format.\n",
      "'/vsis3/maap-ops-dataset/maap-users/alexdevseed/gee/TTE_DATA_v201902v2-class-1103.zip.tif' not recognized as a supported file format.\n",
      "'/vsis3/maap-ops-dataset/maap-users/alexdevseed/gee/TTE_DATA_v201902v2-class-1139.zip.tif' not recognized as a supported file format.\n",
      "'/vsis3/maap-ops-dataset/maap-users/alexdevseed/gee/TTE_DATA_v201902v2-class-1246.zip.tif' not recognized as a supported file format.\n",
      "'/vsis3/maap-ops-dataset/maap-users/alexdevseed/gee/TTE_DATA_v201902v2-class-1251.zip.tif' not recognized as a supported file format.\n",
      "'/vsis3/maap-ops-dataset/maap-users/alexdevseed/gee/TTE_DATA_v201902v2-class-1281.zip.tif' not recognized as a supported file format.\n",
      "'/vsis3/maap-ops-dataset/maap-users/alexdevseed/gee/TTE_DATA_v201902v2-class-1287.zip.tif' not recognized as a supported file format.\n",
      "'/vsis3/maap-ops-dataset/maap-users/alexdevseed/gee/TTE_DATA_v201902v2-class-1558.zip.tif' not recognized as a supported file format.\n",
      "'/vsis3/maap-ops-dataset/maap-users/alexdevseed/gee/TTE_DATA_v201902v2-class-1567.zip.tif' not recognized as a supported file format.\n",
      "'/vsis3/maap-ops-dataset/maap-users/alexdevseed/gee/TTE_DATA_v201902v2-class-157.zip.tif' not recognized as a supported file format.\n",
      "'/vsis3/maap-ops-dataset/maap-users/alexdevseed/gee/TTE_DATA_v201902v2-class-1590.zip.tif' not recognized as a supported file format.\n",
      "'/vsis3/maap-ops-dataset/maap-users/alexdevseed/gee/TTE_DATA_v201902v2-class-1594.zip.tif' not recognized as a supported file format.\n",
      "'/vsis3/maap-ops-dataset/maap-users/alexdevseed/gee/TTE_DATA_v201902v2-class-1600.zip.tif' not recognized as a supported file format.\n",
      "'/vsis3/maap-ops-dataset/maap-users/alexdevseed/gee/TTE_DATA_v201902v2-class-1611.zip.tif' not recognized as a supported file format.\n",
      "TIFFReadDirectory:Failed to read directory at offset 192\n",
      "'/vsis3/maap-ops-dataset/maap-users/alexdevseed/gee/TTE_DATA_v201902v2-class-1638.zip.tif' not recognized as a supported file format.\n",
      "'/vsis3/maap-ops-dataset/maap-users/alexdevseed/gee/TTE_DATA_v201902v2-class-1651.zip.tif' not recognized as a supported file format.\n",
      "'/vsis3/maap-ops-dataset/maap-users/alexdevseed/gee/TTE_DATA_v201902v2-class-1658.zip.tif' not recognized as a supported file format.\n",
      "'/vsis3/maap-ops-dataset/maap-users/alexdevseed/gee/TTE_DATA_v201902v2-class-1701.zip.tif' not recognized as a supported file format.\n",
      "'/vsis3/maap-ops-dataset/maap-users/alexdevseed/gee/TTE_DATA_v201902v2-class-1736.zip.tif' not recognized as a supported file format.\n",
      "'/vsis3/maap-ops-dataset/maap-users/alexdevseed/gee/TTE_DATA_v201902v2-class-1794.zip.tif' not recognized as a supported file format.\n",
      "'/vsis3/maap-ops-dataset/maap-users/alexdevseed/gee/TTE_DATA_v201902v2-class-1910.zip.tif' not recognized as a supported file format.\n",
      "'/vsis3/maap-ops-dataset/maap-users/alexdevseed/gee/TTE_DATA_v201902v2-class-1949.zip.tif' not recognized as a supported file format.\n",
      "'/vsis3/maap-ops-dataset/maap-users/alexdevseed/gee/TTE_DATA_v201902v2-class-1969.zip.tif' not recognized as a supported file format.\n",
      "'/vsis3/maap-ops-dataset/maap-users/alexdevseed/gee/TTE_DATA_v201902v2-class-2029.zip.tif' not recognized as a supported file format.\n",
      "'/vsis3/maap-ops-dataset/maap-users/alexdevseed/gee/TTE_DATA_v201902v2-class-2034.zip.tif' not recognized as a supported file format.\n",
      "'/vsis3/maap-ops-dataset/maap-users/alexdevseed/gee/TTE_DATA_v201902v2-class-2041.zip.tif' not recognized as a supported file format.\n",
      "'/vsis3/maap-ops-dataset/maap-users/alexdevseed/gee/TTE_DATA_v201902v2-class-2046.zip.tif' not recognized as a supported file format.\n",
      "'/vsis3/maap-ops-dataset/maap-users/alexdevseed/gee/TTE_DATA_v201902v2-class-2110.zip.tif' not recognized as a supported file format.\n",
      "'/vsis3/maap-ops-dataset/maap-users/alexdevseed/gee/TTE_DATA_v201902v2-class-2117.zip.tif' not recognized as a supported file format.\n",
      "'/vsis3/maap-ops-dataset/maap-users/alexdevseed/gee/TTE_DATA_v201902v2-class-2178.zip.tif' not recognized as a supported file format.\n",
      "'/vsis3/maap-ops-dataset/maap-users/alexdevseed/gee/TTE_DATA_v201902v2-class-2186.zip.tif' not recognized as a supported file format.\n",
      "'/vsis3/maap-ops-dataset/maap-users/alexdevseed/gee/TTE_DATA_v201902v2-class-2266.zip.tif' not recognized as a supported file format.\n",
      "'/vsis3/maap-ops-dataset/maap-users/alexdevseed/gee/TTE_DATA_v201902v2-class-2284.zip.tif' not recognized as a supported file format.\n",
      "'/vsis3/maap-ops-dataset/maap-users/alexdevseed/gee/TTE_DATA_v201902v2-class-2356.zip.tif' not recognized as a supported file format.\n",
      "'/vsis3/maap-ops-dataset/maap-users/alexdevseed/gee/TTE_DATA_v201902v2-class-2387.zip.tif' not recognized as a supported file format.\n",
      "'/vsis3/maap-ops-dataset/maap-users/alexdevseed/gee/TTE_DATA_v201902v2-class-2445.zip.tif' not recognized as a supported file format.\n",
      "'/vsis3/maap-ops-dataset/maap-users/alexdevseed/gee/TTE_DATA_v201902v2-class-2537.zip.tif' not recognized as a supported file format.\n",
      "'/vsis3/maap-ops-dataset/maap-users/alexdevseed/gee/TTE_DATA_v201902v2-class-2568.zip.tif' not recognized as a supported file format.\n",
      "'/vsis3/maap-ops-dataset/maap-users/alexdevseed/gee/TTE_DATA_v201902v2-class-2593.zip.tif' not recognized as a supported file format.\n",
      "'/vsis3/maap-ops-dataset/maap-users/alexdevseed/gee/TTE_DATA_v201902v2-class-26.zip.tif' not recognized as a supported file format.\n",
      "'/vsis3/maap-ops-dataset/maap-users/alexdevseed/gee/TTE_DATA_v201902v2-class-2620.zip.tif' not recognized as a supported file format.\n",
      "'/vsis3/maap-ops-dataset/maap-users/alexdevseed/gee/TTE_DATA_v201902v2-class-2622.zip.tif' not recognized as a supported file format.\n",
      "'/vsis3/maap-ops-dataset/maap-users/alexdevseed/gee/TTE_DATA_v201902v2-class-2651.zip.tif' not recognized as a supported file format.\n",
      "'/vsis3/maap-ops-dataset/maap-users/alexdevseed/gee/TTE_DATA_v201902v2-class-2655.zip.tif' not recognized as a supported file format.\n",
      "'/vsis3/maap-ops-dataset/maap-users/alexdevseed/gee/TTE_DATA_v201902v2-class-2676.zip.tif' not recognized as a supported file format.\n",
      "'/vsis3/maap-ops-dataset/maap-users/alexdevseed/gee/TTE_DATA_v201902v2-class-2698.zip.tif' not recognized as a supported file format.\n",
      "'/vsis3/maap-ops-dataset/maap-users/alexdevseed/gee/TTE_DATA_v201902v2-class-2711.zip.tif' not recognized as a supported file format.\n",
      "'/vsis3/maap-ops-dataset/maap-users/alexdevseed/gee/TTE_DATA_v201902v2-class-2733.zip.tif' not recognized as a supported file format.\n",
      "'/vsis3/maap-ops-dataset/maap-users/alexdevseed/gee/TTE_DATA_v201902v2-class-2785.zip.tif' not recognized as a supported file format.\n",
      "'/vsis3/maap-ops-dataset/maap-users/alexdevseed/gee/TTE_DATA_v201902v2-class-2790.zip.tif' not recognized as a supported file format.\n",
      "'/vsis3/maap-ops-dataset/maap-users/alexdevseed/gee/TTE_DATA_v201902v2-class-2798.zip.tif' not recognized as a supported file format.\n",
      "'/vsis3/maap-ops-dataset/maap-users/alexdevseed/gee/TTE_DATA_v201902v2-class-2806.zip.tif' not recognized as a supported file format.\n",
      "'/vsis3/maap-ops-dataset/maap-users/alexdevseed/gee/TTE_DATA_v201902v2-class-2813.zip.tif' not recognized as a supported file format.\n",
      "'/vsis3/maap-ops-dataset/maap-users/alexdevseed/gee/TTE_DATA_v201902v2-class-2823.zip.tif' not recognized as a supported file format.\n",
      "'/vsis3/maap-ops-dataset/maap-users/alexdevseed/gee/TTE_DATA_v201902v2-class-2829.zip.tif' not recognized as a supported file format.\n",
      "'/vsis3/maap-ops-dataset/maap-users/alexdevseed/gee/TTE_DATA_v201902v2-class-2830.zip.tif' not recognized as a supported file format.\n",
      "'/vsis3/maap-ops-dataset/maap-users/alexdevseed/gee/TTE_DATA_v201902v2-class-314.zip.tif' not recognized as a supported file format.\n",
      "'/vsis3/maap-ops-dataset/maap-users/alexdevseed/gee/TTE_DATA_v201902v2-class-432.zip.tif' not recognized as a supported file format.\n",
      "'/vsis3/maap-ops-dataset/maap-users/alexdevseed/gee/TTE_DATA_v201902v2-class-476.zip.tif' not recognized as a supported file format.\n",
      "TIFFReadDirectory:Failed to read directory at offset 192\n",
      "'/vsis3/maap-ops-dataset/maap-users/alexdevseed/gee/TTE_DATA_v201902v2-class-582.zip.tif' not recognized as a supported file format.\n",
      "'/vsis3/maap-ops-dataset/maap-users/alexdevseed/gee/TTE_DATA_v201902v2-class-597.zip.tif' not recognized as a supported file format.\n",
      "'/vsis3/maap-ops-dataset/maap-users/alexdevseed/gee/TTE_DATA_v201902v2-class-621.zip.tif' not recognized as a supported file format.\n",
      "'/vsis3/maap-ops-dataset/maap-users/alexdevseed/gee/TTE_DATA_v201902v2-class-642.zip.tif' not recognized as a supported file format.\n",
      "'/vsis3/maap-ops-dataset/maap-users/alexdevseed/gee/TTE_DATA_v201902v2-class-658.zip.tif' not recognized as a supported file format.\n",
      "'/vsis3/maap-ops-dataset/maap-users/alexdevseed/gee/TTE_DATA_v201902v2-class-666.zip.tif' not recognized as a supported file format.\n",
      "'/vsis3/maap-ops-dataset/maap-users/alexdevseed/gee/TTE_DATA_v201902v2-class-682.zip.tif' not recognized as a supported file format.\n",
      "'/vsis3/maap-ops-dataset/maap-users/alexdevseed/gee/TTE_DATA_v201902v2-class-687.zip.tif' not recognized as a supported file format.\n",
      "'/vsis3/maap-ops-dataset/maap-users/alexdevseed/gee/TTE_DATA_v201902v2-class-699.zip.tif' not recognized as a supported file format.\n",
      "'/vsis3/maap-ops-dataset/maap-users/alexdevseed/gee/TTE_DATA_v201902v2-class-733.zip.tif' not recognized as a supported file format.\n",
      "'/vsis3/maap-ops-dataset/maap-users/alexdevseed/gee/TTE_DATA_v201902v2-class-937.zip.tif' not recognized as a supported file format.\n",
      "'/vsis3/maap-ops-dataset/maap-users/alexdevseed/gee/TTE_DATA_v201902v2-class-952.zip.tif' not recognized as a supported file format.\n",
      "/opt/conda/lib/python3.7/site-packages/mercantile/__init__.py:79: FutureWarning: Mercantile 2.0 will require tile x and y to be within the range (0, 2 ** zoom)\n",
      "  FutureWarning,\n"
     ]
    }
   ],
   "source": [
    "\n",
    "#tiles = [\n",
    "#    's3://maap-ops-dataset/maap-users/alexdevseed/landsat8/viz/Landsat8_30542_comp_cog_2015-2020_dps.tif',\n",
    "#    's3://maap-ops-dataset/maap-users/alexdevseed/landsat8/viz/Landsat8_30543_comp_cog_2015-2020_dps.tif',\n",
    "#    's3://maap-ops-dataset/maap-users/alexdevseed/landsat8/viz/Landsat8_30822_comp_cog_2015-2020_dps.tif',\n",
    "#    's3://maap-ops-dataset/maap-users/alexdevseed/landsat8/viz/Landsat8_30823_comp_cog_2015-2020_dps.tif',\n",
    "#]\n",
    "\n",
    "\n",
    "mosaicdata = MosaicJSON.from_urls(tiles, minzoom=8, maxzoom=16)"
   ]
  },
  {
   "cell_type": "code",
   "execution_count": 22,
   "metadata": {},
   "outputs": [],
   "source": [
    "mosaic_json = \"/projects/maap-users/alexdevseed/gee/forest_classificiation.json\"\n",
    "with MosaicBackend(mosaic_json, mosaic_def=mosaicdata) as mosaic:\n",
    "    mosaic.write(overwrite=True)"
   ]
  },
  {
   "cell_type": "code",
   "execution_count": 5,
   "metadata": {},
   "outputs": [],
   "source": [
    "import ipycmc"
   ]
  },
  {
   "cell_type": "code",
   "execution_count": 7,
   "metadata": {},
   "outputs": [
    {
     "data": {
      "text/plain": [
       "'https://baxpil3vd6.execute-api.us-east-1.amazonaws.com/mosaicjson/WMTSCapabilities.xml?tile_format=png&tile_scale=1&pixel_selection=first&TileMatrixSetId=WebMercatorQuad&url=s3%3A%2F%2Fmaap-ops-dataset%2Fmaap-users%2Falexdevseed%2Fgee%2Fforest_classificiation.json&bidx=1&resampling_method=nearest&return_mask=true&colormap_name=viridis'"
      ]
     },
     "execution_count": 7,
     "metadata": {},
     "output_type": "execute_result"
    }
   ],
   "source": [
    "wmts_url = \"https://baxpil3vd6.execute-api.us-east-1.amazonaws.com/mosaicjson/WMTSCapabilities.xml\"\n",
    "params = [\n",
    "    \"tile_format=png\",\n",
    "    \"tile_scale=1\",\n",
    "    \"pixel_selection=first\",\n",
    "    \"TileMatrixSetId=WebMercatorQuad\",\n",
    "    \"url=s3%3A%2F%2Fmaap-ops-dataset%2Fmaap-users%2Falexdevseed%2Fgee%2Fforest_classificiation.json\",\n",
    "    \"bidx=1\",\n",
    "    \"resampling_method=nearest\",\n",
    "    \"return_mask=true\",\n",
    "    \"colormap_name=viridis\"\n",
    "]\n",
    "#TODO url encode so the params can be human readable\n",
    "wmts_call = \"?\".join([wmts_url, \"&\".join([*params])])\n",
    "wmts_call"
   ]
  },
  {
   "cell_type": "code",
   "execution_count": null,
   "metadata": {},
   "outputs": [],
   "source": [
    "w = ipycmc.MapCMC()\n",
    "w"
   ]
  },
  {
   "cell_type": "code",
   "execution_count": null,
   "metadata": {},
   "outputs": [],
   "source": [
    "# this layer is crashing CMC\n",
    "#w.load_layer_config(wmts_call\n",
    "#                    , \"wmts/xml\")"
   ]
  }
 ],
 "metadata": {
  "kernelspec": {
   "display_name": "Python [conda env:root] *",
   "language": "python",
   "name": "conda-root-py"
  },
  "language_info": {
   "codemirror_mode": {
    "name": "ipython",
    "version": 3
   },
   "file_extension": ".py",
   "mimetype": "text/x-python",
   "name": "python",
   "nbconvert_exporter": "python",
   "pygments_lexer": "ipython3",
   "version": "3.7.8"
  }
 },
 "nbformat": 4,
 "nbformat_minor": 4
}
