{
 "cells": [
  {
   "cell_type": "markdown",
   "id": "8d64a409",
   "metadata": {},
   "source": [
    "# Setup Gabon GEDI L4A Testing\n",
    "\n",
    "1. Download Gabon outline in geospatial format\n",
    "2. Save to the workspace, probably not the repo?\n",
    "3. Query CMR with the bbox of the polygon to find out how many granules are involved\n",
    "\n",
    "Boundary file is available at `shared-buckets/alexdevseed/iso3/GAB-ADM0.json`"
   ]
  },
  {
   "cell_type": "code",
   "execution_count": 1,
   "id": "9a4dcd86",
   "metadata": {},
   "outputs": [
    {
     "name": "stdout",
     "output_type": "stream",
     "text": [
      "Collecting geopandas\n",
      "  Using cached geopandas-0.10.2-py2.py3-none-any.whl (1.0 MB)\n",
      "Collecting profilehooks\n",
      "  Using cached profilehooks-1.12.0-py2.py3-none-any.whl (12 kB)\n",
      "Requirement already satisfied: pyproj>=2.2.0 in /opt/conda/lib/python3.7/site-packages (from geopandas) (2.6.1.post1)\n",
      "Requirement already satisfied: pandas>=0.25.0 in /opt/conda/lib/python3.7/site-packages (from geopandas) (1.3.1)\n",
      "Collecting fiona>=1.8\n",
      "  Using cached Fiona-1.8.21-cp37-cp37m-manylinux2014_x86_64.whl (16.7 MB)\n",
      "Collecting shapely>=1.6\n",
      "  Using cached Shapely-1.8.1.post1-cp37-cp37m-manylinux_2_12_x86_64.manylinux2010_x86_64.whl (2.0 MB)\n",
      "Requirement already satisfied: six>=1.7 in /opt/conda/lib/python3.7/site-packages (from fiona>=1.8->geopandas) (1.15.0)\n",
      "Requirement already satisfied: click-plugins>=1.0 in /opt/conda/lib/python3.7/site-packages (from fiona>=1.8->geopandas) (1.1.1)\n",
      "Collecting munch\n",
      "  Using cached munch-2.5.0-py2.py3-none-any.whl (10 kB)\n",
      "Requirement already satisfied: click>=4.0 in /opt/conda/lib/python3.7/site-packages (from fiona>=1.8->geopandas) (7.1.2)\n",
      "Requirement already satisfied: attrs>=17 in /opt/conda/lib/python3.7/site-packages (from fiona>=1.8->geopandas) (20.2.0)\n",
      "Requirement already satisfied: setuptools in /opt/conda/lib/python3.7/site-packages (from fiona>=1.8->geopandas) (49.6.0.post20201009)\n",
      "Requirement already satisfied: certifi in /opt/conda/lib/python3.7/site-packages (from fiona>=1.8->geopandas) (2021.5.30)\n",
      "Requirement already satisfied: cligj>=0.5 in /opt/conda/lib/python3.7/site-packages (from fiona>=1.8->geopandas) (0.7.0)\n",
      "Requirement already satisfied: numpy>=1.17.3 in /opt/conda/lib/python3.7/site-packages (from pandas>=0.25.0->geopandas) (1.19.2)\n",
      "Requirement already satisfied: python-dateutil>=2.7.3 in /opt/conda/lib/python3.7/site-packages (from pandas>=0.25.0->geopandas) (2.8.2)\n",
      "Requirement already satisfied: pytz>=2017.3 in /opt/conda/lib/python3.7/site-packages (from pandas>=0.25.0->geopandas) (2021.1)\n",
      "Installing collected packages: profilehooks, shapely, munch, fiona, geopandas\n",
      "Successfully installed fiona-1.8.21 geopandas-0.10.2 munch-2.5.0 profilehooks-1.12.0 shapely-1.8.1.post1\n",
      "\u001b[33mWARNING: Running pip as the 'root' user can result in broken permissions and conflicting behaviour with the system package manager. It is recommended to use a virtual environment instead: https://pip.pypa.io/warnings/venv\u001b[0m\u001b[33m\n",
      "\u001b[0m"
     ]
    }
   ],
   "source": [
    "!pip install geopandas profilehooks"
   ]
  },
  {
   "cell_type": "code",
   "execution_count": 2,
   "id": "0a676ef1",
   "metadata": {},
   "outputs": [
    {
     "name": "stderr",
     "output_type": "stream",
     "text": [
      "/opt/conda/lib/python3.7/site-packages/geopandas/_compat.py:115: UserWarning: The Shapely GEOS version (3.10.2-CAPI-1.16.0) is incompatible with the GEOS version PyGEOS was compiled with (3.8.1-CAPI-1.13.3). Conversions between both will be slow.\n",
      "  shapely_geos_version, geos_capi_version_string\n"
     ]
    }
   ],
   "source": [
    "import json\n",
    "import os\n",
    "import os.path\n",
    "import sys\n",
    "import urllib.parse\n",
    "from typing import Any, Callable, Mapping, Optional, Sequence, TypeVar\n",
    "\n",
    "import geopandas as gpd\n",
    "import h5py\n",
    "import numpy as np\n",
    "import requests\n",
    "from maap.maap import Granule, MAAP\n",
    "from profilehooks import timecall\n",
    "\n",
    "T = TypeVar('T')"
   ]
  },
  {
   "cell_type": "code",
   "execution_count": 3,
   "id": "fd3d7abe",
   "metadata": {},
   "outputs": [],
   "source": [
    "nasa_cmr_host = 'cmr.earthdata.nasa.gov'\n",
    "maap_cmr_host = 'cmr.maap-project.org'\n",
    "maap = MAAP('api.ops.maap-project.org')"
   ]
  },
  {
   "cell_type": "markdown",
   "id": "83eb80e1",
   "metadata": {},
   "source": [
    "## Functions"
   ]
  },
  {
   "cell_type": "markdown",
   "id": "cc40d83d",
   "metadata": {},
   "source": [
    "### General Functions"
   ]
  },
  {
   "cell_type": "code",
   "execution_count": 4,
   "id": "622deb4a",
   "metadata": {},
   "outputs": [],
   "source": [
    "def for_each(f: Callable[[T], None], xs: Sequence[T]) -> None:\n",
    "    for x in xs:\n",
    "        f(x)\n",
    "\n",
    "\n",
    "def pprint(value: Any) -> None:\n",
    "    print(json.dumps(value, indent=2))\n",
    "\n",
    "    \n",
    "def get_geo_boundary(iso: str, level: int) -> gpd.GeoDataFrame:\n",
    "    file_path = f'/projects/my-public-bucket/iso3/{iso}-ADM{level}.json'\n",
    "    \n",
    "    if not os.path.exists(file_path):\n",
    "        r = requests.get(\n",
    "            'https://www.geoboundaries.org/gbRequest.html',\n",
    "            dict(ISO=iso, ADM=f'ADM{level}')\n",
    "        )\n",
    "        r.raise_for_status()\n",
    "        dl_url = r.json()[0]['gjDownloadURL']\n",
    "        geo_boundary = requests.get(dl_url).json()\n",
    "\n",
    "        with open(file_path, 'w') as out:\n",
    "            out.write(json.dumps(geo_boundary))\n",
    "    \n",
    "    return gpd.read_file(file_path)"
   ]
  },
  {
   "cell_type": "markdown",
   "id": "5808ed0f",
   "metadata": {},
   "source": [
    "### UMM Functions"
   ]
  },
  {
   "cell_type": "code",
   "execution_count": 5,
   "id": "1bbca1c4",
   "metadata": {},
   "outputs": [],
   "source": [
    "SIZE_UNIT_DEFAULT = 'MB'\n",
    "SIZE_UNIT_FACTORS = dict(\n",
    "    KB=1000,\n",
    "    MB=1000 * 1000,\n",
    "    GB=1000 * 1000 * 1000,\n",
    ")\n",
    "\n",
    "\n",
    "def umm_find_collections(\n",
    "    cmr_host: str,\n",
    "    params: Mapping[str, Any],\n",
    "    **kwargs: Any\n",
    ") -> Mapping[str, Any]:\n",
    "    url = f'https://{cmr_host}/search/collections.umm_json'\n",
    "    r = requests.get(url, params, **kwargs)\n",
    "\n",
    "    return r.json()\n",
    "\n",
    "\n",
    "def umm_find_collection(\n",
    "    cmr_host: str,\n",
    "    params: Mapping[str, Any],\n",
    "    **kwargs: Any\n",
    ") -> Mapping[str, Any]:\n",
    "    return umm_find_collections(cmr_host, {**params, 'page_size': 1}, **kwargs)['items'][0]\n",
    "\n",
    "\n",
    "@timecall\n",
    "def umm_find_granules(\n",
    "    cmr_host: str,\n",
    "    params: Mapping[str, Any],\n",
    "    **kwargs: Any\n",
    ") -> Mapping[str, Any]:\n",
    "    method = 'post' if 'data' in kwargs or 'files' in kwargs else 'get'\n",
    "    url = urllib.parse.urljoin(f'https://{cmr_host}/search', 'granules.umm_json')\n",
    "    r = requests.request(method, url, params=params, **kwargs)\n",
    "    \n",
    "    return r.json()\n",
    "\n",
    "\n",
    "def umm_granule_size_in_bytes(granule: Mapping[str, Any]) -> int:\n",
    "    adi = granule['DataGranule']['ArchiveAndDistributionInformation'][0]\n",
    "    size_unit = adi.get('SizeUnit', SIZE_UNIT_DEFAULT)\n",
    "    size_unit_factor = SIZE_UNIT_FACTORS.get(size_unit, SIZE_UNIT_FACTORS[SIZE_UNIT_DEFAULT])\n",
    "    \n",
    "    return round(adi.get('SizeInBytes', adi.get('Size', 0) * size_unit_factor))"
   ]
  },
  {
   "cell_type": "markdown",
   "id": "cc86a760",
   "metadata": {},
   "source": [
    "### MAAP Functions"
   ]
  },
  {
   "cell_type": "code",
   "execution_count": 6,
   "id": "fe6c39f5",
   "metadata": {},
   "outputs": [],
   "source": [
    "@timecall\n",
    "def find_granules(**kwargs: Any):\n",
    "    return maap.searchGranule(**kwargs)\n",
    "\n",
    "\n",
    "def download_granule(dest_dir: str, *, overwrite=False) -> Callable[[Granule], None]:\n",
    "    os.makedirs(dest_dir, exist_ok=True)\n",
    "\n",
    "    @timecall\n",
    "    def do_download_granule(granule: Granule) -> None:\n",
    "        granule.getData(dest_dir, overwrite)\n",
    "    \n",
    "    return do_download_granule"
   ]
  },
  {
   "cell_type": "markdown",
   "id": "2c8fc0ad",
   "metadata": {},
   "source": [
    "## Subset Gabon Granules"
   ]
  },
  {
   "cell_type": "markdown",
   "id": "2c500806",
   "metadata": {},
   "source": [
    "### Get Gabon Geo Boundary"
   ]
  },
  {
   "cell_type": "code",
   "execution_count": 7,
   "id": "ca135e0e",
   "metadata": {},
   "outputs": [
    {
     "data": {
      "text/html": [
       "<div>\n",
       "<style scoped>\n",
       "    .dataframe tbody tr th:only-of-type {\n",
       "        vertical-align: middle;\n",
       "    }\n",
       "\n",
       "    .dataframe tbody tr th {\n",
       "        vertical-align: top;\n",
       "    }\n",
       "\n",
       "    .dataframe thead th {\n",
       "        text-align: right;\n",
       "    }\n",
       "</style>\n",
       "<table border=\"1\" class=\"dataframe\">\n",
       "  <thead>\n",
       "    <tr style=\"text-align: right;\">\n",
       "      <th></th>\n",
       "      <th>shapeName</th>\n",
       "      <th>shapeISO</th>\n",
       "      <th>shapeID</th>\n",
       "      <th>shapeGroup</th>\n",
       "      <th>shapeType</th>\n",
       "      <th>geometry</th>\n",
       "    </tr>\n",
       "  </thead>\n",
       "  <tbody>\n",
       "    <tr>\n",
       "      <th>0</th>\n",
       "      <td>Gabon</td>\n",
       "      <td>GAB</td>\n",
       "      <td>GAB-ADM0-3_0_0-B1</td>\n",
       "      <td>GAB</td>\n",
       "      <td>ADM0</td>\n",
       "      <td>MULTIPOLYGON (((8.83154 -0.92271, 8.83809 -0.9...</td>\n",
       "    </tr>\n",
       "  </tbody>\n",
       "</table>\n",
       "</div>"
      ],
      "text/plain": [
       "  shapeName shapeISO            shapeID shapeGroup shapeType  \\\n",
       "0     Gabon      GAB  GAB-ADM0-3_0_0-B1        GAB      ADM0   \n",
       "\n",
       "                                            geometry  \n",
       "0  MULTIPOLYGON (((8.83154 -0.92271, 8.83809 -0.9...  "
      ]
     },
     "execution_count": 7,
     "metadata": {},
     "output_type": "execute_result"
    }
   ],
   "source": [
    "gabon_gdf = get_geo_boundary('GAB', 0)\n",
    "gabon_geojson = gabon_gdf.geometry.to_json()\n",
    "gabon_geodict = json.loads(gabon_geojson)\n",
    "gabon_gdf"
   ]
  },
  {
   "cell_type": "markdown",
   "id": "20c809d8",
   "metadata": {},
   "source": [
    "### Get GEDI L4A Collection"
   ]
  },
  {
   "cell_type": "code",
   "execution_count": 16,
   "id": "59b0d86b",
   "metadata": {},
   "outputs": [],
   "source": [
    "gedi_l4a_doi = '10.3334/ORNLDAAC/1986'\n",
    "gedi_l4a = maap.searchCollection(doi=gedi_l4a_doi, limit=1)[0]\n",
    "gedi_l4a_concept_id = gedi_l4a['concept-id']\n",
    "\n",
    "gedi_l4a = umm_find_collection(nasa_cmr_host, {'doi': gedi_l4a_doi})\n",
    "gedi_l4a_concept_id = gedi_l4a['meta']['concept-id']"
   ]
  },
  {
   "cell_type": "markdown",
   "id": "94cc0e74",
   "metadata": {},
   "source": [
    "### Find GEDI L4A Granules within Gabon Bounding Box"
   ]
  },
  {
   "cell_type": "code",
   "execution_count": 17,
   "id": "551e2a7d",
   "metadata": {},
   "outputs": [
    {
     "name": "stderr",
     "output_type": "stream",
     "text": [
      "\n",
      "  find_granules (/tmp/ipykernel_326/2505500122.py:1):\n",
      "    26.027 seconds\n",
      "\n"
     ]
    },
    {
     "name": "stdout",
     "output_type": "stream",
     "text": [
      "Found 1009 granules\n"
     ]
    }
   ],
   "source": [
    "granules = find_granules(\n",
    "    cmr_host=nasa_cmr_host,\n",
    "    collection_concept_id=gedi_l4a_concept_id,\n",
    "    bounding_box=','.join(map(str, gabon_gdf.total_bounds)),\n",
    "    limit=2000\n",
    ")\n",
    "\n",
    "print(f'Found {len(granules)} granules')"
   ]
  },
  {
   "cell_type": "code",
   "execution_count": 19,
   "id": "e599bda3",
   "metadata": {},
   "outputs": [
    {
     "name": "stderr",
     "output_type": "stream",
     "text": [
      "\n",
      "  do_download_granule (/tmp/ipykernel_326/2505500122.py:9):\n",
      "    0.000 seconds\n",
      "\n",
      "\n",
      "  do_download_granule (/tmp/ipykernel_326/2505500122.py:9):\n",
      "    0.000 seconds\n",
      "\n",
      "\n",
      "  do_download_granule (/tmp/ipykernel_326/2505500122.py:9):\n",
      "    0.000 seconds\n",
      "\n",
      "\n",
      "  do_download_granule (/tmp/ipykernel_326/2505500122.py:9):\n",
      "    0.000 seconds\n",
      "\n",
      "\n",
      "  do_download_granule (/tmp/ipykernel_326/2505500122.py:9):\n",
      "    0.000 seconds\n",
      "\n",
      "\n",
      "  do_download_granule (/tmp/ipykernel_326/2505500122.py:9):\n",
      "    0.000 seconds\n",
      "\n",
      "\n",
      "  do_download_granule (/tmp/ipykernel_326/2505500122.py:9):\n",
      "    0.000 seconds\n",
      "\n",
      "\n",
      "  do_download_granule (/tmp/ipykernel_326/2505500122.py:9):\n",
      "    0.000 seconds\n",
      "\n",
      "\n",
      "  do_download_granule (/tmp/ipykernel_326/2505500122.py:9):\n",
      "    0.000 seconds\n",
      "\n",
      "\n",
      "  do_download_granule (/tmp/ipykernel_326/2505500122.py:9):\n",
      "    0.000 seconds\n",
      "\n",
      "\n",
      "  do_download_granule (/tmp/ipykernel_326/2505500122.py:9):\n",
      "    0.000 seconds\n",
      "\n",
      "\n",
      "  do_download_granule (/tmp/ipykernel_326/2505500122.py:9):\n",
      "    0.000 seconds\n",
      "\n",
      "\n",
      "  do_download_granule (/tmp/ipykernel_326/2505500122.py:9):\n",
      "    0.000 seconds\n",
      "\n",
      "\n",
      "  do_download_granule (/tmp/ipykernel_326/2505500122.py:9):\n",
      "    0.000 seconds\n",
      "\n",
      "\n",
      "  do_download_granule (/tmp/ipykernel_326/2505500122.py:9):\n",
      "    14.517 seconds\n",
      "\n"
     ]
    }
   ],
   "source": [
    "for_each(download_granule('/projects/my-public-bucket/gedi-l4a/gabon'), granules[:15])"
   ]
  },
  {
   "cell_type": "code",
   "execution_count": null,
   "id": "9f73e376",
   "metadata": {},
   "outputs": [],
   "source": []
  }
 ],
 "metadata": {
  "kernelspec": {
   "display_name": "Python 3 (ipykernel)",
   "language": "python",
   "name": "python3"
  },
  "language_info": {
   "codemirror_mode": {
    "name": "ipython",
    "version": 3
   },
   "file_extension": ".py",
   "mimetype": "text/x-python",
   "name": "python",
   "nbconvert_exporter": "python",
   "pygments_lexer": "ipython3",
   "version": "3.7.8"
  }
 },
 "nbformat": 4,
 "nbformat_minor": 5
}
