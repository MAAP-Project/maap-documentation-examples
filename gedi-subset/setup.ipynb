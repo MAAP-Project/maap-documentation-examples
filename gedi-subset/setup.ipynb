{
 "cells": [
  {
   "cell_type": "markdown",
   "id": "b98221d1",
   "metadata": {},
   "source": [
    "# Setup Gabon GEDI L4A Testing\n",
    "\n",
    "1. Download Gabon outline in geospatial format\n",
    "2. Save to the workspace, probably not the repo?\n",
    "3. Query CMR with the bbox of the polygon to find out how many granules are involved\n",
    "\n",
    "Boundary file is available at `shared-buckets/alexdevseed/iso3/GAB-ADM0.json`"
   ]
  },
  {
   "cell_type": "code",
   "execution_count": 1,
   "id": "1b1d41f7",
   "metadata": {},
   "outputs": [],
   "source": [
    "import json\n",
    "import requests\n",
    "\n"
   ]
  },
  {
   "cell_type": "code",
   "execution_count": 2,
   "id": "b4bca91a",
   "metadata": {},
   "outputs": [],
   "source": [
    "iso3 = \"GAB\" # Gabon\n",
    "lvl = 0\n",
    "r = requests.get(f\"https://www.geoboundaries.org/gbRequest.html?ISO={iso3}&ADM=ADM{str(lvl)}\")\n",
    "dlPath = r.json()[0]['gjDownloadURL']\n",
    "geoBoundary = requests.get(dlPath).json()"
   ]
  },
  {
   "cell_type": "code",
   "execution_count": 6,
   "id": "f2816833",
   "metadata": {},
   "outputs": [],
   "source": [
    "output = f\"/projects/my-public-bucket/iso3/{iso3}-ADM{str(lvl)}.json\"\n",
    "with open(output, \"w\") as outfile:\n",
    "    outfile.write(json.dumps(geoBoundary))\n",
    "    "
   ]
  }
 ],
 "metadata": {
  "kernelspec": {
   "display_name": "Python 3 (ipykernel)",
   "language": "python",
   "name": "python3"
  },
  "language_info": {
   "codemirror_mode": {
    "name": "ipython",
    "version": 3
   },
   "file_extension": ".py",
   "mimetype": "text/x-python",
   "name": "python",
   "nbconvert_exporter": "python",
   "pygments_lexer": "ipython3",
   "version": "3.7.8"
  }
 },
 "nbformat": 4,
 "nbformat_minor": 5
}
