{
 "cells": [
  {
   "cell_type": "markdown",
   "id": "38bdb442",
   "metadata": {},
   "source": [
    "# Setup Gabon GEDI L4A Testing\n",
    "\n",
    "1. Download Gabon outline in geospatial format\n",
    "2. Save to the workspace, probably not the repo?\n",
    "3. Query CMR with the bbox of the polygon to find out how many granules are involved\n",
    "\n",
    "Boundary file is available at `shared-buckets/alexdevseed/iso3/GAB-ADM0.json`"
   ]
  },
  {
   "cell_type": "code",
   "execution_count": 17,
   "id": "1a8aefc4",
   "metadata": {},
   "outputs": [
    {
     "name": "stdout",
     "output_type": "stream",
     "text": [
      "Requirement already satisfied: geopandas in /opt/conda/lib/python3.7/site-packages (0.10.2)\n",
      "Requirement already satisfied: profilehooks in /opt/conda/lib/python3.7/site-packages (1.12.0)\n",
      "Requirement already satisfied: shapely>=1.6 in /opt/conda/lib/python3.7/site-packages (from geopandas) (1.8.1.post1)\n",
      "Requirement already satisfied: pandas>=0.25.0 in /opt/conda/lib/python3.7/site-packages (from geopandas) (1.3.1)\n",
      "Requirement already satisfied: fiona>=1.8 in /opt/conda/lib/python3.7/site-packages (from geopandas) (1.8.21)\n",
      "Requirement already satisfied: pyproj>=2.2.0 in /opt/conda/lib/python3.7/site-packages (from geopandas) (2.6.1.post1)\n",
      "Requirement already satisfied: attrs>=17 in /opt/conda/lib/python3.7/site-packages (from fiona>=1.8->geopandas) (20.2.0)\n",
      "Requirement already satisfied: setuptools in /opt/conda/lib/python3.7/site-packages (from fiona>=1.8->geopandas) (49.6.0.post20201009)\n",
      "Requirement already satisfied: click-plugins>=1.0 in /opt/conda/lib/python3.7/site-packages (from fiona>=1.8->geopandas) (1.1.1)\n",
      "Requirement already satisfied: cligj>=0.5 in /opt/conda/lib/python3.7/site-packages (from fiona>=1.8->geopandas) (0.7.0)\n",
      "Requirement already satisfied: six>=1.7 in /opt/conda/lib/python3.7/site-packages (from fiona>=1.8->geopandas) (1.15.0)\n",
      "Requirement already satisfied: munch in /opt/conda/lib/python3.7/site-packages (from fiona>=1.8->geopandas) (2.5.0)\n",
      "Requirement already satisfied: certifi in /opt/conda/lib/python3.7/site-packages (from fiona>=1.8->geopandas) (2021.5.30)\n",
      "Requirement already satisfied: click>=4.0 in /opt/conda/lib/python3.7/site-packages (from fiona>=1.8->geopandas) (7.1.2)\n",
      "Requirement already satisfied: numpy>=1.17.3 in /opt/conda/lib/python3.7/site-packages (from pandas>=0.25.0->geopandas) (1.19.2)\n",
      "Requirement already satisfied: python-dateutil>=2.7.3 in /opt/conda/lib/python3.7/site-packages (from pandas>=0.25.0->geopandas) (2.8.2)\n",
      "Requirement already satisfied: pytz>=2017.3 in /opt/conda/lib/python3.7/site-packages (from pandas>=0.25.0->geopandas) (2021.1)\n",
      "\u001b[33mWARNING: Running pip as the 'root' user can result in broken permissions and conflicting behaviour with the system package manager. It is recommended to use a virtual environment instead: https://pip.pypa.io/warnings/venv\u001b[0m\u001b[33m\n",
      "\u001b[0m"
     ]
    }
   ],
   "source": [
    "!pip install geopandas profilehooks"
   ]
  },
  {
   "cell_type": "code",
   "execution_count": 25,
   "id": "45175d9c",
   "metadata": {},
   "outputs": [],
   "source": [
    "import json\n",
    "import os\n",
    "import os.path\n",
    "import sys\n",
    "import urllib.parse\n",
    "from typing import Any, Callable, Mapping, Optional, Sequence, TypeVar\n",
    "\n",
    "import geopandas as gpd\n",
    "import h5py\n",
    "import numpy as np\n",
    "import requests\n",
    "from maap.maap import Granule, MAAP\n",
    "from profilehooks import timecall\n",
    "\n",
    "T = TypeVar('T')"
   ]
  },
  {
   "cell_type": "code",
   "execution_count": 19,
   "id": "6c4d351b",
   "metadata": {},
   "outputs": [],
   "source": [
    "nasa_cmr_host = 'cmr.earthdata.nasa.gov'\n",
    "maap_cmr_host = 'cmr.maap-project.org'\n",
    "maap = MAAP('api.ops.maap-project.org')"
   ]
  },
  {
   "cell_type": "markdown",
   "id": "3f36d1c9",
   "metadata": {},
   "source": [
    "## Functions"
   ]
  },
  {
   "cell_type": "markdown",
   "id": "ce9c131d",
   "metadata": {},
   "source": [
    "### General Functions"
   ]
  },
  {
   "cell_type": "code",
   "execution_count": 20,
   "id": "39802072",
   "metadata": {},
   "outputs": [],
   "source": [
    "def for_each(f: Callable[[T], None], xs: Sequence[T]) -> None:\n",
    "    for x in xs:\n",
    "        f(x)\n",
    "\n",
    "\n",
    "def pprint(value: Any) -> None:\n",
    "    print(json.dumps(value, indent=2))\n",
    "\n",
    "    \n",
    "def get_geo_boundary(iso: str, level: int) -> gpd.GeoDataFrame:\n",
    "    file_path = f'/projects/my-public-bucket/iso3/{iso}-ADM{level}.json'\n",
    "    \n",
    "    if not os.path.exists(file_path):\n",
    "        r = requests.get(\n",
    "            'https://www.geoboundaries.org/gbRequest.html',\n",
    "            dict(ISO=iso, ADM=f'ADM{level}')\n",
    "        )\n",
    "        r.raise_for_status()\n",
    "        dl_url = r.json()[0]['gjDownloadURL']\n",
    "        geo_boundary = requests.get(dl_url).json()\n",
    "\n",
    "        with open(file_path, 'w') as out:\n",
    "            out.write(json.dumps(geo_boundary))\n",
    "    \n",
    "    return gpd.read_file(file_path)"
   ]
  },
  {
   "cell_type": "markdown",
   "id": "60067954",
   "metadata": {},
   "source": [
    "### UMM Functions"
   ]
  },
  {
   "cell_type": "code",
   "execution_count": 21,
   "id": "1a07182c",
   "metadata": {},
   "outputs": [],
   "source": [
    "SIZE_UNIT_DEFAULT = 'MB'\n",
    "SIZE_UNIT_FACTORS = dict(\n",
    "    KB=1000,\n",
    "    MB=1000 * 1000,\n",
    "    GB=1000 * 1000 * 1000,\n",
    ")\n",
    "\n",
    "\n",
    "def umm_find_collections(\n",
    "    cmr_host: str,\n",
    "    params: Mapping[str, Any],\n",
    "    **kwargs: Any\n",
    ") -> Mapping[str, Any]:\n",
    "    url = f'https://{cmr_host}/search/collections.umm_json'\n",
    "    r = requests.get(url, params, **kwargs)\n",
    "\n",
    "    return r.json()\n",
    "\n",
    "\n",
    "def umm_find_collection(\n",
    "    cmr_host: str,\n",
    "    params: Mapping[str, Any],\n",
    "    **kwargs: Any\n",
    ") -> Mapping[str, Any]:\n",
    "    return umm_find_collections(cmr_host, {**params, 'page_size': 1}, **kwargs)['items'][0]\n",
    "\n",
    "\n",
    "@timecall\n",
    "def umm_find_granules(\n",
    "    cmr_host: str,\n",
    "    params: Mapping[str, Any],\n",
    "    **kwargs: Any\n",
    ") -> Mapping[str, Any]:\n",
    "    method = 'post' if 'data' in kwargs or 'files' in kwargs else 'get'\n",
    "    url = urllib.parse.urljoin(f'https://{cmr_host}/search', 'granules.umm_json')\n",
    "    r = requests.request(method, url, params=params, **kwargs)\n",
    "    \n",
    "    return r.json()\n",
    "\n",
    "\n",
    "def umm_granule_size_in_bytes(granule: Mapping[str, Any]) -> int:\n",
    "    adi = granule['DataGranule']['ArchiveAndDistributionInformation'][0]\n",
    "    size_unit = adi.get('SizeUnit', SIZE_UNIT_DEFAULT)\n",
    "    size_unit_factor = SIZE_UNIT_FACTORS.get(size_unit, SIZE_UNIT_FACTORS[SIZE_UNIT_DEFAULT])\n",
    "    \n",
    "    return round(adi.get('SizeInBytes', adi.get('Size', 0) * size_unit_factor))"
   ]
  },
  {
   "cell_type": "markdown",
   "id": "7b8e41b8",
   "metadata": {},
   "source": [
    "### MAAP Functions"
   ]
  },
  {
   "cell_type": "code",
   "execution_count": 22,
   "id": "1009dd06",
   "metadata": {},
   "outputs": [],
   "source": [
    "@timecall\n",
    "def find_granules(**kwargs: Any):\n",
    "    return maap.searchGranule(**kwargs)\n",
    "\n",
    "\n",
    "def download_granule(dest_dir: str, *, overwrite=False) -> Callable[[Granule], None]:\n",
    "    os.makedirs(dest_dir, exist_ok=True)\n",
    "\n",
    "    @timecall\n",
    "    def do_download_granule(granule: Granule) -> None:\n",
    "        granule.getData(dest_dir, overwrite)\n",
    "    \n",
    "    return do_download_granule"
   ]
  },
  {
   "cell_type": "markdown",
   "id": "99b76c05",
   "metadata": {},
   "source": [
    "## Subset Gabon Granules"
   ]
  },
  {
   "cell_type": "markdown",
   "id": "3e287ee4",
   "metadata": {},
   "source": [
    "### Get Gabon Geo Boundary"
   ]
  },
  {
   "cell_type": "code",
   "execution_count": 23,
   "id": "ee31016c",
   "metadata": {},
   "outputs": [
    {
     "data": {
      "text/html": [
       "<div>\n",
       "<style scoped>\n",
       "    .dataframe tbody tr th:only-of-type {\n",
       "        vertical-align: middle;\n",
       "    }\n",
       "\n",
       "    .dataframe tbody tr th {\n",
       "        vertical-align: top;\n",
       "    }\n",
       "\n",
       "    .dataframe thead th {\n",
       "        text-align: right;\n",
       "    }\n",
       "</style>\n",
       "<table border=\"1\" class=\"dataframe\">\n",
       "  <thead>\n",
       "    <tr style=\"text-align: right;\">\n",
       "      <th></th>\n",
       "      <th>shapeName</th>\n",
       "      <th>shapeISO</th>\n",
       "      <th>shapeID</th>\n",
       "      <th>shapeGroup</th>\n",
       "      <th>shapeType</th>\n",
       "      <th>geometry</th>\n",
       "    </tr>\n",
       "  </thead>\n",
       "  <tbody>\n",
       "    <tr>\n",
       "      <th>0</th>\n",
       "      <td>Gabon</td>\n",
       "      <td>GAB</td>\n",
       "      <td>GAB-ADM0-3_0_0-B1</td>\n",
       "      <td>GAB</td>\n",
       "      <td>ADM0</td>\n",
       "      <td>MULTIPOLYGON (((8.83154 -0.92271, 8.83809 -0.9...</td>\n",
       "    </tr>\n",
       "  </tbody>\n",
       "</table>\n",
       "</div>"
      ],
      "text/plain": [
       "  shapeName shapeISO            shapeID shapeGroup shapeType  \\\n",
       "0     Gabon      GAB  GAB-ADM0-3_0_0-B1        GAB      ADM0   \n",
       "\n",
       "                                            geometry  \n",
       "0  MULTIPOLYGON (((8.83154 -0.92271, 8.83809 -0.9...  "
      ]
     },
     "execution_count": 23,
     "metadata": {},
     "output_type": "execute_result"
    }
   ],
   "source": [
    "gabon_gdf = get_geo_boundary('GAB', 0)\n",
    "gabon_geojson = gabon_gdf.geometry.to_json()\n",
    "gabon_geodict = json.loads(gabon_geojson)\n",
    "gabon_gdf"
   ]
  },
  {
   "cell_type": "markdown",
   "id": "c0b93240",
   "metadata": {},
   "source": [
    "### Get GEDI L4A Collection"
   ]
  },
  {
   "cell_type": "code",
   "execution_count": 24,
   "id": "badb71bc",
   "metadata": {},
   "outputs": [],
   "source": [
    "gedi_l4a_doi = '10.3334/ORNLDAAC/1986'\n",
    "gedi_l4a = maap.searchCollection(doi=gedi_l4a_doi, limit=1)[0]\n",
    "gedi_l4a_concept_id = gedi_l4a['concept-id']"
   ]
  },
  {
   "cell_type": "markdown",
   "id": "5d9b3618",
   "metadata": {},
   "source": [
    "### Find GEDI L4A Granules within Gabon Bounding Box"
   ]
  },
  {
   "cell_type": "code",
   "execution_count": 24,
   "id": "57a370f0",
   "metadata": {},
   "outputs": [
    {
     "name": "stderr",
     "output_type": "stream",
     "text": [
      "\n",
      "  find_granules (/tmp/ipykernel_3734/2505500122.py:1):\n",
      "    84.751 seconds\n",
      "\n"
     ]
    },
    {
     "name": "stdout",
     "output_type": "stream",
     "text": [
      "Found 1009 granules\n"
     ]
    }
   ],
   "source": [
    "granules = find_granules(\n",
    "    collection_concept_id=gedi_l4a_concept_id,\n",
    "    bounding_box=','.join(map(str, gabon_gdf.total_bounds)),\n",
    "    limit=2000\n",
    ")\n",
    "\n",
    "print(f'Found {len(granules)} granules')"
   ]
  },
  {
   "cell_type": "code",
   "execution_count": 16,
   "id": "1d4866ad",
   "metadata": {},
   "outputs": [
    {
     "name": "stderr",
     "output_type": "stream",
     "text": [
      "\n",
      "  do_download_granule (/tmp/ipykernel_3734/2505500122.py:9):\n",
      "    0.000 seconds\n",
      "\n"
     ]
    }
   ],
   "source": [
    "for_each(download_granule('/projects/my-public-bucket/gedi-l4a/gabon'), granules[13:14])"
   ]
  },
  {
   "cell_type": "code",
   "execution_count": null,
   "id": "596d6ad6",
   "metadata": {},
   "outputs": [],
   "source": []
  }
 ],
 "metadata": {
  "kernelspec": {
   "display_name": "Python 3 (ipykernel)",
   "language": "python",
   "name": "python3"
  },
  "language_info": {
   "codemirror_mode": {
    "name": "ipython",
    "version": 3
   },
   "file_extension": ".py",
   "mimetype": "text/x-python",
   "name": "python",
   "nbconvert_exporter": "python",
   "pygments_lexer": "ipython3",
   "version": "3.7.8"
  }
 },
 "nbformat": 4,
 "nbformat_minor": 5
}
