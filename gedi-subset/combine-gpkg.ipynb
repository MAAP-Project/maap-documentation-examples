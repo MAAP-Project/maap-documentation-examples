{
 "cells": [
  {
   "cell_type": "markdown",
   "id": "ff432b59",
   "metadata": {},
   "source": [
    "# Combine\n",
    "\n",
    "Combine together the subsets as a single data layer (geojson?)\n",
    "\n",
    "1. make a list of all the subsets (geojson)\n",
    "2. read in the 1st subset\n",
    "    a. add column for uid (granuleid, or name of the file)? What does the user need to find this\n",
    "    Would the user know what collection this came from?\n",
    "3. read next subset (loop over remaining)\n",
    "    a. add column for uid (granuleid, or name of the file)? What does the user need to find this\n",
    "    b. append to the 1st subset https://geopandas.org/en/stable/docs/user_guide/mergingdata.html\n",
    "4. save final geodataframe as new geojson"
   ]
  },
  {
   "cell_type": "code",
   "execution_count": 1,
   "id": "7af9a8f1",
   "metadata": {},
   "outputs": [
    {
     "name": "stdout",
     "output_type": "stream",
     "text": [
      "Requirement already satisfied: returns in /opt/conda/lib/python3.7/site-packages (0.18.0)\n",
      "Requirement already satisfied: typing-extensions<5.0,>=4.0 in /opt/conda/lib/python3.7/site-packages (from returns) (4.1.1)\n",
      "\u001b[33mWARNING: Running pip as the 'root' user can result in broken permissions and conflicting behaviour with the system package manager. It is recommended to use a virtual environment instead: https://pip.pypa.io/warnings/venv\u001b[0m\u001b[33m\n",
      "\u001b[0m"
     ]
    }
   ],
   "source": [
    "!pip install returns"
   ]
  },
  {
   "cell_type": "code",
   "execution_count": 6,
   "id": "eca19cff",
   "metadata": {},
   "outputs": [],
   "source": [
    "import os\n",
    "import os.path\n",
    "from pathlib import Path\n",
    "from typing import Any, Callable, Iterable, Mapping, TypeVar, Union\n",
    "\n",
    "import geopandas as gpd\n",
    "import pandas as pd\n",
    "from gedi_utils import chext, converge, df_assign\n",
    "from profilehooks import timecall\n",
    "from returns.curry import curry, partial\n",
    "from returns.functions import tap\n",
    "from returns.io import impure_safe, IOResult, IOResultE, IOSuccess\n",
    "from returns.iterables import Fold\n",
    "from returns.pipeline import flow\n",
    "from returns.pointfree import bimap, bind_ioresult, map_\n",
    "from returns.result import Success\n",
    "from returns.unsafe import unsafe_perform_io\n",
    "\n",
    "_E = TypeVar('_E', bound=Exception)"
   ]
  },
  {
   "cell_type": "code",
   "execution_count": 9,
   "id": "ebaaa276",
   "metadata": {},
   "outputs": [],
   "source": [
    "@curry\n",
    "def append_error_message(extra_message: str, e: _E) -> _E:\n",
    "    message, *other_args = e.args if e.args else tuple(None, )\n",
    "    new_message = f'{message}: {extra_message}' if message else extra_message\n",
    "    e.args = (new_message, *other_args)\n",
    "    \n",
    "    return e\n",
    "    \n",
    "\n",
    "@curry\n",
    "def gdf_to_file(\n",
    "    path: Union[str, os.PathLike],\n",
    "    props: Mapping[str, Any],\n",
    "    gdf: gpd.GeoDataFrame\n",
    ") -> IOResultE[None]:\n",
    "    # Unfortunately, using mode='a' when the target file does not exist throws an\n",
    "    # exception rather than simply creating a new file.  Therefore, in that case, we\n",
    "    # switch to mode='w' to avoid the error.\n",
    "    mode = props.get('mode')\n",
    "    props = dict(props, mode='w' if mode == 'a' and not os.path.exists(path) else mode)\n",
    "    \n",
    "    return impure_safe(gdf.to_file)(path, **props).alt(append_error_message(f'{props}'))\n",
    "\n",
    "\n",
    "@curry\n",
    "def combine_to_gpkg(\n",
    "    dest_path: Union[str, os.PathLike],\n",
    "    src_paths: Iterable[Union[str, os.PathLike]]\n",
    ") -> IOResultE[None]:\n",
    "    def gpd_read_with_filename(path: str) -> IOResultE[gpd.GeoDataFrame]:\n",
    "        return flow(\n",
    "            impure_safe(gpd.read_file)(path),\n",
    "            bimap(\n",
    "                df_assign('filename', chext('.h5', os.path.basename(path))),\n",
    "                append_error_message(f'source {path}')\n",
    "            ),\n",
    "        )\n",
    "    \n",
    "    return flow(\n",
    "        src_paths,\n",
    "        partial(map, gpd_read_with_filename),\n",
    "        partial(map, bind_ioresult(gdf_to_file(dest_path)({'mode': 'a'}))),\n",
    "        partial(map, IOResult.swap),\n",
    "        partial(Fold.collect_all, acc=IOSuccess(())),\n",
    "        IOResult.swap,\n",
    "    )"
   ]
  },
  {
   "cell_type": "code",
   "execution_count": 10,
   "id": "ff78a0ff",
   "metadata": {},
   "outputs": [
    {
     "name": "stderr",
     "output_type": "stream",
     "text": [
      "\n",
      "  combine_to_gpkg (/tmp/ipykernel_11222/1208387644.py:25):\n",
      "    47.074 seconds\n",
      "\n"
     ]
    },
    {
     "data": {
      "text/plain": [
       "<Failure: ()>"
      ]
     },
     "execution_count": 10,
     "metadata": {},
     "output_type": "execute_result"
    }
   ],
   "source": [
    "dirpath = Path('/') / 'projects' / 'my-public-bucket' / 'gedi-l4a' / 'gabon'\n",
    "gpkg_filename = Path('/') / 'projects' / 'tmp' / 'gabon.gpkg'\n",
    "\n",
    "# if os.path.exists(gpkg_filename):\n",
    "#     os.remove(gpkg_filename)\n",
    "\n",
    "# result = timecall(combine_to_gpkg)(gpkg_filename, dirpath.glob('*.fgb'))\n",
    "# result = timecall(combine_to_gpkg)(gpkg_filename, [\n",
    "#     '/projects/my-public-bucket/gedi-l4a/gabon/GEDI04_A_2019114135421_O02061_04_T00905_02_002_01_V002.fgb',\n",
    "#     '/projects/my-public-bucket/gedi-l4a/gabon/GEDI04_A_2019115021551_O02069_01_T03606_02_002_01_V002.fgb',\n",
    "#     '/projects/my-public-bucket/gedi-l4a/gabon/GEDI04_A_2019115021551_O02069_02_T03606_02_002_01_V002.fgb'\n",
    "# ])\n",
    "# unsafe_perform_io(result)"
   ]
  },
  {
   "cell_type": "markdown",
   "id": "82473e5b",
   "metadata": {},
   "source": [
    "There were 3 files that were initially incorrect and had to be regenerated:\n",
    "\n",
    "```plain\n",
    "/projects/my-public-bucket/gedi-l4a/gabon/GEDI04_A_2019114135421_O02061_04_T00905_02_002_01_V002.fgb\n",
    "/projects/my-public-bucket/gedi-l4a/gabon/GEDI04_A_2019115021551_O02069_01_T03606_02_002_01_V002.fgb\n",
    "/projects/my-public-bucket/gedi-l4a/gabon/GEDI04_A_2019115021551_O02069_02_T03606_02_002_01_V002.fgb\n",
    "```\n",
    "\n",
    "This was the original output:\n",
    "\n",
    "```plain\n",
    "<Failure: (ValueError(\"Record does not match collection schema: dict_keys(['BEAM', 'agbd', 'agbd_se', 'filename', 'l4_quality_flag', 'lat_lowestmode', 'lon_lowestmode', 'sensitivity']) != ['BEAM', 'agbd', 'agbd_se', 'sensitivity', 'l4_quality_flag', 'filename']: {'mode': 'a'}\"), ValueError(\"Record does not match collection schema: dict_keys(['BEAM', 'agbd', 'agbd_se', 'filename', 'l4_quality_flag', 'lat_lowestmode', 'lon_lowestmode', 'sensitivity']) != ['BEAM', 'agbd', 'agbd_se', 'sensitivity', 'l4_quality_flag', 'filename']: {'mode': 'a'}\"), ValueError(\"Record does not match collection schema: dict_keys(['BEAM', 'agbd', 'agbd_se', 'filename', 'l4_quality_flag', 'lat_lowestmode', 'lon_lowestmode', 'sensitivity']) != ['BEAM', 'agbd', 'agbd_se', 'sensitivity', 'l4_quality_flag', 'filename']: {'mode': 'a'}\"))>\n",
    "```\n",
    "\n",
    "The error messages do not include the filenames, so the code needs to be enhanced to capture the corresponding filenames.  The filenames above were obtained from output generated during execution (and each was followed by an error message)."
   ]
  },
  {
   "cell_type": "code",
   "execution_count": null,
   "id": "b8146072",
   "metadata": {},
   "outputs": [],
   "source": []
  }
 ],
 "metadata": {
  "kernelspec": {
   "display_name": "Python 3 (ipykernel)",
   "language": "python",
   "name": "python3"
  },
  "language_info": {
   "codemirror_mode": {
    "name": "ipython",
    "version": 3
   },
   "file_extension": ".py",
   "mimetype": "text/x-python",
   "name": "python",
   "nbconvert_exporter": "python",
   "pygments_lexer": "ipython3",
   "version": "3.7.8"
  }
 },
 "nbformat": 4,
 "nbformat_minor": 5
}
