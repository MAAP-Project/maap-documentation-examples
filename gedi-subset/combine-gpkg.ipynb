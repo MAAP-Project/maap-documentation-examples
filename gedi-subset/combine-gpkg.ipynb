{
 "cells": [
  {
   "cell_type": "markdown",
   "id": "b5098834",
   "metadata": {},
   "source": [
    "# Combine\n",
    "\n",
    "Combine together the subsets as a single data layer (geojson?)\n",
    "\n",
    "1. make a list of all the subsets (geojson)\n",
    "2. read in the 1st subset\n",
    "    a. add column for uid (granuleid, or name of the file)? What does the user need to find this\n",
    "    Would the user know what collection this came from?\n",
    "3. read next subset (loop over remaining)\n",
    "    a. add column for uid (granuleid, or name of the file)? What does the user need to find this\n",
    "    b. append to the 1st subset https://geopandas.org/en/stable/docs/user_guide/mergingdata.html\n",
    "4. save final geodataframe as new geojson"
   ]
  },
  {
   "cell_type": "code",
   "execution_count": 1,
   "id": "c14462c8",
   "metadata": {},
   "outputs": [
    {
     "name": "stdout",
     "output_type": "stream",
     "text": [
      "Requirement already satisfied: geopandas in /opt/conda/lib/python3.7/site-packages (from -r requirements.txt (line 1)) (0.10.2)\n",
      "Requirement already satisfied: profilehooks in /opt/conda/lib/python3.7/site-packages (from -r requirements.txt (line 2)) (1.12.0)\n",
      "Requirement already satisfied: returns in /opt/conda/lib/python3.7/site-packages (from -r requirements.txt (line 3)) (0.19.0)\n",
      "Requirement already satisfied: typer in /opt/conda/lib/python3.7/site-packages (from -r requirements.txt (line 4)) (0.4.0)\n",
      "Requirement already satisfied: fiona>=1.8 in /opt/conda/lib/python3.7/site-packages (from geopandas->-r requirements.txt (line 1)) (1.8.21)\n",
      "Requirement already satisfied: pandas>=0.25.0 in /opt/conda/lib/python3.7/site-packages (from geopandas->-r requirements.txt (line 1)) (1.3.1)\n",
      "Requirement already satisfied: shapely>=1.6 in /opt/conda/lib/python3.7/site-packages (from geopandas->-r requirements.txt (line 1)) (1.8.1.post1)\n",
      "Requirement already satisfied: pyproj>=2.2.0 in /opt/conda/lib/python3.7/site-packages (from geopandas->-r requirements.txt (line 1)) (2.6.1.post1)\n",
      "Requirement already satisfied: typing-extensions<5.0,>=4.0 in /opt/conda/lib/python3.7/site-packages (from returns->-r requirements.txt (line 3)) (4.1.1)\n",
      "Requirement already satisfied: click<9.0.0,>=7.1.1 in /opt/conda/lib/python3.7/site-packages (from typer->-r requirements.txt (line 4)) (7.1.2)\n",
      "Requirement already satisfied: setuptools in /opt/conda/lib/python3.7/site-packages (from fiona>=1.8->geopandas->-r requirements.txt (line 1)) (49.6.0.post20201009)\n",
      "Requirement already satisfied: attrs>=17 in /opt/conda/lib/python3.7/site-packages (from fiona>=1.8->geopandas->-r requirements.txt (line 1)) (20.2.0)\n",
      "Requirement already satisfied: cligj>=0.5 in /opt/conda/lib/python3.7/site-packages (from fiona>=1.8->geopandas->-r requirements.txt (line 1)) (0.7.0)\n",
      "Requirement already satisfied: certifi in /opt/conda/lib/python3.7/site-packages (from fiona>=1.8->geopandas->-r requirements.txt (line 1)) (2021.5.30)\n",
      "Requirement already satisfied: click-plugins>=1.0 in /opt/conda/lib/python3.7/site-packages (from fiona>=1.8->geopandas->-r requirements.txt (line 1)) (1.1.1)\n",
      "Requirement already satisfied: six>=1.7 in /opt/conda/lib/python3.7/site-packages (from fiona>=1.8->geopandas->-r requirements.txt (line 1)) (1.15.0)\n",
      "Requirement already satisfied: munch in /opt/conda/lib/python3.7/site-packages (from fiona>=1.8->geopandas->-r requirements.txt (line 1)) (2.5.0)\n",
      "Requirement already satisfied: numpy>=1.17.3 in /opt/conda/lib/python3.7/site-packages (from pandas>=0.25.0->geopandas->-r requirements.txt (line 1)) (1.19.2)\n",
      "Requirement already satisfied: python-dateutil>=2.7.3 in /opt/conda/lib/python3.7/site-packages (from pandas>=0.25.0->geopandas->-r requirements.txt (line 1)) (2.8.2)\n",
      "Requirement already satisfied: pytz>=2017.3 in /opt/conda/lib/python3.7/site-packages (from pandas>=0.25.0->geopandas->-r requirements.txt (line 1)) (2021.1)\n",
      "\u001b[33mWARNING: Running pip as the 'root' user can result in broken permissions and conflicting behaviour with the system package manager. It is recommended to use a virtual environment instead: https://pip.pypa.io/warnings/venv\u001b[0m\u001b[33m\n",
      "\u001b[0m"
     ]
    }
   ],
   "source": [
    "!pip install -r requirements.txt"
   ]
  },
  {
   "cell_type": "code",
   "execution_count": 2,
   "id": "62321d4c",
   "metadata": {},
   "outputs": [
    {
     "name": "stderr",
     "output_type": "stream",
     "text": [
      "/opt/conda/lib/python3.7/site-packages/geopandas/_compat.py:115: UserWarning: The Shapely GEOS version (3.10.2-CAPI-1.16.0) is incompatible with the GEOS version PyGEOS was compiled with (3.8.1-CAPI-1.13.3). Conversions between both will be slow.\n",
      "  shapely_geos_version, geos_capi_version_string\n"
     ]
    }
   ],
   "source": [
    "import os\n",
    "import os.path\n",
    "from pathlib import Path\n",
    "from typing import Any, Callable, Iterable, Mapping, TypeVar, Union\n",
    "\n",
    "import geopandas as gpd\n",
    "import pandas as pd\n",
    "from gedi_utils import chext, combine_gdf_files, converge, df_assign, for_each\n",
    "from profilehooks import timecall\n",
    "from returns.curry import curry, partial\n",
    "from returns.functions import identity, tap\n",
    "from returns.io import impure_safe, IOFailure, IOResult, IOResultE, IOSuccess\n",
    "from returns.iterables import Fold\n",
    "from returns.pipeline import flow, pipe\n",
    "from returns.pointfree import bimap, bind_ioresult, map_\n",
    "from returns.result import Success\n",
    "from returns.unsafe import unsafe_perform_io"
   ]
  },
  {
   "cell_type": "code",
   "execution_count": 3,
   "id": "db871575",
   "metadata": {},
   "outputs": [],
   "source": [
    "dirpath = Path('/') / 'projects' / 'my-public-bucket' / 'gedi-l4a' / 'gabon'\n",
    "gpkg_filename = Path('/') / 'projects' / 'tmp' / 'gabon.gpkg'\n",
    "\n",
    "# if os.path.exists(gpkg_filename):\n",
    "#     os.remove(gpkg_filename)\n",
    "\n",
    "# result = timecall(combine_gdf_files)(gpkg_filename, dirpath.glob('*.fgb'))\n",
    "\n",
    "# unsafe_perform_io(result)"
   ]
  },
  {
   "cell_type": "code",
   "execution_count": 4,
   "id": "48ab608f",
   "metadata": {},
   "outputs": [
    {
     "name": "stderr",
     "output_type": "stream",
     "text": [
      "\n",
      "  combine_gdf_files (/projects/maap-documentation-examples/gedi-subset/gedi_utils.py:108):\n",
      "    0.346 seconds\n",
      "\n"
     ]
    },
    {
     "name": "stdout",
     "output_type": "stream",
     "text": [
      "/projects/my-public-bucket/gedi-l4a/gabon/GEDI04_A_2019114135421_O02061_04_T00905_02_002_01_V002.fb: No such file or directory\n"
     ]
    },
    {
     "data": {
      "text/plain": [
       "<Failure: ('/projects/my-public-bucket/gedi-l4a/gabon/GEDI04_A_2019114135421_O02061_04_T00905_02_002_01_V002.fb: No such file or directory',)>"
      ]
     },
     "execution_count": 4,
     "metadata": {},
     "output_type": "execute_result"
    }
   ],
   "source": [
    "scratch_gpkg = '/projects/tmp/scratch.gpkg'\n",
    "\n",
    "if os.path.exists(gpkg_filename):\n",
    "    os.remove(gpkg_filename)\n",
    "\n",
    "result = timecall(combine_gdf_files)(scratch_gpkg, [\n",
    "    '/projects/my-public-bucket/gedi-l4a/gabon/GEDI04_A_2019114135421_O02061_04_T00905_02_002_01_V002.fb',\n",
    "])\n",
    "\n",
    "result\n",
    "unsafe_perform_io(result).alt(tap(for_each(print)))"
   ]
  },
  {
   "cell_type": "code",
   "execution_count": null,
   "id": "fea434b9",
   "metadata": {},
   "outputs": [],
   "source": []
  }
 ],
 "metadata": {
  "kernelspec": {
   "display_name": "Python 3 (ipykernel)",
   "language": "python",
   "name": "python3"
  },
  "language_info": {
   "codemirror_mode": {
    "name": "ipython",
    "version": 3
   },
   "file_extension": ".py",
   "mimetype": "text/x-python",
   "name": "python",
   "nbconvert_exporter": "python",
   "pygments_lexer": "ipython3",
   "version": "3.7.8"
  }
 },
 "nbformat": 4,
 "nbformat_minor": 5
}
