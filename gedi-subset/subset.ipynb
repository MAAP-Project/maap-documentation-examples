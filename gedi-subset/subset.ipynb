{
 "cells": [
  {
   "cell_type": "markdown",
   "id": "dbda853b",
   "metadata": {},
   "source": [
    "Code copied from https://repo.ops.maap-project.org/gchang/gedi_tutorials/-/blob/main/2_gedi_l4a_subsets.ipynb\n",
    "\n",
    "From Laura:\n",
    "- Select only variables of user interest (e.g. RH100, RH50 from L2A, cover and pan from L2B, agbd and agbd_se from L4A)\n",
    "- Ability to subset by sensitivity attribute to some level (e.g. where sensitivity >0.95)\n",
    "- Ability to subset using quality flag (L4_quality_flag in L4A, quality_flag in L2A)\n"
   ]
  },
  {
   "cell_type": "code",
   "execution_count": 38,
   "id": "b475c37b",
   "metadata": {},
   "outputs": [],
   "source": [
    "import os\n",
    "from glob import glob\n",
    "from os import path\n",
    "import pandas as pd\n",
    "import geopandas as gpd\n",
    "import h5py\n",
    "import numpy as np\n",
    "from profilehooks import timecall\n",
    "from typing import List\n",
    "import multiprocessing\n",
    "\n",
    "from gedi_utils import get_geo_boundary"
   ]
  },
  {
   "cell_type": "code",
   "execution_count": 2,
   "id": "9c7a13c6",
   "metadata": {},
   "outputs": [],
   "source": [
    "infile = \"GEDI04_A_2019108045816_O01962_01_T01066_02_002_01_V002.h5\"\n",
    "hf_in = h5py.File(infile, 'r')"
   ]
  },
  {
   "cell_type": "code",
   "execution_count": 43,
   "id": "671828ae",
   "metadata": {},
   "outputs": [],
   "source": [
    "@timecall\n",
    "def subset_gedi_granule(granule: str, aoi, filter_cols: List = [\"lat_lowestmode\", \"lon_lowestmode\"]):\n",
    "    \"\"\"\n",
    "    Subset a GEDI granule by a polygon in CRS 4326\n",
    "    granule = path to a granule h5 file that's already been downloaded\n",
    "    aoi = a shapely polygon of the aoi\n",
    "    \n",
    "    return path to geojson output\n",
    "    \"\"\"\n",
    "    infile = granule\n",
    "\n",
    "    hf_in = h5py.File(infile, 'r')\n",
    "\n",
    "    result = subset_h5(hf_in, aoi, filter_cols)\n",
    "    \n",
    "    return result\n",
    "\n",
    "#@timecall\n",
    "def spatial_filter(beam, aoi):\n",
    "    \n",
    "    lat = beam['lat_lowestmode'][:]\n",
    "    lon = beam['lon_lowestmode'][:]\n",
    "    i = np.arange(0, len(lat), 1) # index\n",
    "    geo_arr = list(zip(lat,lon, i))\n",
    "    l4adf = pd.DataFrame(geo_arr, columns=[\"lat_lowestmode\", \"lon_lowestmode\", \"i\"])\n",
    "    l4agdf = gpd.GeoDataFrame(l4adf, geometry=gpd.points_from_xy(l4adf.lon_lowestmode, l4adf.lat_lowestmode))\n",
    "    l4agdf.crs = \"EPSG:4326\"\n",
    "    # TODO: is it faster with a spatial index, or rough pass with BBOX first?\n",
    "    bbox = aoi.geometry[0].bounds\n",
    "    l4agdf_clip = l4agdf.cx[bbox[0]:bbox[2], bbox[1]:bbox[3]]\n",
    "    l4agdf_gsrm = l4agdf_clip[l4agdf_clip['geometry'].within(aoi.geometry[0])]\n",
    "    indices = l4agdf_gsrm.i\n",
    "    \n",
    "    return indices\n",
    "\n",
    "#@timecall\n",
    "def subset_h5(hf_in, aoi, filter_cols):\n",
    "    subset_df = pd.DataFrame()\n",
    "    \n",
    "    # loop through BEAMXXXX groups\n",
    "    for v in list(hf_in.keys()):\n",
    "        if v.startswith('BEAM'):\n",
    "            col_names = []\n",
    "            col_val = []\n",
    "            beam = hf_in[v]\n",
    "            \n",
    "            indices = spatial_filter(beam, aoi)\n",
    "            \n",
    "            # TODO: when to spatial subset?\n",
    "            for key, value in beam.items():\n",
    "                # looping through subgroups\n",
    "                if isinstance(value, h5py.Group):\n",
    "                    for key2, value2 in value.items():\n",
    "                        if (key2 not in filter_cols):\n",
    "                            continue\n",
    "                        if (key2 != \"shot_number\"):\n",
    "                             # xvar variables have 2D\n",
    "                            if (key2.startswith('xvar')):\n",
    "                                for r in range(4):\n",
    "                                    col_names.append(key2 + '_' + str(r+1))\n",
    "                                    col_val.append(value2[:, r][indices].tolist())\n",
    "                            else:\n",
    "                                col_names.append(key2)\n",
    "                                col_val.append(value2[:][indices].tolist())\n",
    "                \n",
    "                #looping through base group\n",
    "                else:\n",
    "                    if (key not in filter_cols):\n",
    "                        continue\n",
    "                    # xvar variables have 2D\n",
    "                    if (key.startswith('xvar')):\n",
    "                        for r in range(4):\n",
    "                            col_names.append(key + '_' + str(r+1))\n",
    "                            col_val.append(value[:, r][indices].tolist())\n",
    "                           \n",
    "                    else:\n",
    "                        col_names.append(key)\n",
    "                        col_val.append(value[:][indices].tolist())\n",
    "                    \n",
    "            # create a pandas dataframe        \n",
    "            beam_df = pd.DataFrame(map(list, zip(*col_val)), columns=col_names) \n",
    "            # Inserting BEAM names\n",
    "            beam_df.insert(0, 'BEAM', np.repeat(str(v), len(beam_df.index)).tolist())\n",
    "            # Appending to the subset_df dataframe\n",
    "            subset_df = subset_df.append(beam_df)\n",
    "    \n",
    "    hf_in.close()\n",
    "    # all_gdf = gpd.GeoDataFrame(subset_df, geometry=gpd.points_from_xy(subset_df.lon_lowestmode, subset_df.lat_lowestmode))\n",
    "    all_gdf = gpd.GeoDataFrame(subset_df.loc[:,~subset_df.columns.isin(['lon_lowestmode', 'lat_lowestmode'])],\n",
    "                               geometry=gpd.points_from_xy(subset_df.lon_lowestmode, subset_df.lat_lowestmode))\n",
    "    all_gdf.crs = \"EPSG:4326\"\n",
    "    # TODO: Drop the lon and lat columns after geometry creation(or during)\n",
    "    # TODO: document how many points before and after filtering\n",
    "    #print(f\"All points {all_gdf.shape}\")\n",
    "    subset_gdf = all_gdf[all_gdf['agbd'] >= 0] #Filter out bad? data\n",
    "    subset_gdf = all_gdf #Doing the spatial search first didn't help at all, so maybe the spatial query is the slow part.\n",
    "    print(f\"Subset points {subset_gdf.shape}\")\n",
    "    \n",
    "    return subset_gdf\n",
    "\n",
    "@timecall\n",
    "def write_subset(infile, gdf):\n",
    "    \"\"\"\n",
    "    Write GeoDataFrame to geojson\n",
    "    \"\"\"\n",
    "    outfile = infile.replace('.h5', '.fgb')\n",
    "    gdf.to_file(outfile, driver='FlatGeobuf')\n",
    "    \n",
    "    return outfile"
   ]
  },
  {
   "cell_type": "code",
   "execution_count": null,
   "id": "6ed91f81",
   "metadata": {},
   "outputs": [],
   "source": [
    "# Thinking about a parallel version, but will file access lock?\n",
    "def collect_results(result):\n",
    "    results.extend(result)"
   ]
  },
  {
   "cell_type": "code",
   "execution_count": 6,
   "id": "7ccfaa8d",
   "metadata": {},
   "outputs": [],
   "source": [
    "gabon_gdf = get_geo_boundary('GAB', 0)"
   ]
  },
  {
   "cell_type": "code",
   "execution_count": 13,
   "id": "baf8034b",
   "metadata": {},
   "outputs": [
    {
     "data": {
      "text/plain": [
       "(8.6954708, -3.978806, 14.502347, 2.322612)"
      ]
     },
     "execution_count": 13,
     "metadata": {},
     "output_type": "execute_result"
    }
   ],
   "source": [
    "gabon_gdf.geometry[0].bounds"
   ]
  },
  {
   "cell_type": "code",
   "execution_count": 30,
   "id": "42bd6bdb",
   "metadata": {},
   "outputs": [
    {
     "name": "stderr",
     "output_type": "stream",
     "text": [
      "\n",
      "  spatial_filter (/tmp/ipykernel_16741/1670385233.py:18):\n",
      "    5.796 seconds\n",
      "\n",
      "\n",
      "  spatial_filter (/tmp/ipykernel_16741/1670385233.py:18):\n",
      "    5.740 seconds\n",
      "\n",
      "\n",
      "  spatial_filter (/tmp/ipykernel_16741/1670385233.py:18):\n",
      "    5.801 seconds\n",
      "\n",
      "\n",
      "  spatial_filter (/tmp/ipykernel_16741/1670385233.py:18):\n",
      "    5.756 seconds\n",
      "\n",
      "\n",
      "  spatial_filter (/tmp/ipykernel_16741/1670385233.py:18):\n",
      "    5.749 seconds\n",
      "\n",
      "\n",
      "  spatial_filter (/tmp/ipykernel_16741/1670385233.py:18):\n",
      "    5.778 seconds\n",
      "\n",
      "\n",
      "  spatial_filter (/tmp/ipykernel_16741/1670385233.py:18):\n",
      "    5.699 seconds\n",
      "\n",
      "\n",
      "  spatial_filter (/tmp/ipykernel_16741/1670385233.py:18):\n",
      "    5.715 seconds\n",
      "\n",
      "\n",
      "  subset_h5 (/tmp/ipykernel_16741/1670385233.py:36):\n",
      "    46.405 seconds\n",
      "\n",
      "\n",
      "  subset_gedi_granule (/tmp/ipykernel_16741/1670385233.py:1):\n",
      "    46.407 seconds\n",
      "\n"
     ]
    },
    {
     "name": "stdout",
     "output_type": "stream",
     "text": [
      "All points (64209, 6)\n",
      "Subset points (64209, 6)\n"
     ]
    }
   ],
   "source": [
    "#test = subset_gedi_granule(infile, gabon_gdf)\n",
    "# Filtered version\n",
    "filter_cols = [\"agbd\", \"agbd_se\", \"l4_quality_flag\", \"sensitivity\", \"lat_lowestmode\", \"lon_lowestmode\"]\n",
    "test = subset_gedi_granule(infile, gabon_gdf, filter_cols)"
   ]
  },
  {
   "cell_type": "code",
   "execution_count": 74,
   "id": "901294a5",
   "metadata": {},
   "outputs": [
    {
     "name": "stdout",
     "output_type": "stream",
     "text": [
      "(64209, 6)\n"
     ]
    },
    {
     "data": {
      "text/html": [
       "<div>\n",
       "<style scoped>\n",
       "    .dataframe tbody tr th:only-of-type {\n",
       "        vertical-align: middle;\n",
       "    }\n",
       "\n",
       "    .dataframe tbody tr th {\n",
       "        vertical-align: top;\n",
       "    }\n",
       "\n",
       "    .dataframe thead th {\n",
       "        text-align: right;\n",
       "    }\n",
       "</style>\n",
       "<table border=\"1\" class=\"dataframe\">\n",
       "  <thead>\n",
       "    <tr style=\"text-align: right;\">\n",
       "      <th></th>\n",
       "      <th>BEAM</th>\n",
       "      <th>agbd</th>\n",
       "      <th>agbd_se</th>\n",
       "      <th>l4_quality_flag</th>\n",
       "      <th>sensitivity</th>\n",
       "      <th>geometry</th>\n",
       "    </tr>\n",
       "  </thead>\n",
       "  <tbody>\n",
       "    <tr>\n",
       "      <th>55637</th>\n",
       "      <td>BEAM0000</td>\n",
       "      <td>-9999.0</td>\n",
       "      <td>-9999.0</td>\n",
       "      <td>0</td>\n",
       "      <td>-0.642939</td>\n",
       "      <td>POINT (10.58764 -3.29189)</td>\n",
       "    </tr>\n",
       "    <tr>\n",
       "      <th>55638</th>\n",
       "      <td>BEAM0000</td>\n",
       "      <td>-9999.0</td>\n",
       "      <td>-9999.0</td>\n",
       "      <td>0</td>\n",
       "      <td>8.097681</td>\n",
       "      <td>POINT (10.58794 -3.29146)</td>\n",
       "    </tr>\n",
       "    <tr>\n",
       "      <th>55639</th>\n",
       "      <td>BEAM0000</td>\n",
       "      <td>-9999.0</td>\n",
       "      <td>-9999.0</td>\n",
       "      <td>0</td>\n",
       "      <td>-252.114624</td>\n",
       "      <td>POINT (10.58824 -3.29104)</td>\n",
       "    </tr>\n",
       "    <tr>\n",
       "      <th>55640</th>\n",
       "      <td>BEAM0000</td>\n",
       "      <td>-9999.0</td>\n",
       "      <td>-9999.0</td>\n",
       "      <td>0</td>\n",
       "      <td>-1.101499</td>\n",
       "      <td>POINT (10.58854 -3.29062)</td>\n",
       "    </tr>\n",
       "    <tr>\n",
       "      <th>55641</th>\n",
       "      <td>BEAM0000</td>\n",
       "      <td>-9999.0</td>\n",
       "      <td>-9999.0</td>\n",
       "      <td>0</td>\n",
       "      <td>3.414868</td>\n",
       "      <td>POINT (10.58884 -3.29020)</td>\n",
       "    </tr>\n",
       "  </tbody>\n",
       "</table>\n",
       "</div>"
      ],
      "text/plain": [
       "           BEAM    agbd  agbd_se  l4_quality_flag  sensitivity  \\\n",
       "55637  BEAM0000 -9999.0  -9999.0                0    -0.642939   \n",
       "55638  BEAM0000 -9999.0  -9999.0                0     8.097681   \n",
       "55639  BEAM0000 -9999.0  -9999.0                0  -252.114624   \n",
       "55640  BEAM0000 -9999.0  -9999.0                0    -1.101499   \n",
       "55641  BEAM0000 -9999.0  -9999.0                0     3.414868   \n",
       "\n",
       "                        geometry  \n",
       "55637  POINT (10.58764 -3.29189)  \n",
       "55638  POINT (10.58794 -3.29146)  \n",
       "55639  POINT (10.58824 -3.29104)  \n",
       "55640  POINT (10.58854 -3.29062)  \n",
       "55641  POINT (10.58884 -3.29020)  "
      ]
     },
     "execution_count": 74,
     "metadata": {},
     "output_type": "execute_result"
    }
   ],
   "source": [
    "print(test.shape)\n",
    "test.head()"
   ]
  },
  {
   "cell_type": "code",
   "execution_count": 27,
   "id": "045e65b1",
   "metadata": {},
   "outputs": [],
   "source": [
    "# Reduce to a set of preselect columns\n",
    "# TODO: it would be better to not even include in the dataframe to start\n",
    "filter_strings = [\"agbd\", \"agbd_se\", \"l4_quality_flag\", \"sensitivity\", \"geometry\"]\n",
    "cols = list(test.columns)\n",
    "def Filter(string, substr):\n",
    "    return [str for str in string if\n",
    "             any(sub in str for sub in substr)]\n",
    "\n",
    "final_table_columns = Filter(cols, filter_strings)\n",
    "#test.drop(columns=test.columns.difference(final_table_columns), inplace=True)\n",
    "test.drop(columns=test.columns.difference(filter_strings), inplace=True)"
   ]
  },
  {
   "cell_type": "code",
   "execution_count": 75,
   "id": "be08bc8c",
   "metadata": {},
   "outputs": [
    {
     "name": "stderr",
     "output_type": "stream",
     "text": [
      "\n",
      "  write_subset (/tmp/ipykernel_12978/602969250.py:85):\n",
      "    5.963 seconds\n",
      "\n"
     ]
    },
    {
     "data": {
      "text/plain": [
       "'GEDI04_A_2019108045816_O01962_01_T01066_02_002_01_V002.fgb'"
      ]
     },
     "execution_count": 75,
     "metadata": {},
     "output_type": "execute_result"
    }
   ],
   "source": [
    "write_subset(infile, test)"
   ]
  },
  {
   "cell_type": "markdown",
   "id": "090c8e40",
   "metadata": {},
   "source": [
    "# Exploration"
   ]
  },
  {
   "cell_type": "code",
   "execution_count": null,
   "id": "c6ffb876",
   "metadata": {},
   "outputs": [],
   "source": [
    "# Alternate method using pandas or xarray?\n",
    "pd_h5 = pd.read_hdf(infile, )"
   ]
  },
  {
   "cell_type": "code",
   "execution_count": 16,
   "id": "452182c1",
   "metadata": {},
   "outputs": [
    {
     "data": {
      "text/plain": [
       "{'ARCGEN': 'r',\n",
       " 'DXF': 'rw',\n",
       " 'CSV': 'raw',\n",
       " 'OpenFileGDB': 'r',\n",
       " 'ESRIJSON': 'r',\n",
       " 'ESRI Shapefile': 'raw',\n",
       " 'FlatGeobuf': 'rw',\n",
       " 'GeoJSON': 'raw',\n",
       " 'GeoJSONSeq': 'rw',\n",
       " 'GPKG': 'raw',\n",
       " 'GML': 'rw',\n",
       " 'OGR_GMT': 'rw',\n",
       " 'GPX': 'rw',\n",
       " 'GPSTrackMaker': 'rw',\n",
       " 'Idrisi': 'r',\n",
       " 'MapInfo File': 'raw',\n",
       " 'DGN': 'raw',\n",
       " 'OGR_PDS': 'r',\n",
       " 'S57': 'r',\n",
       " 'SQLite': 'raw',\n",
       " 'TopoJSON': 'r'}"
      ]
     },
     "execution_count": 16,
     "metadata": {},
     "output_type": "execute_result"
    }
   ],
   "source": [
    "# exploring formats\n",
    "import fiona \n",
    "fiona.supported_drivers"
   ]
  },
  {
   "cell_type": "code",
   "execution_count": 16,
   "id": "558e43b3",
   "metadata": {},
   "outputs": [
    {
     "data": {
      "text/plain": [
       "['agbd',\n",
       " 'agbd_pi_lower',\n",
       " 'agbd_pi_upper',\n",
       " 'agbd_a1',\n",
       " 'agbd_a10',\n",
       " 'agbd_a2',\n",
       " 'agbd_a3',\n",
       " 'agbd_a4',\n",
       " 'agbd_a5',\n",
       " 'agbd_a6',\n",
       " 'agbd_pi_lower_a1',\n",
       " 'agbd_pi_lower_a10',\n",
       " 'agbd_pi_lower_a2',\n",
       " 'agbd_pi_lower_a3',\n",
       " 'agbd_pi_lower_a4',\n",
       " 'agbd_pi_lower_a5',\n",
       " 'agbd_pi_lower_a6',\n",
       " 'agbd_pi_upper_a1',\n",
       " 'agbd_pi_upper_a10',\n",
       " 'agbd_pi_upper_a2',\n",
       " 'agbd_pi_upper_a3',\n",
       " 'agbd_pi_upper_a4',\n",
       " 'agbd_pi_upper_a5',\n",
       " 'agbd_pi_upper_a6',\n",
       " 'agbd_se_a1',\n",
       " 'agbd_se_a10',\n",
       " 'agbd_se_a2',\n",
       " 'agbd_se_a3',\n",
       " 'agbd_se_a4',\n",
       " 'agbd_se_a5',\n",
       " 'agbd_se_a6',\n",
       " 'agbd_t_a1',\n",
       " 'agbd_t_a10',\n",
       " 'agbd_t_a2',\n",
       " 'agbd_t_a3',\n",
       " 'agbd_t_a4',\n",
       " 'agbd_t_a5',\n",
       " 'agbd_t_a6',\n",
       " 'agbd_t_pi_lower_a1',\n",
       " 'agbd_t_pi_lower_a10',\n",
       " 'agbd_t_pi_lower_a2',\n",
       " 'agbd_t_pi_lower_a3',\n",
       " 'agbd_t_pi_lower_a4',\n",
       " 'agbd_t_pi_lower_a5',\n",
       " 'agbd_t_pi_lower_a6',\n",
       " 'agbd_t_pi_upper_a1',\n",
       " 'agbd_t_pi_upper_a10',\n",
       " 'agbd_t_pi_upper_a2',\n",
       " 'agbd_t_pi_upper_a3',\n",
       " 'agbd_t_pi_upper_a4',\n",
       " 'agbd_t_pi_upper_a5',\n",
       " 'agbd_t_pi_upper_a6',\n",
       " 'agbd_t_se_a1',\n",
       " 'agbd_t_se_a10',\n",
       " 'agbd_t_se_a2',\n",
       " 'agbd_t_se_a3',\n",
       " 'agbd_t_se_a4',\n",
       " 'agbd_t_se_a5',\n",
       " 'agbd_t_se_a6',\n",
       " 'l4_quality_flag_a1',\n",
       " 'l4_quality_flag_a10',\n",
       " 'l4_quality_flag_a2',\n",
       " 'l4_quality_flag_a3',\n",
       " 'l4_quality_flag_a4',\n",
       " 'l4_quality_flag_a5',\n",
       " 'l4_quality_flag_a6',\n",
       " 'agbd_se',\n",
       " 'agbd_t',\n",
       " 'agbd_t_se',\n",
       " 'sensitivity_a1',\n",
       " 'sensitivity_a10',\n",
       " 'sensitivity_a2',\n",
       " 'sensitivity_a3',\n",
       " 'sensitivity_a4',\n",
       " 'sensitivity_a5',\n",
       " 'sensitivity_a6',\n",
       " 'l4_quality_flag',\n",
       " 'sensitivity']"
      ]
     },
     "execution_count": 16,
     "metadata": {},
     "output_type": "execute_result"
    }
   ],
   "source": [
    "#exploring filtering options\n",
    "filter_strings = [\"agbd\", \"l4_quality_flag\", \"sensitivity\"]\n",
    "cols = list(test.columns)\n",
    "def Filter(string, substr):\n",
    "    return [str for str in string if\n",
    "             any(sub in str for sub in substr)]\n",
    "Filter(cols, filter_strings)"
   ]
  },
  {
   "cell_type": "markdown",
   "id": "c8bc60c3",
   "metadata": {},
   "source": [
    "# Bulk Processing"
   ]
  },
  {
   "cell_type": "code",
   "execution_count": 35,
   "id": "3e7013f3",
   "metadata": {},
   "outputs": [
    {
     "data": {
      "text/plain": [
       "['/projects/my-public-bucket/gedi-l4a/gabon/GEDI04_A_2019108045816_O01962_01_T01066_02_002_01_V002.h5',\n",
       " '/projects/my-public-bucket/gedi-l4a/gabon/GEDI04_A_2019108045816_O01962_02_T01066_02_002_01_V002.h5',\n",
       " '/projects/my-public-bucket/gedi-l4a/gabon/GEDI04_A_2019110154024_O02000_04_T04761_02_002_01_V002.h5',\n",
       " '/projects/my-public-bucket/gedi-l4a/gabon/GEDI04_A_2019111040155_O02008_01_T04616_02_002_01_V002.h5',\n",
       " '/projects/my-public-bucket/gedi-l4a/gabon/GEDI04_A_2019111040155_O02008_02_T04616_02_002_01_V002.h5']"
      ]
     },
     "execution_count": 35,
     "metadata": {},
     "output_type": "execute_result"
    }
   ],
   "source": [
    "folder_path = '/projects/my-public-bucket/gedi-l4a/gabon'\n",
    "file_list = [os.path.join(folder_path, file) for file in os.listdir(folder_path) if file.endswith('h5')]\n",
    "file_list[:5]"
   ]
  },
  {
   "cell_type": "code",
   "execution_count": 59,
   "id": "a9965fee",
   "metadata": {},
   "outputs": [
    {
     "name": "stdout",
     "output_type": "stream",
     "text": [
      "All points (510801, 8)\n"
     ]
    },
    {
     "name": "stderr",
     "output_type": "stream",
     "text": [
      "\n",
      "  subset_gedi_granule (/tmp/ipykernel_12978/815998746.py:1):\n",
      "    46.730 seconds\n",
      "\n"
     ]
    },
    {
     "name": "stdout",
     "output_type": "stream",
     "text": [
      "Subset points (64209, 8)\n"
     ]
    },
    {
     "name": "stderr",
     "output_type": "stream",
     "text": [
      "\n",
      "  write_subset (/tmp/ipykernel_12978/815998746.py:82):\n",
      "    8.495 seconds\n",
      "\n"
     ]
    },
    {
     "name": "stdout",
     "output_type": "stream",
     "text": [
      "All points (1338484, 8)\n",
      "Subset points (24866, 8)\n"
     ]
    },
    {
     "name": "stderr",
     "output_type": "stream",
     "text": [
      "\n",
      "  subset_gedi_granule (/tmp/ipykernel_12978/815998746.py:1):\n",
      "    27.611 seconds\n",
      "\n",
      "\n",
      "  write_subset (/tmp/ipykernel_12978/815998746.py:82):\n",
      "    3.922 seconds\n",
      "\n"
     ]
    },
    {
     "name": "stdout",
     "output_type": "stream",
     "text": [
      "All points (609748, 8)\n"
     ]
    },
    {
     "name": "stderr",
     "output_type": "stream",
     "text": [
      "\n",
      "  subset_gedi_granule (/tmp/ipykernel_12978/815998746.py:1):\n",
      "    5.021 seconds\n",
      "\n"
     ]
    },
    {
     "name": "stdout",
     "output_type": "stream",
     "text": [
      "Subset points (0, 8)\n",
      "All points (395012, 8)\n"
     ]
    },
    {
     "name": "stderr",
     "output_type": "stream",
     "text": [
      "\n",
      "  subset_gedi_granule (/tmp/ipykernel_12978/815998746.py:1):\n",
      "    13.178 seconds\n",
      "\n"
     ]
    },
    {
     "name": "stdout",
     "output_type": "stream",
     "text": [
      "Subset points (1846, 8)\n"
     ]
    },
    {
     "name": "stderr",
     "output_type": "stream",
     "text": [
      "\n",
      "  write_subset (/tmp/ipykernel_12978/815998746.py:82):\n",
      "    1.736 seconds\n",
      "\n"
     ]
    },
    {
     "name": "stdout",
     "output_type": "stream",
     "text": [
      "All points (1338733, 8)\n",
      "Subset points (14567, 8)\n"
     ]
    },
    {
     "name": "stderr",
     "output_type": "stream",
     "text": [
      "\n",
      "  subset_gedi_granule (/tmp/ipykernel_12978/815998746.py:1):\n",
      "    33.706 seconds\n",
      "\n",
      "\n",
      "  write_subset (/tmp/ipykernel_12978/815998746.py:82):\n",
      "    2.952 seconds\n",
      "\n"
     ]
    },
    {
     "name": "stdout",
     "output_type": "stream",
     "text": [
      "All points (1037928, 8)\n"
     ]
    },
    {
     "name": "stderr",
     "output_type": "stream",
     "text": [
      "\n",
      "  subset_gedi_granule (/tmp/ipykernel_12978/815998746.py:1):\n",
      "    33.965 seconds\n",
      "\n"
     ]
    },
    {
     "name": "stdout",
     "output_type": "stream",
     "text": [
      "Subset points (39284, 8)\n"
     ]
    },
    {
     "name": "stderr",
     "output_type": "stream",
     "text": [
      "\n",
      "  write_subset (/tmp/ipykernel_12978/815998746.py:82):\n",
      "    5.866 seconds\n",
      "\n"
     ]
    },
    {
     "name": "stdout",
     "output_type": "stream",
     "text": [
      "All points (515477, 8)\n"
     ]
    },
    {
     "name": "stderr",
     "output_type": "stream",
     "text": [
      "\n",
      "  subset_gedi_granule (/tmp/ipykernel_12978/815998746.py:1):\n",
      "    29.621 seconds\n",
      "\n"
     ]
    },
    {
     "name": "stdout",
     "output_type": "stream",
     "text": [
      "Subset points (37779, 8)\n"
     ]
    },
    {
     "name": "stderr",
     "output_type": "stream",
     "text": [
      "\n",
      "  write_subset (/tmp/ipykernel_12978/815998746.py:82):\n",
      "    5.283 seconds\n",
      "\n"
     ]
    },
    {
     "name": "stdout",
     "output_type": "stream",
     "text": [
      "All points (522780, 8)\n"
     ]
    },
    {
     "name": "stderr",
     "output_type": "stream",
     "text": [
      "\n",
      "  subset_gedi_granule (/tmp/ipykernel_12978/815998746.py:1):\n",
      "    22.457 seconds\n",
      "\n"
     ]
    },
    {
     "name": "stdout",
     "output_type": "stream",
     "text": [
      "Subset points (0, 8)\n",
      "All points (1045559, 8)\n"
     ]
    },
    {
     "name": "stderr",
     "output_type": "stream",
     "text": [
      "\n",
      "  subset_gedi_granule (/tmp/ipykernel_12978/815998746.py:1):\n",
      "    15.608 seconds\n",
      "\n"
     ]
    },
    {
     "name": "stdout",
     "output_type": "stream",
     "text": [
      "Subset points (0, 8)\n",
      "All points (912543, 8)\n",
      "Subset points (66053, 8)\n"
     ]
    },
    {
     "name": "stderr",
     "output_type": "stream",
     "text": [
      "\n",
      "  subset_gedi_granule (/tmp/ipykernel_12978/815998746.py:1):\n",
      "    48.031 seconds\n",
      "\n",
      "\n",
      "  write_subset (/tmp/ipykernel_12978/815998746.py:82):\n",
      "    9.183 seconds\n",
      "\n"
     ]
    },
    {
     "name": "stdout",
     "output_type": "stream",
     "text": [
      "All points (508165, 8)\n"
     ]
    },
    {
     "name": "stderr",
     "output_type": "stream",
     "text": [
      "\n",
      "  subset_gedi_granule (/tmp/ipykernel_12978/815998746.py:1):\n",
      "    46.880 seconds\n",
      "\n"
     ]
    },
    {
     "name": "stdout",
     "output_type": "stream",
     "text": [
      "Subset points (58430, 8)\n"
     ]
    },
    {
     "name": "stderr",
     "output_type": "stream",
     "text": [
      "\n",
      "  write_subset (/tmp/ipykernel_12978/815998746.py:82):\n",
      "    7.914 seconds\n",
      "\n"
     ]
    },
    {
     "name": "stdout",
     "output_type": "stream",
     "text": [
      "All points (1338521, 8)\n"
     ]
    },
    {
     "name": "stderr",
     "output_type": "stream",
     "text": [
      "\n",
      "  subset_gedi_granule (/tmp/ipykernel_12978/815998746.py:1):\n",
      "    33.797 seconds\n",
      "\n"
     ]
    },
    {
     "name": "stdout",
     "output_type": "stream",
     "text": [
      "Subset points (23275, 8)\n"
     ]
    },
    {
     "name": "stderr",
     "output_type": "stream",
     "text": [
      "\n",
      "  write_subset (/tmp/ipykernel_12978/815998746.py:82):\n",
      "    3.834 seconds\n",
      "\n"
     ]
    },
    {
     "name": "stdout",
     "output_type": "stream",
     "text": [
      "All points (1054709, 8)\n"
     ]
    },
    {
     "name": "stderr",
     "output_type": "stream",
     "text": [
      "\n",
      "  subset_gedi_granule (/tmp/ipykernel_12978/815998746.py:1):\n",
      "    11.281 seconds\n",
      "\n"
     ]
    },
    {
     "name": "stdout",
     "output_type": "stream",
     "text": [
      "Subset points (0, 8)\n",
      "All points (372346, 8)\n"
     ]
    },
    {
     "name": "stderr",
     "output_type": "stream",
     "text": [
      "\n",
      "  subset_gedi_granule (/tmp/ipykernel_12978/815998746.py:1):\n",
      "    6.934 seconds\n",
      "\n"
     ]
    },
    {
     "name": "stdout",
     "output_type": "stream",
     "text": [
      "Subset points (0, 8)\n"
     ]
    }
   ],
   "source": [
    "# For testing subset the 10 sample granules\n",
    "for file in file_list:\n",
    "    filter_strings = [\"agbd\", \"agbd_se\", \"l4_quality_flag\", \"sensitivity\", \"lat_lowestmode\", \"lon_lowestmode\"]\n",
    "    subset = subset_gedi_granule(file, gabon_gdf, filter_strings)\n",
    "    #cols = list(subset.columns)\n",
    "    #final_table_columns = Filter(cols, filter_strings)\n",
    "    #final_table_columns = filter_strings\n",
    "    #subset.drop(columns=test.columns.difference(final_table_columns), inplace=True)\n",
    "    if subset.shape[0] > 0 :\n",
    "        write_subset(file, subset)\n"
   ]
  },
  {
   "cell_type": "markdown",
   "id": "40a2c78c",
   "metadata": {},
   "source": [
    "## Parallel version"
   ]
  },
  {
   "cell_type": "code",
   "execution_count": null,
   "id": "d64adf51",
   "metadata": {},
   "outputs": [
    {
     "name": "stdout",
     "output_type": "stream",
     "text": [
      "Subset points (0, 6)\n"
     ]
    },
    {
     "name": "stderr",
     "output_type": "stream",
     "text": [
      "\n",
      "  subset_gedi_granule (/tmp/ipykernel_16741/58217183.py:1):\n",
      "    8.605 seconds\n",
      "\n"
     ]
    },
    {
     "name": "stdout",
     "output_type": "stream",
     "text": [
      "Subset points (0, 6)\n"
     ]
    },
    {
     "name": "stderr",
     "output_type": "stream",
     "text": [
      "\n",
      "  subset_gedi_granule (/tmp/ipykernel_16741/58217183.py:1):\n",
      "    15.109 seconds\n",
      "\n"
     ]
    },
    {
     "name": "stdout",
     "output_type": "stream",
     "text": [
      "Subset points (3604, 6)\n"
     ]
    },
    {
     "name": "stderr",
     "output_type": "stream",
     "text": [
      "\n",
      "  subset_gedi_granule (/tmp/ipykernel_16741/58217183.py:1):\n",
      "    21.608 seconds\n",
      "\n",
      "\n",
      "  write_subset (/tmp/ipykernel_16741/58217183.py:101):\n",
      "    2.522 seconds\n",
      "\n"
     ]
    },
    {
     "name": "stdout",
     "output_type": "stream",
     "text": [
      "Subset points (42205, 6)\n"
     ]
    },
    {
     "name": "stderr",
     "output_type": "stream",
     "text": [
      "\n",
      "  subset_gedi_granule (/tmp/ipykernel_16741/58217183.py:1):\n",
      "    34.145 seconds\n",
      "\n"
     ]
    },
    {
     "name": "stdout",
     "output_type": "stream",
     "text": [
      "Subset points (26960, 6)\n"
     ]
    },
    {
     "name": "stderr",
     "output_type": "stream",
     "text": [
      "\n",
      "  subset_gedi_granule (/tmp/ipykernel_16741/58217183.py:1):\n",
      "    35.171 seconds\n",
      "\n",
      "\n",
      "  write_subset (/tmp/ipykernel_16741/58217183.py:101):\n",
      "    4.133 seconds\n",
      "\n",
      "\n",
      "  write_subset (/tmp/ipykernel_16741/58217183.py:101):\n",
      "    5.933 seconds\n",
      "\n"
     ]
    },
    {
     "name": "stdout",
     "output_type": "stream",
     "text": [
      "Subset points (0, 6)\n"
     ]
    },
    {
     "name": "stderr",
     "output_type": "stream",
     "text": [
      "\n",
      "  subset_gedi_granule (/tmp/ipykernel_16741/58217183.py:1):\n",
      "    5.367 seconds\n",
      "\n"
     ]
    },
    {
     "name": "stdout",
     "output_type": "stream",
     "text": [
      "Subset points (40129, 6)\n"
     ]
    },
    {
     "name": "stderr",
     "output_type": "stream",
     "text": [
      "\n",
      "  subset_gedi_granule (/tmp/ipykernel_16741/58217183.py:1):\n",
      "    37.656 seconds\n",
      "\n"
     ]
    },
    {
     "name": "stdout",
     "output_type": "stream",
     "text": [
      "Subset points (64209, 6)\n"
     ]
    },
    {
     "name": "stderr",
     "output_type": "stream",
     "text": [
      "\n",
      "  subset_gedi_granule (/tmp/ipykernel_16741/58217183.py:1):\n",
      "    48.003 seconds\n",
      "\n",
      "\n",
      "  write_subset (/tmp/ipykernel_16741/58217183.py:101):\n",
      "    5.637 seconds\n",
      "\n"
     ]
    },
    {
     "name": "stdout",
     "output_type": "stream",
     "text": [
      "Subset points (34283, 6)\n"
     ]
    },
    {
     "name": "stderr",
     "output_type": "stream",
     "text": [
      "\n",
      "  subset_gedi_granule (/tmp/ipykernel_16741/58217183.py:1):\n",
      "    41.398 seconds\n",
      "\n",
      "\n",
      "  write_subset (/tmp/ipykernel_16741/58217183.py:101):\n",
      "    8.554 seconds\n",
      "\n",
      "\n",
      "  write_subset (/tmp/ipykernel_16741/58217183.py:101):\n",
      "    5.498 seconds\n",
      "\n"
     ]
    },
    {
     "name": "stdout",
     "output_type": "stream",
     "text": [
      "Subset points (28634, 6)\n"
     ]
    },
    {
     "name": "stderr",
     "output_type": "stream",
     "text": [
      "\n",
      "  subset_gedi_granule (/tmp/ipykernel_16741/58217183.py:1):\n",
      "    30.387 seconds\n",
      "\n"
     ]
    },
    {
     "name": "stdout",
     "output_type": "stream",
     "text": [
      "Subset points (25004, 6)\n"
     ]
    },
    {
     "name": "stderr",
     "output_type": "stream",
     "text": [
      "\n",
      "  subset_gedi_granule (/tmp/ipykernel_16741/58217183.py:1):\n",
      "    27.370 seconds\n",
      "\n"
     ]
    },
    {
     "name": "stdout",
     "output_type": "stream",
     "text": [
      "Subset points (0, 6)\n"
     ]
    },
    {
     "name": "stderr",
     "output_type": "stream",
     "text": [
      "\n",
      "  subset_gedi_granule (/tmp/ipykernel_16741/58217183.py:1):\n",
      "    12.003 seconds\n",
      "\n"
     ]
    },
    {
     "name": "stdout",
     "output_type": "stream",
     "text": [
      "Subset points (60476, 6)\n"
     ]
    },
    {
     "name": "stderr",
     "output_type": "stream",
     "text": [
      "\n",
      "  subset_gedi_granule (/tmp/ipykernel_16741/58217183.py:1):\n",
      "    50.669 seconds\n",
      "\n",
      "\n",
      "  write_subset (/tmp/ipykernel_16741/58217183.py:101):\n",
      "    4.360 seconds\n",
      "\n",
      "\n",
      "  write_subset (/tmp/ipykernel_16741/58217183.py:101):\n",
      "    4.114 seconds\n",
      "\n"
     ]
    },
    {
     "name": "stdout",
     "output_type": "stream",
     "text": [
      "Subset points (0, 6)\n"
     ]
    },
    {
     "name": "stderr",
     "output_type": "stream",
     "text": [
      "\n",
      "  subset_gedi_granule (/tmp/ipykernel_16741/58217183.py:1):\n",
      "    6.380 seconds\n",
      "\n",
      "\n",
      "  write_subset (/tmp/ipykernel_16741/58217183.py:101):\n",
      "    7.622 seconds\n",
      "\n"
     ]
    },
    {
     "name": "stdout",
     "output_type": "stream",
     "text": [
      "Subset points (24866, 6)\n"
     ]
    },
    {
     "name": "stderr",
     "output_type": "stream",
     "text": [
      "\n",
      "  subset_gedi_granule (/tmp/ipykernel_16741/58217183.py:1):\n",
      "    27.467 seconds\n",
      "\n"
     ]
    },
    {
     "name": "stdout",
     "output_type": "stream",
     "text": [
      "Subset points (41012, 6)\n"
     ]
    },
    {
     "name": "stderr",
     "output_type": "stream",
     "text": [
      "\n",
      "  subset_gedi_granule (/tmp/ipykernel_16741/58217183.py:1):\n",
      "    34.062 seconds\n",
      "\n",
      "\n",
      "  write_subset (/tmp/ipykernel_16741/58217183.py:101):\n",
      "    4.321 seconds\n",
      "\n",
      "\n",
      "  write_subset (/tmp/ipykernel_16741/58217183.py:101):\n",
      "    5.742 seconds\n",
      "\n"
     ]
    },
    {
     "name": "stdout",
     "output_type": "stream",
     "text": [
      "Subset points (0, 6)\n"
     ]
    },
    {
     "name": "stderr",
     "output_type": "stream",
     "text": [
      "\n",
      "  subset_gedi_granule (/tmp/ipykernel_16741/58217183.py:1):\n",
      "    18.851 seconds\n",
      "\n"
     ]
    },
    {
     "name": "stdout",
     "output_type": "stream",
     "text": [
      "Subset points (0, 6)\n"
     ]
    },
    {
     "name": "stderr",
     "output_type": "stream",
     "text": [
      "\n",
      "  subset_gedi_granule (/tmp/ipykernel_16741/58217183.py:1):\n",
      "    4.987 seconds\n",
      "\n"
     ]
    },
    {
     "name": "stdout",
     "output_type": "stream",
     "text": [
      "Subset points (13221, 6)\n"
     ]
    },
    {
     "name": "stderr",
     "output_type": "stream",
     "text": [
      "\n",
      "  subset_gedi_granule (/tmp/ipykernel_16741/58217183.py:1):\n",
      "    29.525 seconds\n",
      "\n",
      "\n",
      "  write_subset (/tmp/ipykernel_16741/58217183.py:101):\n",
      "    2.544 seconds\n",
      "\n"
     ]
    },
    {
     "name": "stdout",
     "output_type": "stream",
     "text": [
      "Subset points (50374, 6)\n"
     ]
    },
    {
     "name": "stderr",
     "output_type": "stream",
     "text": [
      "\n",
      "  subset_gedi_granule (/tmp/ipykernel_16741/58217183.py:1):\n",
      "    43.041 seconds\n",
      "\n"
     ]
    },
    {
     "name": "stdout",
     "output_type": "stream",
     "text": [
      "Subset points (36766, 6)\n"
     ]
    },
    {
     "name": "stderr",
     "output_type": "stream",
     "text": [
      "\n",
      "  subset_gedi_granule (/tmp/ipykernel_16741/58217183.py:1):\n",
      "    30.275 seconds\n",
      "\n",
      "\n",
      "  write_subset (/tmp/ipykernel_16741/58217183.py:101):\n",
      "    6.572 seconds\n",
      "\n",
      "\n",
      "  write_subset (/tmp/ipykernel_16741/58217183.py:101):\n",
      "    4.923 seconds\n",
      "\n"
     ]
    },
    {
     "name": "stdout",
     "output_type": "stream",
     "text": [
      "Subset points (56201, 6)\n"
     ]
    },
    {
     "name": "stderr",
     "output_type": "stream",
     "text": [
      "\n",
      "  subset_gedi_granule (/tmp/ipykernel_16741/58217183.py:1):\n",
      "    44.883 seconds\n",
      "\n"
     ]
    },
    {
     "name": "stdout",
     "output_type": "stream",
     "text": [
      "Subset points (38220, 6)\n"
     ]
    },
    {
     "name": "stderr",
     "output_type": "stream",
     "text": [
      "\n",
      "  subset_gedi_granule (/tmp/ipykernel_16741/58217183.py:1):\n",
      "    34.587 seconds\n",
      "\n",
      "\n",
      "  write_subset (/tmp/ipykernel_16741/58217183.py:101):\n",
      "    5.602 seconds\n",
      "\n",
      "\n",
      "  write_subset (/tmp/ipykernel_16741/58217183.py:101):\n",
      "    7.006 seconds\n",
      "\n"
     ]
    },
    {
     "name": "stdout",
     "output_type": "stream",
     "text": [
      "Subset points (337, 6)\n"
     ]
    },
    {
     "name": "stderr",
     "output_type": "stream",
     "text": [
      "\n",
      "  subset_gedi_granule (/tmp/ipykernel_16741/58217183.py:1):\n",
      "    12.699 seconds\n",
      "\n",
      "\n",
      "  write_subset (/tmp/ipykernel_16741/58217183.py:101):\n",
      "    1.367 seconds\n",
      "\n"
     ]
    },
    {
     "name": "stdout",
     "output_type": "stream",
     "text": [
      "Subset points (56747, 6)\n"
     ]
    },
    {
     "name": "stderr",
     "output_type": "stream",
     "text": [
      "\n",
      "  subset_gedi_granule (/tmp/ipykernel_16741/58217183.py:1):\n",
      "    53.449 seconds\n",
      "\n"
     ]
    },
    {
     "name": "stdout",
     "output_type": "stream",
     "text": [
      "Subset points (0, 6)\n"
     ]
    },
    {
     "name": "stderr",
     "output_type": "stream",
     "text": [
      "\n",
      "  subset_gedi_granule (/tmp/ipykernel_16741/58217183.py:1):\n",
      "    12.048 seconds\n",
      "\n",
      "\n",
      "  write_subset (/tmp/ipykernel_16741/58217183.py:101):\n",
      "    7.100 seconds\n",
      "\n"
     ]
    },
    {
     "name": "stdout",
     "output_type": "stream",
     "text": [
      "Subset points (14681, 6)\n"
     ]
    },
    {
     "name": "stderr",
     "output_type": "stream",
     "text": [
      "\n",
      "  subset_gedi_granule (/tmp/ipykernel_16741/58217183.py:1):\n",
      "    30.963 seconds\n",
      "\n",
      "\n",
      "  write_subset (/tmp/ipykernel_16741/58217183.py:101):\n",
      "    2.621 seconds\n",
      "\n"
     ]
    },
    {
     "name": "stdout",
     "output_type": "stream",
     "text": [
      "Subset points (41361, 6)\n"
     ]
    },
    {
     "name": "stderr",
     "output_type": "stream",
     "text": [
      "\n",
      "  subset_gedi_granule (/tmp/ipykernel_16741/58217183.py:1):\n",
      "    31.485 seconds\n",
      "\n"
     ]
    },
    {
     "name": "stdout",
     "output_type": "stream",
     "text": [
      "Subset points (46693, 6)\n"
     ]
    },
    {
     "name": "stderr",
     "output_type": "stream",
     "text": [
      "\n",
      "  subset_gedi_granule (/tmp/ipykernel_16741/58217183.py:1):\n",
      "    52.506 seconds\n",
      "\n"
     ]
    },
    {
     "name": "stdout",
     "output_type": "stream",
     "text": [
      "Subset points (26648, 6)\n"
     ]
    },
    {
     "name": "stderr",
     "output_type": "stream",
     "text": [
      "\n",
      "  subset_gedi_granule (/tmp/ipykernel_16741/58217183.py:1):\n",
      "    34.929 seconds\n",
      "\n",
      "\n",
      "  write_subset (/tmp/ipykernel_16741/58217183.py:101):\n",
      "    5.653 seconds\n",
      "\n",
      "\n",
      "  write_subset (/tmp/ipykernel_16741/58217183.py:101):\n",
      "    6.315 seconds\n",
      "\n",
      "\n",
      "  write_subset (/tmp/ipykernel_16741/58217183.py:101):\n",
      "    4.199 seconds\n",
      "\n"
     ]
    },
    {
     "name": "stdout",
     "output_type": "stream",
     "text": [
      "Subset points (0, 6)\n"
     ]
    },
    {
     "name": "stderr",
     "output_type": "stream",
     "text": [
      "\n",
      "  subset_gedi_granule (/tmp/ipykernel_16741/58217183.py:1):\n",
      "    14.239 seconds\n",
      "\n"
     ]
    },
    {
     "name": "stdout",
     "output_type": "stream",
     "text": [
      "Subset points (0, 6)\n"
     ]
    },
    {
     "name": "stderr",
     "output_type": "stream",
     "text": [
      "\n",
      "  subset_gedi_granule (/tmp/ipykernel_16741/58217183.py:1):\n",
      "    32.707 seconds\n",
      "\n"
     ]
    },
    {
     "name": "stdout",
     "output_type": "stream",
     "text": [
      "Subset points (0, 6)\n"
     ]
    },
    {
     "name": "stderr",
     "output_type": "stream",
     "text": [
      "\n",
      "  subset_gedi_granule (/tmp/ipykernel_16741/58217183.py:1):\n",
      "    13.832 seconds\n",
      "\n"
     ]
    },
    {
     "name": "stdout",
     "output_type": "stream",
     "text": [
      "Subset points (30548, 6)\n"
     ]
    },
    {
     "name": "stderr",
     "output_type": "stream",
     "text": [
      "\n",
      "  subset_gedi_granule (/tmp/ipykernel_16741/58217183.py:1):\n",
      "    22.408 seconds\n",
      "\n",
      "\n",
      "  write_subset (/tmp/ipykernel_16741/58217183.py:101):\n",
      "    4.264 seconds\n",
      "\n"
     ]
    },
    {
     "name": "stdout",
     "output_type": "stream",
     "text": [
      "Subset points (57774, 6)\n"
     ]
    },
    {
     "name": "stderr",
     "output_type": "stream",
     "text": [
      "\n",
      "  subset_gedi_granule (/tmp/ipykernel_16741/58217183.py:1):\n",
      "    46.449 seconds\n",
      "\n",
      "\n",
      "  write_subset (/tmp/ipykernel_16741/58217183.py:101):\n",
      "    7.077 seconds\n",
      "\n"
     ]
    },
    {
     "name": "stdout",
     "output_type": "stream",
     "text": [
      "Subset points (0, 6)\n"
     ]
    },
    {
     "name": "stderr",
     "output_type": "stream",
     "text": [
      "\n",
      "  subset_gedi_granule (/tmp/ipykernel_16741/58217183.py:1):\n",
      "    21.172 seconds\n",
      "\n"
     ]
    },
    {
     "name": "stdout",
     "output_type": "stream",
     "text": [
      "Subset points (11707, 6)\n"
     ]
    },
    {
     "name": "stderr",
     "output_type": "stream",
     "text": [
      "\n",
      "  subset_gedi_granule (/tmp/ipykernel_16741/58217183.py:1):\n",
      "    35.509 seconds\n",
      "\n",
      "\n",
      "  write_subset (/tmp/ipykernel_16741/58217183.py:101):\n",
      "    2.279 seconds\n",
      "\n"
     ]
    },
    {
     "name": "stdout",
     "output_type": "stream",
     "text": [
      "Subset points (0, 6)\n"
     ]
    },
    {
     "name": "stderr",
     "output_type": "stream",
     "text": [
      "\n",
      "  subset_gedi_granule (/tmp/ipykernel_16741/58217183.py:1):\n",
      "    18.292 seconds\n",
      "\n"
     ]
    }
   ],
   "source": [
    "# New variant that does the h5 files in parallel\n",
    "def subset_pre_granule(file):\n",
    "    filter_strings = [\"agbd\", \"agbd_se\", \"l4_quality_flag\", \"sensitivity\", \"lat_lowestmode\", \"lon_lowestmode\"]\n",
    "    subset = subset_gedi_granule(file, gabon_gdf, filter_strings)\n",
    "    if subset.shape[0] > 0 :\n",
    "        outfile = write_subset(file, subset)\n",
    "\n",
    "    return outfile\n",
    "\n",
    "pool = multiprocessing.Pool(processes=6)\n",
    "results = pool.map(subset_pre_granule, file_list)\n",
    "pool.close()\n",
    "\n",
    "print(results)\n",
    "    \n"
   ]
  },
  {
   "cell_type": "markdown",
   "id": "de6c7379",
   "metadata": {},
   "source": [
    "# Misc Exp"
   ]
  },
  {
   "cell_type": "code",
   "execution_count": 50,
   "id": "0d362cc0",
   "metadata": {},
   "outputs": [
    {
     "name": "stdout",
     "output_type": "stream",
     "text": [
      "agbd\n",
      "<HDF5 dataset \"agbd\": shape (63659,), type \"<f4\">\n",
      "agbd_se\n",
      "<HDF5 dataset \"agbd_se\": shape (63659,), type \"<f4\">\n",
      "l4_quality_flag\n",
      "<HDF5 dataset \"l4_quality_flag\": shape (63659,), type \"|u1\">\n",
      "lat_lowestmode\n",
      "<HDF5 dataset \"lat_lowestmode\": shape (63659,), type \"<f8\">\n",
      "lon_lowestmode\n",
      "<HDF5 dataset \"lon_lowestmode\": shape (63659,), type \"<f8\">\n",
      "sensitivity\n",
      "<HDF5 dataset \"sensitivity\": shape (63659,), type \"<f4\">\n"
     ]
    }
   ],
   "source": [
    "for k,v in hf_in[\"BEAM0000\"].items():\n",
    "    if (k not in filter_cols):\n",
    "        continue\n",
    "    else:\n",
    "        print(k)\n",
    "        print(v)"
   ]
  },
  {
   "cell_type": "code",
   "execution_count": 67,
   "id": "13269a40",
   "metadata": {},
   "outputs": [],
   "source": [
    "#df.loc[:, ~df.columns.isin(['rebounds', 'assists'])]\n",
    "test.loc[:,~test.columns.isin(['lon_lowestmode', 'lat_lowestmode'])].columns\n",
    "\n",
    "test2 = gpd.GeoDataFrame(test.loc[:,~test.columns.isin(['lon_lowestmode', 'lat_lowestmode', 'geometry'])], \n",
    "                         geometry=gpd.points_from_xy(test.lon_lowestmode, test.lat_lowestmode))"
   ]
  },
  {
   "cell_type": "code",
   "execution_count": 68,
   "id": "cc524452",
   "metadata": {},
   "outputs": [
    {
     "data": {
      "text/html": [
       "<div>\n",
       "<style scoped>\n",
       "    .dataframe tbody tr th:only-of-type {\n",
       "        vertical-align: middle;\n",
       "    }\n",
       "\n",
       "    .dataframe tbody tr th {\n",
       "        vertical-align: top;\n",
       "    }\n",
       "\n",
       "    .dataframe thead th {\n",
       "        text-align: right;\n",
       "    }\n",
       "</style>\n",
       "<table border=\"1\" class=\"dataframe\">\n",
       "  <thead>\n",
       "    <tr style=\"text-align: right;\">\n",
       "      <th></th>\n",
       "      <th>BEAM</th>\n",
       "      <th>agbd</th>\n",
       "      <th>agbd_se</th>\n",
       "      <th>l4_quality_flag</th>\n",
       "      <th>sensitivity</th>\n",
       "      <th>geometry</th>\n",
       "    </tr>\n",
       "  </thead>\n",
       "  <tbody>\n",
       "    <tr>\n",
       "      <th>55637</th>\n",
       "      <td>BEAM0000</td>\n",
       "      <td>-9999.0</td>\n",
       "      <td>-9999.0</td>\n",
       "      <td>0</td>\n",
       "      <td>-0.642939</td>\n",
       "      <td>POINT (10.58764 -3.29189)</td>\n",
       "    </tr>\n",
       "    <tr>\n",
       "      <th>55638</th>\n",
       "      <td>BEAM0000</td>\n",
       "      <td>-9999.0</td>\n",
       "      <td>-9999.0</td>\n",
       "      <td>0</td>\n",
       "      <td>8.097681</td>\n",
       "      <td>POINT (10.58794 -3.29146)</td>\n",
       "    </tr>\n",
       "    <tr>\n",
       "      <th>55639</th>\n",
       "      <td>BEAM0000</td>\n",
       "      <td>-9999.0</td>\n",
       "      <td>-9999.0</td>\n",
       "      <td>0</td>\n",
       "      <td>-252.114624</td>\n",
       "      <td>POINT (10.58824 -3.29104)</td>\n",
       "    </tr>\n",
       "    <tr>\n",
       "      <th>55640</th>\n",
       "      <td>BEAM0000</td>\n",
       "      <td>-9999.0</td>\n",
       "      <td>-9999.0</td>\n",
       "      <td>0</td>\n",
       "      <td>-1.101499</td>\n",
       "      <td>POINT (10.58854 -3.29062)</td>\n",
       "    </tr>\n",
       "    <tr>\n",
       "      <th>55641</th>\n",
       "      <td>BEAM0000</td>\n",
       "      <td>-9999.0</td>\n",
       "      <td>-9999.0</td>\n",
       "      <td>0</td>\n",
       "      <td>3.414868</td>\n",
       "      <td>POINT (10.58884 -3.29020)</td>\n",
       "    </tr>\n",
       "  </tbody>\n",
       "</table>\n",
       "</div>"
      ],
      "text/plain": [
       "           BEAM    agbd  agbd_se  l4_quality_flag  sensitivity  \\\n",
       "55637  BEAM0000 -9999.0  -9999.0                0    -0.642939   \n",
       "55638  BEAM0000 -9999.0  -9999.0                0     8.097681   \n",
       "55639  BEAM0000 -9999.0  -9999.0                0  -252.114624   \n",
       "55640  BEAM0000 -9999.0  -9999.0                0    -1.101499   \n",
       "55641  BEAM0000 -9999.0  -9999.0                0     3.414868   \n",
       "\n",
       "                        geometry  \n",
       "55637  POINT (10.58764 -3.29189)  \n",
       "55638  POINT (10.58794 -3.29146)  \n",
       "55639  POINT (10.58824 -3.29104)  \n",
       "55640  POINT (10.58854 -3.29062)  \n",
       "55641  POINT (10.58884 -3.29020)  "
      ]
     },
     "execution_count": 68,
     "metadata": {},
     "output_type": "execute_result"
    }
   ],
   "source": [
    "test2.head()"
   ]
  }
 ],
 "metadata": {
  "kernelspec": {
   "display_name": "Python 3 (ipykernel)",
   "language": "python",
   "name": "python3"
  },
  "language_info": {
   "codemirror_mode": {
    "name": "ipython",
    "version": 3
   },
   "file_extension": ".py",
   "mimetype": "text/x-python",
   "name": "python",
   "nbconvert_exporter": "python",
   "pygments_lexer": "ipython3",
   "version": "3.7.8"
  }
 },
 "nbformat": 4,
 "nbformat_minor": 5
}
