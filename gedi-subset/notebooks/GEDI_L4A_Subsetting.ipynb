{
 "cells": [
  {
   "cell_type": "markdown",
   "id": "honey-divorce",
   "metadata": {},
   "source": [
    "# Subsetting GEDI L4A Example"
   ]
  },
  {
   "cell_type": "markdown",
   "id": "million-peripheral",
   "metadata": {},
   "source": [
    "## 1.Define Area of Interest\n",
    "\n",
    "If your AOI is a publicly available geoBoundary, see\n",
    "[Getting the GeoJSON URL for a geoBoundary](#getting-the-geojson-url-for-a-geoboundary) \\\n",
    "for details on obtaining it's URL.  In this case, that is the URL you must\n",
    "supply for the `aoi` input.\n",
    "\n",
    "Alternatively, you can make your own GeoJSON file for your AOI and place it \\\n",
    "within your public bucket within the ADE.  Based upon where you place your \\\n",
    "GeoJSON file, you can construct a URL to specify for the a job's `aoi` input \\\n",
    "where `path/to/aio.geojson` can be any path and filename for your \\\n",
    "AOI within `my-public-bucket`.\n",
    "\n",
    "\n",
    "You would then supply the following URL as the `aoi` input value when running \\\n",
    "this algorithm as a DPS job, where `<USERNAME>` is your ADE username and where \\\n",
    "`path/to/aio.geojson` is the location of your GeoJSON file within `my-public-bucket`:\n",
    "\n",
    "\n",
    "```plain\n",
    "    aoi = \"https://maap-ops-workspace.s3.amazonaws.com/shared/<USERNAME>/path/to/aoi.geojson\"\n",
    "```\n"
   ]
  },
  {
   "cell_type": "code",
   "execution_count": null,
   "id": "narrative-phone",
   "metadata": {},
   "outputs": [],
   "source": [
    "# (Optional Cell) Verify the contents of the area of interest\n",
    "import geopandas as gpd\n",
    "import contextily as ctx\n",
    "\n",
    "aoi = gpd.read_file('/projects/shared-buckets/<USERNAME>/path/to/aoi.geojson.geojson')\n",
    "aoi_epsg4326 = aoi.to_crs(epsg=4326) # Convert if not already\n",
    "ax=aoi_epsg4326.plot(figsize=(10, 5), alpha=0.3, edgecolor='red')\n",
    "ctx.add_basemap(ax, crs=4326)"
   ]
  },
  {
   "cell_type": "markdown",
   "id": "bound-block",
   "metadata": {},
   "source": [
    "## 2. Submit a Job\n",
    "\n",
    "When supplying input values, to use the default value (for the fields below), enter a dash (`-`) as the input value.\n",
    "\n",
    "<hr>\n",
    "\n",
    "aoi (required): URL[str]: URL to a GeoJSON file representing your area of interest. \\\n",
    "See [above](#1.Define-Area-of-Interest) for specifics.\n",
    "\n",
    "columns: Sequence[str]: Comma-separated list of column names to include in output file. \\\n",
    "(Default: agbd, agbd_se, l2_quality_flag, l4_quality_flag, sensitivity, sensitivity_a2)\n",
    "\n",
    "query: str: Query expression for subsetting the rows in the output file. \\\n",
    "<b>IMPORTANT</b>: The columns input must contain at least all of the columns that appear \\\n",
    "in this query expression, otherwise an error will occur. \\\n",
    "(Default: l2_quality_flag == 1 and l4_quality_flag == 1 and sensitivity > 0.95 and sensitivity_a2 > 0.95\")\n",
    "\n",
    "limit: Maximum number of GEDI granule data files to download (among those that intersect the specified AOI). (Default: 10,000)"
   ]
  },
  {
   "cell_type": "code",
   "execution_count": null,
   "id": "loose-blank",
   "metadata": {},
   "outputs": [],
   "source": [
    "# Imports and Default values\n",
    "import uuid\n",
    "from maap.maap import MAAP\n",
    "\n",
    "maap = MAAP(maap_host='api.ops.maap-project.org')\n",
    "\n",
    "# submitJob parameters\n",
    "_identifier = \"gedi-subset\"\n",
    "_algo_id = \"gedi-subset_ubuntu\"\n",
    "_version = \"gedi-subset-0.2.4\"\n",
    "_queue = \"maap-dps-worker-8gb\"\n",
    "_username = \"<USERNAME>\" # earthdata username\n",
    "_aoi = \"https://maap-ops-workspace.s3.amazonaws.com/shared/<USERNAME>/path/to/aoi.geojson\"\n",
    "_columns = \"-\"\n",
    "_query = \"-\"\n",
    "_limit = \"-\""
   ]
  },
  {
   "cell_type": "code",
   "execution_count": null,
   "id": "fossil-lawrence",
   "metadata": {},
   "outputs": [],
   "source": [
    "# Submitting a DPS job\n",
    "# Sets 'result_job_id' to use with maap.getJobResult\n",
    "result = maap.submitJob(\n",
    "    identifier=_identifier,\n",
    "    algo_id=_algo_id,\n",
    "    version=_version,\n",
    "    queue=_queue,\n",
    "    username=_username,\n",
    "    aoi=_aoi,\n",
    "    columns=_columns,\n",
    "    query=_query,\n",
    "    limit=_limit,\n",
    ")\n",
    "result_job_id = result[\"job_id\"]\n",
    "print(result)"
   ]
  },
  {
   "cell_type": "code",
   "execution_count": null,
   "id": "sound-power",
   "metadata": {},
   "outputs": [],
   "source": [
    "# Recursively call maap.getJobResult until a response 200 is received\n",
    "# Sets 'location' to path in my-private-bucket in ADE\n",
    "import backoff\n",
    "\n",
    "@backoff.on_predicate(backoff.expo, max_value=60)\n",
    "def get_result(result_job_id):\n",
    "    result = maap.getJobResult(result_job_id)\n",
    "    if (result.status_code == 200):\n",
    "        location = result._content.decode(\"UTF-8\").split(\"dps_output/\")[1].split(\"</wps:Data>\")[0]\n",
    "        print(result._content.decode(\"UTF-8\"))\n",
    "        return True, location\n",
    "    else:\n",
    "        return False\n",
    "\n",
    "bool, location = get_result(result_job_id)"
   ]
  },
  {
   "cell_type": "code",
   "execution_count": null,
   "id": "searching-halloween",
   "metadata": {},
   "outputs": [],
   "source": [
    "# (Optional Cell) Call to maap.getJobResult without using the Backoff library\n",
    "result = maap.getJobResult(result_job_id)\n",
    "print(result._content.decode(\"UTF-8\"))"
   ]
  },
  {
   "cell_type": "markdown",
   "id": "subject-orientation",
   "metadata": {},
   "source": [
    "## 3. Verify the Results\n",
    "\n",
    "Using the location set during the maap.getJobResult, plot the gpkg generated by the DPS job to view the results."
   ]
  },
  {
   "cell_type": "code",
   "execution_count": null,
   "id": "significant-appendix",
   "metadata": {},
   "outputs": [],
   "source": [
    "import geopandas as gpd\n",
    "import matplotlib.pyplot as plt"
   ]
  },
  {
   "cell_type": "code",
   "execution_count": null,
   "id": "incorrect-resistance",
   "metadata": {},
   "outputs": [],
   "source": [
    "gedi_gnq = gpd.read_file(f'~/my-private-bucket/dps_output/{location}/gedi_subset.gpkg')"
   ]
  },
  {
   "cell_type": "code",
   "execution_count": null,
   "id": "consecutive-opinion",
   "metadata": {},
   "outputs": [],
   "source": [
    "agbd_colors = plt.cm.get_cmap('viridis_r')\n",
    "gedi_gnq.plot(column='agbd', cmap=agbd_colors);"
   ]
  }
 ],
 "metadata": {
  "kernelspec": {
   "display_name": "gedi_subset",
   "language": "python",
   "name": "gedi_subset"
  },
  "language_info": {
   "codemirror_mode": {
    "name": "ipython",
    "version": 3
   },
   "file_extension": ".py",
   "mimetype": "text/x-python",
   "name": "python",
   "nbconvert_exporter": "python",
   "pygments_lexer": "ipython3",
   "version": "3.10.4"
  }
 },
 "nbformat": 4,
 "nbformat_minor": 5
}
