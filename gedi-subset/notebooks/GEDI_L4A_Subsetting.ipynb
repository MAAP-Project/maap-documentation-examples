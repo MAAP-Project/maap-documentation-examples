{
 "cells": [
  {
   "cell_type": "markdown",
   "id": "protecting-regular",
   "metadata": {},
   "source": [
    "# Subsetting GEDI L4A Example\n",
    "\n",
    "Optional packages to be installed: `geopandas`, `contextily`, `backoff`\n",
    "\n",
    "`geopandas` and `contextily` are used to plot both the aoi and results from \n",
    "gedi_l4a_subsetting to verify that both are as expected. `backoff` is used to \n",
    "recursively call a function until a true response is received which is useful when\n",
    "getting job results.\n",
    "\n",
    "Job submissions are still operable without the optional packages. Skip *optional*\n",
    "cells and verify the results of the job using your tool of choice.\n"
   ]
  },
  {
   "cell_type": "markdown",
   "id": "dated-steal",
   "metadata": {},
   "source": [
    "## 1. Define Area of Interest\n",
    "\n",
    "If your AOI is a publicly available geoBoundary, see\n",
    "[Getting the GeoJSON URL for a geoBoundary](#getting-the-geojson-url-for-a-geoboundary)\n",
    "for details on obtaining it's URL.  In this case, that is the URL you must\n",
    "supply for the `aoi` input.\n",
    "\n",
    "Alternatively, you can make your own GeoJSON file for your AOI and place it\n",
    "within your public bucket within the ADE.  Based upon where you place your\n",
    "GeoJSON file, you can construct a URL to specify for the a job's `aoi` input\n",
    "where `path/to/aio.geojson` can be any path and filename for your\n",
    "AOI within `my-public-bucket`.\n",
    "\n",
    "You would then supply the following URL as the `aoi` input value when running\n",
    "this algorithm as a DPS job, where `<USERNAME>` is your ADE username and where\n",
    "`path/to/aio.geojson` is the location of your GeoJSON file within `my-public-bucket`:\n",
    "\n",
    "\n",
    "```\n",
    "aoi = \"https://maap-ops-workspace.s3.amazonaws.com/shared/<USERNAME>/path/to/aoi.geojson\"\n",
    "```\n"
   ]
  },
  {
   "cell_type": "code",
   "execution_count": null,
   "id": "biblical-wyoming",
   "metadata": {},
   "outputs": [],
   "source": [
    "from maap.maap import MAAP\n",
    "\n",
    "maap = MAAP(maap_host=\"api.ops.maap-project.org\")\n",
    "username = maap.profile.account_info()[\"username\"]\n",
    "aoi = f\"{username}/path/to/aoi.geojson\""
   ]
  },
  {
   "cell_type": "code",
   "execution_count": null,
   "id": "underlying-phoenix",
   "metadata": {},
   "outputs": [],
   "source": [
    "# (Optional Cell) Verify the contents of the area of interest\n",
    "import geopandas as gpd\n",
    "import contextily as ctx\n",
    "\n",
    "aoi = gpd.read_file(f'/projects/shared-buckets/{aoi}')\n",
    "aoi_epsg4326 = aoi.to_crs(epsg=4326) # Convert if not already\n",
    "ax=aoi_epsg4326.plot(figsize=(10, 5), alpha=0.3, edgecolor='red')\n",
    "ctx.add_basemap(ax, crs=4326)"
   ]
  },
  {
   "cell_type": "markdown",
   "id": "synthetic-attachment",
   "metadata": {},
   "source": [
    "## 2. Submit a Job\n",
    "\n",
    "When supplying input values, to use the default value (for the select fields below), enter a dash (`-`) as the input value.\n",
    "\n",
    "\n",
    "- `aoi` (required): URL[str]: URL to a GeoJSON file representing your area of interest.\n",
    "See [above](#1.-Define-Area-of-Interest) for specifics.\n",
    "\n",
    "- `columns`: Sequence[str]: Comma-separated list of column names to include in output file.\n",
    "    `(Default: agbd, agbd_se, l2_quality_flag, l4_quality_flag, sensitivity, sensitivity_a2)`\n",
    "\n",
    "- `query`: str: Query expression for subsetting the rows in the output file.\n",
    "<b>IMPORTANT</b>: The columns input must contain at least all of the columns that appear in this query expression, otherwise an error will occur.\n",
    "`(Default: \"l2_quality_flag == 1 and l4_quality_flag == 1 and sensitivity > 0.95 and sensitivity_a2 > 0.95\")`\n",
    "\n",
    "- `limit`: Maximum number of GEDI granule data files to download (among those that intersect the specified AOI). `(Default: 10,000)`"
   ]
  },
  {
   "cell_type": "code",
   "execution_count": null,
   "id": "behavioral-surge",
   "metadata": {},
   "outputs": [],
   "source": [
    "# Submitting a DPS job\n",
    "# Sets 'result_job_id' to use with maap.getJobResult\n",
    "result = maap.submitJob(\n",
    "    identifier=\"gedi-subset\",\n",
    "    algo_id=\"gedi-subset_ubuntu\",\n",
    "    version=\"gedi-subset-0.2.4\",\n",
    "    queue=\"maap-dps-worker-8gb\",\n",
    "    username=username,\n",
    "    aoi=f\"https://maap-ops-workspace.s3.amazonaws.com/shared/{aoi}\",\n",
    "    columns=\"-\",\n",
    "    query=\"-\",\n",
    "    limit=\"-\",\n",
    ")\n",
    "result_job_id = result[\"job_id\"]\n",
    "print(result)"
   ]
  },
  {
   "cell_type": "code",
   "execution_count": null,
   "id": "social-triangle",
   "metadata": {},
   "outputs": [],
   "source": [
    "# (Optional) Recursively call maap.getJobResult until a response 200 is received\n",
    "# Sets 'location' to path in my-private-bucket in ADE\n",
    "import backoff\n",
    "import re\n",
    "import xml.etree.ElementTree as ET\n",
    "\n",
    "@backoff.on_predicate(backoff.expo, max_value=60)\n",
    "def get_result(result_job_id):\n",
    "    result = maap.getJobResult(result_job_id)\n",
    "    if (result.status_code == 200):\n",
    "        root = ET.fromstring(result.text)\n",
    "        locations = [element.text for element in root.findall('.//{http://www.opengis.net/wps/2.0}Data')]\n",
    "        print(locations)\n",
    "\n",
    "        search = re.search(f\"{username}/(.*)\", locations[0]).group(1)\n",
    "        location = f\"~/my-private-bucket/{search}/gedi_subset.gpkg\"\n",
    "\n",
    "        return True, location\n",
    "    else:\n",
    "        return False\n",
    "\n",
    "bool, location = get_result(result_job_id)"
   ]
  },
  {
   "cell_type": "code",
   "execution_count": null,
   "id": "molecular-albert",
   "metadata": {},
   "outputs": [],
   "source": [
    "# (Alternative) Call to maap.getJobResult without using the Backoff library\n",
    "# Run cell multiple times until a response is received, the job may take some time to finish\n",
    "import re\n",
    "\n",
    "result = maap.getJobResult(result_job_id)\n",
    "root = ET.fromstring(result.text)\n",
    "locations = [element.text for element in root.findall(\".//{http://www.opengis.net/wps/2.0}Data\")]\n",
    "print(locations)\n",
    "\n",
    "search = re.search(f\"{username}/(.*)\", locations[0]).group(1)\n",
    "location = f\"~/my-private-bucket/{search}/gedi_subset.gpkg\""
   ]
  },
  {
   "cell_type": "markdown",
   "id": "heard-answer",
   "metadata": {},
   "source": [
    "## 3. Verify the Results\n",
    "\n",
    "Using the location set during the maap.getJobResult, plot the gpkg generated by the DPS job to view the results."
   ]
  },
  {
   "cell_type": "code",
   "execution_count": null,
   "id": "meaningful-management",
   "metadata": {},
   "outputs": [],
   "source": [
    "# (Optional) Verify the results of the previously processed job using the `location` value set by the cells above\n",
    "import geopandas as gpd\n",
    "import matplotlib.pyplot as plt\n",
    "\n",
    "gedi_gdf = gpd.read_file(location)\n",
    "agbd_colors = plt.cm.get_cmap(\"viridis_r\")\n",
    "gedi_gdf.plot(column=\"agbd\", cmap=agbd_colors);"
   ]
  },
  {
   "cell_type": "code",
   "execution_count": null,
   "id": "coated-technology",
   "metadata": {},
   "outputs": [],
   "source": []
  }
 ],
 "metadata": {
  "kernelspec": {
   "display_name": "Python [conda env:root] *",
   "language": "python",
   "name": "conda-root-py"
  },
  "language_info": {
   "codemirror_mode": {
    "name": "ipython",
    "version": 3
   },
   "file_extension": ".py",
   "mimetype": "text/x-python",
   "name": "python",
   "nbconvert_exporter": "python",
   "pygments_lexer": "ipython3",
   "version": "3.7.4"
  }
 },
 "nbformat": 4,
 "nbformat_minor": 5
}
