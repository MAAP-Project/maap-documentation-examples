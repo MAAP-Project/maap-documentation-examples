{
 "cells": [
  {
   "cell_type": "markdown",
   "id": "da284745",
   "metadata": {},
   "source": [
    "# Combine\n",
    "\n",
    "Combine together the subsets as a single data layer (geojson?)\n",
    "\n",
    "1. make a list of all the subsets (geojson)\n",
    "2. read in the 1st subset\n",
    "    a. add column for uid (granuleid, or name of the file)? What does the user need to find this\n",
    "    Would the user know what collection this came from?\n",
    "3. read next subset (loop over remaining)\n",
    "    a. add column for uid (granuleid, or name of the file)? What does the user need to find this\n",
    "    b. append to the 1st subset https://geopandas.org/en/stable/docs/user_guide/mergingdata.html\n",
    "4. save final geodataframe as new geojson"
   ]
  },
  {
   "cell_type": "code",
   "execution_count": 19,
   "id": "2d991d03",
   "metadata": {},
   "outputs": [],
   "source": [
    "import os.path\n",
    "from os import PathLike\n",
    "from functools import reduce\n",
    "from pathlib import Path\n",
    "from typing import Iterable, Union\n",
    "\n",
    "import geopandas as gpd\n",
    "from profilehooks import timecall"
   ]
  },
  {
   "cell_type": "code",
   "execution_count": 20,
   "id": "d4bd934e",
   "metadata": {},
   "outputs": [],
   "source": [
    "def chext(ext: str, path: str) -> str:\n",
    "    return f'{os.path.splitext(path)[0]}{ext}'"
   ]
  },
  {
   "cell_type": "code",
   "execution_count": 21,
   "id": "5ba05964",
   "metadata": {},
   "outputs": [],
   "source": [
    "def combine_subsets(paths: Iterable[Union[str, os.PathLike]]) -> gpd.GeoDataFrame:\n",
    "    gdfs = (\n",
    "        gpd.read_file(path).assign(filename=chext('.h5', os.path.basename(path)))\n",
    "        for path in paths\n",
    "    )\n",
    "    \n",
    "    return reduce(gpd.GeoDataFrame.append, gdfs)"
   ]
  },
  {
   "cell_type": "code",
   "execution_count": 13,
   "id": "0079802b",
   "metadata": {},
   "outputs": [
    {
     "name": "stderr",
     "output_type": "stream",
     "text": [
      "\n",
      "  combine_subsets (/tmp/ipykernel_25390/1141370264.py:1):\n",
      "    17.079 seconds\n",
      "\n"
     ]
    }
   ],
   "source": [
    "dirpath = Path('/') / 'projects' / 'my-public-bucket' / 'gedi-l4a' / 'gabon'\n",
    "\n",
    "gabon_gdf = timecall(combine_subsets)(dirpath.glob('*.fgb'))\n",
    "gabon_gdf.to_file(dirpath.parent / 'gabon.fgb', driver='FlatGeobuf')\n",
    "gabon_gdf"
   ]
  }
 ],
 "metadata": {
  "kernelspec": {
   "display_name": "Python 3 (ipykernel)",
   "language": "python",
   "name": "python3"
  },
  "language_info": {
   "codemirror_mode": {
    "name": "ipython",
    "version": 3
   },
   "file_extension": ".py",
   "mimetype": "text/x-python",
   "name": "python",
   "nbconvert_exporter": "python",
   "pygments_lexer": "ipython3",
   "version": "3.7.8"
  }
 },
 "nbformat": 4,
 "nbformat_minor": 5
}
