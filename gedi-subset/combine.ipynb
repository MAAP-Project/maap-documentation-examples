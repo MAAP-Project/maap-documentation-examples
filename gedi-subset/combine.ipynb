{
 "cells": [
  {
   "cell_type": "markdown",
   "id": "6050ba1c",
   "metadata": {},
   "source": [
    "# Combine\n",
    "\n",
    "Combine together the subsets as a single data layer (geojson?)\n",
    "\n",
    "1. make a list of all the subsets (geojson)\n",
    "2. read in the 1st subset\n",
    "    a. add column for uid (granuleid, or name of the file)? What does the user need to find this\n",
    "    Would the user know what collection this came from?\n",
    "3. read next subset (loop over remaining)\n",
    "    a. add column for uid (granuleid, or name of the file)? What does the user need to find this\n",
    "    b. append to the 1st subset https://geopandas.org/en/stable/docs/user_guide/mergingdata.html\n",
    "4. save final geodataframe as new geojson"
   ]
  }
 ],
 "metadata": {
  "kernelspec": {
   "display_name": "Python 3 (ipykernel)",
   "language": "python",
   "name": "python3"
  },
  "language_info": {
   "codemirror_mode": {
    "name": "ipython",
    "version": 3
   },
   "file_extension": ".py",
   "mimetype": "text/x-python",
   "name": "python",
   "nbconvert_exporter": "python",
   "pygments_lexer": "ipython3",
   "version": "3.7.8"
  }
 },
 "nbformat": 4,
 "nbformat_minor": 5
}
