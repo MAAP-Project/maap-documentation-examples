{
 "cells": [
  {
   "cell_type": "markdown",
   "id": "6f849cb1-72bb-49bf-bcd0-3c34412db364",
   "metadata": {},
   "source": [
    "# Convert GLAD GLCLU2020 to COGs\n",
    "The raw data hosted by Google are not COGs so we need to convert them and upload to S3 for consumption by MAAP users."
   ]
  },
  {
   "cell_type": "code",
   "execution_count": null,
   "id": "4bca780b-a8b7-45a8-a54c-e836a35c8022",
   "metadata": {},
   "outputs": [],
   "source": [
    "%pip install obstore "
   ]
  },
  {
   "cell_type": "code",
   "execution_count": 1,
   "id": "1b6fa5e0-ea34-444f-94da-7c35cf6995c5",
   "metadata": {},
   "outputs": [],
   "source": [
    "import io\n",
    "import os\n",
    "import pathlib\n",
    "import urllib.request\n",
    "from typing import Union\n",
    "\n",
    "import boto3\n",
    "import obstore as obs\n",
    "import rasterio\n",
    "import tqdm.notebook\n",
    "from obstore.store import HTTPStore, LocalStore, S3Store\n",
    "from rasterio.io import MemoryFile\n",
    "from rio_cogeo.cogeo import cog_translate, cog_validate\n",
    "from rio_cogeo.profiles import cog_profiles\n",
    "\n",
    "from maap.maap import MAAP\n",
    "\n",
    "maap = MAAP()"
   ]
  },
  {
   "cell_type": "code",
   "execution_count": 2,
   "id": "8f08e797-f032-4649-8d17-2dea6400b032",
   "metadata": {},
   "outputs": [
    {
     "name": "stdout",
     "output_type": "stream",
     "text": [
      "found 1680 urls\n"
     ]
    },
    {
     "data": {
      "text/plain": [
       "['https://storage.googleapis.com/earthenginepartners-hansen/GLCLU2000-2020/v2/2000/00N_000E.tif',\n",
       " 'https://storage.googleapis.com/earthenginepartners-hansen/GLCLU2000-2020/v2/2000/00N_010E.tif',\n",
       " 'https://storage.googleapis.com/earthenginepartners-hansen/GLCLU2000-2020/v2/2000/00N_020E.tif',\n",
       " 'https://storage.googleapis.com/earthenginepartners-hansen/GLCLU2000-2020/v2/2000/00N_030E.tif',\n",
       " 'https://storage.googleapis.com/earthenginepartners-hansen/GLCLU2000-2020/v2/2000/00N_040E.tif',\n",
       " 'https://storage.googleapis.com/earthenginepartners-hansen/GLCLU2000-2020/v2/2000/00N_040W.tif',\n",
       " 'https://storage.googleapis.com/earthenginepartners-hansen/GLCLU2000-2020/v2/2000/00N_050W.tif',\n",
       " 'https://storage.googleapis.com/earthenginepartners-hansen/GLCLU2000-2020/v2/2000/00N_060W.tif',\n",
       " 'https://storage.googleapis.com/earthenginepartners-hansen/GLCLU2000-2020/v2/2000/00N_070W.tif',\n",
       " 'https://storage.googleapis.com/earthenginepartners-hansen/GLCLU2000-2020/v2/2000/00N_080W.tif']"
      ]
     },
     "execution_count": 2,
     "metadata": {},
     "output_type": "execute_result"
    }
   ],
   "source": [
    "file_list_url_format = \"https://storage.googleapis.com/earthenginepartners-hansen/GLCLU2000-2020/v2/{year}.txt\"\n",
    "\n",
    "urls = []\n",
    "for year in [\n",
    "    \"2000\",\n",
    "    \"2005\",\n",
    "    \"2010\",\n",
    "    \"2015\",\n",
    "    \"2020\",\n",
    "    \"2000-2020change\", # net change layer\n",
    "]:\n",
    "    file_list_url = file_list_url_format.format(year=year)\n",
    "    orig_urls = urllib.request.urlopen(file_list_url)\n",
    "    urls.extend([url.strip().decode(\"utf-8\") for url in orig_urls.readlines()])\n",
    "\n",
    "print(f\"found {len(urls)} urls\")\n",
    "urls[:10]"
   ]
  },
  {
   "cell_type": "code",
   "execution_count": 3,
   "id": "518f3580-b229-4c16-b2d9-68f07773e883",
   "metadata": {},
   "outputs": [],
   "source": [
    "# original file store info\n",
    "store_base_url = \"https://storage.googleapis.com/earthenginepartners-hansen\"\n",
    "orig_store = HTTPStore.from_url(url=store_base_url)\n",
    "orig_paths = [url.replace(store_base_url, \"\") for url in urls]\n",
    "\n",
    "ObjectStore = Union[\n",
    "    LocalStore,\n",
    "    S3Store,\n",
    "]\n",
    "\n",
    "def convert_to_cog(\n",
    "    src_path: str,\n",
    "    src_store: ObjectStore,\n",
    "    dst_path: str,\n",
    "    dst_store: ObjectStore,\n",
    "):\n",
    "    \"\"\"Fetch a file from an ObjectStore, load into memory, convert to an in-memory COG and write\n",
    "    to another ObjectStore.\n",
    "    \"\"\"\n",
    "    response = obs.get(src_store, src_path)\n",
    "    dst_profile = cog_profiles.get(\"deflate\")\n",
    "    config = dict(\n",
    "        GDAL_NUM_THREADS=\"ALL_CPUS\",\n",
    "        GDAL_TIFF_INTERNAL_MASK=True,\n",
    "        GDAL_TIFF_OVR_BLOCKSIZE=\"128\",\n",
    "    )\n",
    "    \n",
    "    with rasterio.open(io.BytesIO(response.bytes())) as src, MemoryFile() as dst_memfile:\n",
    "        cog_translate(\n",
    "            src,\n",
    "            dst_memfile.name,\n",
    "            dst_profile,\n",
    "            in_memory=True,\n",
    "            quiet=True,\n",
    "            config=config,\n",
    "        )\n",
    "\n",
    "        obs.put(dst_store, dst_path, dst_memfile)\n",
    "\n"
   ]
  },
  {
   "cell_type": "code",
   "execution_count": 4,
   "id": "a1ef47e6-bff8-49ed-bf57-84d6f0601593",
   "metadata": {},
   "outputs": [
    {
     "data": {
      "application/vnd.jupyter.widget-view+json": {
       "model_id": "50b7018fecc3411a8851f5b2b420ca34",
       "version_major": 2,
       "version_minor": 0
      },
      "text/plain": [
       "  0%|          | 0/1680 [00:00<?, ?it/s]"
      ]
     },
     "metadata": {},
     "output_type": "display_data"
    }
   ],
   "source": [
    "s3_key_prefix = \"shared/henrydevseed/hansen\"\n",
    "\n",
    "for i, src_path in tqdm.notebook.tqdm_notebook(enumerate(orig_paths), total=len(orig_paths)):\n",
    "    # S3 credentials need to be refreshed periodically\n",
    "    if not i % 20:\n",
    "        aws_creds = maap.aws.workspace_bucket_credentials()\n",
    "        aws_bucket_name = aws_creds.pop(\"aws_bucket_name\")\n",
    "        aws_bucket_prefix = aws_creds.pop(\"aws_bucket_prefix\")\n",
    "    \n",
    "    session = boto3.Session(\n",
    "        aws_access_key_id=aws_creds[\"aws_access_key_id\"],\n",
    "        aws_secret_access_key=aws_creds[\"aws_secret_access_key\"],\n",
    "        aws_session_token=aws_creds[\"aws_session_token\"],\n",
    "        region_name=\"us-west-2\",\n",
    "    )\n",
    "    s3_store = S3Store.from_session(session, aws_bucket_name, config={\"AWS_REGION\": \"us-west-2\"})\n",
    "\n",
    "    dst_path = f\"{s3_key_prefix}{src_path}\"\n",
    "    try:\n",
    "        exists = obs.head(s3_store, dst_path)\n",
    "        if exists:\n",
    "            aws_session = rasterio.session.AWSSession(session=session)\n",
    "            with rasterio.Env(aws_session):\n",
    "                s3_key = f\"s3://{aws_bucket_name}/{dst_path}\"\n",
    "                valid, errors, warnings = cog_validate(\n",
    "                    s3_key,\n",
    "                )\n",
    "                if not valid:\n",
    "                    raise FileNotFoundError(f\"{s3_key} is not a valid COG\")\n",
    "            continue\n",
    "    except FileNotFoundError:\n",
    "        convert_to_cog(src_path, orig_store, dst_path, s3_store)"
   ]
  },
  {
   "cell_type": "markdown",
   "id": "fcadd583-9d34-405a-a287-c78041641add",
   "metadata": {},
   "source": [
    "## copy COGs to nasa-maap-data-store bucket\n",
    "\n",
    "Need to be logged into SMCE MAAP AWS account first.\n",
    "\n",
    "`aws s3 sync s3://maap-ops-workspace/shared/henrydevseed/hansen/GLCLU2000-2020/ s3://nasa-maap-data-store/file-staging/nasa-map/glad-glclu2020/`"
   ]
  },
  {
   "cell_type": "code",
   "execution_count": null,
   "id": "3bcbf90b-6914-445f-9ee0-fabb9d0c8816",
   "metadata": {},
   "outputs": [],
   "source": []
  }
 ],
 "metadata": {
  "kernelspec": {
   "display_name": "Python [conda env:pangeo] *",
   "language": "python",
   "name": "conda-env-pangeo-py"
  },
  "language_info": {
   "codemirror_mode": {
    "name": "ipython",
    "version": 3
   },
   "file_extension": ".py",
   "mimetype": "text/x-python",
   "name": "python",
   "nbconvert_exporter": "python",
   "pygments_lexer": "ipython3",
   "version": "3.10.13"
  }
 },
 "nbformat": 4,
 "nbformat_minor": 5
}
