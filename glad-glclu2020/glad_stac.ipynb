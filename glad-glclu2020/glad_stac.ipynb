{
 "cells": [
  {
   "cell_type": "markdown",
   "id": "0a52e585-20c6-4828-854d-948927f341c6",
   "metadata": {},
   "source": [
    "# Upload GLAD GLCLU2020 STAC metadata\n",
    "This notebook requires AWS credentials for the SMCE MAAP account, so you will need to generate a temporary set of keys and paste them into the `boto3` session chunk before proceeding."
   ]
  },
  {
   "cell_type": "code",
   "execution_count": 1,
   "id": "4dafab6a-aa2b-4738-b23c-e6bfce77ab53",
   "metadata": {},
   "outputs": [
    {
     "name": "stdout",
     "output_type": "stream",
     "text": [
      "\u001b[33mWARNING: Running pip as the 'root' user can result in broken permissions and conflicting behaviour with the system package manager. It is recommended to use a virtual environment instead: https://pip.pypa.io/warnings/venv\u001b[0m\u001b[33m\n",
      "\u001b[0mNote: you may need to restart the kernel to use updated packages.\n"
     ]
    }
   ],
   "source": [
    "%pip install obstore stactools-glad-glclu2020 -q"
   ]
  },
  {
   "cell_type": "code",
   "execution_count": 3,
   "id": "d8245b15-bcb9-4bf2-8b2f-51cb9ba5c4a8",
   "metadata": {},
   "outputs": [],
   "source": [
    "import asyncio\n",
    "import json\n",
    "from concurrent.futures import ThreadPoolExecutor\n",
    "\n",
    "import boto3\n",
    "import httpx\n",
    "import obstore as obs\n",
    "import tqdm.notebook\n",
    "from obstore.store import S3Store\n",
    "from stactools.glad_glclu2020 import create_collection, create_item\n",
    "from stactools.glad_glclu2020.metadata import CollectionIDs\n",
    "\n",
    "# STAC ingestory URL\n",
    "INGESTOR_URL = \"https://stac-ingestor.maap-project.org\"\n",
    "\n",
    "# paste MAAP SMCE AWS credentials here:\n",
    "session = boto3.Session(\n",
    "    aws_access_key_id=\"\",\n",
    "    aws_secret_access_key=\"\",\n",
    "    aws_session_token=\"\",\n",
    "    region_name=\"us-west-2\",\n",
    ")\n",
    "client = session.client(\"secretsmanager\", region_name=\"us-west-2\")\n",
    "\n",
    "# MAAP STAC secret\n",
    "response = client.get_secret_value(\n",
    "    SecretId=\"arn:aws:secretsmanager:us-west-2:916098889494:secret:MAAP-STAC-auth-dev/MAAP-workflows-EsykqB\"\n",
    ")\n",
    "\n",
    "settings = json.loads(response[\"SecretString\"])\n",
    "\n",
    "# function to get token for STAC ingestor\n",
    "def get_token(\n",
    "    client_id: str, \n",
    "    client_secret: str, \n",
    "    domain: str,\n",
    "    scope: str\n",
    ") -> str:\n",
    "    response = httpx.post(\n",
    "        f\"{domain}/oauth2/token\",\n",
    "        headers={\n",
    "            \"Content-Type\": \"application/x-www-form-urlencoded\",\n",
    "        },\n",
    "        auth=(client_id, client_secret),\n",
    "        data={\n",
    "            \"grant_type\": \"client_credentials\",\n",
    "            \"scope\": scope,\n",
    "        },\n",
    "    )\n",
    "    try:\n",
    "        response.raise_for_status()\n",
    "    except Exception:\n",
    "        raise\n",
    "\n",
    "    return response.json()[\"access_token\"]\n",
    "\n",
    "\n",
    "token = get_token(\n",
    "    client_id = settings[\"client_id\"],\n",
    "    client_secret = settings[\"client_secret\"],\n",
    "    domain = settings[\"cognito_domain\"],\n",
    "    scope = settings[\"scope\"],\n",
    ")"
   ]
  },
  {
   "cell_type": "code",
   "execution_count": 4,
   "id": "8cc9b27d-42e6-477f-b666-8f2074065283",
   "metadata": {},
   "outputs": [],
   "source": [
    "async def create_item_async(s3_key, href_format):\n",
    "    \"\"\"Wrapper to run create_item in a thread pool\"\"\"\n",
    "    loop = asyncio.get_event_loop()\n",
    "    with ThreadPoolExecutor() as pool:\n",
    "        return await loop.run_in_executor(\n",
    "            pool,\n",
    "            create_item,\n",
    "            s3_key,\n",
    "            href_format\n",
    "        )\n",
    "\n",
    "async def process_items(s3_keys, href_format: str, max_concurrent: int = 10):\n",
    "    \"\"\"Process multiple items concurrently with a semaphore to limit concurrency\"\"\"\n",
    "    semaphore = asyncio.Semaphore(max_concurrent)\n",
    "    \n",
    "    async def process_single_item(s3_key):\n",
    "        async with semaphore:\n",
    "            return await create_item_async(\n",
    "                s3_key,\n",
    "                href_format=href_format\n",
    "            )\n",
    "    \n",
    "    # Create tasks for all items\n",
    "    tasks = [process_single_item(key) for key in s3_keys]\n",
    "    \n",
    "    # Use tqdm to show progress\n",
    "    results = []\n",
    "    for task in tqdm.notebook.tqdm(asyncio.as_completed(tasks), total=len(tasks)):\n",
    "        results.append(await task)\n",
    "    \n",
    "    return results\n"
   ]
  },
  {
   "cell_type": "markdown",
   "id": "7aac87b8-b414-4586-b312-9481e69e90e3",
   "metadata": {},
   "source": [
    "## Find COGs in S3\n",
    "The GLAD COGs are in the `nasa-maap-data-store` bucket under the specified prefix"
   ]
  },
  {
   "cell_type": "code",
   "execution_count": 5,
   "id": "3f909a59-bd02-4ebb-a5b6-02a6b6454726",
   "metadata": {},
   "outputs": [
    {
     "name": "stdout",
     "output_type": "stream",
     "text": [
      "s3://nasa-maap-data-store/file-staging/nasa-map/glad-glclu2020/v2/2020/00N_000E.tif\n"
     ]
    }
   ],
   "source": [
    "s3_bucket = \"nasa-maap-data-store\"\n",
    "s3_key_prefix = \"file-staging/nasa-map/glad-glclu2020\"\n",
    "\n",
    "s3_store = S3Store.from_session(session, s3_bucket, config={\"AWS_REGION\": \"us-west-2\"})\n",
    "\n",
    "s3_keys_by_year = {\n",
    "    year: [\n",
    "        f\"s3://{s3_bucket}/{key['path']}\"\n",
    "        for res in obs.list(s3_store, s3_key_prefix + f\"/v2/{year}/\")\n",
    "        for key in res\n",
    "        if key[\"path\"].endswith(\".tif\")\n",
    "    ]\n",
    "    for year in [\"2000\", \"2005\", \"2010\", \"2015\", \"2020\", \"2000-2020change\"]\n",
    "}\n",
    "print(s3_keys_by_year[\"2020\"][0])"
   ]
  },
  {
   "cell_type": "markdown",
   "id": "cd291e44-ec7a-4391-8ce6-27bbdfa621f5",
   "metadata": {},
   "source": [
    "## Upload collections to STAC ingestor"
   ]
  },
  {
   "cell_type": "code",
   "execution_count": 6,
   "id": "a9aa9a14-baec-45eb-947d-32b4bd3085e3",
   "metadata": {},
   "outputs": [
    {
     "name": "stdout",
     "output_type": "stream",
     "text": [
      "['Successfully published: glad-glclu2020-v2']\n"
     ]
    }
   ],
   "source": [
    "annual_collection = create_collection(\n",
    "    id=CollectionIDs.GLAD_GLCLU2020,\n",
    "    sample_asset_href=s3_keys_by_year[\"2020\"][0],\n",
    ")\n",
    "\n",
    "post_annual = httpx.post(\n",
    "    f\"{INGESTOR_URL}/collections\",\n",
    "    json=annual_collection.to_dict(),\n",
    "    headers = {\n",
    "        'Authorization': f'Bearer {token}',\n",
    "        'Content-Type': 'application/json',  # Assuming you are sending JSON data\n",
    "    }\n",
    ")\n",
    "print(post_annual.json())"
   ]
  },
  {
   "cell_type": "code",
   "execution_count": 7,
   "id": "ce90fa18-19a4-4e5e-a589-c79ba9fdcddf",
   "metadata": {},
   "outputs": [
    {
     "name": "stdout",
     "output_type": "stream",
     "text": [
      "['Successfully published: glad-glclu2020-change-v2']\n"
     ]
    }
   ],
   "source": [
    "change_collection = create_collection(\n",
    "    id=CollectionIDs.GLAD_GLCLU2020_CHANGE,\n",
    "    sample_asset_href=s3_keys_by_year[\"2000-2020change\"][0],\n",
    ")\n",
    "\n",
    "post_change = httpx.post(\n",
    "    f\"{INGESTOR_URL}/collections\",\n",
    "    json=change_collection.to_dict(),\n",
    "    headers = {\n",
    "        'Authorization': f'Bearer {token}',\n",
    "        'Content-Type': 'application/json',  # Assuming you are sending JSON data\n",
    "    }\n",
    ")\n",
    "print(post_change.json())"
   ]
  },
  {
   "cell_type": "markdown",
   "id": "47f69190-f48f-4b0b-aa8c-a400a53dba59",
   "metadata": {},
   "source": [
    "## Generate item metadata and upload to ingestor"
   ]
  },
  {
   "cell_type": "code",
   "execution_count": 10,
   "id": "9f141550-10f5-4ea9-979e-db86e2ddacf8",
   "metadata": {},
   "outputs": [
    {
     "name": "stdout",
     "output_type": "stream",
     "text": [
      "processing 2005\n"
     ]
    },
    {
     "data": {
      "application/vnd.jupyter.widget-view+json": {
       "model_id": "025eead90b454c47ac89e35b5709ba2e",
       "version_major": 2,
       "version_minor": 0
      },
      "text/plain": [
       "  0%|          | 0/280 [00:00<?, ?it/s]"
      ]
     },
     "metadata": {},
     "output_type": "display_data"
    },
    {
     "data": {
      "application/vnd.jupyter.widget-view+json": {
       "model_id": "8c056144c18342ffa8f0d4f9863f67e8",
       "version_major": 2,
       "version_minor": 0
      },
      "text/plain": [
       "  0%|          | 0/280 [00:00<?, ?it/s]"
      ]
     },
     "metadata": {},
     "output_type": "display_data"
    },
    {
     "name": "stdout",
     "output_type": "stream",
     "text": [
      "processing 2010\n"
     ]
    },
    {
     "data": {
      "application/vnd.jupyter.widget-view+json": {
       "model_id": "13a951b160ce4c56973379727ac4cdcb",
       "version_major": 2,
       "version_minor": 0
      },
      "text/plain": [
       "  0%|          | 0/280 [00:00<?, ?it/s]"
      ]
     },
     "metadata": {},
     "output_type": "display_data"
    },
    {
     "data": {
      "application/vnd.jupyter.widget-view+json": {
       "model_id": "39d70d37cba449d8a7e87191417de1d2",
       "version_major": 2,
       "version_minor": 0
      },
      "text/plain": [
       "  0%|          | 0/280 [00:00<?, ?it/s]"
      ]
     },
     "metadata": {},
     "output_type": "display_data"
    },
    {
     "name": "stdout",
     "output_type": "stream",
     "text": [
      "processing 2015\n"
     ]
    },
    {
     "data": {
      "application/vnd.jupyter.widget-view+json": {
       "model_id": "59721f27c94f45709cc81faeac1b96b3",
       "version_major": 2,
       "version_minor": 0
      },
      "text/plain": [
       "  0%|          | 0/280 [00:00<?, ?it/s]"
      ]
     },
     "metadata": {},
     "output_type": "display_data"
    },
    {
     "data": {
      "application/vnd.jupyter.widget-view+json": {
       "model_id": "952f77437c5b4cf4a5e2bbcbc4e26cf3",
       "version_major": 2,
       "version_minor": 0
      },
      "text/plain": [
       "  0%|          | 0/280 [00:00<?, ?it/s]"
      ]
     },
     "metadata": {},
     "output_type": "display_data"
    },
    {
     "name": "stdout",
     "output_type": "stream",
     "text": [
      "processing 2020\n"
     ]
    },
    {
     "data": {
      "application/vnd.jupyter.widget-view+json": {
       "model_id": "de8cc67aba4a434ca3d50378372fd881",
       "version_major": 2,
       "version_minor": 0
      },
      "text/plain": [
       "  0%|          | 0/280 [00:00<?, ?it/s]"
      ]
     },
     "metadata": {},
     "output_type": "display_data"
    },
    {
     "data": {
      "application/vnd.jupyter.widget-view+json": {
       "model_id": "5d29746a1c28448d9c08ecd3feadce45",
       "version_major": 2,
       "version_minor": 0
      },
      "text/plain": [
       "  0%|          | 0/280 [00:00<?, ?it/s]"
      ]
     },
     "metadata": {},
     "output_type": "display_data"
    },
    {
     "name": "stdout",
     "output_type": "stream",
     "text": [
      "processing 2000-2020change\n"
     ]
    },
    {
     "data": {
      "application/vnd.jupyter.widget-view+json": {
       "model_id": "37728e8ab9f74a02bbfe750dc65ce0ad",
       "version_major": 2,
       "version_minor": 0
      },
      "text/plain": [
       "  0%|          | 0/280 [00:00<?, ?it/s]"
      ]
     },
     "metadata": {},
     "output_type": "display_data"
    },
    {
     "data": {
      "application/vnd.jupyter.widget-view+json": {
       "model_id": "dbf549c3bdf24cc1ba66549235cf2a55",
       "version_major": 2,
       "version_minor": 0
      },
      "text/plain": [
       "  0%|          | 0/280 [00:00<?, ?it/s]"
      ]
     },
     "metadata": {},
     "output_type": "display_data"
    }
   ],
   "source": [
    "for year, s3_keys in s3_keys_by_year.items():\n",
    "    print(\"processing\", year)\n",
    "    loop = asyncio.get_event_loop()\n",
    "    items = await process_items(\n",
    "        s3_keys,\n",
    "        href_format=\"s3://nasa-maap-data-store/file-staging/nasa-map/glad-glclu2020/v2/{year}/{loc}.tif\",\n",
    "        max_concurrent=20 \n",
    "    )\n",
    "    items = list(items)\n",
    "    \n",
    "    for item in tqdm.notebook.tqdm(items):\n",
    "        request = httpx.post(\n",
    "            f\"{INGESTOR_URL}/ingestions\",\n",
    "            json=item.to_dict(),\n",
    "            headers = {\n",
    "                'Authorization': f'Bearer {token}',\n",
    "                'Content-Type': 'application/json',  # Assuming you are sending JSON data\n",
    "            },\n",
    "            timeout=60,\n",
    "        )\n",
    "        request.raise_for_status()"
   ]
  },
  {
   "cell_type": "code",
   "execution_count": null,
   "id": "c7343fb7-82ec-4f3a-8c5c-0dfcfc8fcf2c",
   "metadata": {},
   "outputs": [],
   "source": []
  }
 ],
 "metadata": {
  "kernelspec": {
   "display_name": "Python [conda env:pangeo] *",
   "language": "python",
   "name": "conda-env-pangeo-py"
  },
  "language_info": {
   "codemirror_mode": {
    "name": "ipython",
    "version": 3
   },
   "file_extension": ".py",
   "mimetype": "text/x-python",
   "name": "python",
   "nbconvert_exporter": "python",
   "pygments_lexer": "ipython3",
   "version": "3.10.13"
  }
 },
 "nbformat": 4,
 "nbformat_minor": 5
}
