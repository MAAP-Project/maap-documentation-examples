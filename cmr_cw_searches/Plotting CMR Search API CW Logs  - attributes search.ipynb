{
 "cells": [
  {
   "cell_type": "code",
   "execution_count": 1,
   "id": "97458536",
   "metadata": {},
   "outputs": [],
   "source": [
    "import boto3\n",
    "from datetime import datetime, timedelta\n",
    "import json\n",
    "import matplotlib.pyplot as plt\n",
    "import requests\n",
    "import time"
   ]
  },
  {
   "cell_type": "code",
   "execution_count": 2,
   "id": "2566ce7b",
   "metadata": {},
   "outputs": [],
   "source": [
    "# NOTE: You will need to set AWS access keys for the MCP environment"
   ]
  },
  {
   "cell_type": "code",
   "execution_count": 2,
   "id": "eda695ce",
   "metadata": {},
   "outputs": [
    {
     "name": "stdout",
     "output_type": "stream",
     "text": [
      "\n",
      "fields @timestamp, @message\n",
      "| filter @message like \"cmr.search.api\"\n",
      "| filter @message like \"attribute\"\n",
      "| parse @message /:attribute \\[\"(?<attribute>.+)\"\\]/\n",
      "| stats count(*) as number_queries by attribute\n",
      "| sort by number_queries desc\n",
      "\n",
      "Waiting for query to complete ...\n",
      "Waiting for query to complete ...\n",
      "Waiting for query to complete ...\n",
      "Waiting for query to complete ...\n",
      "Waiting for query to complete ...\n",
      "Waiting for query to complete ...\n",
      "Waiting for query to complete ...\n",
      "Waiting for query to complete ...\n",
      "Waiting for query to complete ...\n",
      "Waiting for query to complete ...\n",
      "Waiting for query to complete ...\n",
      "Waiting for query to complete ...\n",
      "Waiting for query to complete ...\n",
      "Waiting for query to complete ...\n",
      "Waiting for query to complete ...\n",
      "Waiting for query to complete ...\n",
      "Waiting for query to complete ...\n",
      "Waiting for query to complete ...\n",
      "Waiting for query to complete ...\n",
      "Waiting for query to complete ...\n",
      "Waiting for query to complete ...\n",
      "Waiting for query to complete ...\n",
      "Waiting for query to complete ...\n",
      "Waiting for query to complete ...\n",
      "Waiting for query to complete ...\n",
      "Waiting for query to complete ...\n",
      "Waiting for query to complete ...\n",
      "Waiting for query to complete ...\n",
      "Waiting for query to complete ...\n",
      "Waiting for query to complete ...\n",
      "Waiting for query to complete ...\n",
      "Waiting for query to complete ...\n",
      "Waiting for query to complete ...\n",
      "Waiting for query to complete ...\n",
      "Waiting for query to complete ...\n",
      "Waiting for query to complete ...\n",
      "Waiting for query to complete ...\n",
      "Waiting for query to complete ...\n",
      "Waiting for query to complete ...\n",
      "Waiting for query to complete ...\n",
      "Waiting for query to complete ...\n",
      "Waiting for query to complete ...\n",
      "Waiting for query to complete ...\n",
      "Waiting for query to complete ...\n",
      "CPU times: user 860 ms, sys: 96.2 ms, total: 956 ms\n",
      "Wall time: 8min 18s\n"
     ]
    }
   ],
   "source": [
    "%%time\n",
    "client = boto3.client('logs', region_name='us-west-2')\n",
    "\n",
    "query = \"\"\"\n",
    "fields @timestamp, @message\n",
    "| filter @message like \"cmr.search.api\"\n",
    "| filter @message like \"attribute\"\n",
    "| parse @message /:attribute \\[\"(?<attribute>.+)\"\\]/\n",
    "| stats count(*) as number_queries by attribute\n",
    "| sort by number_queries desc\n",
    "\"\"\"\n",
    "\n",
    "print(query)\n",
    "log_group = 'cmr-search-ops'\n",
    "datetime_str = '10/01/22 00:00:00'\n",
    "starting_datetime_object = datetime.strptime(datetime_str, '%m/%d/%y %H:%M:%S')\n",
    "\n",
    "start_query_response = client.start_query(\n",
    "    logGroupName=log_group,\n",
    "    startTime=int(starting_datetime_object.timestamp()),\n",
    "    endTime=int(datetime.now().timestamp()),\n",
    "    queryString=query,\n",
    ")\n",
    "\n",
    "query_id = start_query_response['queryId']\n",
    "\n",
    "logs_response = None\n",
    "\n",
    "while logs_response == None or logs_response['status'] == 'Running':\n",
    "    print('Waiting for query to complete ...')\n",
    "    time.sleep(10)\n",
    "    logs_response = client.get_query_results(\n",
    "        queryId=query_id\n",
    "    )"
   ]
  },
  {
   "cell_type": "code",
   "execution_count": 3,
   "id": "b7e90700",
   "metadata": {},
   "outputs": [],
   "source": [
    "# Save the results so we don't have to re-run the query\n",
    "filename = f\"attribute_search-{query_id}.json\"\n",
    "with open(filename, \"w+\") as f:\n",
    "    f.write(json.dumps(logs_response))\n",
    "    f.close()"
   ]
  },
  {
   "cell_type": "code",
   "execution_count": 4,
   "id": "441d1d13",
   "metadata": {},
   "outputs": [
    {
     "data": {
      "text/plain": [
       "{'results': [[{'field': 'attribute',\n",
       "    'value': 'string,Site Name,Lope National Park Gabon'},\n",
       "   {'field': 'number_queries', 'value': '80'}],\n",
       "  [{'field': 'attribute',\n",
       "    'value': 'string,Site Name,Mondah Forest Gabon\" \"string,Data Format,ASCII'},\n",
       "   {'field': 'number_queries', 'value': '78'}],\n",
       "  [{'field': 'attribute', 'value': 'string,Site Name,Mondah Forest Gabon'},\n",
       "   {'field': 'number_queries', 'value': '76'}],\n",
       "  [{'field': 'attribute',\n",
       "    'value': 'float,Track Number,002\" \"string,Polarization,HH VV'},\n",
       "   {'field': 'number_queries', 'value': '18'}],\n",
       "  [{'field': 'attribute',\n",
       "    'value': 'float,Track Number,002\" \"string,Polarization,VV VV'},\n",
       "   {'field': 'number_queries', 'value': '18'}],\n",
       "  [{'field': 'attribute',\n",
       "    'value': 'float,Track Number,002\" \"string,Polarization,HH HH'},\n",
       "   {'field': 'number_queries', 'value': '18'}],\n",
       "  [{'field': 'attribute',\n",
       "    'value': 'float,Track Number,002\" \"string,Polarization,HV HV'},\n",
       "   {'field': 'number_queries', 'value': '18'}],\n",
       "  [{'field': 'attribute', 'value': 'string,Acquisition Type,Satellite Lidar'},\n",
       "   {'field': 'number_queries', 'value': '4'}],\n",
       "  [{'field': 'attribute',\n",
       "    'value': 'float,Track Number,001\" \"string,Polarization,HH'},\n",
       "   {'field': 'number_queries', 'value': '3'}],\n",
       "  [{'field': 'attribute', 'value': 'string,Site Name,lope'},\n",
       "   {'field': 'number_queries', 'value': '3'}],\n",
       "  [{'field': 'attribute', 'value': 'float,Track Number,001'},\n",
       "   {'field': 'number_queries', 'value': '3'}],\n",
       "  [{'field': 'attribute', 'value': 'string,Data Format,rdr'},\n",
       "   {'field': 'number_queries', 'value': '2'}],\n",
       "  [{'field': 'attribute', 'value': 'Geolocated'},\n",
       "   {'field': 'number_queries', 'value': '2'}],\n",
       "  [{'field': 'attribute', 'value': 'Geolocated,BOOLEAN,True'},\n",
       "   {'field': 'number_queries', 'value': '1'}],\n",
       "  [{'field': 'number_queries', 'value': '1'}],\n",
       "  [{'field': 'attribute', 'value': 'Acquisition Type,string,Satellite Lidar'},\n",
       "   {'field': 'number_queries', 'value': '1'}],\n",
       "  [{'field': 'attribute', 'value': 'geolocated,boolean,True'},\n",
       "   {'field': 'number_queries', 'value': '1'}],\n",
       "  [{'field': 'attribute', 'value': 'Geolocated,boolean,True'},\n",
       "   {'field': 'number_queries', 'value': '1'}],\n",
       "  [{'field': 'attribute',\n",
       "    'value': 'string,Acquisition Type,string,Satellite Lidar'},\n",
       "   {'field': 'number_queries', 'value': '1'}],\n",
       "  [{'field': 'attribute',\n",
       "    'value': 'str,Acquisition Type,string,Satellite Lidar'},\n",
       "   {'field': 'number_queries', 'value': '1'}]],\n",
       " 'statistics': {'recordsMatched': 330.0,\n",
       "  'recordsScanned': 37612816.0,\n",
       "  'bytesScanned': 13313571410.0},\n",
       " 'status': 'Complete',\n",
       " 'ResponseMetadata': {'RequestId': 'e6a108bb-057c-45ab-af54-cb0a7ebdbc8e',\n",
       "  'HTTPStatusCode': 200,\n",
       "  'HTTPHeaders': {'x-amzn-requestid': 'e6a108bb-057c-45ab-af54-cb0a7ebdbc8e',\n",
       "   'content-type': 'application/x-amz-json-1.1',\n",
       "   'content-length': '2294',\n",
       "   'date': 'Wed, 12 Apr 2023 17:38:01 GMT'},\n",
       "  'RetryAttempts': 0}}"
      ]
     },
     "execution_count": 4,
     "metadata": {},
     "output_type": "execute_result"
    }
   ],
   "source": [
    "data = json.loads(open(filename).read())\n",
    "data"
   ]
  },
  {
   "cell_type": "code",
   "execution_count": 5,
   "id": "dd811168",
   "metadata": {},
   "outputs": [
    {
     "data": {
      "text/plain": [
       "[{'attribute': 'string,Site Name,Lope National Park Gabon',\n",
       "  'number_queries': '80'},\n",
       " {'attribute': 'string,Site Name,Mondah Forest Gabon\" \"string,Data Format,ASCII',\n",
       "  'number_queries': '78'},\n",
       " {'attribute': 'string,Site Name,Mondah Forest Gabon', 'number_queries': '76'},\n",
       " {'attribute': 'float,Track Number,002\" \"string,Polarization,HH VV',\n",
       "  'number_queries': '18'},\n",
       " {'attribute': 'float,Track Number,002\" \"string,Polarization,VV VV',\n",
       "  'number_queries': '18'},\n",
       " {'attribute': 'float,Track Number,002\" \"string,Polarization,HH HH',\n",
       "  'number_queries': '18'},\n",
       " {'attribute': 'float,Track Number,002\" \"string,Polarization,HV HV',\n",
       "  'number_queries': '18'},\n",
       " {'attribute': 'string,Acquisition Type,Satellite Lidar',\n",
       "  'number_queries': '4'},\n",
       " {'attribute': 'float,Track Number,001\" \"string,Polarization,HH',\n",
       "  'number_queries': '3'},\n",
       " {'attribute': 'string,Site Name,lope', 'number_queries': '3'},\n",
       " {'attribute': 'float,Track Number,001', 'number_queries': '3'},\n",
       " {'attribute': 'string,Data Format,rdr', 'number_queries': '2'},\n",
       " {'attribute': 'Geolocated', 'number_queries': '2'},\n",
       " {'attribute': 'Geolocated,BOOLEAN,True', 'number_queries': '1'},\n",
       " {'number_queries': '1'},\n",
       " {'attribute': 'Acquisition Type,string,Satellite Lidar',\n",
       "  'number_queries': '1'},\n",
       " {'attribute': 'geolocated,boolean,True', 'number_queries': '1'},\n",
       " {'attribute': 'Geolocated,boolean,True', 'number_queries': '1'},\n",
       " {'attribute': 'string,Acquisition Type,string,Satellite Lidar',\n",
       "  'number_queries': '1'},\n",
       " {'attribute': 'str,Acquisition Type,string,Satellite Lidar',\n",
       "  'number_queries': '1'}]"
      ]
     },
     "execution_count": 5,
     "metadata": {},
     "output_type": "execute_result"
    }
   ],
   "source": [
    "restructured_data = []\n",
    "for result in logs_response['results']:\n",
    "    entry_data = {}\n",
    "    for entry in result:\n",
    "        entry_data[entry['field']] = entry['value']\n",
    "    restructured_data.append(entry_data)\n",
    "\n",
    "restructured_data"
   ]
  },
  {
   "cell_type": "code",
   "execution_count": 6,
   "id": "ebdb3529",
   "metadata": {},
   "outputs": [],
   "source": [
    "count_data = {}\n",
    "\n",
    "for result in restructured_data:\n",
    "    if 'attribute' in result:\n",
    "        attribute_keyname = ','.join(result['attribute'].split(\",\")[-2:])\n",
    "        count_data[attribute_keyname] = int(result['number_queries'])\n",
    "\n",
    "count_data = {k: v for k, v in sorted(count_data.items(), key=lambda item: item[1], reverse=True)}"
   ]
  },
  {
   "cell_type": "code",
   "execution_count": 7,
   "id": "69e11b0a",
   "metadata": {},
   "outputs": [
    {
     "data": {
      "image/png": "[encoded data removed]",
      "text/plain": [
       "<Figure size 864x384 with 1 Axes>"
      ]
     },
     "metadata": {
      "needs_background": "light"
     },
     "output_type": "display_data"
    }
   ],
   "source": [
    "limit = 8\n",
    "attributes = list(count_data.keys())[0:limit]\n",
    "number_queries = list(count_data.values())[0:limit]\n",
    "\n",
    "plt.figure(figsize=(9, 4), dpi=96)\n",
    "\n",
    "def addlabels(x,y):\n",
    "    for i in range(len(x)):\n",
    "        plt.text(i, y[i], y[i], ha = 'center', va= 'bottom')\n",
    "\n",
    "plt.bar(attributes, number_queries, color='y')\n",
    "addlabels(attributes, number_queries)\n",
    "plt.xticks(rotation=30, ha='right')\n",
    "plt.show()"
   ]
  }
 ],
 "metadata": {
  "kernelspec": {
   "display_name": "Python 3 (ipykernel)",
   "language": "python",
   "name": "python3"
  },
  "language_info": {
   "codemirror_mode": {
    "name": "ipython",
    "version": 3
   },
   "file_extension": ".py",
   "mimetype": "text/x-python",
   "name": "python",
   "nbconvert_exporter": "python",
   "pygments_lexer": "ipython3",
   "version": "3.9.7"
  }
 },
 "nbformat": 4,
 "nbformat_minor": 5
}
