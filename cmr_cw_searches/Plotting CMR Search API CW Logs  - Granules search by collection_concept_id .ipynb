{
 "cells": [
  {
   "cell_type": "code",
   "execution_count": 1,
   "id": "5ad04272",
   "metadata": {},
   "outputs": [],
   "source": [
    "import boto3\n",
    "from datetime import datetime, timedelta\n",
    "import json\n",
    "import matplotlib.pyplot as plt\n",
    "import requests\n",
    "import time"
   ]
  },
  {
   "cell_type": "code",
   "execution_count": 5,
   "id": "bc7a35fd",
   "metadata": {},
   "outputs": [],
   "source": [
    "# NOTE: You will need to set AWS access keys for the MCP environment\n",
    "# !env"
   ]
  },
  {
   "cell_type": "code",
   "execution_count": 2,
   "id": "da44182f",
   "metadata": {},
   "outputs": [
    {
     "name": "stdout",
     "output_type": "stream",
     "text": [
      "Waiting for query to complete ...\n",
      "Waiting for query to complete ...\n",
      "Waiting for query to complete ...\n",
      "Waiting for query to complete ...\n",
      "Waiting for query to complete ...\n",
      "Waiting for query to complete ...\n",
      "Waiting for query to complete ...\n",
      "Waiting for query to complete ...\n",
      "Waiting for query to complete ...\n",
      "CPU times: user 235 ms, sys: 45.5 ms, total: 281 ms\n",
      "Wall time: 9min 11s\n"
     ]
    }
   ],
   "source": [
    "%%time\n",
    "client = boto3.client('logs', region_name='us-west-2')\n",
    "\n",
    "query = \"\"\"\n",
    "fields @timestamp, @message\n",
    "| filter @message like \"cmr.search.api\"\n",
    "| filter @message like \"Searching for granules\"\n",
    "| filter @message like \"collection_concept_id\"\n",
    "| parse @message /collection_concept_id \"(?<collection_concept_id>\\S+)\"/\n",
    "| stats count(*) as number_queries by collection_concept_id\n",
    "| sort by number_queries desc\n",
    "\"\"\"\n",
    "\n",
    "log_group = 'cmr-search-ops'\n",
    "datetime_str = '10/01/22 00:00:00'\n",
    "starting_datetime_object = datetime.strptime(datetime_str, '%m/%d/%y %H:%M:%S')\n",
    "\n",
    "start_query_response = client.start_query(\n",
    "    logGroupName=log_group,\n",
    "    startTime=int(starting_datetime_object.timestamp()),\n",
    "    endTime=int(datetime.now().timestamp()),\n",
    "    queryString=query,\n",
    ")\n",
    "\n",
    "query_id = start_query_response['queryId']\n",
    "\n",
    "logs_response = None\n",
    "\n",
    "while logs_response == None or logs_response['status'] == 'Running':\n",
    "    print('Waiting for query to complete ...')\n",
    "    time.sleep(60)\n",
    "    logs_response = client.get_query_results(\n",
    "        queryId=query_id\n",
    "    )"
   ]
  },
  {
   "cell_type": "code",
   "execution_count": 3,
   "id": "39638c46",
   "metadata": {},
   "outputs": [],
   "source": [
    "# Save the results so we don't have to re-run the query\n",
    "filename = f\"granules_collection_concept_id_search-{query_id}.json\"\n",
    "with open(filename, \"w+\") as f:\n",
    "    f.write(json.dumps(logs_response))\n",
    "    f.close()    "
   ]
  },
  {
   "cell_type": "code",
   "execution_count": 4,
   "id": "51bb5e05",
   "metadata": {},
   "outputs": [],
   "source": [
    "data = json.loads(open(filename).read())"
   ]
  },
  {
   "cell_type": "code",
   "execution_count": 5,
   "id": "32f84cd0",
   "metadata": {},
   "outputs": [
    {
     "data": {
      "text/plain": [
       "[{'collection_concept_id': 'C1202028193-NASA_MAAP', 'number_queries': '23445'},\n",
       " {'collection_concept_id': 'C1201746156-NASA_MAAP', 'number_queries': '6140'},\n",
       " {'collection_concept_id': 'C1201746153-NASA_MAAP', 'number_queries': '792'},\n",
       " {'collection_concept_id': 'C1201460047-NASA_MAAP', 'number_queries': '703'},\n",
       " {'collection_concept_id': 'C1200231010-NASA_MAAP', 'number_queries': '260'},\n",
       " {'collection_concept_id': 'C1200110748-NASA_MAAP', 'number_queries': '173'},\n",
       " {'number_queries': '114'},\n",
       " {'collection_concept_id': 'C1201702030-NASA_MAAP', 'number_queries': '88'},\n",
       " {'collection_concept_id': 'C1200231029-NASA_MAAP', 'number_queries': '57'},\n",
       " {'collection_concept_id': 'C1201702032-NASA_MAAP', 'number_queries': '20'},\n",
       " {'collection_concept_id': 'C1200109552-ESA_MAAP', 'number_queries': '16'},\n",
       " {'collection_concept_id': 'C1200015188-NASA_MAAP', 'number_queries': '4'},\n",
       " {'collection_concept_id': 'C1200271393-NASA_MAAP', 'number_queries': '3'},\n",
       " {'collection_concept_id': 'C2067521974-ORNL_CLOUD', 'number_queries': '3'},\n",
       " {'collection_concept_id': 'C1200015149-NASA_MAAP', 'number_queries': '3'},\n",
       " {'collection_concept_id': 'C1201796172-NASA_MAAP', 'number_queries': '2'},\n",
       " {'collection_concept_id': 'C1908348134-LPDAAC_ECS', 'number_queries': '2'},\n",
       " {'collection_concept_id': 'C1201460047', 'number_queries': '1'},\n",
       " {'collection_concept_id': 'GlobCover_09', 'number_queries': '1'},\n",
       " {'collection_concept_id': 'C1234567-PROV1', 'number_queries': '1'},\n",
       " {'collection_concept_id': '=GlobCover_09', 'number_queries': '1'},\n",
       " {'collection_concept_id': 'C1200109552', 'number_queries': '1'}]"
      ]
     },
     "execution_count": 5,
     "metadata": {},
     "output_type": "execute_result"
    }
   ],
   "source": [
    "restructured_data = []\n",
    "limit = 25\n",
    "for result in data['results']:\n",
    "    entry_data = {}\n",
    "    for entry in result:\n",
    "        entry_data[entry['field']] = entry['value']\n",
    "    restructured_data.append(entry_data)\n",
    "\n",
    "restructured_data[0:limit]"
   ]
  },
  {
   "cell_type": "code",
   "execution_count": 9,
   "id": "12bc939d",
   "metadata": {},
   "outputs": [
    {
     "name": "stdout",
     "output_type": "stream",
     "text": [
      "No entries found for C2067521974-ORNL_CLOUD\n",
      "No entries found for C1908348134-LPDAAC_ECS\n",
      "No entries found for C1201460047\n",
      "No entries found for GlobCover_09\n",
      "No entries found for C1234567-PROV1\n",
      "No entries found for =GlobCover_09\n",
      "No entries found for C1200109552\n"
     ]
    }
   ],
   "source": [
    "cmr_url = 'https://cmr.maap-project.org'\n",
    "collections_search_url = f\"{cmr_url}/search/collections.json\"\n",
    "results_dict = {}\n",
    "for entry in restructured_data[0:limit]:\n",
    "    # There's 1 blank concept_id entry\n",
    "    if 'collection_concept_id' in entry:\n",
    "        concept_id = entry['collection_concept_id']\n",
    "        if concept_id.startswith('C'):\n",
    "            cmr_response = requests.get(f\"{collections_search_url}?concept_id={concept_id}\")\n",
    "        else:\n",
    "            # Are we interested in granules searches? very limited results besides\n",
    "            next\n",
    "            #cmr_response = requests.get(f\"{granules_search_url}?concept_id={concept_id}\")\n",
    "        number_queries = entry['number_queries']\n",
    "        cmr_data = json.loads(cmr_response.text).get('feed')\n",
    "        if cmr_data and len(cmr_data) > 0 and cmr_data.get('entry'):\n",
    "            short_name = json.loads(cmr_response.text)['feed']['entry'][0]['short_name']\n",
    "            results_dict[short_name] = int(number_queries)\n",
    "        else:\n",
    "            print(f\"No entries found for {concept_id}\")\n",
    "    "
   ]
  },
  {
   "cell_type": "code",
   "execution_count": 10,
   "id": "8bcca790",
   "metadata": {},
   "outputs": [
    {
     "data": {
      "text/plain": [
       "{'GEDI_L4A_AGB_Density_V2_1_2056': 23445,\n",
       " 'ATL08': 792,\n",
       " 'GEDI02_B': 703,\n",
       " 'SENTINEL-1A_DP_GRD_HIGH': 260,\n",
       " 'ABLVIS1B': 173,\n",
       " 'GEDI_L3_LandSurface_Metrics_V2_1952': 88,\n",
       " 'GEDI02_A': 57,\n",
       " 'GEDI_L4A_AGB_Density_V2_1986': 20,\n",
       " 'AFRISAR_DLR': 16,\n",
       " 'GEDI01_B': 4,\n",
       " 'SRTMGL1_COD': 3,\n",
       " 'GlobCover_09': 3,\n",
       " 'ATL03': 2}"
      ]
     },
     "execution_count": 10,
     "metadata": {},
     "output_type": "execute_result"
    }
   ],
   "source": [
    "results_dict = {k: v for k, v in sorted(results_dict.items(), key=lambda item: item[1], reverse=True)}\n",
    "results_dict"
   ]
  },
  {
   "cell_type": "code",
   "execution_count": 11,
   "id": "d7e68605",
   "metadata": {},
   "outputs": [
    {
     "data": {
      "image/png": "[encoded data removed]",
      "text/plain": [
       "<Figure size 864x384 with 1 Axes>"
      ]
     },
     "metadata": {
      "needs_background": "light"
     },
     "output_type": "display_data"
    }
   ],
   "source": [
    "# data set\n",
    "collections = list(results_dict.keys())\n",
    "number_queries = list(results_dict.values())\n",
    "\n",
    "plt.figure(figsize=(9, 4), dpi=96)\n",
    "\n",
    "def addlabels(x,y):\n",
    "    for i in range(len(x)):\n",
    "        plt.text(i, y[i], y[i], ha = 'center', va= 'bottom')\n",
    "\n",
    "plt.bar(collections, number_queries, color='y')\n",
    "addlabels(collections, number_queries)\n",
    "plt.xticks(rotation=30, ha='right')\n",
    "plt.show()"
   ]
  }
 ],
 "metadata": {
  "kernelspec": {
   "display_name": "Python 3 (ipykernel)",
   "language": "python",
   "name": "python3"
  },
  "language_info": {
   "codemirror_mode": {
    "name": "ipython",
    "version": 3
   },
   "file_extension": ".py",
   "mimetype": "text/x-python",
   "name": "python",
   "nbconvert_exporter": "python",
   "pygments_lexer": "ipython3",
   "version": "3.9.7"
  }
 },
 "nbformat": 4,
 "nbformat_minor": 5
}
