{
 "cells": [
  {
   "cell_type": "markdown",
   "metadata": {},
   "source": [
    "https://maap-ops-dataset.s3.amazonaws.com/maap-users/alexdevseed/gee/TTE_DATA_v201902v2-class-1000.zip.tif\n",
    "s3://maap-ops-dataset/maap-users/alexdevseed/gee/TTE_DATA_v201902v2-class-1000.zip.tif"
   ]
  },
  {
   "cell_type": "code",
   "execution_count": null,
   "metadata": {},
   "outputs": [],
   "source": [
    "#for zip in glob\n",
    "# unzip renaming tif inside to match zip tilename\n",
    "# better idea rio cogeo /vsizip/nameof.zip nameof.tif\n",
    "!cd /projects/tmp/gee\n",
    "!less todo.txt | parallel --bar -j 10 ./maketif.sh {}"
   ]
  },
  {
   "cell_type": "code",
   "execution_count": null,
   "metadata": {},
   "outputs": [],
   "source": [
    "!pip install cogeo-mosaic"
   ]
  },
  {
   "cell_type": "code",
   "execution_count": 14,
   "metadata": {},
   "outputs": [],
   "source": [
    "from glob import glob\n",
    "import os\n",
    "import json\n",
    "from typing import Dict\n",
    "\n",
    "from cogeo_mosaic.mosaic import MosaicJSON\n",
    "from cogeo_mosaic.backends import MosaicBackend"
   ]
  },
  {
   "cell_type": "code",
   "execution_count": 6,
   "metadata": {},
   "outputs": [],
   "source": [
    "def local_to_s3(url):\n",
    "    return url.replace(\"/projects/maap-users\", \"s3://maap-ops-dataset/maap-users\")\n",
    "    \n",
    "def s3_to_https(url):\n",
    "    parts = url.split(\"/\")\n",
    "    return os.path.join('https://',f'{parts[2]}.s3.amazonaws.com', *parts[3:])"
   ]
  },
  {
   "cell_type": "code",
   "execution_count": 18,
   "metadata": {},
   "outputs": [],
   "source": [
    "#glob find the tifs\n",
    "tif_dir = \"/projects/maap-users/alexdevseed/gee/\"\n",
    "\n",
    "local_tiles = glob(os.path.join(tif_dir,\"*class*.zip.tif\"), recursive=False)\n",
    "tiles = [local_to_s3(tile) for tile in local_tiles]"
   ]
  },
  {
   "cell_type": "code",
   "execution_count": 20,
   "metadata": {},
   "outputs": [
    {
     "data": {
      "text/plain": [
       "2304"
      ]
     },
     "execution_count": 20,
     "metadata": {},
     "output_type": "execute_result"
    }
   ],
   "source": [
    "len(tiles)"
   ]
  },
  {
   "cell_type": "code",
   "execution_count": null,
   "metadata": {},
   "outputs": [],
   "source": [
    "\n",
    "#tiles = [\n",
    "#    's3://maap-ops-dataset/maap-users/alexdevseed/landsat8/viz/Landsat8_30542_comp_cog_2015-2020_dps.tif',\n",
    "#    's3://maap-ops-dataset/maap-users/alexdevseed/landsat8/viz/Landsat8_30543_comp_cog_2015-2020_dps.tif',\n",
    "#    's3://maap-ops-dataset/maap-users/alexdevseed/landsat8/viz/Landsat8_30822_comp_cog_2015-2020_dps.tif',\n",
    "#    's3://maap-ops-dataset/maap-users/alexdevseed/landsat8/viz/Landsat8_30823_comp_cog_2015-2020_dps.tif',\n",
    "#]\n",
    "\n",
    "\n",
    "mosaicdata = MosaicJSON.from_urls(tiles, minzoom=8, maxzoom=16)"
   ]
  },
  {
   "cell_type": "code",
   "execution_count": 22,
   "metadata": {},
   "outputs": [],
   "source": [
    "mosaic_json = \"/projects/maap-users/alexdevseed/gee/forest_classificiation.json\"\n",
    "with MosaicBackend(mosaic_json, mosaic_def=mosaicdata) as mosaic:\n",
    "    mosaic.write(overwrite=True)"
   ]
  },
  {
   "cell_type": "markdown",
   "metadata": {},
   "source": [
    "## From Features"
   ]
  },
  {
   "cell_type": "code",
   "execution_count": 15,
   "metadata": {},
   "outputs": [],
   "source": [
    "def get_accessor(feature: Dict):\n",
    "    \"\"\"Return specific feature identifier.\"\"\"\n",
    "    return feature[\"properties\"][\"s3\"]"
   ]
  },
  {
   "cell_type": "code",
   "execution_count": 25,
   "metadata": {},
   "outputs": [],
   "source": [
    "with open(\"/projects/maap-users/alexdevseed/gee/tile_index.geojson\") as f:\n",
    "    geojson = json.load(f)"
   ]
  },
  {
   "cell_type": "code",
   "execution_count": 26,
   "metadata": {},
   "outputs": [],
   "source": [
    "mosaicdata = MosaicJSON.from_features(geojson.get('features'), minzoom=8, maxzoom=16, accessor=get_accessor)"
   ]
  },
  {
   "cell_type": "code",
   "execution_count": 28,
   "metadata": {},
   "outputs": [],
   "source": [
    "mosaic_json = \"/projects/maap-users/alexdevseed/gee/forest_classificiation.json\"\n",
    "with MosaicBackend(mosaic_json, mosaic_def=mosaicdata) as mosaic:\n",
    "    mosaic.write(overwrite=True)"
   ]
  },
  {
   "cell_type": "code",
   "execution_count": 27,
   "metadata": {},
   "outputs": [
    {
     "data": {
      "text/plain": [
       "{'type': 'Feature',\n",
       " 'properties': {'Name': 'W180N45',\n",
       "  'box': '-180,45,-179,46',\n",
       "  'id': 0,\n",
       "  'zip': '/projects/tmp/gee/TTE_DATA_v201902v2-class-0.zip',\n",
       "  'tif': '/projects/maap-users/alexdevseed/gee/TTE_DATA_v201902v2-class-0.zip.tif',\n",
       "  's3': 's3://maap-ops-dataset/maap-users/alexdevseed/gee/TTE_DATA_v201902v2-class-0.zip.tif'},\n",
       " 'geometry': {'type': 'Polygon',\n",
       "  'coordinates': [[[-179.0, 45.0],\n",
       "    [-179.0, 46.0],\n",
       "    [-180.0, 46.0],\n",
       "    [-180.0, 45.0],\n",
       "    [-179.0, 45.0]]]}}"
      ]
     },
     "execution_count": 27,
     "metadata": {},
     "output_type": "execute_result"
    }
   ],
   "source": [
    "geojson.get('features')[0]"
   ]
  },
  {
   "cell_type": "markdown",
   "metadata": {},
   "source": [
    "## Visual Check"
   ]
  },
  {
   "cell_type": "code",
   "execution_count": 5,
   "metadata": {},
   "outputs": [],
   "source": [
    "import ipycmc"
   ]
  },
  {
   "cell_type": "code",
   "execution_count": 7,
   "metadata": {},
   "outputs": [
    {
     "data": {
      "text/plain": [
       "'https://baxpil3vd6.execute-api.us-east-1.amazonaws.com/mosaicjson/WMTSCapabilities.xml?tile_format=png&tile_scale=1&pixel_selection=first&TileMatrixSetId=WebMercatorQuad&url=s3%3A%2F%2Fmaap-ops-dataset%2Fmaap-users%2Falexdevseed%2Fgee%2Fforest_classificiation.json&bidx=1&resampling_method=nearest&return_mask=true&colormap_name=viridis'"
      ]
     },
     "execution_count": 7,
     "metadata": {},
     "output_type": "execute_result"
    }
   ],
   "source": [
    "wmts_url = \"https://baxpil3vd6.execute-api.us-east-1.amazonaws.com/mosaicjson/WMTSCapabilities.xml\"\n",
    "params = [\n",
    "    \"tile_format=png\",\n",
    "    \"tile_scale=1\",\n",
    "    \"pixel_selection=first\",\n",
    "    \"TileMatrixSetId=WebMercatorQuad\",\n",
    "    \"url=s3%3A%2F%2Fmaap-ops-dataset%2Fmaap-users%2Falexdevseed%2Fgee%2Fforest_classificiation.json\",\n",
    "    \"bidx=1\",\n",
    "    \"resampling_method=nearest\",\n",
    "    \"return_mask=true\",\n",
    "    \"colormap_name=viridis\"\n",
    "]\n",
    "#TODO url encode so the params can be human readable\n",
    "wmts_call = \"?\".join([wmts_url, \"&\".join([*params])])\n",
    "wmts_call"
   ]
  },
  {
   "cell_type": "code",
   "execution_count": null,
   "metadata": {},
   "outputs": [],
   "source": [
    "w = ipycmc.MapCMC()\n",
    "w"
   ]
  },
  {
   "cell_type": "code",
   "execution_count": null,
   "metadata": {},
   "outputs": [],
   "source": [
    "# this layer is crashing CMC\n",
    "#w.load_layer_config(wmts_call\n",
    "#                    , \"wmts/xml\")"
   ]
  }
 ],
 "metadata": {
  "kernelspec": {
   "display_name": "Python [conda env:root] *",
   "language": "python",
   "name": "conda-root-py"
  },
  "language_info": {
   "codemirror_mode": {
    "name": "ipython",
    "version": 3
   },
   "file_extension": ".py",
   "mimetype": "text/x-python",
   "name": "python",
   "nbconvert_exporter": "python",
   "pygments_lexer": "ipython3",
   "version": "3.7.8"
  }
 },
 "nbformat": 4,
 "nbformat_minor": 4
}
