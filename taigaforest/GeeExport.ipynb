{
 "cells": [
  {
   "cell_type": "code",
   "execution_count": 1,
   "metadata": {},
   "outputs": [
    {
     "name": "stderr",
     "output_type": "stream",
     "text": [
      "/opt/conda/lib/python3.7/site-packages/geopandas/_compat.py:110: UserWarning: The Shapely GEOS version (3.8.0-CAPI-1.13.1 ) is incompatible with the GEOS version PyGEOS was compiled with (3.9.1-CAPI-1.14.2). Conversions between both will be slow.\n",
      "  shapely_geos_version, geos_capi_version_string\n"
     ]
    }
   ],
   "source": [
    "import ee\n",
    "import numpy as np\n",
    "import geopandas as gpd\n",
    "import pandas as pd\n",
    "import shapely\n",
    "import glob\n",
    "import os\n",
    "\n",
    "from ee_download import download_image_by_asset_path, Curler"
   ]
  },
  {
   "cell_type": "code",
   "execution_count": 5,
   "metadata": {},
   "outputs": [
    {
     "data": {
      "text/html": [
       "<p>To authorize access needed by Earth Engine, open the following\n",
       "        URL in a web browser and follow the instructions:</p>\n",
       "        <p><a href=https://accounts.google.com/o/oauth2/auth?client_id=517222506229-vsmmajv00ul0bs7p89v5m89qs8eb9359.apps.googleusercontent.com&scope=https%3A%2F%2Fwww.googleapis.com%2Fauth%2Fearthengine+https%3A%2F%2Fwww.googleapis.com%2Fauth%2Fdevstorage.full_control&redirect_uri=urn%3Aietf%3Awg%3Aoauth%3A2.0%3Aoob&response_type=code&code_challenge=0mfoBrMCIBdSkOTFrKWT0UI_Gvz9Yh--i-MfCkwrVU0&code_challenge_method=S256>https://accounts.google.com/o/oauth2/auth?client_id=517222506229-vsmmajv00ul0bs7p89v5m89qs8eb9359.apps.googleusercontent.com&scope=https%3A%2F%2Fwww.googleapis.com%2Fauth%2Fearthengine+https%3A%2F%2Fwww.googleapis.com%2Fauth%2Fdevstorage.full_control&redirect_uri=urn%3Aietf%3Awg%3Aoauth%3A2.0%3Aoob&response_type=code&code_challenge=0mfoBrMCIBdSkOTFrKWT0UI_Gvz9Yh--i-MfCkwrVU0&code_challenge_method=S256</a></p>\n",
       "        <p>The authorization workflow will generate a code, which you\n",
       "        should paste in the box below</p>\n",
       "        "
      ],
      "text/plain": [
       "<IPython.core.display.HTML object>"
      ]
     },
     "metadata": {},
     "output_type": "display_data"
    },
    {
     "name": "stdin",
     "output_type": "stream",
     "text": [
      "Enter verification code:  4/1AY0e-g7lFofh-mCdiNgLjC--GPom_FP_MpNecxQp8cylWgb5ZVAQUJt5AsM\n"
     ]
    },
    {
     "name": "stdout",
     "output_type": "stream",
     "text": [
      "\n",
      "Successfully saved authorization token.\n"
     ]
    }
   ],
   "source": [
    "ee.Authenticate()"
   ]
  },
  {
   "cell_type": "code",
   "execution_count": 7,
   "metadata": {},
   "outputs": [],
   "source": [
    "bbox = [-180, 45, 0, 75]\n",
    "#2nd 1/2 world\n",
    "bbox2 = [0,45,180,75]\n",
    "\n",
    "# Failed attempt at using floats\n",
    "#box_longs = np.arange(bbox[0],bbox[2], 1, dtype=np.int8).tolist()\n",
    "#box_lats = np.arange(bbox[1],bbox[3], 1, dtype=np.int8).tolist()\n",
    "box_longs = range(bbox[0], bbox[2], 1)\n",
    "box_lats = range(bbox[1],bbox[3], 1)"
   ]
  },
  {
   "cell_type": "markdown",
   "metadata": {},
   "source": [
    "## Original\n",
    "\n",
    "Split into 2 tasks, while waiting for new global asset to be available."
   ]
  },
  {
   "cell_type": "code",
   "execution_count": 18,
   "metadata": {},
   "outputs": [
    {
     "name": "stdout",
     "output_type": "stream",
     "text": [
      "5400\n"
     ]
    }
   ],
   "source": [
    "all_boxes = []\n",
    "for i in box_longs:\n",
    "    for j in box_lats: \n",
    "        all_boxes.append([i,j,i+1,j+1])\n",
    "print(len(all_boxes))\n",
    "#all_boxes = all_boxes[2832:]\n",
    "#print(len(all_boxes))"
   ]
  },
  {
   "cell_type": "code",
   "execution_count": 19,
   "metadata": {},
   "outputs": [
    {
     "name": "stdout",
     "output_type": "stream",
     "text": [
      "10800\n"
     ]
    }
   ],
   "source": [
    "bbox2 = [0,45,180,75]\n",
    "box_longs = range(bbox2[0], bbox2[2], 1)\n",
    "box_lats = range(bbox2[1],bbox2[3], 1)\n",
    "for i in box_longs:\n",
    "    for j in box_lats: \n",
    "        all_boxes.append([i,j,i+1,j+1])\n",
    "print(len(all_boxes))"
   ]
  },
  {
   "cell_type": "code",
   "execution_count": null,
   "metadata": {},
   "outputs": [],
   "source": [
    "# This will download all the tiles we need each to a zip, \n",
    "# the files inside are all named the same so next step is to overwrite that with the zip name\n",
    "for i in range(2832,len(all_boxes)):\n",
    "    gee_geom = ee.Geometry.Rectangle(all_boxes[i])\n",
    "    #print(gee_geom)\n",
    "    \n",
    "    downloaded_images = download_image_by_asset_path(\n",
    "        asset_path = \"users/alex-devseed/TTE_DATA_v201902v2-all\",\n",
    "        output_folder = \"/projects/tmp/gee\",\n",
    "        region = gee_geom,\n",
    "        idx = str(i)\n",
    "    )\n"
   ]
  },
  {
   "cell_type": "markdown",
   "metadata": {},
   "source": [
    "## Renaming files to be sane"
   ]
  },
  {
   "cell_type": "code",
   "execution_count": 2,
   "metadata": {},
   "outputs": [
    {
     "name": "stdout",
     "output_type": "stream",
     "text": [
      "5400\n"
     ]
    }
   ],
   "source": [
    "bbox = [-180, 45, 0, 75]\n",
    "box_longs = range(bbox[0], bbox[2], 1)\n",
    "box_lats = range(bbox[1],bbox[3], 1)\n",
    "all_boxes2 = []\n",
    "for i in box_longs:\n",
    "    for j in box_lats: \n",
    "        if i <= 0: \n",
    "            iname = f'W{abs(i)}'\n",
    "        else:\n",
    "            iname = f'E{(i)}'\n",
    "        all_boxes2.append((f'{iname}N{j}',f'{i},{j},{i+1},{j+1}'))\n",
    "print(len(all_boxes2))"
   ]
  },
  {
   "cell_type": "code",
   "execution_count": 3,
   "metadata": {},
   "outputs": [
    {
     "name": "stdout",
     "output_type": "stream",
     "text": [
      "10800\n"
     ]
    }
   ],
   "source": [
    "bbox2 = [0,45,180,75]\n",
    "box_longs = range(bbox2[0], bbox2[2], 1)\n",
    "box_lats = range(bbox2[1],bbox2[3], 1)\n",
    "for i in box_longs:\n",
    "    for j in box_lats: \n",
    "        if i <= 0: \n",
    "            iname = f'W{abs(i)}'\n",
    "        else:\n",
    "            iname = f'E{(i)}'\n",
    "        all_boxes2.append((f'{iname}N{j}',f'{i},{j},{i+1},{j+1}'))\n",
    "print(len(all_boxes2))"
   ]
  },
  {
   "cell_type": "code",
   "execution_count": 4,
   "metadata": {},
   "outputs": [],
   "source": [
    "def make_int_box(box):\n",
    "    return [int(num) for num in box.split(',')]"
   ]
  },
  {
   "cell_type": "code",
   "execution_count": 29,
   "metadata": {},
   "outputs": [],
   "source": [
    "box_table = pd.DataFrame(all_boxes2, columns= [\"Name\", \"box\"])\n",
    "box_table[\"id\"] = np.arange(box_table.shape[0])\n",
    "polys = [shapely.geometry.box(*make_int_box(box)) for box in box_table[\"box\"]]\n",
    "box_table['gboxes'] = gpd.GeoSeries(polys)"
   ]
  },
  {
   "cell_type": "code",
   "execution_count": 30,
   "metadata": {},
   "outputs": [],
   "source": [
    "geo_boxes = gpd.GeoDataFrame(box_table, geometry='gboxes')"
   ]
  },
  {
   "cell_type": "code",
   "execution_count": 31,
   "metadata": {},
   "outputs": [
    {
     "data": {
      "text/html": [
       "<div>\n",
       "<style scoped>\n",
       "    .dataframe tbody tr th:only-of-type {\n",
       "        vertical-align: middle;\n",
       "    }\n",
       "\n",
       "    .dataframe tbody tr th {\n",
       "        vertical-align: top;\n",
       "    }\n",
       "\n",
       "    .dataframe thead th {\n",
       "        text-align: right;\n",
       "    }\n",
       "</style>\n",
       "<table border=\"1\" class=\"dataframe\">\n",
       "  <thead>\n",
       "    <tr style=\"text-align: right;\">\n",
       "      <th></th>\n",
       "      <th>Name</th>\n",
       "      <th>box</th>\n",
       "      <th>id</th>\n",
       "      <th>gboxes</th>\n",
       "    </tr>\n",
       "  </thead>\n",
       "  <tbody>\n",
       "    <tr>\n",
       "      <th>0</th>\n",
       "      <td>W180N45</td>\n",
       "      <td>-180,45,-179,46</td>\n",
       "      <td>0</td>\n",
       "      <td>POLYGON ((-179.00000 45.00000, -179.00000 46.0...</td>\n",
       "    </tr>\n",
       "    <tr>\n",
       "      <th>1</th>\n",
       "      <td>W180N46</td>\n",
       "      <td>-180,46,-179,47</td>\n",
       "      <td>1</td>\n",
       "      <td>POLYGON ((-179.00000 46.00000, -179.00000 47.0...</td>\n",
       "    </tr>\n",
       "    <tr>\n",
       "      <th>2</th>\n",
       "      <td>W180N47</td>\n",
       "      <td>-180,47,-179,48</td>\n",
       "      <td>2</td>\n",
       "      <td>POLYGON ((-179.00000 47.00000, -179.00000 48.0...</td>\n",
       "    </tr>\n",
       "    <tr>\n",
       "      <th>3</th>\n",
       "      <td>W180N48</td>\n",
       "      <td>-180,48,-179,49</td>\n",
       "      <td>3</td>\n",
       "      <td>POLYGON ((-179.00000 48.00000, -179.00000 49.0...</td>\n",
       "    </tr>\n",
       "    <tr>\n",
       "      <th>4</th>\n",
       "      <td>W180N49</td>\n",
       "      <td>-180,49,-179,50</td>\n",
       "      <td>4</td>\n",
       "      <td>POLYGON ((-179.00000 49.00000, -179.00000 50.0...</td>\n",
       "    </tr>\n",
       "  </tbody>\n",
       "</table>\n",
       "</div>"
      ],
      "text/plain": [
       "      Name              box  id  \\\n",
       "0  W180N45  -180,45,-179,46   0   \n",
       "1  W180N46  -180,46,-179,47   1   \n",
       "2  W180N47  -180,47,-179,48   2   \n",
       "3  W180N48  -180,48,-179,49   3   \n",
       "4  W180N49  -180,49,-179,50   4   \n",
       "\n",
       "                                              gboxes  \n",
       "0  POLYGON ((-179.00000 45.00000, -179.00000 46.0...  \n",
       "1  POLYGON ((-179.00000 46.00000, -179.00000 47.0...  \n",
       "2  POLYGON ((-179.00000 47.00000, -179.00000 48.0...  \n",
       "3  POLYGON ((-179.00000 48.00000, -179.00000 49.0...  \n",
       "4  POLYGON ((-179.00000 49.00000, -179.00000 50.0...  "
      ]
     },
     "execution_count": 31,
     "metadata": {},
     "output_type": "execute_result"
    }
   ],
   "source": [
    "tmp = '/projects/tmp/gee/'\n",
    "geo_boxes.head()"
   ]
  },
  {
   "cell_type": "code",
   "execution_count": 48,
   "metadata": {},
   "outputs": [],
   "source": [
    "def find_file(token, files):\n",
    "    result = [match for match in files if token in match]\n",
    "    if len(result) >= 1:\n",
    "        return result[0]\n",
    "    else:\n",
    "        return None\n",
    "    \n",
    "def local_to_s3(url):\n",
    "    if url is not None:\n",
    "        return url.replace(\"/projects/maap-users\", \"s3://maap-ops-dataset/maap-users\")\n",
    "    else:\n",
    "        return None"
   ]
  },
  {
   "cell_type": "code",
   "execution_count": 33,
   "metadata": {},
   "outputs": [],
   "source": [
    "# make a list of zips\n",
    "zip_dir = \"/projects/tmp/gee/\"\n",
    "\n",
    "local_zip = glob.glob(os.path.join(zip_dir,\"*.zip\"), recursive=False)\n",
    "geo_boxes['zip'] = [find_file(f\"-{idx}.zip\", local_zip) for idx in geo_boxes['id']]"
   ]
  },
  {
   "cell_type": "code",
   "execution_count": 51,
   "metadata": {},
   "outputs": [],
   "source": [
    "# make a list of tifs\n",
    "tif_dir = \"/projects/maap-users/alexdevseed/gee\"\n",
    "local_tiles = glob.glob(os.path.join(tif_dir,\"*.zip.tif\"), recursive=False)\n",
    "\n",
    "geo_boxes['tif'] = [find_file(f\"-{idx}.zip.tif\", local_tiles) for idx in geo_boxes['id']]\n",
    "geo_boxes['s3'] = [local_to_s3(path) for path in geo_boxes['tif']]"
   ]
  },
  {
   "cell_type": "code",
   "execution_count": 53,
   "metadata": {},
   "outputs": [],
   "source": [
    "s3_geo = geo_boxes[-geo_boxes[\"s3\"].isna()]\n",
    "#geo_boxes.to_file(\"/projects/maap-users/alexdevseed/gee/tile_index.geojson\", driver=\"GeoJSON\")\n",
    "#geo_boxes.iloc[1]\n",
    "s3_geo.to_file(\"/projects/maap-users/alexdevseed/gee/tile_index.geojson\", driver=\"GeoJSON\")"
   ]
  },
  {
   "cell_type": "code",
   "execution_count": 52,
   "metadata": {},
   "outputs": [
    {
     "data": {
      "text/plain": [
       "'s3://maap-ops-dataset/maap-users/alexdevseed/gee/TTE_DATA_v201902v2-class-2.zip.tif'"
      ]
     },
     "execution_count": 52,
     "metadata": {},
     "output_type": "execute_result"
    }
   ],
   "source": [
    "geo_boxes[\"s3\"][2]"
   ]
  },
  {
   "cell_type": "markdown",
   "metadata": {},
   "source": [
    "## Debugging"
   ]
  },
  {
   "cell_type": "code",
   "execution_count": null,
   "metadata": {},
   "outputs": [],
   "source": [
    "all_boxes[5350:]"
   ]
  },
  {
   "cell_type": "code",
   "execution_count": 15,
   "metadata": {},
   "outputs": [],
   "source": [
    "gee_geom = ee.Geometry.Rectangle([-55,40,-54,41], 'EPSG:4326', False)"
   ]
  },
  {
   "cell_type": "code",
   "execution_count": 16,
   "metadata": {},
   "outputs": [
    {
     "data": {
      "text/plain": [
       "ee.Geometry({\n",
       "  \"functionInvocationValue\": {\n",
       "    \"functionName\": \"GeometryConstructors.Rectangle\",\n",
       "    \"arguments\": {\n",
       "      \"coordinates\": {\n",
       "        \"constantValue\": [\n",
       "          -55,\n",
       "          40,\n",
       "          -54,\n",
       "          41\n",
       "        ]\n",
       "      },\n",
       "      \"crs\": {\n",
       "        \"functionInvocationValue\": {\n",
       "          \"functionName\": \"Projection\",\n",
       "          \"arguments\": {\n",
       "            \"crs\": {\n",
       "              \"constantValue\": \"EPSG:4326\"\n",
       "            }\n",
       "          }\n",
       "        }\n",
       "      },\n",
       "      \"geodesic\": {\n",
       "        \"constantValue\": false\n",
       "      }\n",
       "    }\n",
       "  }\n",
       "})"
      ]
     },
     "execution_count": 16,
     "metadata": {},
     "output_type": "execute_result"
    }
   ],
   "source": [
    "gee_geom"
   ]
  },
  {
   "cell_type": "code",
   "execution_count": 4,
   "metadata": {},
   "outputs": [
    {
     "name": "stdout",
     "output_type": "stream",
     "text": [
      "ee.Geometry({\n",
      "  \"functionInvocationValue\": {\n",
      "    \"functionName\": \"GeometryConstructors.Polygon\",\n",
      "    \"arguments\": {\n",
      "      \"coordinates\": {\n",
      "        \"constantValue\": [\n",
      "          [\n",
      "            [\n",
      "              -164,\n",
      "              66\n",
      "            ],\n",
      "            [\n",
      "              -164,\n",
      "              65\n",
      "            ],\n",
      "            [\n",
      "              -163,\n",
      "              65\n",
      "            ],\n",
      "            [\n",
      "              -163,\n",
      "              66\n",
      "            ]\n",
      "          ]\n",
      "        ]\n",
      "      },\n",
      "      \"evenOdd\": {\n",
      "        \"constantValue\": true\n",
      "      }\n",
      "    }\n",
      "  }\n",
      "})\n"
     ]
    }
   ],
   "source": [
    "i = 500\n",
    "gee_geom = ee.Geometry.Rectangle(all_boxes[i])\n",
    "print(gee_geom)\n",
    "    \n",
    "downloaded_images = download_image_by_asset_path(\n",
    "        asset_path = \"users/alex-devseed/TTE_DATA_v201902v2-class\",\n",
    "        output_folder = \"/projects/tmp/gee\",\n",
    "        region = gee_geom,\n",
    "        idx = str(i)\n",
    ")"
   ]
  },
  {
   "cell_type": "code",
   "execution_count": 37,
   "metadata": {},
   "outputs": [],
   "source": [
    "image = ee.Image(\"users/alex-devseed/TTE_DATA_v201902v2-class\")\n",
    "path = image.getDownloadUrl({\n",
    "            #'scale': 30,\n",
    "            #'crs': 'EPSG:3310',\n",
    "            'region': gee_geom\n",
    "        })"
   ]
  },
  {
   "cell_type": "code",
   "execution_count": 39,
   "metadata": {},
   "outputs": [],
   "source": [
    "c = Curler()\n",
    "success = c.download(url=path, path=\"/projects/tmp/gee/test.zip\")"
   ]
  },
  {
   "cell_type": "code",
   "execution_count": 32,
   "metadata": {},
   "outputs": [],
   "source": [
    "from zipfile import is_zipfile, ZipFile\n",
    "download_path = '/projects/tmp/gee/TTE_DATA_v201902v2-class.zip'"
   ]
  },
  {
   "cell_type": "code",
   "execution_count": null,
   "metadata": {},
   "outputs": [],
   "source": [
    "\n",
    "with open(download_path, 'r') as zf:\n",
    "        z = ZipFile(zf)\n",
    "        downloaded_items = [os.path.join(output_folder,item) for item in z.namelist() if not item.endswith(\"tfw\") ]\n",
    "        z.extractall(path=output_folder)\n",
    "        z.close()\n",
    "        del z"
   ]
  },
  {
   "cell_type": "code",
   "execution_count": 33,
   "metadata": {},
   "outputs": [
    {
     "name": "stdout",
     "output_type": "stream",
     "text": [
      "File Name                                             Modified             Size\n",
      "TTE_DATA_v201902v2-class.tte_classification.tif 2021-06-11 10:08:42        89175\n"
     ]
    }
   ],
   "source": [
    "with ZipFile(download_path, 'r') as zip:\n",
    "    # printing all the contents of the zip file\n",
    "    zip.printdir()"
   ]
  }
 ],
 "metadata": {
  "kernelspec": {
   "display_name": "Python [conda env:root] *",
   "language": "python",
   "name": "conda-root-py"
  },
  "language_info": {
   "codemirror_mode": {
    "name": "ipython",
    "version": 3
   },
   "file_extension": ".py",
   "mimetype": "text/x-python",
   "name": "python",
   "nbconvert_exporter": "python",
   "pygments_lexer": "ipython3",
   "version": "3.7.8"
  }
 },
 "nbformat": 4,
 "nbformat_minor": 4
}
