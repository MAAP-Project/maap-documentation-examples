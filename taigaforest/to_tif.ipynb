{
 "cells": [
  {
   "cell_type": "code",
   "execution_count": 30,
   "metadata": {},
   "outputs": [],
   "source": [
    "import glob\n",
    "import subprocess\n",
    "import os"
   ]
  },
  {
   "cell_type": "code",
   "execution_count": 3,
   "metadata": {},
   "outputs": [],
   "source": [
    "all_zips = glob.glob(\"*.zip\")"
   ]
  },
  {
   "cell_type": "code",
   "execution_count": 18,
   "metadata": {},
   "outputs": [],
   "source": [
    "all_tifs = [filename.split('/')[-1][:-4] for filename in glob.glob(\"/projects/maap-users/alexdevseed/gee/*.zip.tif\")]"
   ]
  },
  {
   "cell_type": "code",
   "execution_count": 20,
   "metadata": {},
   "outputs": [],
   "source": [
    "diff = set(all_zips).difference(set(all_tifs))"
   ]
  },
  {
   "cell_type": "code",
   "execution_count": 27,
   "metadata": {},
   "outputs": [
    {
     "data": {
      "text/plain": [
       "4033"
      ]
     },
     "execution_count": 27,
     "metadata": {},
     "output_type": "execute_result"
    }
   ],
   "source": [
    "len(diff)"
   ]
  },
  {
   "cell_type": "code",
   "execution_count": 33,
   "metadata": {},
   "outputs": [],
   "source": [
    "failed_zips = set()"
   ]
  },
  {
   "cell_type": "code",
   "execution_count": 31,
   "metadata": {},
   "outputs": [],
   "source": [
    "def remove_file(file_path):\n",
    "    if os.path.exists(file_path):\n",
    "                os.remove(file_path)"
   ]
  },
  {
   "cell_type": "code",
   "execution_count": null,
   "metadata": {},
   "outputs": [],
   "source": [
    "for zip_file in diff:\n",
    "    status = os.system(f\"./maketif.sh {zip_file}\")\n",
    "    file_path = f\"/projects/maap-users/alexdevseed/gee/{zip_file}.tif\"\n",
    "    if status != 0:\n",
    "        status = os.system(f\"./maketif.sh {zip_file}\")\n",
    "        if status != 0:\n",
    "            failed_zips.add(zip_file)\n",
    "            remove_file(file_path)\n",
    "    # Wonder if rio cogeo validates the created file itself, do we even need this?\n",
    "    validation_status = os.system(f\"rio cogeo validate {file_path}\")\n",
    "    if validation_status != 0:\n",
    "        remove_file(file_path)\n",
    "        failed_zips.add(zip_file)"
   ]
  }
 ],
 "metadata": {
  "kernelspec": {
   "display_name": "Python [conda env:root] *",
   "language": "python",
   "name": "conda-root-py"
  },
  "language_info": {
   "codemirror_mode": {
    "name": "ipython",
    "version": 3
   },
   "file_extension": ".py",
   "mimetype": "text/x-python",
   "name": "python",
   "nbconvert_exporter": "python",
   "pygments_lexer": "ipython3",
   "version": "3.7.8"
  }
 },
 "nbformat": 4,
 "nbformat_minor": 4
}
