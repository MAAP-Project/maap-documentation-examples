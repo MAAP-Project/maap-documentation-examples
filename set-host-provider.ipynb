{
 "cells": [
  {
   "cell_type": "code",
   "execution_count": 1,
   "id": "45f45430",
   "metadata": {
    "jupyter": {
     "source_hidden": true
    }
   },
   "outputs": [],
   "source": [
    "# /// script\n",
    "# requires-python = \">=3.13\"\n",
    "# dependencies = [\n",
    "#     \"httpx\",\n",
    "#     \"pandas\",\n",
    "#     \"pystac\",\n",
    "#     \"pystac-client\",\n",
    "#     \"tabulate\",\n",
    "# ]\n",
    "# ///"
   ]
  },
  {
   "cell_type": "markdown",
   "id": "5b374dae-ea4c-4ad7-972a-d4eda5183c16",
   "metadata": {},
   "source": [
    "# Set MAAP as the 'host' Provider for STAC collections\n",
    "\n",
    "Many of the STAC collections do not have MAAP set as the 'host' in the list of Providers. This notebook assigns MAAP as the host for collections where the assets are stored in a MAAP bucket."
   ]
  },
  {
   "cell_type": "code",
   "execution_count": 1,
   "id": "b9fc42f9",
   "metadata": {},
   "outputs": [],
   "source": [
    "import json\n",
    "\n",
    "import pandas as pd\n",
    "import httpx\n",
    "from pystac import Collection, Provider, ProviderRole\n",
    "from pystac_client import Client\n",
    "\n",
    "client = Client.open(\"https://stac.maap-project.org\")\n",
    "\n",
    "# fetch all collections\n",
    "collections = list(client.get_all_collections())"
   ]
  },
  {
   "cell_type": "markdown",
   "id": "0e418ff1-dc26-435c-9013-db7f36c03e27",
   "metadata": {},
   "source": [
    "Create a table that shows the existing providers for each collection"
   ]
  },
  {
   "cell_type": "code",
   "execution_count": 41,
   "id": "4e313233-854f-4e30-abd0-ae75e0aef503",
   "metadata": {},
   "outputs": [
    {
     "name": "stdout",
     "output_type": "stream",
     "text": [
      "| Collection ID                        | Provider Name                                                             | Roles                         |\n",
      "|:-------------------------------------|:--------------------------------------------------------------------------|:------------------------------|\n",
      "| ABoVE_UAVSAR_PALSAR                  | N/A                                                                       | N/A                           |\n",
      "| AFRISAR_DLR                          | N/A                                                                       | N/A                           |\n",
      "| AFRISAR_DLR2                         | N/A                                                                       | N/A                           |\n",
      "| AfriSAR_UAVSAR_Coreg_SLC             | N/A                                                                       | N/A                           |\n",
      "| AfriSAR_UAVSAR_Geocoded_Covariance   | N/A                                                                       | N/A                           |\n",
      "| AfriSAR_UAVSAR_Geocoded_SLC          | N/A                                                                       | N/A                           |\n",
      "| AfriSAR_UAVSAR_KZ                    | N/A                                                                       | N/A                           |\n",
      "| AfriSAR_UAVSAR_Normalization_Area    | N/A                                                                       | N/A                           |\n",
      "| AfriSAR_UAVSAR_Ungeocoded_Covariance | N/A                                                                       | N/A                           |\n",
      "| BIOSAR1                              | N/A                                                                       | N/A                           |\n",
      "| ESACCI_Biomass_L4_AGB_V4_100m        | N/A                                                                       | N/A                           |\n",
      "| GEDI_CalVal_Field_Data               | N/A                                                                       | N/A                           |\n",
      "| GEDI_CalVal_Lidar_COPC               | N/A                                                                       | N/A                           |\n",
      "| GEDI_CalVal_Lidar_Data               | N/A                                                                       | N/A                           |\n",
      "| GEDI_CalVal_Lidar_Data_Compressed    | N/A                                                                       | N/A                           |\n",
      "| GlobCover_05_06                      | N/A                                                                       | N/A                           |\n",
      "| GlobCover_09                         | N/A                                                                       | N/A                           |\n",
      "| Global_Forest_Change_2000-2017       | N/A                                                                       | N/A                           |\n",
      "| Global_PALSAR2_PALSAR_FNF            | N/A                                                                       | N/A                           |\n",
      "| ICESat2_Boreal_AGB_tindex_average    | N/A                                                                       | N/A                           |\n",
      "| Landsat8_SurfaceReflectance          | N/A                                                                       | N/A                           |\n",
      "| NCEO_Africa_AGB_100m_2017            | N/A                                                                       | N/A                           |\n",
      "| Paraguay_Country_Pilot               | N/A                                                                       | N/A                           |\n",
      "| SRTMGL1_COD                          | N/A                                                                       | N/A                           |\n",
      "| glad-glclu2020-change-v2             | University of Maryland Global Land Analysis & Discovery laboratory (GLAD) | licensor, host, producer      |\n",
      "| glad-glclu2020-v2                    | University of Maryland Global Land Analysis & Discovery laboratory (GLAD) | licensor, host, producer      |\n",
      "| glad-global-forest-change-1.11       | Google                                                                    | host                          |\n",
      "| glad-global-forest-change-1.11       | University of Maryland Global Land Analysis & Discovery laboratory (GLAD) | licensor, producer            |\n",
      "| global-mangrove-watch-3.0            | Global Mangrove Watch                                                     | producer, licensor            |\n",
      "| global-mangrove-watch-3.0            | Zenodo                                                                    | host                          |\n",
      "| icesat2-boreal                       | N/A                                                                       | N/A                           |\n",
      "| icesat2-boreal-v2.1-agb              | MAAP                                                                      | processor, producer, host     |\n",
      "| icesat2-boreal-v2.1-ht               | MAAP                                                                      | processor, producer, host     |\n",
      "| nisar-sim                            | NASA/JPL-Caltech                                                          | producer, processor, licensor |\n",
      "| nisar-sim                            | NASA/JPL-Caltech                                                          | host                          |\n"
     ]
    }
   ],
   "source": [
    "data_for_df = []\n",
    "\n",
    "for collection in collections:\n",
    "    providers = collection.providers or []\n",
    "    if not providers:\n",
    "        data_for_df.append({\n",
    "            \"Collection ID\": collection.id,\n",
    "            \"Provider Name\": \"N/A\",\n",
    "            \"Roles\": \"N/A\",\n",
    "        })\n",
    "    else:\n",
    "        for provider in providers:\n",
    "            roles_str = \", \".join(role for role in provider.roles)\n",
    "            data_for_df.append(\n",
    "                {\n",
    "                    \"Collection ID\": collection.id,\n",
    "                    \"Provider Name\": provider.name,\n",
    "                    \"Roles\": roles_str\n",
    "                }\n",
    "            )\n",
    "\n",
    "\n",
    "df = (\n",
    "    pd.DataFrame(data_for_df)\n",
    "    .sort_values(by=[\"Collection ID\", \"Provider Name\"])\n",
    "    .set_index(\"Collection ID\")\n",
    ")\n",
    "print(df.to_markdown())\n"
   ]
  },
  {
   "cell_type": "markdown",
   "id": "6557cd35-b57a-4077-a767-9dacfdd75c86",
   "metadata": {},
   "source": [
    "Identify collections where the assets do not appear to be hosted by MAAP based on the asset hrefs."
   ]
  },
  {
   "cell_type": "code",
   "execution_count": 42,
   "id": "c85c3520-59cf-46f0-a069-c75ad6698094",
   "metadata": {},
   "outputs": [
    {
     "name": "stdout",
     "output_type": "stream",
     "text": [
      "{\n",
      "  \"ABoVE_UAVSAR_PALSAR\": {\n",
      "    \"https://datapool.asf.alaska.edu/BROWSE/UA/AKLAVI_25702_17070_003_170622_L090_CX_01.gif\": \"https://datapool.asf.alaska.edu/BROWSE/UA/AKLAVI_25702_17070_003_170622_L090_CX_01.gif\"\n",
      "  },\n",
      "  \"AFRISAR_DLR\": {\n",
      "    \"dbf\": \"https://bmap-catalogue-data.oss.eu-west-0.prod-cloud-ocb.orange-business.com/Campaign_data/afrisar_dlr/afrisar_dlr_roi_RAB100q.dbf\",\n",
      "    \"prj\": \"https://bmap-catalogue-data.oss.eu-west-0.prod-cloud-ocb.orange-business.com/Campaign_data/afrisar_dlr/afrisar_dlr_roi_RAB100q.prj\",\n",
      "    \"shp\": \"https://bmap-catalogue-data.oss.eu-west-0.prod-cloud-ocb.orange-business.com/Campaign_data/afrisar_dlr/afrisar_dlr_roi_RAB100q.shp\",\n",
      "    \"shx\": \"https://bmap-catalogue-data.oss.eu-west-0.prod-cloud-ocb.orange-business.com/Campaign_data/afrisar_dlr/afrisar_dlr_roi_RAB100q.shx\"\n",
      "  },\n",
      "  \"BIOSAR1\": {\n",
      "    \"dbf\": \"https://bmap-catalogue-data.oss.eu-west-0.prod-cloud-ocb.orange-business.com/Campaign_data/biosar1/biosar1_roi_lidar58.dbf\",\n",
      "    \"prj\": \"https://bmap-catalogue-data.oss.eu-west-0.prod-cloud-ocb.orange-business.com/Campaign_data/biosar1/biosar1_roi_lidar58.prj\",\n",
      "    \"shp\": \"https://bmap-catalogue-data.oss.eu-west-0.prod-cloud-ocb.orange-business.com/Campaign_data/biosar1/biosar1_roi_lidar58.shp\",\n",
      "    \"shx\": \"https://bmap-catalogue-data.oss.eu-west-0.prod-cloud-ocb.orange-business.com/Campaign_data/biosar1/biosar1_roi_lidar58.shx\"\n",
      "  },\n",
      "  \"nisar-sim\": {\n",
      "    \"SME2\": \"https://nisar.asf.earthdatacloud.nasa.gov/NISAR-SAMPLE-DATA/Soil_Moisture/ALOS-2/NISAR_L3_PR_SME2_001_008_D_070_4000_QPNA_A_20190829T180759_20190829T180809_P01101_M_P_J_001.h5\"\n",
      "  }\n",
      "}\n"
     ]
    }
   ],
   "source": [
    "non_maap_assets = {}\n",
    "for collection in collections:\n",
    "    try:\n",
    "        item = next(collection.get_all_items())\n",
    "        assets = {key: asset.href for key, asset in item.assets.items() if not asset.href.startswith(\"s3://nasa-maap-data-store\")}\n",
    "        if assets:\n",
    "            non_maap_assets[collection.id] = assets\n",
    "    except StopIteration:\n",
    "        continue\n",
    "\n",
    "print(json.dumps(non_maap_assets, indent=2))"
   ]
  },
  {
   "cell_type": "markdown",
   "id": "4df8a0cd-a498-4753-a8b5-be61d3aef671",
   "metadata": {},
   "source": [
    "Steps:\n",
    "1. Remove 'host' role from any existing providers\n",
    "2. Make sure there is a MAAP provider and assign the role 'host' to it (unless it is in the list of collections with an alternate host)"
   ]
  },
  {
   "cell_type": "code",
   "execution_count": 43,
   "id": "c513366a-bac7-4ac3-9a52-3c57ca6f1251",
   "metadata": {},
   "outputs": [
    {
     "name": "stderr",
     "output_type": "stream",
     "text": [
      "/home/henry/.cache/uv/environments-v2/juv-tmp-k47vn95t-ee2e8b6e8067a33c/lib/python3.13/site-packages/pystac/collection.py:703: DeprecatedWarning: The collection 'icesat2-boreal' is deprecated.\n",
      "  warnings.warn(\n"
     ]
    }
   ],
   "source": [
    "updated_collections = []\n",
    "\n",
    "alternate_host_providers = {\n",
    "    \"ABoVE_UAVSAR_PALSAR\": Provider(\n",
    "        name=\"ASF\",\n",
    "        description=\"The Alaska Satellite Facility is part of the Geophysical Institute, located on the University of Alaska Fairbanks campus.\",\n",
    "        url=\"https://asf.alaska.edu/\",\n",
    "        roles=[ProviderRole.HOST],\n",
    "    ),\n",
    "    \"AFRISAR_DLR\": None,\n",
    "    \"BIOSAR1\": None,\n",
    "    \"nisar-sim\": Provider(\n",
    "        name=\"ASF\",\n",
    "        description=\"The Alaska Satellite Facility is part of the Geophysical Institute, located on the University of Alaska Fairbanks campus.\",\n",
    "        url=\"https://asf.alaska.edu/\",\n",
    "        roles=[ProviderRole.HOST],\n",
    "    )\n",
    "}\n",
    "\n",
    "for collection in collections:\n",
    "    maap_provider = Provider(\n",
    "        name=\"MAAP\",\n",
    "        description=\"The MAAP platform is designed to combine data, algorithms, and \"\n",
    "        \"computational abilities for the processing and sharing of data related to \"\n",
    "        \"NASA’s GEDI, ESA’s BIOMASS, and NASA/ISRO’s NISAR missions\",\n",
    "        url=\"https://maap-project.org\",\n",
    "        roles=[ProviderRole.HOST],\n",
    "    )\n",
    "    \n",
    "    has_maap_provider = False\n",
    "    \n",
    "    new_collection = Collection.from_dict(collection.to_dict())\n",
    "    for provider in new_collection.providers or []:\n",
    "        if provider.name != \"MAAP\":\n",
    "            # remove host designation if provider is not MAAP\n",
    "            provider.roles = [role for role in provider.roles if role != ProviderRole.HOST]\n",
    "        else:\n",
    "            has_maap_provider = True\n",
    "            roles = provider.roles\n",
    "            provider = maap_provider\n",
    "            provider.roles = list(set(provider.roles + roles))\n",
    "            \n",
    "    new_collection.providers = [provider for provider in new_collection.providers or [] if provider.roles]\n",
    "\n",
    "    if alternate_host_provider := alternate_host_providers.get(collection.id):\n",
    "        new_collection.providers.append(alternate_host_provider)\n",
    "    elif not has_maap_provider:\n",
    "        new_collection.providers.append(maap_provider)\n",
    "\n",
    "    updated_collections.append(new_collection)"
   ]
  },
  {
   "cell_type": "code",
   "execution_count": 46,
   "id": "b3bc697d-a940-4af8-a477-fea751269eb5",
   "metadata": {},
   "outputs": [
    {
     "name": "stdout",
     "output_type": "stream",
     "text": [
      "collection: ABoVE_UAVSAR_PALSAR provider: ASF roles: ['host']\n",
      "collection: AFRISAR_DLR provider: MAAP roles: ['host']\n",
      "collection: AFRISAR_DLR2 provider: MAAP roles: ['host']\n",
      "collection: AfriSAR_UAVSAR_Coreg_SLC provider: MAAP roles: ['host']\n",
      "collection: AfriSAR_UAVSAR_Geocoded_Covariance provider: MAAP roles: ['host']\n",
      "collection: AfriSAR_UAVSAR_Geocoded_SLC provider: MAAP roles: ['host']\n",
      "collection: AfriSAR_UAVSAR_KZ provider: MAAP roles: ['host']\n",
      "collection: AfriSAR_UAVSAR_Normalization_Area provider: MAAP roles: ['host']\n",
      "collection: AfriSAR_UAVSAR_Ungeocoded_Covariance provider: MAAP roles: ['host']\n",
      "collection: BIOSAR1 provider: MAAP roles: ['host']\n",
      "collection: ESACCI_Biomass_L4_AGB_V4_100m provider: MAAP roles: ['host']\n",
      "collection: GEDI_CalVal_Field_Data provider: MAAP roles: ['host']\n",
      "collection: GEDI_CalVal_Lidar_COPC provider: MAAP roles: ['host']\n",
      "collection: GEDI_CalVal_Lidar_Data provider: MAAP roles: ['host']\n",
      "collection: GEDI_CalVal_Lidar_Data_Compressed provider: MAAP roles: ['host']\n",
      "collection: glad-glclu2020-change-v2 provider: University of Maryland Global Land Analysis & Discovery laboratory (GLAD) roles: ['licensor', 'producer']\n",
      "collection: glad-glclu2020-change-v2 provider: MAAP roles: ['host']\n",
      "collection: glad-glclu2020-v2 provider: University of Maryland Global Land Analysis & Discovery laboratory (GLAD) roles: ['licensor', 'producer']\n",
      "collection: glad-glclu2020-v2 provider: MAAP roles: ['host']\n",
      "collection: glad-global-forest-change-1.11 provider: University of Maryland Global Land Analysis & Discovery laboratory (GLAD) roles: ['licensor', 'producer']\n",
      "collection: glad-global-forest-change-1.11 provider: MAAP roles: ['host']\n",
      "collection: Global_Forest_Change_2000-2017 provider: MAAP roles: ['host']\n",
      "collection: global-mangrove-watch-3.0 provider: Global Mangrove Watch roles: ['producer', 'licensor']\n",
      "collection: global-mangrove-watch-3.0 provider: MAAP roles: ['host']\n",
      "collection: Global_PALSAR2_PALSAR_FNF provider: MAAP roles: ['host']\n",
      "collection: GlobCover_05_06 provider: MAAP roles: ['host']\n",
      "collection: GlobCover_09 provider: MAAP roles: ['host']\n",
      "collection: icesat2-boreal provider: MAAP roles: ['host']\n",
      "collection: ICESat2_Boreal_AGB_tindex_average provider: MAAP roles: ['host']\n",
      "collection: icesat2-boreal-v2.1-agb provider: MAAP roles: ['processor', 'producer', 'host']\n",
      "collection: icesat2-boreal-v2.1-ht provider: MAAP roles: ['processor', 'producer', 'host']\n",
      "collection: Landsat8_SurfaceReflectance provider: MAAP roles: ['host']\n",
      "collection: NCEO_Africa_AGB_100m_2017 provider: MAAP roles: ['host']\n",
      "collection: nisar-sim provider: NASA/JPL-Caltech roles: ['producer', 'processor', 'licensor']\n",
      "collection: nisar-sim provider: ASF roles: ['host']\n",
      "collection: Paraguay_Country_Pilot provider: MAAP roles: ['host']\n",
      "collection: SRTMGL1_COD provider: MAAP roles: ['host']\n"
     ]
    }
   ],
   "source": [
    "for collection in updated_collections:\n",
    "    if collection.providers:\n",
    "        for provider in collection.providers or []:\n",
    "            print(\"collection:\", collection.id, \"provider:\", provider.name, \"roles:\", provider.roles)"
   ]
  },
  {
   "cell_type": "code",
   "execution_count": null,
   "id": "bfb20550-d72d-4fe4-9c11-c176d6be925d",
   "metadata": {},
   "outputs": [],
   "source": []
  }
 ],
 "metadata": {
  "kernelspec": {
   "display_name": "Python 3 (ipykernel)",
   "language": "python",
   "name": "python3"
  },
  "language_info": {
   "codemirror_mode": {
    "name": "ipython",
    "version": 3
   },
   "file_extension": ".py",
   "mimetype": "text/x-python",
   "name": "python",
   "nbconvert_exporter": "python",
   "pygments_lexer": "ipython3",
   "version": "3.13.0"
  }
 },
 "nbformat": 4,
 "nbformat_minor": 5
}
